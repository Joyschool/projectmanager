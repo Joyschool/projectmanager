{
 "cells": [
  {
   "cell_type": "markdown",
   "id": "bffc1119",
   "metadata": {},
   "source": [
    "# 파이썬 문법 - 자료형"
   ]
  },
  {
   "cell_type": "markdown",
   "id": "f2756732",
   "metadata": {},
   "source": [
    "### 파이썬 자료형 확인 : type()"
   ]
  },
  {
   "cell_type": "code",
   "execution_count": null,
   "id": "1f5a1c29",
   "metadata": {},
   "outputs": [],
   "source": [
    "d1=123\n",
    "d2  =   '123'  \n",
    "d3 = [123]\n",
    "d4 = (123,)\n",
    "d5 = {'key':123}\n",
    "d6 = {123}; \n",
    "d7 = True; \n",
    "\n",
    "print(type(d7))\n",
    "type(d7)"
   ]
  },
  {
   "cell_type": "code",
   "execution_count": null,
   "id": "60ed2945",
   "metadata": {},
   "outputs": [],
   "source": [
    "print()\n",
    "print(f'{d1}의 자료형: {type(d1)}')\n",
    "print('%d의 자료형: %s' % (d1, type(d1)))\n",
    "\n",
    "# print(f' {d2}의 자료형: {type(d2)}')\n",
    "# print(f' {d3}의 자료형: {type(d3)}')\n",
    "# print(f' {d4}의 자료형: {type(d4)}')\n",
    "# print(f' {d5}의 자료형: {type(d5)}')\n",
    "# print(f' {d6}의 자료형: {type(d6)}')\n",
    "# print(f' {d7}의 자료형: {type(d7)}')"
   ]
  },
  {
   "cell_type": "markdown",
   "id": "149237ce",
   "metadata": {},
   "source": [
    "### 변수"
   ]
  },
  {
   "cell_type": "code",
   "execution_count": null,
   "id": "7df429b9",
   "metadata": {},
   "outputs": [],
   "source": [
    "사과 = 'apple'\n",
    "포도 = 'grape'\n",
    "orange = '오렌지'\n",
    "_사과 = 'apple'\n",
    "_1사과 = 'apple'\n",
    "\n",
    "print(f'사과의 영어단어는 ({사과})')\n",
    "print(f'포도의 영어단어는 ({포도})')\n",
    "print(f'orange 단어 뜻은 ({orange})')"
   ]
  },
  {
   "cell_type": "markdown",
   "id": "1ffb71ad",
   "metadata": {},
   "source": [
    "### 표준 입력 & 출력 함수: input(), print()"
   ]
  },
  {
   "cell_type": "code",
   "execution_count": null,
   "id": "7ea9d8ea",
   "metadata": {},
   "outputs": [],
   "source": [
    "num1 = float(input('첫번째 숫자: ')) # 키보드로 입력 받으면 문자열 타입\n",
    "num2 = int(input('두번째 숫자: '))\n",
    "# num1 = int(num1)  # 정수로 변환: int()\n",
    "# num2 = int(num2)  # 정수로 변환: int()\n",
    "print('-' + '********')  # + 문자열끼리는 붙여서 나온다\n",
    "print('-' * 30)          # * 문자열 반복\n",
    "\n",
    "\n",
    "print(f'덧셈  : {num1} + {num2} = {num1+num2}')\n",
    "print(f'뻴셈  : {num1} - {num2} = {num1-num2}')\n",
    "print(f'곱셈  : {num1} * {num2} = {num1*num2}')\n",
    "print(f'나눗셈: {num1} / {num2} = {num1/num2}')\n",
    "print(f'몫    : {num1} / {num2} = {num1//num2}')\n",
    "print(f'나머지: {num1} % {num2} = {num1%num2}')"
   ]
  },
  {
   "cell_type": "markdown",
   "id": "3135c4fa",
   "metadata": {},
   "source": [
    "### [실습문제] 속력과 거리를 입력받아 시간 출력하기"
   ]
  },
  {
   "cell_type": "code",
   "execution_count": 1,
   "id": "0b157a1e",
   "metadata": {},
   "outputs": [
    {
     "name": "stdout",
     "output_type": "stream",
     "text": [
      "속력를 입력해 주세요(km/h) : 100\n",
      "거리를 입력해 주세요(km) : 400\n",
      "------------------------------\n",
      "속력 : 100.0 km/h \n",
      "거리 : 400.0 km \n",
      "시간 : 4.0 h\n"
     ]
    }
   ],
   "source": [
    "V = input('속력를 입력해 주세요(km/h) : ') \n",
    "D = input('거리를 입력해 주세요(km) : ') \n",
    "V = float(V) # V를 실수 자료형으로 변환\n",
    "D = float(D) # D를 실수 자료형으로 변환\n",
    "\n",
    "print('-' * 30)\n",
    "print(f'속력 : {V} km/h ')\n",
    "print(f'거리 : {D} km ')\n",
    "print(f'시간 : {D/V} h')"
   ]
  },
  {
   "cell_type": "markdown",
   "id": "249ebc87",
   "metadata": {},
   "source": [
    "### [실습문제] 정수를 입력받아 계산결과 출력하기 "
   ]
  },
  {
   "cell_type": "code",
   "execution_count": 3,
   "id": "c4365611",
   "metadata": {},
   "outputs": [
    {
     "name": "stdout",
     "output_type": "stream",
     "text": [
      "정수를 입력하세요: 9\n",
      "9 + 99 + 999 = 1107\n"
     ]
    }
   ],
   "source": [
    "N = input('정수를 입력하세요: ') \n",
    "\n",
    "n = int(N)\n",
    "nn = int(N+N)\n",
    "nnn = int(N+N+N)\n",
    "\n",
    "print(f'{n} + {nn} + {nnn} = {n+nn+nnn}')"
   ]
  },
  {
   "cell_type": "markdown",
   "id": "596ccbd4",
   "metadata": {},
   "source": [
    "### 문자열 : 인덱싱 & 슬라이싱"
   ]
  },
  {
   "cell_type": "code",
   "execution_count": 4,
   "id": "6219ae63",
   "metadata": {},
   "outputs": [
    {
     "name": "stdout",
     "output_type": "stream",
     "text": [
      "a = 사랑해요, 파이썬!\n"
     ]
    }
   ],
   "source": [
    "a = '사랑해요, 파이썬!'\n",
    "\n",
    "print(f'a = {a}')"
   ]
  },
  {
   "cell_type": "markdown",
   "id": "17c2d3a5",
   "metadata": {},
   "source": [
    "#### 문자열 분리 - split()"
   ]
  },
  {
   "cell_type": "code",
   "execution_count": 7,
   "id": "55935b16",
   "metadata": {},
   "outputs": [
    {
     "name": "stdout",
     "output_type": "stream",
     "text": [
      "파일명을 입력하세요: test333.py\n",
      "a = test333.py\n",
      "파일명: test, 확장자: 33.py\n"
     ]
    }
   ],
   "source": [
    "a = input('파일명을 입력하세요: ')\n",
    "\n",
    "print(f'a = {a}')\n",
    "print('파일명: %s, 확장자: %s' % (a[0:4], a[5:]))"
   ]
  },
  {
   "cell_type": "code",
   "execution_count": 12,
   "id": "1d3ec058",
   "metadata": {},
   "outputs": [
    {
     "name": "stdout",
     "output_type": "stream",
     "text": [
      "파일명을 입력하세요: test333.py\n",
      "a = test333.py\n",
      "a = ['test333', 'py']\n",
      "b = ['test333', 'py']\n",
      "파일명: test333, 확장자: py\n",
      "파일명: test333, 확장자: py\n"
     ]
    }
   ],
   "source": [
    "a = input('파일명을 입력하세요: ')\n",
    "\n",
    "b = a.split('.')\n",
    "\n",
    "print(f'b = {b}')\n",
    "print('파일명: %s, 확장자: %s' % (b[0], b[1]))\n",
    "print(f'파일명: {b[0]}, 확장자: { b[1]}')"
   ]
  },
  {
   "cell_type": "markdown",
   "id": "7114e205",
   "metadata": {},
   "source": [
    "### [실습문제] 날짜 시간 출력하기"
   ]
  },
  {
   "cell_type": "code",
   "execution_count": 17,
   "id": "7cc9d903",
   "metadata": {},
   "outputs": [
    {
     "name": "stdout",
     "output_type": "stream",
     "text": [
      "2022-08-30 13:19:30.462822\n",
      "<class 'datetime.datetime'>\n",
      "2022-08-30 13:19:30.463824\n",
      "<class 'str'>\n",
      "지금 날짜는 2022년 08월 30일\n"
     ]
    }
   ],
   "source": [
    "import datetime \n",
    "#import datetime as dt\n",
    "\n",
    "now = datetime.datetime.now()\n",
    "print(now)\n",
    "print( type(now) )\n",
    "\n",
    "now = str(datetime.datetime.now())\n",
    "print(now)\n",
    "print( type(now) )\n",
    "\n",
    "yy = now[0:4]\n",
    "mm = now[5:7]\n",
    "dd = now[8:10]\n",
    "\n",
    "print(f'지금 날짜는 {yy}년 {mm}월 {dd}일')\n"
   ]
  },
  {
   "cell_type": "code",
   "execution_count": 18,
   "id": "2a2270ba",
   "metadata": {},
   "outputs": [
    {
     "name": "stdout",
     "output_type": "stream",
     "text": [
      "현재 시각은  2022년 08월 30일 13시 23분 06초 입니다.\n"
     ]
    }
   ],
   "source": [
    "import datetime\n",
    "\n",
    "now = datetime.datetime.now()\n",
    "now = now.strftime(' %Y년 %m월 %d일 %H시 %M분 %S초')\n",
    "print(f'현재 시각은 {now} 입니다.')"
   ]
  },
  {
   "cell_type": "code",
   "execution_count": null,
   "id": "a6943892",
   "metadata": {},
   "outputs": [],
   "source": []
  }
 ],
 "metadata": {
  "kernelspec": {
   "display_name": "Python 3",
   "language": "python",
   "name": "python3"
  },
  "language_info": {
   "codemirror_mode": {
    "name": "ipython",
    "version": 3
   },
   "file_extension": ".py",
   "mimetype": "text/x-python",
   "name": "python",
   "nbconvert_exporter": "python",
   "pygments_lexer": "ipython3",
   "version": "3.9.10"
  }
 },
 "nbformat": 4,
 "nbformat_minor": 5
}
