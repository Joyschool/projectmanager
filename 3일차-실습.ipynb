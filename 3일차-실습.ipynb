{
 "cells": [
  {
   "cell_type": "markdown",
   "id": "2e1d1df1",
   "metadata": {},
   "source": [
    "# 파이썬 자료형"
   ]
  },
  {
   "cell_type": "markdown",
   "id": "ccd5beae",
   "metadata": {},
   "source": [
    "### [실습문제] 네이버 환율 정보 가져오기`"
   ]
  },
  {
   "cell_type": "code",
   "execution_count": 7,
   "id": "c6bb7f6d",
   "metadata": {},
   "outputs": [
    {
     "name": "stdout",
     "output_type": "stream",
     "text": [
      "[환율정보 불러오기]\n",
      "-환율기준시간: 2022.08.31 10:19\n",
      "-달러: 1,349.60\n",
      "-유로: 1,353.65\n",
      "-위안화: 194.98\n"
     ]
    }
   ],
   "source": [
    "import urllib.request\n",
    "import ssl\n",
    "\n",
    "ctx = ssl._create_unverified_context()\n",
    "\n",
    "#환율정보 페이지 불러오기\n",
    "print(\"[환율정보 불러오기]\")\n",
    "URL = \"https://search.naver.com/search.naver?where=nexearch&sm=top_hty&fbm=1&ie=utf8&query=%ED%99%98%EC%9C%A8\"\n",
    "page = urllib.request.urlopen(URL, context=ctx)  \n",
    "#print(page)\n",
    "text = page.read().decode(\"utf8\")  # 해당 페이지의 소스코드\n",
    "#print(text)\n",
    "\n",
    "#환율정보 가져오기: 기준시간 \n",
    "searchText = 'class=\"grp_info\"> <em>'\n",
    "where      = text.find(searchText)  #소스코드에서 해당 문자열의 시작위치\n",
    "targetInfo = text[where+len(searchText):where+len(searchText)+16]\n",
    "print(f'-환율기준시간: {targetInfo}')\n",
    "\n",
    "#환율정보 가져오기: 달러\n",
    "searchText = '<span>미국 <em>USD</em></span></a></th> <td><span>'\n",
    "where      = text.find(searchText)\n",
    "targetInfo = text[where+len(searchText):where+len(searchText)+8] \n",
    "print(f'-달러: {targetInfo}')\n",
    "\n",
    "#-----------------------------------------------------------------\n",
    "\n",
    "#환율정보 가져오기: 유로화\n",
    "searchText = '<span>유럽연합 <em>EUR</em></span></a></th> <td><span>'\n",
    "where      = text.find(searchText)\n",
    "targetInfo = text[where+len(searchText):where+len(searchText)+8] \n",
    "print(f'-유로: {targetInfo}')\n",
    "\n",
    "#환율정보 가져오기: 위안화\n",
    "searchText = '<span>중국 <em>CNY</em></span></a></th> <td><span>'\n",
    "where      = text.find(searchText)\n",
    "targetInfo = text[where+len(searchText):where+len(searchText)+6] \n",
    "print(f'-위안화: {targetInfo}')"
   ]
  },
  {
   "cell_type": "markdown",
   "id": "a410cb8e",
   "metadata": {},
   "source": [
    "## 파이썬 연산자 "
   ]
  },
  {
   "cell_type": "markdown",
   "id": "faa5ec56",
   "metadata": {},
   "source": [
    "### 파이썬 연산자 종류\n",
    "- 산술연산자\n",
    "- 산술연산자+대입연산자 \n",
    "- 관계연산자\n",
    "- 논리연산자"
   ]
  },
  {
   "cell_type": "markdown",
   "id": "081e4f42",
   "metadata": {},
   "source": [
    "### [실습문제] 동전 교환기 만들기 -------------------"
   ]
  },
  {
   "cell_type": "code",
   "execution_count": 18,
   "id": "6d2f3b7a",
   "metadata": {},
   "outputs": [
    {
     "name": "stdout",
     "output_type": "stream",
     "text": [
      "동전으로 교환할 금액을 입력하세요: \n",
      "--------------------------------------------------\n",
      "500원짜리 동전 개수 --> 0 개\n",
      "100원짜리 동전 개수 --> 0 개\n",
      " 50원짜리 동전 개수 --> 0 개\n",
      " 10원짜리 동전 개수 --> 0 개\n",
      "               잔돈 --> 0 원\n"
     ]
    }
   ],
   "source": [
    "money = input('동전으로 교환할 금액을 입력하세요: ')\n",
    "\n",
    "# if money :\n",
    "#     money = int(money)\n",
    "# else:\n",
    "#     money = 0\n",
    "# money = int( input('동전으로 교환할 금액을 입력하세요: ') )\n",
    "\n",
    "# c500 = 0\n",
    "# c100 = 0\n",
    "# c50 = 0\n",
    "# c10 = 0\n",
    "# c500, c100, c50, c10 = 0, '0', [0], 0\n",
    "# print(f'c500의 자료형: { type(c500) }')\n",
    "# print(f'c100의 자료형: { type(c100) }')\n",
    "# print(f' c50의 자료형: { type(c50) }')\n",
    "\n",
    "c500  = money // 500  # 500원짜리의 동전 개수\n",
    "money = money % 500   # 나머지 금액\n",
    "c100  = money // 100  # 100원짜리 동전 개수\n",
    "money = money % 100   # 나머지 금액\n",
    "c50   = money // 50   # 50원짜리 동전 개수\n",
    "money = money % 50    # 나머지 금액\n",
    "c10   = money // 10   # 10원짜리 동전 개수\n",
    "money = money % 10    # 잔돈\n",
    "\n",
    "print('-' * 50)\n",
    "print(f'500원짜리 동전 개수 --> {c500} 개')\n",
    "print(f'100원짜리 동전 개수 --> {c100} 개')\n",
    "print(f' 50원짜리 동전 개수 --> {c50} 개')\n",
    "print(f' 10원짜리 동전 개수 --> {c10} 개')\n",
    "print(f'               잔돈 --> {money} 원')"
   ]
  },
  {
   "cell_type": "code",
   "execution_count": 33,
   "id": "b5efd48d",
   "metadata": {
    "scrolled": false
   },
   "outputs": [
    {
     "name": "stdout",
     "output_type": "stream",
     "text": [
      "동전으로 교환할 금액을 입력하세요: 54321\n",
      "50000원짜리 개수 --> 1\n",
      "10000원짜리 개수 --> 0\n",
      "5000원짜리 개수 --> 0\n",
      "1000원짜리 개수 --> 4\n",
      "500원짜리 개수 --> 0\n",
      "100원짜리 개수 --> 3\n",
      "50원짜리 개수 --> 0\n",
      "10원짜리 개수 --> 2\n",
      "잔돈 --> 1 원\n"
     ]
    }
   ],
   "source": [
    "money = input('동전으로 교환할 금액을 입력하세요: ') \n",
    "money = int(money)\n",
    "\n",
    "coins = [50000, 10000, 5000, 1000, 500,100,50,10]\n",
    "\n",
    "for c in coins:\n",
    "    print(f'{c}원짜리 개수 --> {money // c}')\n",
    "    money %= c   # money = money % c\n",
    "\n",
    "print(f'잔돈 --> {money} 원')"
   ]
  },
  {
   "cell_type": "code",
   "execution_count": 23,
   "id": "eebcf79c",
   "metadata": {},
   "outputs": [
    {
     "name": "stdout",
     "output_type": "stream",
     "text": [
      "변환할 숫자를 입력하세요: 10\n",
      "------------------------------\n",
      "십진수 : 10\n",
      "16진수 : 0xa\n",
      " 8진수 : 0o12\n",
      " 2진수 : 0b1010\n"
     ]
    }
   ],
   "source": [
    "num = int( input('변환할 숫자를 입력하세요: ') )\n",
    "print('-' * 30)\n",
    "print(f'십진수 : {num}')\n",
    "print(f'16진수 : {hex(num)}')\n",
    "print(f' 8진수 : {oct(num)}')\n",
    "print(f' 2진수 : {bin(num)}')"
   ]
  },
  {
   "cell_type": "markdown",
   "id": "d48fd1eb",
   "metadata": {},
   "source": [
    "## 리스트 자료형"
   ]
  },
  {
   "cell_type": "markdown",
   "id": "8efb218a",
   "metadata": {},
   "source": [
    "### 리스트 정의"
   ]
  },
  {
   "cell_type": "code",
   "execution_count": null,
   "id": "cd064310",
   "metadata": {},
   "outputs": [],
   "source": [
    "num = list()  # 빈 리스트\n",
    "num = []      # 빈 리스트\n",
    "num = [1,2,3,4,5,6,7]   # 값이 있는 리스트"
   ]
  },
  {
   "cell_type": "code",
   "execution_count": 25,
   "id": "2d22e1cd",
   "metadata": {
    "scrolled": true
   },
   "outputs": [
    {
     "name": "stdout",
     "output_type": "stream",
     "text": [
      "[]\n",
      "[1]\n",
      "[1, 3]\n",
      "[1, 3, 5]\n",
      "[1, 3, 5, 7]\n",
      "[1, 3, 5, 7, 9]\n",
      "[1, 3, 5, 7, 9, 11]\n",
      "[1, 3, 5, 7, 9, 11, 13]\n",
      "[1, 3, 5, 7, 9, 11, 13, 15]\n",
      "[1, 3, 5, 7, 9, 11, 13, 15, 17]\n",
      "[1, 3, 5, 7, 9, 11, 13, 15, 17, 19]\n"
     ]
    }
   ],
   "source": [
    "num = list()\n",
    "\n",
    "print(num)\n",
    "\n",
    "for x in range(1, 21, 2):\n",
    "    num.append(x)   # 리스트에 element 추가\n",
    "    print(num)"
   ]
  },
  {
   "cell_type": "code",
   "execution_count": 28,
   "id": "51ec3a7c",
   "metadata": {
    "scrolled": true
   },
   "outputs": [
    {
     "name": "stdout",
     "output_type": "stream",
     "text": [
      "파이썬\n",
      "사과\n",
      "3.14\n",
      "orange\n",
      "100\n",
      "[1, 2, 3, 4, 5]\n",
      "['파이썬', '사과', 3.14, 'orange', 100, [1, 2, 3, 4, 5], '동부']\n"
     ]
    }
   ],
   "source": [
    "num = ['파이썬', '사과', 3.14, 'orange', 100, [1,2,3,4,5]]\n",
    "\n",
    "for i in num:\n",
    "    print(i)   \n",
    "    \n",
    "num.append('동부')  # 리스트에 요소 추가\n",
    "\n",
    "print(num)"
   ]
  },
  {
   "cell_type": "markdown",
   "id": "8244ec7e",
   "metadata": {},
   "source": [
    "#### 리스트 인덱싱&슬라이싱"
   ]
  },
  {
   "cell_type": "code",
   "execution_count": null,
   "id": "d014591d",
   "metadata": {},
   "outputs": [],
   "source": []
  },
  {
   "cell_type": "markdown",
   "id": "9f39364d",
   "metadata": {},
   "source": [
    "### 튜플"
   ]
  },
  {
   "cell_type": "code",
   "execution_count": null,
   "id": "547f9589",
   "metadata": {},
   "outputs": [],
   "source": []
  },
  {
   "cell_type": "markdown",
   "id": "ca65215c",
   "metadata": {},
   "source": [
    "### 딕셔너리"
   ]
  },
  {
   "cell_type": "code",
   "execution_count": 34,
   "id": "ca2a66c6",
   "metadata": {},
   "outputs": [
    {
     "name": "stdout",
     "output_type": "stream",
     "text": [
      "{'kor': 90, 'eng': 89, 'math': 95, 'science': 88}\n",
      "{'kor': 90, 'eng': 89, 'math': 95, 'science': 88, 'music': 100}\n",
      "70\n",
      "{'kor': 70, 'eng': 89, 'math': 95, 'music': 100}\n",
      "이름 : 박지민\n",
      "국어 : 70\n",
      "영어 : 89\n",
      "수학 : 95\n"
     ]
    }
   ],
   "source": [
    "name = '박지민'\n",
    "scores = {'kor':90, 'eng':89, 'math':95, 'science':88}\n",
    "print(scores)\n",
    "\n",
    "# 요소 추가\n",
    "scores['music'] = 100\n",
    "print(scores)\n",
    "\n",
    "# 요소 변경\n",
    "scores['kor'] = 70\n",
    "print(scores['kor'])\n",
    "\n",
    "# 요소 삭제\n",
    "del scores['science']\n",
    "print(scores)\n",
    "\n",
    "print('이름 : %s' % name)\n",
    "print('국어 : %s' % scores['kor'])\n",
    "print('영어 : %s' % scores['eng'])\n",
    "print('수학 : %s' % scores['math'])"
   ]
  },
  {
   "cell_type": "code",
   "execution_count": 40,
   "id": "898dbe2d",
   "metadata": {},
   "outputs": [
    {
     "name": "stdout",
     "output_type": "stream",
     "text": [
      "kor => 70\n",
      "eng => 89\n",
      "math => 95\n",
      "music => 100\n",
      "kor => 70\n",
      "eng => 89\n",
      "math => 95\n",
      "music => 100\n",
      "dict_keys(['kor', 'eng', 'math', 'music'])\n",
      "dict_values([70, 89, 95, 100])\n",
      "dict_items([('kor', 70), ('eng', 89), ('math', 95), ('music', 100)])\n"
     ]
    }
   ],
   "source": [
    "scores = {'kor': 70, 'eng': 89, 'math': 95, 'music': 100}\n",
    "\n",
    "for key in scores:\n",
    "    print(f'{key} => {scores[key]}')\n",
    "    \n",
    "for key, value in scores.items():\n",
    "    print(f'{key} => {value}')\n",
    "    \n",
    "\n",
    "# 키만 출력하기\n",
    "print(scores.keys())\n",
    "\n",
    "# 값만 출력하기\n",
    "print(scores.values())\n",
    "\n",
    "# (키,값)쌍으로 출력하기\n",
    "print(scores.items())"
   ]
  },
  {
   "cell_type": "code",
   "execution_count": null,
   "id": "a1cb83e3",
   "metadata": {},
   "outputs": [],
   "source": []
  }
 ],
 "metadata": {
  "kernelspec": {
   "display_name": "Python 3",
   "language": "python",
   "name": "python3"
  },
  "language_info": {
   "codemirror_mode": {
    "name": "ipython",
    "version": 3
   },
   "file_extension": ".py",
   "mimetype": "text/x-python",
   "name": "python",
   "nbconvert_exporter": "python",
   "pygments_lexer": "ipython3",
   "version": "3.9.10"
  }
 },
 "nbformat": 4,
 "nbformat_minor": 5
}
