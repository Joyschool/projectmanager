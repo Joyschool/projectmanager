{
 "cells": [
  {
   "cell_type": "markdown",
   "id": "cc8f025c",
   "metadata": {},
   "source": [
    "# [실습]  머신러닝-회귀 - 아들 키 예측"
   ]
  },
  {
   "cell_type": "markdown",
   "id": "dee23456",
   "metadata": {},
   "source": [
    "### 참고\n",
    "- [코드]: https://wikidocs.net/42250\n",
    "- [데이터] 출처: https://github.com/cranberryai/todak_todak_python/tree/master/machine_learning/regression\n",
    "- [데이터] URL: https://github.com/cranberryai/todak_todak_python/blob/master/machine_learning/regression/%E1%84%8B%E1%85%A1%E1%84%87%E1%85%A5%E1%84%8C%E1%85%B5%E1%84%8B%E1%85%A1%E1%84%83%E1%85%B3%E1%86%AF%E1%84%8F%E1%85%B5.xlsx?raw=true\n"
   ]
  },
  {
   "cell_type": "markdown",
   "id": "57cb435d",
   "metadata": {},
   "source": [
    "### 목표\n",
    "- 아버지와 아들의 키 데이터를 학습하여 향후 **아들의 키를 예측**한다."
   ]
  },
  {
   "cell_type": "markdown",
   "id": "72709868",
   "metadata": {},
   "source": [
    "---------------"
   ]
  },
  {
   "cell_type": "markdown",
   "id": "13796cb1",
   "metadata": {},
   "source": [
    "### [실습] 사이킷런 모델 사용하여 아들 키 예측하기\n",
    "#### 머신러닝 모델(회귀)\n",
    "- Ridge regression 알고리즘\n",
    "- $ \\beta_{ridge} : argmin[\\sum_{i=1}^n(y_i - \\beta_0 - \\beta_1x_{i1}-\\dotsc-\\beta_px_{ip})^2 + \\lambda\\sum_{j=1}^p\\beta_j^2] $\n",
    "\n",
    "#### 평가지표\n",
    "- score (accuracy_score)\n",
    "> sklear의   classifier 객체의 score 메서드 사용 <br>\n",
    "> (또는) sklearn.metrics의 accuracy_score 메서드 사용"
   ]
  },
  {
   "cell_type": "markdown",
   "id": "262d77ef",
   "metadata": {},
   "source": [
    "#### #아버지와 아들의 키 데이터 상관관계 분석: 그래프 & 상관계수 함수 사용"
   ]
  },
  {
   "cell_type": "code",
   "execution_count": 1,
   "id": "a32c2f9a",
   "metadata": {
    "scrolled": true
   },
   "outputs": [
    {
     "data": {
      "image/png": "[encoded data removed]",
      "text/plain": [
       "<Figure size 432x288 with 1 Axes>"
      ]
     },
     "metadata": {
      "needs_background": "light"
     },
     "output_type": "display_data"
    },
    {
     "data": {
      "text/html": [
       "<div><div id=f8d236cd-c079-463c-bcea-221d9bfc71e1 style=\"display:none; background-color:#9D6CFF; color:white; width:200px; height:30px; padding-left:5px; border-radius:4px; flex-direction:row; justify-content:space-around; align-items:center;\" onmouseover=\"this.style.backgroundColor='#BA9BF8'\" onmouseout=\"this.style.backgroundColor='#9D6CFF'\" onclick=\"window.commands?.execute('create-mitosheet-from-dataframe-output');\">See Full Dataframe in Mito</div> <script> if (window.commands?.hasCommand('create-mitosheet-from-dataframe-output')) document.getElementById('f8d236cd-c079-463c-bcea-221d9bfc71e1').style.display = 'flex' </script> <table border=\"1\" class=\"dataframe\">\n",
       "  <thead>\n",
       "    <tr style=\"text-align: right;\">\n",
       "      <th></th>\n",
       "      <th>Father</th>\n",
       "      <th>Son</th>\n",
       "    </tr>\n",
       "  </thead>\n",
       "  <tbody>\n",
       "    <tr>\n",
       "      <th>Father</th>\n",
       "      <td>1.00000</td>\n",
       "      <td>0.49967</td>\n",
       "    </tr>\n",
       "    <tr>\n",
       "      <th>Son</th>\n",
       "      <td>0.49967</td>\n",
       "      <td>1.00000</td>\n",
       "    </tr>\n",
       "  </tbody>\n",
       "</table></div>"
      ],
      "text/plain": [
       "         Father      Son\n",
       "Father  1.00000  0.49967\n",
       "Son     0.49967  1.00000"
      ]
     },
     "execution_count": 1,
     "metadata": {},
     "output_type": "execute_result"
    }
   ],
   "source": [
    "# 아버지와 아들의 키 데이터 상관관계 분석: 그래프 & 상관계수 함수 사용\n",
    "import pandas as pd\n",
    "import matplotlib.pyplot as plt\n",
    "\n",
    "plt.rcParams['font.family'] = 'Malgun Gothic'\n",
    "plt.rcParams['figure.figsize'] = (10, 6)\n",
    "\n",
    "#----------------------\n",
    "# 1. 데이터 준비하기\n",
    "#----------------------\n",
    "train_df = pd.read_excel('data/아버지아들키.xlsx', sheet_name='train')\n",
    "train_df\n",
    "\n",
    "# 산점도 시각화\n",
    "plt.scatter(train_df.Father, train_df.Son)\n",
    "plt.title('아버지와 아들의 키')\n",
    "plt.xlabel('아버지')\n",
    "plt.ylabel('아들')\n",
    "plt.show()\n",
    "\n",
    "# 아버지와 아들의 키에 대한 상관관계 값\n",
    "train_df.corr()\n",
    "#----------------------\n",
    "# 시각화\n",
    "#----------------------"
   ]
  },
  {
   "cell_type": "markdown",
   "id": "ba4106f9",
   "metadata": {},
   "source": [
    "#### #머신러닝 회귀분석으로 예측 모델 생성"
   ]
  },
  {
   "cell_type": "code",
   "execution_count": 3,
   "id": "452b6270",
   "metadata": {
    "scrolled": true
   },
   "outputs": [
    {
     "name": "stdout",
     "output_type": "stream",
     "text": [
      "(755, 1)\n",
      "(755,)\n",
      "Ridge Regression, alpha=1.0 \n",
      " y = 0.52x + 85.31\n",
      "------------------------------\n",
      "train 모델 검증(model.score): 0.2496700497423866\n",
      "test  모델 검증(model.score): 0.25199816954433096 \n",
      "예측 결과(예상 키): 170.46941500035183\n"
     ]
    }
   ],
   "source": [
    "#머신러닝 회귀분석으로 예측 모델 생성\n",
    "import pandas as pd\n",
    "from sklearn.linear_model import Ridge\n",
    "import numpy as np\n",
    "\n",
    "#----------------------\n",
    "# 1. 데이터 준비하기\n",
    "#----------------------\n",
    "train_df = pd.read_excel('data/아버지아들키.xlsx', sheet_name='train')\n",
    "test_df = pd.read_excel('data/아버지아들키.xlsx', sheet_name='test')\n",
    "# test_df = pd.read_excel('https://github.com/cranberryai/todak_todak_python/blob/master/machine_learning/regression/%E1%84%8B%E1%85%A1%E1%84%87%E1%85%A5%E1%84%8C%E1%85%B5%E1%84%8B%E1%85%A1%E1%84%83%E1%85%B3%E1%86%AF%E1%84%8F%E1%85%B5.xlsx?raw=true', sheet_name='test')\n",
    "# print(train_df)\n",
    "\n",
    "\n",
    "#----------------------\n",
    "# 2. 데이터 전처리\n",
    "#----------------------\n",
    "# 불필요한 데이터 삭제\n",
    "x_train = train_df.drop(['Son'], axis=1)  # train_df['Father']\n",
    "x_test = test_df.drop(['Son'], axis=1)    # test_df['Father']\n",
    "y_train = train_df['Son']\n",
    "y_test = test_df['Son']\n",
    "x_train.head()\n",
    "\n",
    "# numpy 데이터로 변환\n",
    "x_train = x_train.to_numpy()\n",
    "x_test = x_test.to_numpy()\n",
    "y_train = y_train.to_numpy()\n",
    "y_test = y_test.to_numpy()\n",
    "print(x_train.shape)\n",
    "print(y_train.shape)\n",
    "\n",
    "\n",
    "#----------------------\n",
    "# 3. 모델 생성\n",
    "#----------------------\n",
    "# 하이퍼파라미터: 모델링할 때 사용자가 직접 세팅해주는 값\n",
    "# 하이퍼파라미터 alpha값 1로 설정\n",
    "alpha=1.0\n",
    "model = Ridge(alpha=alpha)\n",
    "\n",
    "#----------------------\n",
    "# 4. 모델 학습 & 검증(평가)\n",
    "#----------------------\n",
    "# 모델 학습\n",
    "model.fit(x_train, y_train)\n",
    "\n",
    "# 회귀계수와 intercept 가져오기\n",
    "m = model.coef_[0].round(2)\n",
    "b = model.intercept_.round(2)\n",
    "print(f'Ridge Regression, alpha={alpha} \\n y = {m}x + {b}')\n",
    "print('-'*30)\n",
    "\n",
    "# 모델 검증\n",
    "print(f'train 모델 검증(model.score): { model.score(x_train, y_train) }') \n",
    "print(f'test  모델 검증(model.score): { model.score(x_test, y_test) } ') #0.251997790584662\n",
    "\n",
    "\n",
    "#----------------------\n",
    "# 5. 모델 예측\n",
    "#----------------------\n",
    "x_test = np.array([ [164.338] ])\n",
    "\n",
    "y_predict = model.predict(x_test)\n",
    "\n",
    "print(f'예측 결과(예상 키): { y_predict[0] }') #169.66660924268297"
   ]
  },
  {
   "cell_type": "code",
   "execution_count": 15,
   "id": "6579ceb4",
   "metadata": {},
   "outputs": [
    {
     "name": "stdout",
     "output_type": "stream",
     "text": [
      "예측 결과(아들 예상 키): 178.58533641706157\n"
     ]
    }
   ],
   "source": [
    "x_test = np.array([ [180] ])\n",
    "\n",
    "y_predict = model.predict(x_test)\n",
    "\n",
    "print(f'예측 결과(아들 예상 키): { y_predict[0] }') "
   ]
  },
  {
   "cell_type": "markdown",
   "id": "fed54191",
   "metadata": {},
   "source": [
    "----------------"
   ]
  },
  {
   "cell_type": "markdown",
   "id": "53195622",
   "metadata": {},
   "source": [
    "### [실습] Tensorflow 모델 사용하여 아들 키 예측하기"
   ]
  },
  {
   "cell_type": "code",
   "execution_count": 16,
   "id": "628eb149",
   "metadata": {
    "collapsed": true
   },
   "outputs": [
    {
     "name": "stdout",
     "output_type": "stream",
     "text": [
      "Requirement already satisfied: tensorflow==2.5.0 in c:\\python\\python39\\lib\\site-packages (2.5.0)\n",
      "Requirement already satisfied: six~=1.15.0 in c:\\python\\python39\\lib\\site-packages (from tensorflow==2.5.0) (1.15.0)\n",
      "Requirement already satisfied: wrapt~=1.12.1 in c:\\users\\yswoo\\appdata\\roaming\\python\\python39\\site-packages (from tensorflow==2.5.0) (1.12.1)\n",
      "Requirement already satisfied: tensorflow-estimator<2.6.0,>=2.5.0rc0 in c:\\python\\python39\\lib\\site-packages (from tensorflow==2.5.0) (2.5.0)\n",
      "Requirement already satisfied: typing-extensions~=3.7.4 in c:\\python\\python39\\lib\\site-packages (from tensorflow==2.5.0) (3.7.4.3)\n",
      "Requirement already satisfied: tensorboard~=2.5 in c:\\python\\python39\\lib\\site-packages (from tensorflow==2.5.0) (2.9.1)\n",
      "Requirement already satisfied: astunparse~=1.6.3 in c:\\python\\python39\\lib\\site-packages (from tensorflow==2.5.0) (1.6.3)\n",
      "Requirement already satisfied: flatbuffers~=1.12.0 in c:\\python\\python39\\lib\\site-packages (from tensorflow==2.5.0) (1.12)\n",
      "Requirement already satisfied: keras-preprocessing~=1.1.2 in c:\\python\\python39\\lib\\site-packages (from tensorflow==2.5.0) (1.1.2)\n",
      "Requirement already satisfied: opt-einsum~=3.3.0 in c:\\python\\python39\\lib\\site-packages (from tensorflow==2.5.0) (3.3.0)\n",
      "Requirement already satisfied: google-pasta~=0.2 in c:\\python\\python39\\lib\\site-packages (from tensorflow==2.5.0) (0.2.0)\n",
      "Requirement already satisfied: keras-nightly~=2.5.0.dev in c:\\python\\python39\\lib\\site-packages (from tensorflow==2.5.0) (2.5.0.dev2021032900)\n",
      "Requirement already satisfied: absl-py~=0.10 in c:\\python\\python39\\lib\\site-packages (from tensorflow==2.5.0) (0.15.0)\n",
      "Requirement already satisfied: wheel~=0.35 in c:\\python\\python39\\lib\\site-packages (from tensorflow==2.5.0) (0.37.1)\n",
      "Requirement already satisfied: protobuf>=3.9.2 in c:\\python\\python39\\lib\\site-packages (from tensorflow==2.5.0) (3.19.4)\n",
      "Requirement already satisfied: numpy~=1.19.2 in c:\\python\\python39\\lib\\site-packages (from tensorflow==2.5.0) (1.19.5)\n",
      "Requirement already satisfied: termcolor~=1.1.0 in c:\\python\\python39\\lib\\site-packages (from tensorflow==2.5.0) (1.1.0)\n",
      "Requirement already satisfied: grpcio~=1.34.0 in c:\\python\\python39\\lib\\site-packages (from tensorflow==2.5.0) (1.34.1)\n",
      "Requirement already satisfied: gast==0.4.0 in c:\\python\\python39\\lib\\site-packages (from tensorflow==2.5.0) (0.4.0)\n",
      "Requirement already satisfied: h5py~=3.1.0 in c:\\python\\python39\\lib\\site-packages (from tensorflow==2.5.0) (3.1.0)\n",
      "Requirement already satisfied: requests<3,>=2.21.0 in c:\\python\\python39\\lib\\site-packages (from tensorboard~=2.5->tensorflow==2.5.0) (2.28.1)\n",
      "Requirement already satisfied: tensorboard-plugin-wit>=1.6.0 in c:\\python\\python39\\lib\\site-packages (from tensorboard~=2.5->tensorflow==2.5.0) (1.8.1)\n",
      "Requirement already satisfied: setuptools>=41.0.0 in c:\\python\\python39\\lib\\site-packages (from tensorboard~=2.5->tensorflow==2.5.0) (58.1.0)\n",
      "Requirement already satisfied: google-auth<3,>=1.6.3 in c:\\python\\python39\\lib\\site-packages (from tensorboard~=2.5->tensorflow==2.5.0) (2.9.0)\n",
      "Requirement already satisfied: google-auth-oauthlib<0.5,>=0.4.1 in c:\\python\\python39\\lib\\site-packages (from tensorboard~=2.5->tensorflow==2.5.0) (0.4.6)\n",
      "Requirement already satisfied: tensorboard-data-server<0.7.0,>=0.6.0 in c:\\python\\python39\\lib\\site-packages (from tensorboard~=2.5->tensorflow==2.5.0) (0.6.1)\n",
      "Requirement already satisfied: werkzeug>=1.0.1 in c:\\python\\python39\\lib\\site-packages (from tensorboard~=2.5->tensorflow==2.5.0) (2.1.2)\n",
      "Requirement already satisfied: markdown>=2.6.8 in c:\\python\\python39\\lib\\site-packages (from tensorboard~=2.5->tensorflow==2.5.0) (3.3.7)\n",
      "Requirement already satisfied: cachetools<6.0,>=2.0.0 in c:\\python\\python39\\lib\\site-packages (from google-auth<3,>=1.6.3->tensorboard~=2.5->tensorflow==2.5.0) (5.2.0)\n",
      "Requirement already satisfied: pyasn1-modules>=0.2.1 in c:\\python\\python39\\lib\\site-packages (from google-auth<3,>=1.6.3->tensorboard~=2.5->tensorflow==2.5.0) (0.2.8)\n",
      "Requirement already satisfied: rsa<5,>=3.1.4 in c:\\python\\python39\\lib\\site-packages (from google-auth<3,>=1.6.3->tensorboard~=2.5->tensorflow==2.5.0) (4.8)\n",
      "Requirement already satisfied: requests-oauthlib>=0.7.0 in c:\\python\\python39\\lib\\site-packages (from google-auth-oauthlib<0.5,>=0.4.1->tensorboard~=2.5->tensorflow==2.5.0) (1.3.1)\n",
      "Requirement already satisfied: importlib-metadata>=4.4 in c:\\python\\python39\\lib\\site-packages (from markdown>=2.6.8->tensorboard~=2.5->tensorflow==2.5.0) (4.12.0)\n",
      "Requirement already satisfied: idna<4,>=2.5 in c:\\python\\python39\\lib\\site-packages (from requests<3,>=2.21.0->tensorboard~=2.5->tensorflow==2.5.0) (3.3)\n",
      "Requirement already satisfied: charset-normalizer<3,>=2 in c:\\python\\python39\\lib\\site-packages (from requests<3,>=2.21.0->tensorboard~=2.5->tensorflow==2.5.0) (2.1.0)\n",
      "Requirement already satisfied: urllib3<1.27,>=1.21.1 in c:\\python\\python39\\lib\\site-packages (from requests<3,>=2.21.0->tensorboard~=2.5->tensorflow==2.5.0) (1.26.9)\n",
      "Requirement already satisfied: certifi>=2017.4.17 in c:\\python\\python39\\lib\\site-packages (from requests<3,>=2.21.0->tensorboard~=2.5->tensorflow==2.5.0) (2022.6.15)\n",
      "Requirement already satisfied: zipp>=0.5 in c:\\python\\python39\\lib\\site-packages (from importlib-metadata>=4.4->markdown>=2.6.8->tensorboard~=2.5->tensorflow==2.5.0) (3.8.0)\n",
      "Requirement already satisfied: pyasn1<0.5.0,>=0.4.6 in c:\\python\\python39\\lib\\site-packages (from pyasn1-modules>=0.2.1->google-auth<3,>=1.6.3->tensorboard~=2.5->tensorflow==2.5.0) (0.4.8)\n",
      "Requirement already satisfied: oauthlib>=3.0.0 in c:\\python\\python39\\lib\\site-packages (from requests-oauthlib>=0.7.0->google-auth-oauthlib<0.5,>=0.4.1->tensorboard~=2.5->tensorflow==2.5.0) (3.2.0)\n"
     ]
    },
    {
     "name": "stderr",
     "output_type": "stream",
     "text": [
      "WARNING: Ignoring invalid distribution -pencv-python-headless (c:\\python\\python39\\lib\\site-packages)\n",
      "WARNING: Ignoring invalid distribution -pencv-python-headless (c:\\python\\python39\\lib\\site-packages)\n",
      "WARNING: Ignoring invalid distribution -pencv-python-headless (c:\\python\\python39\\lib\\site-packages)\n",
      "WARNING: Ignoring invalid distribution -pencv-python-headless (c:\\python\\python39\\lib\\site-packages)\n",
      "WARNING: Ignoring invalid distribution -pencv-python-headless (c:\\python\\python39\\lib\\site-packages)\n",
      "WARNING: Ignoring invalid distribution -pencv-python-headless (c:\\python\\python39\\lib\\site-packages)\n",
      "\n",
      "[notice] A new release of pip available: 22.2.1 -> 22.2.2\n",
      "[notice] To update, run: python.exe -m pip install --upgrade pip\n"
     ]
    }
   ],
   "source": [
    "!pip install tensorflow==2.5.0"
   ]
  },
  {
   "cell_type": "code",
   "execution_count": 17,
   "id": "f51cf33f",
   "metadata": {},
   "outputs": [
    {
     "name": "stdout",
     "output_type": "stream",
     "text": [
      "(323, 1)\n",
      "(323,)\n",
      "Epoch 1/50\n",
      "11/11 [==============================] - 2s 34ms/step - loss: 9862.1338 - val_loss: 5935.7461\n",
      "Epoch 2/50\n",
      "11/11 [==============================] - 0s 18ms/step - loss: 3972.8386 - val_loss: 1816.2051\n",
      "Epoch 3/50\n",
      "11/11 [==============================] - 0s 16ms/step - loss: 994.4384 - val_loss: 277.6930\n",
      "Epoch 4/50\n",
      "11/11 [==============================] - 0s 20ms/step - loss: 122.8924 - val_loss: 50.7779\n",
      "Epoch 5/50\n",
      "11/11 [==============================] - 0s 18ms/step - loss: 69.6589 - val_loss: 86.5732\n",
      "Epoch 6/50\n",
      "11/11 [==============================] - 0s 18ms/step - loss: 79.0446 - val_loss: 62.3300\n",
      "Epoch 7/50\n",
      "11/11 [==============================] - 0s 18ms/step - loss: 54.6994 - val_loss: 48.8524\n",
      "Epoch 8/50\n",
      "11/11 [==============================] - 0s 17ms/step - loss: 48.3825 - val_loss: 49.1819\n",
      "Epoch 9/50\n",
      "11/11 [==============================] - 0s 19ms/step - loss: 49.2230 - val_loss: 48.7111\n",
      "Epoch 10/50\n",
      "11/11 [==============================] - 0s 17ms/step - loss: 48.7161 - val_loss: 48.6637\n",
      "Epoch 11/50\n",
      "11/11 [==============================] - 0s 18ms/step - loss: 48.7372 - val_loss: 48.6049\n",
      "Epoch 12/50\n",
      "11/11 [==============================] - 0s 16ms/step - loss: 48.9258 - val_loss: 48.8884\n",
      "Epoch 13/50\n",
      "11/11 [==============================] - 0s 22ms/step - loss: 48.8016 - val_loss: 48.6049\n",
      "Epoch 14/50\n",
      "11/11 [==============================] - 0s 23ms/step - loss: 48.7055 - val_loss: 48.6465\n",
      "Epoch 15/50\n",
      "11/11 [==============================] - 0s 17ms/step - loss: 48.6660 - val_loss: 48.6707\n",
      "Epoch 16/50\n",
      "11/11 [==============================] - 0s 24ms/step - loss: 48.7274 - val_loss: 48.6505\n",
      "Epoch 17/50\n",
      "11/11 [==============================] - 0s 16ms/step - loss: 48.6407 - val_loss: 48.7224\n",
      "Epoch 18/50\n",
      "11/11 [==============================] - 0s 20ms/step - loss: 48.9108 - val_loss: 48.6113\n",
      "Epoch 19/50\n",
      "11/11 [==============================] - 0s 20ms/step - loss: 48.6669 - val_loss: 48.6877\n",
      "Epoch 20/50\n",
      "11/11 [==============================] - 0s 20ms/step - loss: 48.9051 - val_loss: 48.8663\n",
      "Epoch 21/50\n",
      "11/11 [==============================] - 0s 17ms/step - loss: 48.8883 - val_loss: 48.7439\n",
      "Epoch 22/50\n",
      "11/11 [==============================] - 0s 19ms/step - loss: 48.8814 - val_loss: 48.8761\n",
      "Epoch 23/50\n",
      "11/11 [==============================] - 0s 17ms/step - loss: 48.7395 - val_loss: 48.6089\n",
      "Epoch 24/50\n",
      "11/11 [==============================] - 0s 19ms/step - loss: 48.5724 - val_loss: 48.6600\n",
      "Epoch 25/50\n",
      "11/11 [==============================] - 0s 15ms/step - loss: 48.8091 - val_loss: 48.6199\n",
      "Epoch 26/50\n",
      "11/11 [==============================] - 0s 19ms/step - loss: 48.5621 - val_loss: 48.7175\n",
      "Epoch 27/50\n",
      "11/11 [==============================] - 0s 17ms/step - loss: 48.8046 - val_loss: 48.6783\n",
      "Epoch 28/50\n",
      "11/11 [==============================] - 0s 20ms/step - loss: 48.9144 - val_loss: 48.7152\n",
      "Epoch 29/50\n",
      "11/11 [==============================] - 0s 18ms/step - loss: 48.7985 - val_loss: 48.6613\n",
      "Epoch 30/50\n",
      "11/11 [==============================] - 0s 15ms/step - loss: 48.7642 - val_loss: 48.6719\n",
      "Epoch 31/50\n",
      "11/11 [==============================] - 0s 20ms/step - loss: 48.9970 - val_loss: 48.9495\n",
      "Epoch 32/50\n",
      "11/11 [==============================] - 0s 18ms/step - loss: 49.0123 - val_loss: 48.6417\n",
      "Epoch 33/50\n",
      "11/11 [==============================] - 0s 19ms/step - loss: 48.9476 - val_loss: 48.6539\n",
      "Epoch 34/50\n",
      "11/11 [==============================] - 0s 17ms/step - loss: 49.1725 - val_loss: 48.9702\n",
      "Epoch 35/50\n",
      "11/11 [==============================] - 0s 24ms/step - loss: 48.5412 - val_loss: 48.7171\n",
      "Epoch 36/50\n",
      "11/11 [==============================] - 0s 16ms/step - loss: 48.8946 - val_loss: 48.6317\n",
      "Epoch 37/50\n",
      "11/11 [==============================] - 0s 18ms/step - loss: 48.8304 - val_loss: 48.6442\n",
      "Epoch 38/50\n",
      "11/11 [==============================] - 0s 18ms/step - loss: 48.7446 - val_loss: 48.6662\n",
      "Epoch 39/50\n",
      "11/11 [==============================] - 0s 18ms/step - loss: 49.1362 - val_loss: 49.0861\n",
      "Epoch 40/50\n",
      "11/11 [==============================] - 0s 17ms/step - loss: 49.9126 - val_loss: 48.9034\n",
      "Epoch 41/50\n",
      "11/11 [==============================] - 0s 15ms/step - loss: 48.1731 - val_loss: 49.5573\n",
      "Epoch 42/50\n",
      "11/11 [==============================] - 0s 19ms/step - loss: 50.1195 - val_loss: 49.1756\n",
      "Epoch 43/50\n",
      "11/11 [==============================] - 0s 21ms/step - loss: 49.1100 - val_loss: 49.1244\n",
      "Epoch 44/50\n",
      "11/11 [==============================] - 0s 19ms/step - loss: 49.7158 - val_loss: 48.7753\n",
      "Epoch 45/50\n",
      "11/11 [==============================] - 0s 25ms/step - loss: 49.0972 - val_loss: 49.3732\n",
      "Epoch 46/50\n",
      "11/11 [==============================] - 0s 21ms/step - loss: 48.9158 - val_loss: 48.6194\n",
      "Epoch 47/50\n",
      "11/11 [==============================] - 0s 19ms/step - loss: 48.7938 - val_loss: 48.7496\n",
      "Epoch 48/50\n",
      "11/11 [==============================] - 0s 20ms/step - loss: 48.7810 - val_loss: 48.6151\n",
      "Epoch 49/50\n",
      "11/11 [==============================] - 0s 16ms/step - loss: 48.6869 - val_loss: 48.6725\n",
      "Epoch 50/50\n",
      "11/11 [==============================] - 0s 18ms/step - loss: 48.7559 - val_loss: 48.6389\n",
      "예측 결과(예상 키): 166.37083435058594\n"
     ]
    }
   ],
   "source": [
    "import pandas as pd\n",
    "import tensorflow as tf\n",
    "import numpy as np\n",
    "tf.random.set_seed(777) #하이퍼파라미터 튜닝을 위해 실행시 마다 변수가 같은 초기값 가지게 하기\n",
    "\n",
    "\n",
    "#----------------------\n",
    "# 1. 데이터 준비하기\n",
    "#----------------------\n",
    "train_df = pd.read_excel('data/아버지아들키.xlsx', sheet_name='train')\n",
    "train_df = pd.read_excel('data/아버지아들키.xlsx', sheet_name='test')\n",
    "# test_df = pd.read_excel('https://github.com/cranberryai/todak_todak_python/blob/master/machine_learning/regression/%E1%84%8B%E1%85%A1%E1%84%87%E1%85%A5%E1%84%8C%E1%85%B5%E1%84%8B%E1%85%A1%E1%84%83%E1%85%B3%E1%86%AF%E1%84%8F%E1%85%B5.xlsx?raw=true', sheet_name='test')\n",
    "train_df\n",
    "\n",
    "\n",
    "#----------------------\n",
    "# 2. 데이터 전처리\n",
    "#----------------------\n",
    "# 불필요한 데이터 삭제\n",
    "x_train = train_df.drop(['Son'], axis=1)\n",
    "x_test = test_df.drop(['Son'], axis=1)\n",
    "y_train = train_df['Son']\n",
    "y_test = test_df['Son']\n",
    "x_train.head()\n",
    "\n",
    "# numpy 데이터로 변환\n",
    "x_train = x_train.to_numpy()\n",
    "x_test = x_test.to_numpy()\n",
    "y_train = y_train.to_numpy()\n",
    "y_test = y_test.to_numpy()\n",
    "print(x_train.shape)\n",
    "print(y_train.shape)\n",
    "\n",
    "\n",
    "#----------------------\n",
    "# 3. 모델 생성\n",
    "#----------------------\n",
    "input = tf.keras.layers.Input(shape=(1,))\n",
    "net = tf.keras.layers.Dense(units=32, activation='relu')(input)\n",
    "net = tf.keras.layers.Dense(units=32, activation='relu')(net)\n",
    "net = tf.keras.layers.Dense(units=1)(net)\n",
    "\n",
    "model = tf.keras.models.Model(input, net)\n",
    "\n",
    "\n",
    "#----------------------\n",
    "# 4. 모델 학습 & 검증(평가)\n",
    "#----------------------\n",
    "# 모델 학습\n",
    "model.compile(loss='mean_squared_error', optimizer='adam')\n",
    "model.fit(x_train, y_train, epochs=50, validation_data=(x_test, y_test)) \n",
    "\n",
    "# 모델 검증\n",
    "\n",
    "\n",
    "\n",
    "#----------------------\n",
    "# 5. 모델 예측\n",
    "#----------------------\n",
    "x_test = np.array([ [164.338] ])\n",
    "\n",
    "y_predict = model.predict(x_test)\n",
    "\n",
    "print(f'예측 결과(예상 키): { y_predict[0][0] }') \n"
   ]
  },
  {
   "cell_type": "code",
   "execution_count": 19,
   "id": "81f8f9cb",
   "metadata": {},
   "outputs": [
    {
     "name": "stdout",
     "output_type": "stream",
     "text": [
      "예측 결과(아들 예상 키): [182.19986]\n"
     ]
    }
   ],
   "source": [
    "x_test = np.array([ [180] ])\n",
    "\n",
    "y_predict = model.predict(x_test)\n",
    "\n",
    "print(f'예측 결과(아들 예상 키): { y_predict[0] }') "
   ]
  },
  {
   "cell_type": "markdown",
   "id": "3f0eac6f",
   "metadata": {},
   "source": [
    "-------------------"
   ]
  },
  {
   "cell_type": "markdown",
   "id": "2a5342cc",
   "metadata": {},
   "source": [
    "THE END"
   ]
  }
 ],
 "metadata": {
  "kernelspec": {
   "display_name": "Python 3",
   "language": "python",
   "name": "python3"
  },
  "language_info": {
   "codemirror_mode": {
    "name": "ipython",
    "version": 3
   },
   "file_extension": ".py",
   "mimetype": "text/x-python",
   "name": "python",
   "nbconvert_exporter": "python",
   "pygments_lexer": "ipython3",
   "version": "3.9.10"
  }
 },
 "nbformat": 4,
 "nbformat_minor": 5
}
