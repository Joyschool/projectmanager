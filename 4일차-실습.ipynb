{
 "cells": [
  {
   "cell_type": "markdown",
   "id": "05cf60a4",
   "metadata": {},
   "source": [
    "# 파이썬 제어문"
   ]
  },
  {
   "cell_type": "markdown",
   "id": "2c06b1f2",
   "metadata": {},
   "source": [
    "## 조건문\n",
    "\n",
    "### 조건문 종류\n",
    "\n",
    "- if 조건 ~\n",
    "- if 조건 ~ else ~\n",
    "- if (if~ else ~) else ~\n",
    "- if 조건 ~ else (if~ else ~)\n",
    "- if 조건 ~ elif 조건 ~ \n",
    "- if 조건 ~ elif 조건 ~ else ~\n"
   ]
  },
  {
   "cell_type": "markdown",
   "id": "f6d299b9",
   "metadata": {},
   "source": [
    "### [실습문제] 숫자 입력 받아 짝수/홀수 판별하는 프로그램 "
   ]
  },
  {
   "cell_type": "code",
   "execution_count": 4,
   "id": "dd780bd1",
   "metadata": {},
   "outputs": [
    {
     "name": "stdout",
     "output_type": "stream",
     "text": [
      "숫자를 입력해 주세요: 43\n",
      "------------------------------\n",
      "입력된 수: 43 ==> 홀수\n"
     ]
    }
   ],
   "source": [
    "x = int( input('숫자를 입력해 주세요: ') )\n",
    "print('-'*30)\n",
    "\n",
    "if x % 2 == 0:\n",
    "    print(f'입력된 수: {x} ==> 짝수')\n",
    "else:\n",
    "    print(f'입력된 수: {x} ==> 홀수')\n"
   ]
  },
  {
   "cell_type": "code",
   "execution_count": 5,
   "id": "b5fdb85e",
   "metadata": {},
   "outputs": [
    {
     "name": "stdout",
     "output_type": "stream",
     "text": [
      "숫자를 입력해 주세요: 43\n",
      "------------------------------\n",
      "입력된 수: 43 ==> 홀수\n"
     ]
    }
   ],
   "source": [
    "x = int( input('숫자를 입력해 주세요: ') )\n",
    "print('-'*30)\n",
    "\n",
    "if (x % 2) == 0: \n",
    "    result = '짝수'\n",
    "else:\n",
    "    result = '홀수'\n",
    "\n",
    "print(f'입력된 수: {x} ==> {result}')"
   ]
  },
  {
   "cell_type": "code",
   "execution_count": null,
   "id": "c6e11609",
   "metadata": {},
   "outputs": [],
   "source": [
    "x = int( input('숫자를 입력해 주세요: ')\n",
    "        \n",
    "if x > 100:\n",
    "    if x%2==0:\n",
    "        print('짝수다')\n",
    "    else:\n",
    "        print('짝수가 아니다')\n",
    "elif x < 50:\n",
    "    print('50보다 작은 수')\n",
    "else:\n",
    "    print('50보다 크거나 같은 수')\n",
    "    \n",
    "    "
   ]
  },
  {
   "cell_type": "markdown",
   "id": "9625fd6b",
   "metadata": {},
   "source": [
    "### [실습문제] 성적 판별 프로그램"
   ]
  },
  {
   "cell_type": "code",
   "execution_count": 6,
   "id": "a9cd290d",
   "metadata": {},
   "outputs": [
    {
     "name": "stdout",
     "output_type": "stream",
     "text": [
      "성적을 입력하세요: 87\n",
      "성적: 87 는 B 등급 입니다.\n"
     ]
    }
   ],
   "source": [
    "score = int(input('성적을 입력하세요: '))\n",
    "\n",
    "grade = 'D'\n",
    "if score >= 90: \n",
    "    grade = 'A'\n",
    "if score >= 80 and score < 90:\n",
    "    grade = 'B'\n",
    "if score >= 70 and score < 80:\n",
    "    grade = 'C'\n",
    "\n",
    "print(f'성적: {score} 는 {grade} 등급 입니다.')"
   ]
  },
  {
   "cell_type": "code",
   "execution_count": 7,
   "id": "0d590273",
   "metadata": {},
   "outputs": [
    {
     "name": "stdout",
     "output_type": "stream",
     "text": [
      "성적을 입력하세요: 87\n",
      "성적: 87 는 B 등급 입니다.\n"
     ]
    }
   ],
   "source": [
    "score = int(input('성적을 입력하세요: '))\n",
    "\n",
    "if score >= 90: \n",
    "    grade = 'A'\n",
    "elif score >= 80: \n",
    "    grade = 'B'\n",
    "elif score >= 70:\n",
    "    grade = 'C'\n",
    "else:\n",
    "    grade = 'D'\n",
    "\n",
    "print(f'성적: {score} 는 {grade} 등급 입니다.')"
   ]
  },
  {
   "cell_type": "markdown",
   "id": "04c52de0",
   "metadata": {},
   "source": [
    "### [실습문제] 조건문 만들기 "
   ]
  },
  {
   "cell_type": "code",
   "execution_count": 9,
   "id": "5bf30a05",
   "metadata": {
    "collapsed": true
   },
   "outputs": [
    {
     "name": "stdout",
     "output_type": "stream",
     "text": [
      "Requirement already satisfied: pywin32 in c:\\python\\python39\\lib\\site-packages (304)\n"
     ]
    },
    {
     "name": "stderr",
     "output_type": "stream",
     "text": [
      "WARNING: Ignoring invalid distribution -pencv-python-headless (c:\\python\\python39\\lib\\site-packages)\n",
      "WARNING: Ignoring invalid distribution -pencv-python-headless (c:\\python\\python39\\lib\\site-packages)\n",
      "WARNING: Ignoring invalid distribution -pencv-python-headless (c:\\python\\python39\\lib\\site-packages)\n",
      "WARNING: Ignoring invalid distribution -pencv-python-headless (c:\\python\\python39\\lib\\site-packages)\n",
      "WARNING: Ignoring invalid distribution -pencv-python-headless (c:\\python\\python39\\lib\\site-packages)\n",
      "WARNING: Ignoring invalid distribution -pencv-python-headless (c:\\python\\python39\\lib\\site-packages)\n",
      "\n",
      "[notice] A new release of pip available: 22.2.1 -> 22.2.2\n",
      "[notice] To update, run: python.exe -m pip install --upgrade pip\n"
     ]
    }
   ],
   "source": [
    "!pip install pywin32"
   ]
  },
  {
   "cell_type": "code",
   "execution_count": 13,
   "id": "1ba3aa7b",
   "metadata": {},
   "outputs": [
    {
     "name": "stdout",
     "output_type": "stream",
     "text": [
      "온도를 입력해주세요 : 25\n",
      "------------------------------\n",
      "25도에는 날씨가 좋네요\n",
      "\n"
     ]
    }
   ],
   "source": [
    "import win32com.client\n",
    "\n",
    "tts = win32com.client.Dispatch(\"SAPI.SpVoice\")\n",
    "tts.Speak('조건문 만들기 프로그램입니다.')\n",
    "\n",
    "tts.Speak('온도를 입력해주세요')\n",
    "temp=int(input(f'온도를 입력해주세요 : '))\n",
    "\n",
    "if temp>=30:\n",
    "    donow ='에어컨을 켜세요'\n",
    "elif temp>20 and temp<30:\n",
    "    donow ='날씨가 좋네요'\n",
    "elif temp>10 and temp<=20:\n",
    "    donow ='내복을 입으세요'\n",
    "else:\n",
    "    donow ='난방기를 켜세요'\n",
    "    \n",
    "print('-'*30)\n",
    "print(f'{temp}도에는 {donow}')\n",
    "tts.Speak(f'{temp}도에는 {donow}')\n",
    "\n",
    "print()"
   ]
  },
  {
   "cell_type": "markdown",
   "id": "52668457",
   "metadata": {},
   "source": [
    "### [실습문제] 주민번호에 있는 정보를 찾아라!\n",
    "- 870701-2409184"
   ]
  },
  {
   "cell_type": "code",
   "execution_count": 18,
   "id": "ca60aba3",
   "metadata": {},
   "outputs": [
    {
     "name": "stdout",
     "output_type": "stream",
     "text": [
      "<class 'int'>\n",
      "35\n",
      "0\n"
     ]
    }
   ],
   "source": [
    "# 나이 정보 구하기\n",
    "import datetime\n",
    "now = datetime.datetime.now()\n",
    "\n",
    "print( type(now.year) )\n",
    "print( now.year - 1987 )\n",
    "print( now.month - 9 )"
   ]
  },
  {
   "cell_type": "code",
   "execution_count": 17,
   "id": "5e8c4c40",
   "metadata": {},
   "outputs": [
    {
     "name": "stdout",
     "output_type": "stream",
     "text": [
      "주민번호 : 870701-2409184\n",
      "------------------------------\n",
      "당신은 1987년 07월 01일 출생하셨군요\n",
      "당신의 나이는 35세 아름다운 여성이십니다.\n"
     ]
    }
   ],
   "source": [
    "userid = input('주민번호 : ')\n",
    "print('-' * 30)\n",
    "\n",
    "yy = userid[:2]\n",
    "mm = userid[2:4]\n",
    "dd = userid[4:6]\n",
    "\n",
    "# 성별구분 + 출생년도 구분하기\n",
    "if userid[7] in ['1','3']:   # 남성\n",
    "    gender = '남성'\n",
    "    if userid[7] == '1': \n",
    "        yy = 1900 + int(yy)\n",
    "    else:\n",
    "        yy = 2000 + int(yy)\n",
    "    \n",
    "elif userid[7] in ['2','4']: # 여성\n",
    "    gender = '여성'\n",
    "    if userid[7] == '2': \n",
    "        yy = 1900 + int(yy)\n",
    "    else:\n",
    "        yy = 2000 + int(yy)        \n",
    "\n",
    "# 나이 정보 구하기\n",
    "import datetime\n",
    "now = datetime.datetime.now()\n",
    "age = now.year - yy\n",
    "\n",
    "# 최종 출력\n",
    "print(f'당신은 {yy}년 {mm}월 {dd}일 출생하셨군요')\n",
    "print(f'당신의 나이는 {age}세 아름다운 {gender}이십니다.')"
   ]
  },
  {
   "cell_type": "markdown",
   "id": "4111c3a8",
   "metadata": {},
   "source": [
    "### [실습문제] 커피자동주문 머신 만들기"
   ]
  },
  {
   "cell_type": "code",
   "execution_count": 22,
   "id": "5a3cbefc",
   "metadata": {},
   "outputs": [
    {
     "name": "stdout",
     "output_type": "stream",
     "text": [
      "[커피 자동주문 머신 메뉴]\n",
      "-----------------------------\n",
      "- 아메리카노 2500원\n",
      "- 카페라테   3000원\n",
      "- 카푸치노   3000원\n",
      "입니다. 원하시는 커피종류와 잔수를 입력하세요.\n",
      "-----------------------------\n",
      "아메리카노 몇잔?: 1\n",
      "카페라떼 몇잔?: 1\n",
      "카푸치노 몇잔?: 1\n",
      "지불할 총 금액은 8500 입니다.\n",
      "-----------------------------\n",
      "돈을 넣어 주세요.: 10000\n",
      "거스름돈은 1500 원 입니다.\n"
     ]
    }
   ],
   "source": [
    "menu = '''[커피 자동주문 머신 메뉴]\n",
    "-----------------------------\n",
    "- 아메리카노 2500원\n",
    "- 카페라테   3000원\n",
    "- 카푸치노   3000원\n",
    "입니다. 원하시는 커피종류와 잔수를 입력하세요.\n",
    "-----------------------------\\n'''\n",
    "\n",
    "coffee1 = int(input(menu+\"아메리카노 몇잔?: \"))\n",
    "coffee2 = int(input('카페라떼 몇잔?: '))\n",
    "coffee3 = int(input('카푸치노 몇잔?: '))\n",
    "\n",
    "totalprice = coffee1*2500 + coffee2*3000 + coffee3*3000\n",
    "print(f'지불할 총 금액은 {totalprice} 입니다.')\n",
    "print('-----------------------------')\n",
    "\n",
    "money = int(input('돈을 넣어 주세요.: '))\n",
    "change = money - totalprice\n",
    "if change < 0:\n",
    "    print(f'돈이 부족합니다. {change*-1} 원을 더 넣어주세요.')\n",
    "else:\n",
    "    print(f'거스름돈은 {change} 원 입니다.')"
   ]
  },
  {
   "cell_type": "markdown",
   "id": "3c97061a",
   "metadata": {},
   "source": [
    "## 반복문\n",
    "\n",
    "### for 반복문"
   ]
  },
  {
   "cell_type": "markdown",
   "id": "7bfe4008",
   "metadata": {},
   "source": [
    "### [실습문제] 1~N까지의 합 구하기"
   ]
  },
  {
   "cell_type": "code",
   "execution_count": 23,
   "id": "59bf0d33",
   "metadata": {},
   "outputs": [
    {
     "name": "stdout",
     "output_type": "stream",
     "text": [
      "숫자를 입력하세요: 100\n",
      "1~100까지의 합은 5050입니다.\n"
     ]
    }
   ],
   "source": [
    "N = int(input('숫자를 입력하세요: '))\n",
    "\n",
    "hap = 0\n",
    "for i in range(1, N+1):\n",
    "    hap += i   # hap = hap + i\n",
    "\n",
    "print(f'1~{N}까지의 합은 {hap}입니다.')"
   ]
  },
  {
   "cell_type": "markdown",
   "id": "85c4d43a",
   "metadata": {},
   "source": [
    "- **짝수를 제외하고 합 구하기**"
   ]
  },
  {
   "cell_type": "code",
   "execution_count": 24,
   "id": "91c31446",
   "metadata": {},
   "outputs": [
    {
     "name": "stdout",
     "output_type": "stream",
     "text": [
      "숫자를 입력하세요: 100\n",
      "1~100까지의 합은 2500입니다.\n"
     ]
    }
   ],
   "source": [
    "N = int(input('숫자를 입력하세요: '))\n",
    "\n",
    "hap = 0\n",
    "for i in range(1, N+1):\n",
    "    if i%2 != 0:   # 짝수가 아니면\n",
    "        hap += i   # hap = hap + i\n",
    "\n",
    "print(f'1~{N}까지의 합은 {hap}입니다.')"
   ]
  },
  {
   "cell_type": "code",
   "execution_count": null,
   "id": "d1ce0de0",
   "metadata": {},
   "outputs": [],
   "source": [
    "N = int(input('숫자를 입력하세요: '))\n",
    "\n",
    "hap = 0\n",
    "for i in range(1, N+1, 2):  # 홀수들만 숫자가 나타난다.\n",
    "    hap += i   # hap = hap + i\n",
    "\n",
    "print(f'1~{N}까지의 합은 {hap}입니다.')"
   ]
  },
  {
   "cell_type": "markdown",
   "id": "58211aa7",
   "metadata": {},
   "source": [
    "### [실습문제] 구구단 출력하기"
   ]
  },
  {
   "cell_type": "code",
   "execution_count": 27,
   "id": "b2ed72cd",
   "metadata": {
    "scrolled": true
   },
   "outputs": [
    {
     "name": "stdout",
     "output_type": "stream",
     "text": [
      "몇단을 출력할까요?: 5\n",
      "------------------------------\n",
      "5 x 1 = 5\n",
      "5 x 2 = 10\n",
      "5 x 3 = 15\n",
      "5 x 4 = 20\n",
      "5 x 5 = 25\n",
      "5 x 6 = 30\n",
      "5 x 7 = 35\n",
      "5 x 8 = 40\n",
      "5 x 9 = 45\n"
     ]
    }
   ],
   "source": [
    "N = int(input('몇단을 출력할까요?: '))\n",
    "print('-'*30)\n",
    "\n",
    "for i in range(1, 10):\n",
    "    print(f'{N} x {i} = {N*i}')"
   ]
  },
  {
   "cell_type": "code",
   "execution_count": 31,
   "id": "c6da3c21",
   "metadata": {},
   "outputs": [
    {
     "name": "stdout",
     "output_type": "stream",
     "text": [
      "5x1=5 5x2=10 5x3=15 5x4=20 5x5=25 5x6=30 5x7=35 5x8=40 5x9=45 "
     ]
    }
   ],
   "source": [
    "N = 5\n",
    "for i in range(1, 10):\n",
    "    print(f'{N}x{i}={N*i}', end = ' ')"
   ]
  },
  {
   "cell_type": "code",
   "execution_count": null,
   "id": "de518f0c",
   "metadata": {},
   "outputs": [],
   "source": []
  },
  {
   "cell_type": "markdown",
   "id": "882a7b4d",
   "metadata": {},
   "source": [
    "### while 반복문"
   ]
  },
  {
   "cell_type": "code",
   "execution_count": null,
   "id": "2370a247",
   "metadata": {},
   "outputs": [],
   "source": []
  }
 ],
 "metadata": {
  "kernelspec": {
   "display_name": "Python 3",
   "language": "python",
   "name": "python3"
  },
  "language_info": {
   "codemirror_mode": {
    "name": "ipython",
    "version": 3
   },
   "file_extension": ".py",
   "mimetype": "text/x-python",
   "name": "python",
   "nbconvert_exporter": "python",
   "pygments_lexer": "ipython3",
   "version": "3.9.10"
  }
 },
 "nbformat": 4,
 "nbformat_minor": 5
}
