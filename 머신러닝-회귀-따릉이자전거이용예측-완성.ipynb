{
 "cells": [
  {
   "cell_type": "markdown",
   "metadata": {
    "id": "0Nj76qUe2lnA"
   },
   "source": [
    "# [실습] 따릉이 데이터를 활용한 데이터 분석"
   ]
  },
  {
   "cell_type": "markdown",
   "metadata": {
    "id": "eIxVnvAJNMER"
   },
   "source": [
    "### 참고\n",
    "- **참고영상** https://www.youtube.com/watch?v=WreGAJxukpA "
   ]
  },
  {
   "cell_type": "markdown",
   "metadata": {
    "id": "G40FawyyQl8c"
   },
   "source": [
    "### 목표\n",
    "- **날짜의 1시간 전의 기상상황을 가지고 1시간 후의 따릉이 대여수를 예측해본다.** "
   ]
  },
  {
   "cell_type": "markdown",
   "metadata": {},
   "source": [
    "### 머신러닝 모델(분류)\n",
    "- **랜덤 포레스트 모형** : sklearn.ensemble.RandomForestRegressor()"
   ]
  },
  {
   "cell_type": "markdown",
   "metadata": {},
   "source": [
    "### 평가지표\n",
    "- RMSE(Root Mean Squared Error,평균 제곱근 오차)"
   ]
  },
  {
   "cell_type": "code",
   "execution_count": 1,
   "metadata": {},
   "outputs": [
    {
     "data": {
      "text/html": [
       "<img src=\"https://miro.medium.com/max/875/1*XRXgMqrr5rq-V1rW7SkrtA.png\" width=\"400\" height=\"300\"/>"
      ],
      "text/plain": [
       "<IPython.core.display.Image object>"
      ]
     },
     "execution_count": 1,
     "metadata": {},
     "output_type": "execute_result"
    }
   ],
   "source": [
    "from IPython.display import Image\n",
    "Image(url='https://miro.medium.com/max/875/1*XRXgMqrr5rq-V1rW7SkrtA.png'\n",
    "     , width=400, height=300)"
   ]
  },
  {
   "cell_type": "markdown",
   "metadata": {},
   "source": [
    "---------------------"
   ]
  },
  {
   "cell_type": "markdown",
   "metadata": {
    "id": "JYHb_Mf-2lnG"
   },
   "source": [
    "## 1.데이터 준비하기\n",
    "\n",
    "- 다운로드 :  https://dacon.io/competitions/open/235576/data\n",
    "- train.csv, test.csv"
   ]
  },
  {
   "cell_type": "code",
   "execution_count": 14,
   "metadata": {},
   "outputs": [
    {
     "data": {
      "text/html": [
       "<div><div id=ba1f47b0-5b34-4fd8-b310-fefd5cd03dfb style=\"display:none; background-color:#9D6CFF; color:white; width:200px; height:30px; padding-left:5px; border-radius:4px; flex-direction:row; justify-content:space-around; align-items:center;\" onmouseover=\"this.style.backgroundColor='#BA9BF8'\" onmouseout=\"this.style.backgroundColor='#9D6CFF'\" onclick=\"window.commands?.execute('create-mitosheet-from-dataframe-output');\">See Full Dataframe in Mito</div> <script> if (window.commands?.hasCommand('create-mitosheet-from-dataframe-output')) document.getElementById('ba1f47b0-5b34-4fd8-b310-fefd5cd03dfb').style.display = 'flex' </script> <table border=\"1\" class=\"dataframe\">\n",
       "  <thead>\n",
       "    <tr style=\"text-align: right;\">\n",
       "      <th></th>\n",
       "      <th>id</th>\n",
       "      <th>hour</th>\n",
       "      <th>hour_bef_temperature</th>\n",
       "      <th>hour_bef_precipitation</th>\n",
       "      <th>hour_bef_windspeed</th>\n",
       "      <th>hour_bef_humidity</th>\n",
       "      <th>hour_bef_visibility</th>\n",
       "      <th>hour_bef_ozone</th>\n",
       "      <th>hour_bef_pm10</th>\n",
       "      <th>hour_bef_pm2.5</th>\n",
       "      <th>count</th>\n",
       "    </tr>\n",
       "  </thead>\n",
       "  <tbody>\n",
       "    <tr>\n",
       "      <th>0</th>\n",
       "      <td>3</td>\n",
       "      <td>20</td>\n",
       "      <td>16.3</td>\n",
       "      <td>1.0</td>\n",
       "      <td>1.5</td>\n",
       "      <td>89.0</td>\n",
       "      <td>576.0</td>\n",
       "      <td>0.027</td>\n",
       "      <td>76.0</td>\n",
       "      <td>33.0</td>\n",
       "      <td>49.0</td>\n",
       "    </tr>\n",
       "    <tr>\n",
       "      <th>1</th>\n",
       "      <td>6</td>\n",
       "      <td>13</td>\n",
       "      <td>20.1</td>\n",
       "      <td>0.0</td>\n",
       "      <td>1.4</td>\n",
       "      <td>48.0</td>\n",
       "      <td>916.0</td>\n",
       "      <td>0.042</td>\n",
       "      <td>73.0</td>\n",
       "      <td>40.0</td>\n",
       "      <td>159.0</td>\n",
       "    </tr>\n",
       "    <tr>\n",
       "      <th>2</th>\n",
       "      <td>7</td>\n",
       "      <td>6</td>\n",
       "      <td>13.9</td>\n",
       "      <td>0.0</td>\n",
       "      <td>0.7</td>\n",
       "      <td>79.0</td>\n",
       "      <td>1382.0</td>\n",
       "      <td>0.033</td>\n",
       "      <td>32.0</td>\n",
       "      <td>19.0</td>\n",
       "      <td>26.0</td>\n",
       "    </tr>\n",
       "    <tr>\n",
       "      <th>3</th>\n",
       "      <td>8</td>\n",
       "      <td>23</td>\n",
       "      <td>8.1</td>\n",
       "      <td>0.0</td>\n",
       "      <td>2.7</td>\n",
       "      <td>54.0</td>\n",
       "      <td>946.0</td>\n",
       "      <td>0.040</td>\n",
       "      <td>75.0</td>\n",
       "      <td>64.0</td>\n",
       "      <td>57.0</td>\n",
       "    </tr>\n",
       "    <tr>\n",
       "      <th>4</th>\n",
       "      <td>9</td>\n",
       "      <td>18</td>\n",
       "      <td>29.5</td>\n",
       "      <td>0.0</td>\n",
       "      <td>4.8</td>\n",
       "      <td>7.0</td>\n",
       "      <td>2000.0</td>\n",
       "      <td>0.057</td>\n",
       "      <td>27.0</td>\n",
       "      <td>11.0</td>\n",
       "      <td>431.0</td>\n",
       "    </tr>\n",
       "  </tbody>\n",
       "</table></div>"
      ],
      "text/plain": [
       "   id  hour  hour_bef_temperature  hour_bef_precipitation  hour_bef_windspeed  \\\n",
       "0   3    20                  16.3                     1.0                 1.5   \n",
       "1   6    13                  20.1                     0.0                 1.4   \n",
       "2   7     6                  13.9                     0.0                 0.7   \n",
       "3   8    23                   8.1                     0.0                 2.7   \n",
       "4   9    18                  29.5                     0.0                 4.8   \n",
       "\n",
       "   hour_bef_humidity  hour_bef_visibility  hour_bef_ozone  hour_bef_pm10  \\\n",
       "0               89.0                576.0           0.027           76.0   \n",
       "1               48.0                916.0           0.042           73.0   \n",
       "2               79.0               1382.0           0.033           32.0   \n",
       "3               54.0                946.0           0.040           75.0   \n",
       "4                7.0               2000.0           0.057           27.0   \n",
       "\n",
       "   hour_bef_pm2.5  count  \n",
       "0            33.0   49.0  \n",
       "1            40.0  159.0  \n",
       "2            19.0   26.0  \n",
       "3            64.0   57.0  \n",
       "4            11.0  431.0  "
      ]
     },
     "execution_count": 14,
     "metadata": {},
     "output_type": "execute_result"
    }
   ],
   "source": [
    "# 데이터 가져오기\n",
    "import numpy as np\n",
    "import pandas as pd\n",
    "import matplotlib.pyplot as plt\n",
    "\n",
    "DIR = 'data/따릉이/'\n",
    "train = pd.read_csv(DIR+'train.csv')      # 모델 학습 파일(feature + target)\n",
    "test  = pd.read_csv(DIR+'test.csv')       # 모델 테스트 파일(feature)\n",
    "submission = pd.read_csv(DIR+'test.csv')  # 테스트(feature) + 모델예측값(target) 저장 파일 \n",
    "\n",
    "train.head()\n",
    "# test.head()\n",
    "# submission.head()"
   ]
  },
  {
   "cell_type": "markdown",
   "metadata": {
    "id": "jwLtCHGC2lnb"
   },
   "source": [
    "## 2. 탐색적 데이터 분석을 위한 이해: Exploratory Data Analysis (EDA)\n"
   ]
  },
  {
   "cell_type": "code",
   "execution_count": 15,
   "metadata": {
    "id": "pb0OD3v82lnT"
   },
   "outputs": [],
   "source": [
    "import pandas as pd #판다스 패키지 불러오기\n",
    "from sklearn.tree import DecisionTreeRegressor\n",
    "from sklearn.ensemble import RandomForestRegressor #랜덤 포레스트 불러오기"
   ]
  },
  {
   "cell_type": "markdown",
   "metadata": {
    "id": "3KBmsLN6Ql8o"
   },
   "source": [
    "### pd.DataFrame.head()\n",
    " - 데이터 프레임의 위에서 부터 n개 행을 보여주는 함수\n",
    " - n의 기본 값(default 값)은 5"
   ]
  },
  {
   "cell_type": "code",
   "execution_count": 16,
   "metadata": {
    "colab": {
     "base_uri": "https://localhost:8080/",
     "height": 270
    },
    "id": "r8pS1mwQOD_R",
    "outputId": "202bd183-90a4-41e1-b19a-18a10e8ed6b3"
   },
   "outputs": [
    {
     "data": {
      "text/html": [
       "<div><div id=9e3cf4ad-0695-4a44-9ebd-405f4bfbbb37 style=\"display:none; background-color:#9D6CFF; color:white; width:200px; height:30px; padding-left:5px; border-radius:4px; flex-direction:row; justify-content:space-around; align-items:center;\" onmouseover=\"this.style.backgroundColor='#BA9BF8'\" onmouseout=\"this.style.backgroundColor='#9D6CFF'\" onclick=\"window.commands?.execute('create-mitosheet-from-dataframe-output');\">See Full Dataframe in Mito</div> <script> if (window.commands?.hasCommand('create-mitosheet-from-dataframe-output')) document.getElementById('9e3cf4ad-0695-4a44-9ebd-405f4bfbbb37').style.display = 'flex' </script> <table border=\"1\" class=\"dataframe\">\n",
       "  <thead>\n",
       "    <tr style=\"text-align: right;\">\n",
       "      <th></th>\n",
       "      <th>id</th>\n",
       "      <th>hour</th>\n",
       "      <th>hour_bef_temperature</th>\n",
       "      <th>hour_bef_precipitation</th>\n",
       "      <th>hour_bef_windspeed</th>\n",
       "      <th>hour_bef_humidity</th>\n",
       "      <th>hour_bef_visibility</th>\n",
       "      <th>hour_bef_ozone</th>\n",
       "      <th>hour_bef_pm10</th>\n",
       "      <th>hour_bef_pm2.5</th>\n",
       "      <th>count</th>\n",
       "    </tr>\n",
       "  </thead>\n",
       "  <tbody>\n",
       "    <tr>\n",
       "      <th>0</th>\n",
       "      <td>3</td>\n",
       "      <td>20</td>\n",
       "      <td>16.3</td>\n",
       "      <td>1.0</td>\n",
       "      <td>1.5</td>\n",
       "      <td>89.0</td>\n",
       "      <td>576.0</td>\n",
       "      <td>0.027</td>\n",
       "      <td>76.0</td>\n",
       "      <td>33.0</td>\n",
       "      <td>49.0</td>\n",
       "    </tr>\n",
       "    <tr>\n",
       "      <th>1</th>\n",
       "      <td>6</td>\n",
       "      <td>13</td>\n",
       "      <td>20.1</td>\n",
       "      <td>0.0</td>\n",
       "      <td>1.4</td>\n",
       "      <td>48.0</td>\n",
       "      <td>916.0</td>\n",
       "      <td>0.042</td>\n",
       "      <td>73.0</td>\n",
       "      <td>40.0</td>\n",
       "      <td>159.0</td>\n",
       "    </tr>\n",
       "    <tr>\n",
       "      <th>2</th>\n",
       "      <td>7</td>\n",
       "      <td>6</td>\n",
       "      <td>13.9</td>\n",
       "      <td>0.0</td>\n",
       "      <td>0.7</td>\n",
       "      <td>79.0</td>\n",
       "      <td>1382.0</td>\n",
       "      <td>0.033</td>\n",
       "      <td>32.0</td>\n",
       "      <td>19.0</td>\n",
       "      <td>26.0</td>\n",
       "    </tr>\n",
       "    <tr>\n",
       "      <th>3</th>\n",
       "      <td>8</td>\n",
       "      <td>23</td>\n",
       "      <td>8.1</td>\n",
       "      <td>0.0</td>\n",
       "      <td>2.7</td>\n",
       "      <td>54.0</td>\n",
       "      <td>946.0</td>\n",
       "      <td>0.040</td>\n",
       "      <td>75.0</td>\n",
       "      <td>64.0</td>\n",
       "      <td>57.0</td>\n",
       "    </tr>\n",
       "    <tr>\n",
       "      <th>4</th>\n",
       "      <td>9</td>\n",
       "      <td>18</td>\n",
       "      <td>29.5</td>\n",
       "      <td>0.0</td>\n",
       "      <td>4.8</td>\n",
       "      <td>7.0</td>\n",
       "      <td>2000.0</td>\n",
       "      <td>0.057</td>\n",
       "      <td>27.0</td>\n",
       "      <td>11.0</td>\n",
       "      <td>431.0</td>\n",
       "    </tr>\n",
       "  </tbody>\n",
       "</table></div>"
      ],
      "text/plain": [
       "   id  hour  hour_bef_temperature  hour_bef_precipitation  hour_bef_windspeed  \\\n",
       "0   3    20                  16.3                     1.0                 1.5   \n",
       "1   6    13                  20.1                     0.0                 1.4   \n",
       "2   7     6                  13.9                     0.0                 0.7   \n",
       "3   8    23                   8.1                     0.0                 2.7   \n",
       "4   9    18                  29.5                     0.0                 4.8   \n",
       "\n",
       "   hour_bef_humidity  hour_bef_visibility  hour_bef_ozone  hour_bef_pm10  \\\n",
       "0               89.0                576.0           0.027           76.0   \n",
       "1               48.0                916.0           0.042           73.0   \n",
       "2               79.0               1382.0           0.033           32.0   \n",
       "3               54.0                946.0           0.040           75.0   \n",
       "4                7.0               2000.0           0.057           27.0   \n",
       "\n",
       "   hour_bef_pm2.5  count  \n",
       "0            33.0   49.0  \n",
       "1            40.0  159.0  \n",
       "2            19.0   26.0  \n",
       "3            64.0   57.0  \n",
       "4            11.0  431.0  "
      ]
     },
     "execution_count": 16,
     "metadata": {},
     "output_type": "execute_result"
    }
   ],
   "source": [
    "train.head()"
   ]
  },
  {
   "cell_type": "markdown",
   "metadata": {
    "id": "9n-wG2ueQl8s"
   },
   "source": [
    "+ id : 날짜와 시간별 id\n",
    "+ hour_bef_temperature : 1시간 전 기온\n",
    "+ hour_bef_precipitation : 1시간 전 비 정보, 비가 오지 않았으면 0, 비가 오면 1\n",
    "+ hour_bef_windspeed : 1시간 전 풍속(평균)\n",
    "+ hour_bef_humidity : 1시간 전 습도\n",
    "+ hour_bef_visibility : 1시간 전 시정(視程), 시계(視界)(특정 기상 상태에 따른 가시성을 의미)\n",
    "+ hour_bef_ozone : 1시간 전 오존\n",
    "+ hour_bef_pm10 : 1시간 전 미세먼지(머리카락 굵기의 1/5에서 1/7 크기의 미세먼지)\n",
    "+ hour_bef_pm2.5 : 1시간 전 미세먼지(머리카락 굵기의 1/20에서 1/30 크기의 미세먼지)\n",
    "+ count : 시간에 따른 따릉이 대여 수 "
   ]
  },
  {
   "cell_type": "markdown",
   "metadata": {
    "id": "LF_t-TpB8pFM"
   },
   "source": [
    "#### [Tip!!!] 테스트 데이터를 이용하여 학습모델의 정확도를 확인하려면 test데이터를 데이콘 사이트에 올리면 결과값(유사도) 제공해 준다."
   ]
  },
  {
   "cell_type": "code",
   "execution_count": 17,
   "metadata": {
    "colab": {
     "base_uri": "https://localhost:8080/",
     "height": 270
    },
    "id": "99hYflZ5OFmQ",
    "outputId": "0e40e771-459b-49f6-cd74-a02674f6683f"
   },
   "outputs": [
    {
     "data": {
      "text/html": [
       "<div><div id=b580236a-3076-4cd8-a3ac-b3eaa4a8c644 style=\"display:none; background-color:#9D6CFF; color:white; width:200px; height:30px; padding-left:5px; border-radius:4px; flex-direction:row; justify-content:space-around; align-items:center;\" onmouseover=\"this.style.backgroundColor='#BA9BF8'\" onmouseout=\"this.style.backgroundColor='#9D6CFF'\" onclick=\"window.commands?.execute('create-mitosheet-from-dataframe-output');\">See Full Dataframe in Mito</div> <script> if (window.commands?.hasCommand('create-mitosheet-from-dataframe-output')) document.getElementById('b580236a-3076-4cd8-a3ac-b3eaa4a8c644').style.display = 'flex' </script> <table border=\"1\" class=\"dataframe\">\n",
       "  <thead>\n",
       "    <tr style=\"text-align: right;\">\n",
       "      <th></th>\n",
       "      <th>id</th>\n",
       "      <th>hour</th>\n",
       "      <th>hour_bef_temperature</th>\n",
       "      <th>hour_bef_precipitation</th>\n",
       "      <th>hour_bef_windspeed</th>\n",
       "      <th>hour_bef_humidity</th>\n",
       "      <th>hour_bef_visibility</th>\n",
       "      <th>hour_bef_ozone</th>\n",
       "      <th>hour_bef_pm10</th>\n",
       "      <th>hour_bef_pm2.5</th>\n",
       "    </tr>\n",
       "  </thead>\n",
       "  <tbody>\n",
       "    <tr>\n",
       "      <th>0</th>\n",
       "      <td>0</td>\n",
       "      <td>7</td>\n",
       "      <td>20.7</td>\n",
       "      <td>0.0</td>\n",
       "      <td>1.3</td>\n",
       "      <td>62.0</td>\n",
       "      <td>954.0</td>\n",
       "      <td>0.041</td>\n",
       "      <td>44.0</td>\n",
       "      <td>27.0</td>\n",
       "    </tr>\n",
       "    <tr>\n",
       "      <th>1</th>\n",
       "      <td>1</td>\n",
       "      <td>17</td>\n",
       "      <td>30.0</td>\n",
       "      <td>0.0</td>\n",
       "      <td>5.4</td>\n",
       "      <td>33.0</td>\n",
       "      <td>1590.0</td>\n",
       "      <td>0.061</td>\n",
       "      <td>49.0</td>\n",
       "      <td>36.0</td>\n",
       "    </tr>\n",
       "    <tr>\n",
       "      <th>2</th>\n",
       "      <td>2</td>\n",
       "      <td>13</td>\n",
       "      <td>19.0</td>\n",
       "      <td>1.0</td>\n",
       "      <td>2.1</td>\n",
       "      <td>95.0</td>\n",
       "      <td>193.0</td>\n",
       "      <td>0.020</td>\n",
       "      <td>36.0</td>\n",
       "      <td>28.0</td>\n",
       "    </tr>\n",
       "    <tr>\n",
       "      <th>3</th>\n",
       "      <td>4</td>\n",
       "      <td>6</td>\n",
       "      <td>22.5</td>\n",
       "      <td>0.0</td>\n",
       "      <td>2.5</td>\n",
       "      <td>60.0</td>\n",
       "      <td>1185.0</td>\n",
       "      <td>0.027</td>\n",
       "      <td>52.0</td>\n",
       "      <td>38.0</td>\n",
       "    </tr>\n",
       "    <tr>\n",
       "      <th>4</th>\n",
       "      <td>5</td>\n",
       "      <td>22</td>\n",
       "      <td>14.6</td>\n",
       "      <td>1.0</td>\n",
       "      <td>3.4</td>\n",
       "      <td>93.0</td>\n",
       "      <td>218.0</td>\n",
       "      <td>0.041</td>\n",
       "      <td>18.0</td>\n",
       "      <td>15.0</td>\n",
       "    </tr>\n",
       "  </tbody>\n",
       "</table></div>"
      ],
      "text/plain": [
       "   id  hour  hour_bef_temperature  hour_bef_precipitation  hour_bef_windspeed  \\\n",
       "0   0     7                  20.7                     0.0                 1.3   \n",
       "1   1    17                  30.0                     0.0                 5.4   \n",
       "2   2    13                  19.0                     1.0                 2.1   \n",
       "3   4     6                  22.5                     0.0                 2.5   \n",
       "4   5    22                  14.6                     1.0                 3.4   \n",
       "\n",
       "   hour_bef_humidity  hour_bef_visibility  hour_bef_ozone  hour_bef_pm10  \\\n",
       "0               62.0                954.0           0.041           44.0   \n",
       "1               33.0               1590.0           0.061           49.0   \n",
       "2               95.0                193.0           0.020           36.0   \n",
       "3               60.0               1185.0           0.027           52.0   \n",
       "4               93.0                218.0           0.041           18.0   \n",
       "\n",
       "   hour_bef_pm2.5  \n",
       "0            27.0  \n",
       "1            36.0  \n",
       "2            28.0  \n",
       "3            38.0  \n",
       "4            15.0  "
      ]
     },
     "execution_count": 17,
     "metadata": {},
     "output_type": "execute_result"
    }
   ],
   "source": [
    "test.head()"
   ]
  },
  {
   "cell_type": "code",
   "execution_count": 18,
   "metadata": {
    "colab": {
     "base_uri": "https://localhost:8080/",
     "height": 206
    },
    "id": "NctZaNoT9Ahi",
    "outputId": "ef725dfb-a412-40de-d669-39aa9ee5e0e6"
   },
   "outputs": [
    {
     "data": {
      "text/html": [
       "<div><div id=040dedd1-4d78-423a-baf7-6a8e29211882 style=\"display:none; background-color:#9D6CFF; color:white; width:200px; height:30px; padding-left:5px; border-radius:4px; flex-direction:row; justify-content:space-around; align-items:center;\" onmouseover=\"this.style.backgroundColor='#BA9BF8'\" onmouseout=\"this.style.backgroundColor='#9D6CFF'\" onclick=\"window.commands?.execute('create-mitosheet-from-dataframe-output');\">See Full Dataframe in Mito</div> <script> if (window.commands?.hasCommand('create-mitosheet-from-dataframe-output')) document.getElementById('040dedd1-4d78-423a-baf7-6a8e29211882').style.display = 'flex' </script> <table border=\"1\" class=\"dataframe\">\n",
       "  <thead>\n",
       "    <tr style=\"text-align: right;\">\n",
       "      <th></th>\n",
       "      <th>id</th>\n",
       "      <th>hour</th>\n",
       "      <th>hour_bef_temperature</th>\n",
       "      <th>hour_bef_precipitation</th>\n",
       "      <th>hour_bef_windspeed</th>\n",
       "      <th>hour_bef_humidity</th>\n",
       "      <th>hour_bef_visibility</th>\n",
       "      <th>hour_bef_ozone</th>\n",
       "      <th>hour_bef_pm10</th>\n",
       "      <th>hour_bef_pm2.5</th>\n",
       "    </tr>\n",
       "  </thead>\n",
       "  <tbody>\n",
       "    <tr>\n",
       "      <th>0</th>\n",
       "      <td>0</td>\n",
       "      <td>7</td>\n",
       "      <td>20.7</td>\n",
       "      <td>0.0</td>\n",
       "      <td>1.3</td>\n",
       "      <td>62.0</td>\n",
       "      <td>954.0</td>\n",
       "      <td>0.041</td>\n",
       "      <td>44.0</td>\n",
       "      <td>27.0</td>\n",
       "    </tr>\n",
       "    <tr>\n",
       "      <th>1</th>\n",
       "      <td>1</td>\n",
       "      <td>17</td>\n",
       "      <td>30.0</td>\n",
       "      <td>0.0</td>\n",
       "      <td>5.4</td>\n",
       "      <td>33.0</td>\n",
       "      <td>1590.0</td>\n",
       "      <td>0.061</td>\n",
       "      <td>49.0</td>\n",
       "      <td>36.0</td>\n",
       "    </tr>\n",
       "    <tr>\n",
       "      <th>2</th>\n",
       "      <td>2</td>\n",
       "      <td>13</td>\n",
       "      <td>19.0</td>\n",
       "      <td>1.0</td>\n",
       "      <td>2.1</td>\n",
       "      <td>95.0</td>\n",
       "      <td>193.0</td>\n",
       "      <td>0.020</td>\n",
       "      <td>36.0</td>\n",
       "      <td>28.0</td>\n",
       "    </tr>\n",
       "    <tr>\n",
       "      <th>3</th>\n",
       "      <td>4</td>\n",
       "      <td>6</td>\n",
       "      <td>22.5</td>\n",
       "      <td>0.0</td>\n",
       "      <td>2.5</td>\n",
       "      <td>60.0</td>\n",
       "      <td>1185.0</td>\n",
       "      <td>0.027</td>\n",
       "      <td>52.0</td>\n",
       "      <td>38.0</td>\n",
       "    </tr>\n",
       "    <tr>\n",
       "      <th>4</th>\n",
       "      <td>5</td>\n",
       "      <td>22</td>\n",
       "      <td>14.6</td>\n",
       "      <td>1.0</td>\n",
       "      <td>3.4</td>\n",
       "      <td>93.0</td>\n",
       "      <td>218.0</td>\n",
       "      <td>0.041</td>\n",
       "      <td>18.0</td>\n",
       "      <td>15.0</td>\n",
       "    </tr>\n",
       "  </tbody>\n",
       "</table></div>"
      ],
      "text/plain": [
       "   id  hour  hour_bef_temperature  hour_bef_precipitation  hour_bef_windspeed  \\\n",
       "0   0     7                  20.7                     0.0                 1.3   \n",
       "1   1    17                  30.0                     0.0                 5.4   \n",
       "2   2    13                  19.0                     1.0                 2.1   \n",
       "3   4     6                  22.5                     0.0                 2.5   \n",
       "4   5    22                  14.6                     1.0                 3.4   \n",
       "\n",
       "   hour_bef_humidity  hour_bef_visibility  hour_bef_ozone  hour_bef_pm10  \\\n",
       "0               62.0                954.0           0.041           44.0   \n",
       "1               33.0               1590.0           0.061           49.0   \n",
       "2               95.0                193.0           0.020           36.0   \n",
       "3               60.0               1185.0           0.027           52.0   \n",
       "4               93.0                218.0           0.041           18.0   \n",
       "\n",
       "   hour_bef_pm2.5  \n",
       "0            27.0  \n",
       "1            36.0  \n",
       "2            28.0  \n",
       "3            38.0  \n",
       "4            15.0  "
      ]
     },
     "execution_count": 18,
     "metadata": {},
     "output_type": "execute_result"
    }
   ],
   "source": [
    "submission.head()"
   ]
  },
  {
   "cell_type": "markdown",
   "metadata": {
    "id": "CTj_cjAcQl8z"
   },
   "source": [
    "### pd.DataFrame.tail()\n",
    " - 데이터 프레임의 아래에서 부터 n개 행을 보여주는 함수\n",
    " - n의 기본 값(default 값)은 5"
   ]
  },
  {
   "cell_type": "code",
   "execution_count": 19,
   "metadata": {
    "colab": {
     "base_uri": "https://localhost:8080/",
     "height": 270
    },
    "id": "kvQxzaDPOHP0",
    "outputId": "37aaa8e8-7148-4027-d83e-28141dfefa86"
   },
   "outputs": [
    {
     "data": {
      "text/html": [
       "<div><div id=6c2036b8-4b91-4621-a8e5-5cd4eadebfb9 style=\"display:none; background-color:#9D6CFF; color:white; width:200px; height:30px; padding-left:5px; border-radius:4px; flex-direction:row; justify-content:space-around; align-items:center;\" onmouseover=\"this.style.backgroundColor='#BA9BF8'\" onmouseout=\"this.style.backgroundColor='#9D6CFF'\" onclick=\"window.commands?.execute('create-mitosheet-from-dataframe-output');\">See Full Dataframe in Mito</div> <script> if (window.commands?.hasCommand('create-mitosheet-from-dataframe-output')) document.getElementById('6c2036b8-4b91-4621-a8e5-5cd4eadebfb9').style.display = 'flex' </script> <table border=\"1\" class=\"dataframe\">\n",
       "  <thead>\n",
       "    <tr style=\"text-align: right;\">\n",
       "      <th></th>\n",
       "      <th>id</th>\n",
       "      <th>hour</th>\n",
       "      <th>hour_bef_temperature</th>\n",
       "      <th>hour_bef_precipitation</th>\n",
       "      <th>hour_bef_windspeed</th>\n",
       "      <th>hour_bef_humidity</th>\n",
       "      <th>hour_bef_visibility</th>\n",
       "      <th>hour_bef_ozone</th>\n",
       "      <th>hour_bef_pm10</th>\n",
       "      <th>hour_bef_pm2.5</th>\n",
       "      <th>count</th>\n",
       "    </tr>\n",
       "  </thead>\n",
       "  <tbody>\n",
       "    <tr>\n",
       "      <th>1454</th>\n",
       "      <td>2174</td>\n",
       "      <td>4</td>\n",
       "      <td>16.8</td>\n",
       "      <td>0.0</td>\n",
       "      <td>1.6</td>\n",
       "      <td>53.0</td>\n",
       "      <td>2000.0</td>\n",
       "      <td>0.031</td>\n",
       "      <td>37.0</td>\n",
       "      <td>27.0</td>\n",
       "      <td>21.0</td>\n",
       "    </tr>\n",
       "    <tr>\n",
       "      <th>1455</th>\n",
       "      <td>2175</td>\n",
       "      <td>3</td>\n",
       "      <td>10.8</td>\n",
       "      <td>0.0</td>\n",
       "      <td>3.8</td>\n",
       "      <td>45.0</td>\n",
       "      <td>2000.0</td>\n",
       "      <td>0.039</td>\n",
       "      <td>34.0</td>\n",
       "      <td>19.0</td>\n",
       "      <td>20.0</td>\n",
       "    </tr>\n",
       "    <tr>\n",
       "      <th>1456</th>\n",
       "      <td>2176</td>\n",
       "      <td>5</td>\n",
       "      <td>18.3</td>\n",
       "      <td>0.0</td>\n",
       "      <td>1.9</td>\n",
       "      <td>54.0</td>\n",
       "      <td>2000.0</td>\n",
       "      <td>0.009</td>\n",
       "      <td>30.0</td>\n",
       "      <td>21.0</td>\n",
       "      <td>22.0</td>\n",
       "    </tr>\n",
       "    <tr>\n",
       "      <th>1457</th>\n",
       "      <td>2178</td>\n",
       "      <td>21</td>\n",
       "      <td>20.7</td>\n",
       "      <td>0.0</td>\n",
       "      <td>3.7</td>\n",
       "      <td>37.0</td>\n",
       "      <td>1395.0</td>\n",
       "      <td>0.082</td>\n",
       "      <td>71.0</td>\n",
       "      <td>36.0</td>\n",
       "      <td>216.0</td>\n",
       "    </tr>\n",
       "    <tr>\n",
       "      <th>1458</th>\n",
       "      <td>2179</td>\n",
       "      <td>17</td>\n",
       "      <td>21.1</td>\n",
       "      <td>0.0</td>\n",
       "      <td>3.1</td>\n",
       "      <td>47.0</td>\n",
       "      <td>1973.0</td>\n",
       "      <td>0.046</td>\n",
       "      <td>38.0</td>\n",
       "      <td>17.0</td>\n",
       "      <td>170.0</td>\n",
       "    </tr>\n",
       "  </tbody>\n",
       "</table></div>"
      ],
      "text/plain": [
       "        id  hour  hour_bef_temperature  hour_bef_precipitation  \\\n",
       "1454  2174     4                  16.8                     0.0   \n",
       "1455  2175     3                  10.8                     0.0   \n",
       "1456  2176     5                  18.3                     0.0   \n",
       "1457  2178    21                  20.7                     0.0   \n",
       "1458  2179    17                  21.1                     0.0   \n",
       "\n",
       "      hour_bef_windspeed  hour_bef_humidity  hour_bef_visibility  \\\n",
       "1454                 1.6               53.0               2000.0   \n",
       "1455                 3.8               45.0               2000.0   \n",
       "1456                 1.9               54.0               2000.0   \n",
       "1457                 3.7               37.0               1395.0   \n",
       "1458                 3.1               47.0               1973.0   \n",
       "\n",
       "      hour_bef_ozone  hour_bef_pm10  hour_bef_pm2.5  count  \n",
       "1454           0.031           37.0            27.0   21.0  \n",
       "1455           0.039           34.0            19.0   20.0  \n",
       "1456           0.009           30.0            21.0   22.0  \n",
       "1457           0.082           71.0            36.0  216.0  \n",
       "1458           0.046           38.0            17.0  170.0  "
      ]
     },
     "execution_count": 19,
     "metadata": {},
     "output_type": "execute_result"
    }
   ],
   "source": [
    "train.tail()"
   ]
  },
  {
   "cell_type": "markdown",
   "metadata": {
    "id": "F2pR2WGpQl86"
   },
   "source": [
    "### pd.DataFrame.shape\n",
    " - 데이터 프레임의 행의 개수와 열의 개수가 저장되어 있는 속성(attribute)"
   ]
  },
  {
   "cell_type": "code",
   "execution_count": 20,
   "metadata": {
    "colab": {
     "base_uri": "https://localhost:8080/"
    },
    "id": "LL25rf5NOJHX",
    "outputId": "f0e000ea-070e-4489-f5c3-fb3736de1d41"
   },
   "outputs": [
    {
     "name": "stdout",
     "output_type": "stream",
     "text": [
      "train.shape : (1459, 11)\n",
      "test.shape  : (715, 10)\n",
      "submission.shape : (715, 10)\n"
     ]
    }
   ],
   "source": [
    "print(f'train.shape : {train.shape}')\n",
    "print(f'test.shape  : {test.shape}')\n",
    "print(f'submission.shape : {submission.shape}')"
   ]
  },
  {
   "cell_type": "markdown",
   "metadata": {
    "id": "t0tS65JiQl8_"
   },
   "source": [
    "### pd.DataFrame.info()\n",
    "- 데이터셋의 column별 정보를 알려주는 함수\n",
    "- 비어 있지 않은 값은 (non-null)은 몇개인지?\n",
    "- column의 type은 무엇인지?\n",
    " - type의 종류 : int(정수), float(실수), object(문자열), 등등 (date, ...)"
   ]
  },
  {
   "cell_type": "code",
   "execution_count": 21,
   "metadata": {
    "colab": {
     "base_uri": "https://localhost:8080/"
    },
    "id": "ILuhT9hAOK48",
    "outputId": "9b423d89-c91b-48ae-ec59-48ed4fae0c76"
   },
   "outputs": [
    {
     "name": "stdout",
     "output_type": "stream",
     "text": [
      "<class 'pandas.core.frame.DataFrame'>\n",
      "RangeIndex: 1459 entries, 0 to 1458\n",
      "Data columns (total 11 columns):\n",
      " #   Column                  Non-Null Count  Dtype  \n",
      "---  ------                  --------------  -----  \n",
      " 0   id                      1459 non-null   int64  \n",
      " 1   hour                    1459 non-null   int64  \n",
      " 2   hour_bef_temperature    1457 non-null   float64\n",
      " 3   hour_bef_precipitation  1457 non-null   float64\n",
      " 4   hour_bef_windspeed      1450 non-null   float64\n",
      " 5   hour_bef_humidity       1457 non-null   float64\n",
      " 6   hour_bef_visibility     1457 non-null   float64\n",
      " 7   hour_bef_ozone          1383 non-null   float64\n",
      " 8   hour_bef_pm10           1369 non-null   float64\n",
      " 9   hour_bef_pm2.5          1342 non-null   float64\n",
      " 10  count                   1459 non-null   float64\n",
      "dtypes: float64(9), int64(2)\n",
      "memory usage: 125.5 KB\n"
     ]
    }
   ],
   "source": [
    "train.info()"
   ]
  },
  {
   "cell_type": "code",
   "execution_count": 22,
   "metadata": {
    "colab": {
     "base_uri": "https://localhost:8080/"
    },
    "id": "iOuAsgVk9j5t",
    "outputId": "6a4c9ec8-67df-4bb4-d11b-31127f46d774"
   },
   "outputs": [
    {
     "name": "stdout",
     "output_type": "stream",
     "text": [
      "<class 'pandas.core.frame.DataFrame'>\n",
      "RangeIndex: 715 entries, 0 to 714\n",
      "Data columns (total 10 columns):\n",
      " #   Column                  Non-Null Count  Dtype  \n",
      "---  ------                  --------------  -----  \n",
      " 0   id                      715 non-null    int64  \n",
      " 1   hour                    715 non-null    int64  \n",
      " 2   hour_bef_temperature    714 non-null    float64\n",
      " 3   hour_bef_precipitation  714 non-null    float64\n",
      " 4   hour_bef_windspeed      714 non-null    float64\n",
      " 5   hour_bef_humidity       714 non-null    float64\n",
      " 6   hour_bef_visibility     714 non-null    float64\n",
      " 7   hour_bef_ozone          680 non-null    float64\n",
      " 8   hour_bef_pm10           678 non-null    float64\n",
      " 9   hour_bef_pm2.5          679 non-null    float64\n",
      "dtypes: float64(8), int64(2)\n",
      "memory usage: 56.0 KB\n"
     ]
    }
   ],
   "source": [
    "test.info()"
   ]
  },
  {
   "cell_type": "markdown",
   "metadata": {
    "id": "4FBTcD_OQl9E"
   },
   "source": [
    "### pd.DataFrame.describe()\n",
    "- 숫자형 (int, float) column들의 기술 통계량을 보여주는 함수\n",
    "\n",
    "- 기술통계량이란?\n",
    " - 해당 column을 대표할 수 있는 통계값들을 의미\n",
    " \n",
    " \n",
    "- 기술통계량 종류\n",
    " - count: 해당 column에서 비어 있지 않은 값의 개수\n",
    " - mean: 평균\n",
    " - std: 표준편차\n",
    " - min: 최솟값 (이상치 포함)\n",
    " - 25% (Q1): 전체 데이터를 순서대로 정렬했을 때, 아래에서 부터 1/4번째 지점에 있는 값\n",
    " - 50% (Q2): 중앙값 (전체 데이터를 순서대로 정렬했을 때, 아래에서 부터 2/4번째 지점에 있는 값)\n",
    " - 75% (Q3): 전체 데이터를 순서대로 정렬했을 때, 아래에서 부터 3/4번째 지점에 있는 값\n",
    " - max: 최댓값 (이상치 포함) \n",
    " \n",
    " \n",
    " \n",
    "- 이상치: 울타리 밖에 있는 부분을 이상치라고 정의함\n",
    "   - 아래쪽 울타리: $Q_1$ - $1.5 * IQR$\n",
    "   - 위쪽 울타리: $Q_3$ + $1.5 * IQR$\n",
    "   - $IQR$ = $Q_3 - Q_1$\n",
    " \n",
    " \n",
    "<img src=\"https://miro.medium.com/max/10125/1*NRlqiZGQdsIyAu0KzP7LaQ.png\" width=\"700\" height=\"500\">"
   ]
  },
  {
   "cell_type": "code",
   "execution_count": 23,
   "metadata": {
    "colab": {
     "base_uri": "https://localhost:8080/",
     "height": 364
    },
    "id": "ANFhZz9lOOUq",
    "outputId": "bf1785f7-7857-4481-e31d-b0dafb44ce6a"
   },
   "outputs": [
    {
     "data": {
      "text/html": [
       "<div><div id=4d1050dc-5107-48e4-9e70-87264a3adb74 style=\"display:none; background-color:#9D6CFF; color:white; width:200px; height:30px; padding-left:5px; border-radius:4px; flex-direction:row; justify-content:space-around; align-items:center;\" onmouseover=\"this.style.backgroundColor='#BA9BF8'\" onmouseout=\"this.style.backgroundColor='#9D6CFF'\" onclick=\"window.commands?.execute('create-mitosheet-from-dataframe-output');\">See Full Dataframe in Mito</div> <script> if (window.commands?.hasCommand('create-mitosheet-from-dataframe-output')) document.getElementById('4d1050dc-5107-48e4-9e70-87264a3adb74').style.display = 'flex' </script> <table border=\"1\" class=\"dataframe\">\n",
       "  <thead>\n",
       "    <tr style=\"text-align: right;\">\n",
       "      <th></th>\n",
       "      <th>id</th>\n",
       "      <th>hour</th>\n",
       "      <th>hour_bef_temperature</th>\n",
       "      <th>hour_bef_precipitation</th>\n",
       "      <th>hour_bef_windspeed</th>\n",
       "      <th>hour_bef_humidity</th>\n",
       "      <th>hour_bef_visibility</th>\n",
       "      <th>hour_bef_ozone</th>\n",
       "      <th>hour_bef_pm10</th>\n",
       "      <th>hour_bef_pm2.5</th>\n",
       "      <th>count</th>\n",
       "    </tr>\n",
       "  </thead>\n",
       "  <tbody>\n",
       "    <tr>\n",
       "      <th>count</th>\n",
       "      <td>1459.000000</td>\n",
       "      <td>1459.000000</td>\n",
       "      <td>1457.000000</td>\n",
       "      <td>1457.000000</td>\n",
       "      <td>1450.000000</td>\n",
       "      <td>1457.000000</td>\n",
       "      <td>1457.000000</td>\n",
       "      <td>1383.000000</td>\n",
       "      <td>1369.000000</td>\n",
       "      <td>1342.000000</td>\n",
       "      <td>1459.000000</td>\n",
       "    </tr>\n",
       "    <tr>\n",
       "      <th>mean</th>\n",
       "      <td>1105.914325</td>\n",
       "      <td>11.493489</td>\n",
       "      <td>16.717433</td>\n",
       "      <td>0.031572</td>\n",
       "      <td>2.479034</td>\n",
       "      <td>52.231297</td>\n",
       "      <td>1405.216884</td>\n",
       "      <td>0.039149</td>\n",
       "      <td>57.168736</td>\n",
       "      <td>30.327124</td>\n",
       "      <td>108.563400</td>\n",
       "    </tr>\n",
       "    <tr>\n",
       "      <th>std</th>\n",
       "      <td>631.338681</td>\n",
       "      <td>6.922790</td>\n",
       "      <td>5.239150</td>\n",
       "      <td>0.174917</td>\n",
       "      <td>1.378265</td>\n",
       "      <td>20.370387</td>\n",
       "      <td>583.131708</td>\n",
       "      <td>0.019509</td>\n",
       "      <td>31.771019</td>\n",
       "      <td>14.713252</td>\n",
       "      <td>82.631733</td>\n",
       "    </tr>\n",
       "    <tr>\n",
       "      <th>min</th>\n",
       "      <td>3.000000</td>\n",
       "      <td>0.000000</td>\n",
       "      <td>3.100000</td>\n",
       "      <td>0.000000</td>\n",
       "      <td>0.000000</td>\n",
       "      <td>7.000000</td>\n",
       "      <td>78.000000</td>\n",
       "      <td>0.003000</td>\n",
       "      <td>9.000000</td>\n",
       "      <td>8.000000</td>\n",
       "      <td>1.000000</td>\n",
       "    </tr>\n",
       "    <tr>\n",
       "      <th>25%</th>\n",
       "      <td>555.500000</td>\n",
       "      <td>5.500000</td>\n",
       "      <td>12.800000</td>\n",
       "      <td>0.000000</td>\n",
       "      <td>1.400000</td>\n",
       "      <td>36.000000</td>\n",
       "      <td>879.000000</td>\n",
       "      <td>0.025500</td>\n",
       "      <td>36.000000</td>\n",
       "      <td>20.000000</td>\n",
       "      <td>37.000000</td>\n",
       "    </tr>\n",
       "    <tr>\n",
       "      <th>50%</th>\n",
       "      <td>1115.000000</td>\n",
       "      <td>11.000000</td>\n",
       "      <td>16.600000</td>\n",
       "      <td>0.000000</td>\n",
       "      <td>2.300000</td>\n",
       "      <td>51.000000</td>\n",
       "      <td>1577.000000</td>\n",
       "      <td>0.039000</td>\n",
       "      <td>51.000000</td>\n",
       "      <td>26.000000</td>\n",
       "      <td>96.000000</td>\n",
       "    </tr>\n",
       "    <tr>\n",
       "      <th>75%</th>\n",
       "      <td>1651.000000</td>\n",
       "      <td>17.500000</td>\n",
       "      <td>20.100000</td>\n",
       "      <td>0.000000</td>\n",
       "      <td>3.400000</td>\n",
       "      <td>69.000000</td>\n",
       "      <td>1994.000000</td>\n",
       "      <td>0.052000</td>\n",
       "      <td>69.000000</td>\n",
       "      <td>37.000000</td>\n",
       "      <td>150.000000</td>\n",
       "    </tr>\n",
       "    <tr>\n",
       "      <th>max</th>\n",
       "      <td>2179.000000</td>\n",
       "      <td>23.000000</td>\n",
       "      <td>30.000000</td>\n",
       "      <td>1.000000</td>\n",
       "      <td>8.000000</td>\n",
       "      <td>99.000000</td>\n",
       "      <td>2000.000000</td>\n",
       "      <td>0.125000</td>\n",
       "      <td>269.000000</td>\n",
       "      <td>90.000000</td>\n",
       "      <td>431.000000</td>\n",
       "    </tr>\n",
       "  </tbody>\n",
       "</table></div>"
      ],
      "text/plain": [
       "                id         hour  hour_bef_temperature  hour_bef_precipitation  \\\n",
       "count  1459.000000  1459.000000           1457.000000             1457.000000   \n",
       "mean   1105.914325    11.493489             16.717433                0.031572   \n",
       "std     631.338681     6.922790              5.239150                0.174917   \n",
       "min       3.000000     0.000000              3.100000                0.000000   \n",
       "25%     555.500000     5.500000             12.800000                0.000000   \n",
       "50%    1115.000000    11.000000             16.600000                0.000000   \n",
       "75%    1651.000000    17.500000             20.100000                0.000000   \n",
       "max    2179.000000    23.000000             30.000000                1.000000   \n",
       "\n",
       "       hour_bef_windspeed  hour_bef_humidity  hour_bef_visibility  \\\n",
       "count         1450.000000        1457.000000          1457.000000   \n",
       "mean             2.479034          52.231297          1405.216884   \n",
       "std              1.378265          20.370387           583.131708   \n",
       "min              0.000000           7.000000            78.000000   \n",
       "25%              1.400000          36.000000           879.000000   \n",
       "50%              2.300000          51.000000          1577.000000   \n",
       "75%              3.400000          69.000000          1994.000000   \n",
       "max              8.000000          99.000000          2000.000000   \n",
       "\n",
       "       hour_bef_ozone  hour_bef_pm10  hour_bef_pm2.5        count  \n",
       "count     1383.000000    1369.000000     1342.000000  1459.000000  \n",
       "mean         0.039149      57.168736       30.327124   108.563400  \n",
       "std          0.019509      31.771019       14.713252    82.631733  \n",
       "min          0.003000       9.000000        8.000000     1.000000  \n",
       "25%          0.025500      36.000000       20.000000    37.000000  \n",
       "50%          0.039000      51.000000       26.000000    96.000000  \n",
       "75%          0.052000      69.000000       37.000000   150.000000  \n",
       "max          0.125000     269.000000       90.000000   431.000000  "
      ]
     },
     "execution_count": 23,
     "metadata": {},
     "output_type": "execute_result"
    }
   ],
   "source": [
    "train.describe()"
   ]
  },
  {
   "cell_type": "code",
   "execution_count": 24,
   "metadata": {
    "colab": {
     "base_uri": "https://localhost:8080/",
     "height": 364
    },
    "id": "BqS14u6d9wa1",
    "outputId": "a126d8ee-2f58-4849-b223-81e4ce673b36"
   },
   "outputs": [
    {
     "data": {
      "text/html": [
       "<div><div id=b4fe9b0f-ec27-42ff-88d6-42dbd561791a style=\"display:none; background-color:#9D6CFF; color:white; width:200px; height:30px; padding-left:5px; border-radius:4px; flex-direction:row; justify-content:space-around; align-items:center;\" onmouseover=\"this.style.backgroundColor='#BA9BF8'\" onmouseout=\"this.style.backgroundColor='#9D6CFF'\" onclick=\"window.commands?.execute('create-mitosheet-from-dataframe-output');\">See Full Dataframe in Mito</div> <script> if (window.commands?.hasCommand('create-mitosheet-from-dataframe-output')) document.getElementById('b4fe9b0f-ec27-42ff-88d6-42dbd561791a').style.display = 'flex' </script> <table border=\"1\" class=\"dataframe\">\n",
       "  <thead>\n",
       "    <tr style=\"text-align: right;\">\n",
       "      <th></th>\n",
       "      <th>id</th>\n",
       "      <th>hour</th>\n",
       "      <th>hour_bef_temperature</th>\n",
       "      <th>hour_bef_precipitation</th>\n",
       "      <th>hour_bef_windspeed</th>\n",
       "      <th>hour_bef_humidity</th>\n",
       "      <th>hour_bef_visibility</th>\n",
       "      <th>hour_bef_ozone</th>\n",
       "      <th>hour_bef_pm10</th>\n",
       "      <th>hour_bef_pm2.5</th>\n",
       "    </tr>\n",
       "  </thead>\n",
       "  <tbody>\n",
       "    <tr>\n",
       "      <th>count</th>\n",
       "      <td>715.000000</td>\n",
       "      <td>715.000000</td>\n",
       "      <td>714.000000</td>\n",
       "      <td>714.000000</td>\n",
       "      <td>714.000000</td>\n",
       "      <td>714.000000</td>\n",
       "      <td>714.000000</td>\n",
       "      <td>680.000000</td>\n",
       "      <td>678.000000</td>\n",
       "      <td>679.000000</td>\n",
       "    </tr>\n",
       "    <tr>\n",
       "      <th>mean</th>\n",
       "      <td>1056.854545</td>\n",
       "      <td>11.472727</td>\n",
       "      <td>23.263305</td>\n",
       "      <td>0.051821</td>\n",
       "      <td>2.388515</td>\n",
       "      <td>56.668067</td>\n",
       "      <td>1359.494398</td>\n",
       "      <td>0.041196</td>\n",
       "      <td>36.930678</td>\n",
       "      <td>24.939617</td>\n",
       "    </tr>\n",
       "    <tr>\n",
       "      <th>std</th>\n",
       "      <td>625.574471</td>\n",
       "      <td>6.928427</td>\n",
       "      <td>4.039645</td>\n",
       "      <td>0.221820</td>\n",
       "      <td>1.171270</td>\n",
       "      <td>19.661880</td>\n",
       "      <td>614.171870</td>\n",
       "      <td>0.020656</td>\n",
       "      <td>12.641503</td>\n",
       "      <td>10.075857</td>\n",
       "    </tr>\n",
       "    <tr>\n",
       "      <th>min</th>\n",
       "      <td>0.000000</td>\n",
       "      <td>0.000000</td>\n",
       "      <td>14.600000</td>\n",
       "      <td>0.000000</td>\n",
       "      <td>0.000000</td>\n",
       "      <td>16.000000</td>\n",
       "      <td>126.000000</td>\n",
       "      <td>0.003000</td>\n",
       "      <td>9.000000</td>\n",
       "      <td>7.000000</td>\n",
       "    </tr>\n",
       "    <tr>\n",
       "      <th>25%</th>\n",
       "      <td>507.000000</td>\n",
       "      <td>5.500000</td>\n",
       "      <td>20.300000</td>\n",
       "      <td>0.000000</td>\n",
       "      <td>1.500000</td>\n",
       "      <td>42.000000</td>\n",
       "      <td>807.250000</td>\n",
       "      <td>0.027000</td>\n",
       "      <td>28.000000</td>\n",
       "      <td>17.000000</td>\n",
       "    </tr>\n",
       "    <tr>\n",
       "      <th>50%</th>\n",
       "      <td>1046.000000</td>\n",
       "      <td>11.000000</td>\n",
       "      <td>22.900000</td>\n",
       "      <td>0.000000</td>\n",
       "      <td>2.300000</td>\n",
       "      <td>55.000000</td>\n",
       "      <td>1489.000000</td>\n",
       "      <td>0.039000</td>\n",
       "      <td>35.000000</td>\n",
       "      <td>24.000000</td>\n",
       "    </tr>\n",
       "    <tr>\n",
       "      <th>75%</th>\n",
       "      <td>1616.500000</td>\n",
       "      <td>17.000000</td>\n",
       "      <td>26.375000</td>\n",
       "      <td>0.000000</td>\n",
       "      <td>3.275000</td>\n",
       "      <td>73.750000</td>\n",
       "      <td>2000.000000</td>\n",
       "      <td>0.052250</td>\n",
       "      <td>45.000000</td>\n",
       "      <td>31.000000</td>\n",
       "    </tr>\n",
       "    <tr>\n",
       "      <th>max</th>\n",
       "      <td>2177.000000</td>\n",
       "      <td>23.000000</td>\n",
       "      <td>33.800000</td>\n",
       "      <td>1.000000</td>\n",
       "      <td>5.900000</td>\n",
       "      <td>100.000000</td>\n",
       "      <td>2000.000000</td>\n",
       "      <td>0.138000</td>\n",
       "      <td>94.000000</td>\n",
       "      <td>69.000000</td>\n",
       "    </tr>\n",
       "  </tbody>\n",
       "</table></div>"
      ],
      "text/plain": [
       "                id        hour  hour_bef_temperature  hour_bef_precipitation  \\\n",
       "count   715.000000  715.000000            714.000000              714.000000   \n",
       "mean   1056.854545   11.472727             23.263305                0.051821   \n",
       "std     625.574471    6.928427              4.039645                0.221820   \n",
       "min       0.000000    0.000000             14.600000                0.000000   \n",
       "25%     507.000000    5.500000             20.300000                0.000000   \n",
       "50%    1046.000000   11.000000             22.900000                0.000000   \n",
       "75%    1616.500000   17.000000             26.375000                0.000000   \n",
       "max    2177.000000   23.000000             33.800000                1.000000   \n",
       "\n",
       "       hour_bef_windspeed  hour_bef_humidity  hour_bef_visibility  \\\n",
       "count          714.000000         714.000000           714.000000   \n",
       "mean             2.388515          56.668067          1359.494398   \n",
       "std              1.171270          19.661880           614.171870   \n",
       "min              0.000000          16.000000           126.000000   \n",
       "25%              1.500000          42.000000           807.250000   \n",
       "50%              2.300000          55.000000          1489.000000   \n",
       "75%              3.275000          73.750000          2000.000000   \n",
       "max              5.900000         100.000000          2000.000000   \n",
       "\n",
       "       hour_bef_ozone  hour_bef_pm10  hour_bef_pm2.5  \n",
       "count      680.000000     678.000000      679.000000  \n",
       "mean         0.041196      36.930678       24.939617  \n",
       "std          0.020656      12.641503       10.075857  \n",
       "min          0.003000       9.000000        7.000000  \n",
       "25%          0.027000      28.000000       17.000000  \n",
       "50%          0.039000      35.000000       24.000000  \n",
       "75%          0.052250      45.000000       31.000000  \n",
       "max          0.138000      94.000000       69.000000  "
      ]
     },
     "execution_count": 24,
     "metadata": {},
     "output_type": "execute_result"
    }
   ],
   "source": [
    "test.describe()"
   ]
  },
  {
   "cell_type": "markdown",
   "metadata": {
    "id": "QIuWnB7RQl9J"
   },
   "source": [
    "### pd.DataFrame.groupby()\n",
    " - 집단에 대한 통계량 확인 \n",
    " \n",
    "<img src=\"https://s3.amazonaws.com/files.dezyre.com/images/Tutorials/Split+Apply+Combine+Strategy.png\" width=\"700\" height=\"500\">"
   ]
  },
  {
   "cell_type": "code",
   "execution_count": 25,
   "metadata": {
    "colab": {
     "base_uri": "https://localhost:8080/",
     "height": 297
    },
    "id": "e-746DT899Z6",
    "outputId": "3d9f318d-a6f2-4993-b9f8-30ef1a6b135c"
   },
   "outputs": [
    {
     "data": {
      "text/plain": [
       "<AxesSubplot:xlabel='hour'>"
      ]
     },
     "execution_count": 25,
     "metadata": {},
     "output_type": "execute_result"
    },
    {
     "data": {
      "image/png": "[encoded data removed]",
      "text/plain": [
       "<Figure size 432x288 with 1 Axes>"
      ]
     },
     "metadata": {
      "needs_background": "light"
     },
     "output_type": "display_data"
    }
   ],
   "source": [
    "train.groupby('hour').mean()['count'].plot()\n",
    "#--> 출근등교 시간 + 퇴근하교시간에 그래프가 튄다."
   ]
  },
  {
   "cell_type": "code",
   "execution_count": 26,
   "metadata": {
    "colab": {
     "base_uri": "https://localhost:8080/",
     "height": 265
    },
    "id": "Nb0uVF5I-0LW",
    "outputId": "e6fa6ce2-742b-42d1-fd88-841a08f99bfd"
   },
   "outputs": [
    {
     "data": {
      "image/png": "[encoded data removed]",
      "text/plain": [
       "<Figure size 432x288 with 1 Axes>"
      ]
     },
     "metadata": {
      "needs_background": "light"
     },
     "output_type": "display_data"
    }
   ],
   "source": [
    "import matplotlib.pyplot as plt\n",
    "\n",
    "plt.plot(train.groupby('hour').mean()['count'], 'go-')\n",
    "plt.grid()"
   ]
  },
  {
   "cell_type": "markdown",
   "metadata": {
    "id": "gXhSznMpQl9S"
   },
   "source": [
    "### plt.plot()의 스타일\n",
    "\n",
    "색깔\n",
    "\n",
    "|문자열|약자|\n",
    "|----|-----|\n",
    "|blue|b|\n",
    "|green|g|\n",
    "|red|r|\n",
    "|cyan|c|\n",
    "|magenta|m|\n",
    "|yellow|y|\n",
    "|black|k|\n",
    "|white|w|\n",
    "\n",
    "마커\n",
    "\n",
    "|마커|의미|\n",
    "|----|----|\n",
    "|.|점|\n",
    "|o|원|\n",
    "|v|역삼각형|\n",
    "|^|삼각형|\n",
    "|s|사각형|\n",
    "|*|별|\n",
    "|x|엑스|\n",
    "|d|다이아몬드|\n",
    "\n",
    "선\n",
    "\n",
    "|문자열|의미|\n",
    "|-----|-----|\n",
    "| - | 실선|\n",
    "|-- | 끊어진 실선|\n",
    "| -.| 점+실선|\n",
    "|:|점선|"
   ]
  },
  {
   "cell_type": "code",
   "execution_count": 27,
   "metadata": {
    "colab": {
     "base_uri": "https://localhost:8080/",
     "height": 302
    },
    "id": "Z-YeCAewORkg",
    "outputId": "97348ae0-bbb5-4d5b-a4df-93e43ee6f81e"
   },
   "outputs": [
    {
     "data": {
      "image/png": "[encoded data removed]",
      "text/plain": [
       "<Figure size 432x288 with 1 Axes>"
      ]
     },
     "metadata": {
      "needs_background": "light"
     },
     "output_type": "display_data"
    }
   ],
   "source": [
    "plt.plot(train.groupby('hour').mean()['count'], 'go-')\n",
    "plt.grid()\n",
    "\n",
    "plt.title('count by hours', fontsize=15)\n",
    "plt.xlabel('hour', fontsize=15)\n",
    "plt.ylabel('count', fontsize=15)\n",
    "\n",
    "plt.savefig('image/따릉이_graph.png')"
   ]
  },
  {
   "cell_type": "markdown",
   "metadata": {
    "id": "34i_eT5cQl9S"
   },
   "source": [
    "### plt.title(label, fontsize)\n",
    "- 그래프 제목 생성\n",
    "\n",
    "### plt.xlabel(label, fontsize)\n",
    "- x축 이름 설정\n",
    "\n",
    "### plt.ylabel(label, fontsize)\n",
    "- y축 이름 설정"
   ]
  },
  {
   "cell_type": "markdown",
   "metadata": {
    "id": "_oEiiwqkQl9W"
   },
   "source": [
    "### plt.axvline(x, color)\n",
    "- 축을 가로지르는 세로 선 생성\n",
    "\n",
    "### plt.text(x, y, s, fontsize)\n",
    "- 원하는 위치에 텍스트 생성"
   ]
  },
  {
   "cell_type": "code",
   "execution_count": 28,
   "metadata": {
    "colab": {
     "base_uri": "https://localhost:8080/",
     "height": 302
    },
    "id": "K22pia5zOUIq",
    "outputId": "67006de8-8763-49d8-9e40-ac5925151c56"
   },
   "outputs": [
    {
     "data": {
      "image/png": "[encoded data removed]",
      "text/plain": [
       "<Figure size 432x288 with 1 Axes>"
      ]
     },
     "metadata": {
      "needs_background": "light"
     },
     "output_type": "display_data"
    }
   ],
   "source": [
    "plt.plot(train.groupby('hour').mean()['count'], 'go-')\n",
    "plt.grid()\n",
    "\n",
    "plt.title('count by hours', fontsize=15)\n",
    "plt.xlabel('hour', fontsize=15)\n",
    "plt.ylabel('count', fontsize=15)\n",
    "\n",
    "plt.axvline(8, color='r')\n",
    "plt.axvline(18, color='r')\n",
    "\n",
    "plt.text(8, 120, 'go work', fontsize=10)\n",
    "plt.text(18, 120, 'leave work', fontsize=10)\n",
    "\n",
    "plt.savefig('따릉이_graph.png')"
   ]
  },
  {
   "cell_type": "markdown",
   "metadata": {
    "id": "fEiyzXFCStH4"
   },
   "source": [
    "### 상관계수"
   ]
  },
  {
   "cell_type": "markdown",
   "metadata": {
    "id": "7PT9lGwIQl9b"
   },
   "source": [
    "- 상관계수: 두 개의 변수가 같이 일어나는 강도를 나타내는 수치 \n",
    "- -1에서 1사이의 값을 지닙니다. \n",
    "- -1이나 1인 수치는 현실 세계에서 관측되기 힘든 수치입니다. \n",
    "- 분야별로 기준을 정하는 것에 따라 달라지겠지만, 보통 0.4이상이면 두 개의 변수간에 상관성이 있다고 얘기합니다. "
   ]
  },
  {
   "cell_type": "markdown",
   "metadata": {
    "id": "0hXYYbXqQl9c"
   },
   "source": [
    "![상관계수](https://t1.daumcdn.net/cfile/tistory/99DEE1425C6A9F2008)"
   ]
  },
  {
   "cell_type": "markdown",
   "metadata": {
    "id": "Erc1aP0QQl9c"
   },
   "source": [
    "- 상관관계는 인과관계와 다릅니다. 아래의 예시를 확인해 봅시다."
   ]
  },
  {
   "cell_type": "markdown",
   "metadata": {
    "id": "Y7XBkWX3Ql9d"
   },
   "source": [
    "![상관성 예시](https://miro.medium.com/max/684/1*JLYI5eCVEN7ZUWXBIrrapw.png)"
   ]
  },
  {
   "cell_type": "markdown",
   "metadata": {
    "id": "MR7OA-H2Ql9d"
   },
   "source": [
    "- 선글라스 판매량이 증가함에 따라, 아이스크림 판매액도 같이 증가하는 것을 볼 수 있습니다. \n",
    "- 하지만 선글라스 판매량이 증가했기 **때문에** 아이스크림 판매액이 증가했다라고 해석하는 것은 타당하지 않습니다. \n",
    "- 선글라스 판매량이 증가했다는 것은 여름 때문이라고 볼 수 있으므로, 날씨가 더워짐에 따라 선글라스 판매량과 아이스크림 판매액이 같이 증가했다고 보는 것이 타당할 것입니다. "
   ]
  },
  {
   "cell_type": "markdown",
   "metadata": {
    "id": "2DHSsvN3Ql9e"
   },
   "source": [
    "### pd.DataFrame.corr()"
   ]
  },
  {
   "cell_type": "markdown",
   "metadata": {
    "id": "zm2_d8DtQl9e"
   },
   "source": [
    "- correlation coefficient 의 줄임말 입니다 "
   ]
  },
  {
   "cell_type": "code",
   "execution_count": 29,
   "metadata": {
    "id": "IC1gZrgbOW5y"
   },
   "outputs": [],
   "source": [
    "import seaborn as sns"
   ]
  },
  {
   "cell_type": "code",
   "execution_count": 30,
   "metadata": {
    "colab": {
     "base_uri": "https://localhost:8080/",
     "height": 715
    },
    "id": "fxIxVwXpQl9l",
    "outputId": "5aa4d090-759c-49c8-fe1e-7c2d9af2ff1f"
   },
   "outputs": [
    {
     "data": {
      "text/plain": [
       "<AxesSubplot:>"
      ]
     },
     "execution_count": 30,
     "metadata": {},
     "output_type": "execute_result"
    },
    {
     "data": {
      "image/png": "[encoded data removed]",
      "text/plain": [
       "<Figure size 720x720 with 2 Axes>"
      ]
     },
     "metadata": {
      "needs_background": "light"
     },
     "output_type": "display_data"
    }
   ],
   "source": [
    "plt.figure(figsize=(10,10))\n",
    "sns.heatmap(train.corr(), annot=True)"
   ]
  },
  {
   "cell_type": "markdown",
   "metadata": {
    "id": "Jb3iRZo9DwZQ"
   },
   "source": [
    "**--> 상관계수가 높은 데이터 3개 지목**\n",
    "- hour(시간)\n",
    "- hour_bef_temparature(1시간전 온도)\n",
    "- hour_bef_windspeed(1시간전 풍속 굵은 텍스트"
   ]
  },
  {
   "cell_type": "markdown",
   "metadata": {
    "id": "6rjnO95INCA-"
   },
   "source": [
    "** 참고영상**\n",
    "https://www.youtube.com/watch?v=7IbTi1QicHU "
   ]
  },
  {
   "cell_type": "markdown",
   "metadata": {},
   "source": [
    "-------------------------------------------"
   ]
  },
  {
   "cell_type": "markdown",
   "metadata": {
    "id": "3zjQY_KY2lnR"
   },
   "source": [
    "## 3. 데이터 전처리\n",
    "## Data Cleansing & Pre-Processing  "
   ]
  },
  {
   "cell_type": "markdown",
   "metadata": {
    "id": "0y4EQIRwQl-C"
   },
   "source": [
    "### pd.Series.isna()\n",
    "- 결측치 여부를 확인해줍니다.\n",
    "- 결측치면 True, 아니면 False"
   ]
  },
  {
   "cell_type": "code",
   "execution_count": 31,
   "metadata": {
    "colab": {
     "base_uri": "https://localhost:8080/"
    },
    "id": "NIMoxBkbOco9",
    "outputId": "1b0107e9-882b-448a-cfad-cc80e3570d2d"
   },
   "outputs": [
    {
     "data": {
      "text/plain": [
       "id                          0\n",
       "hour                        0\n",
       "hour_bef_temperature        2\n",
       "hour_bef_precipitation      2\n",
       "hour_bef_windspeed          9\n",
       "hour_bef_humidity           2\n",
       "hour_bef_visibility         2\n",
       "hour_bef_ozone             76\n",
       "hour_bef_pm10              90\n",
       "hour_bef_pm2.5            117\n",
       "count                       0\n",
       "dtype: int64"
      ]
     },
     "execution_count": 31,
     "metadata": {},
     "output_type": "execute_result"
    }
   ],
   "source": [
    "train.head()\n",
    "\n",
    "# 결측치 확인: hour, hour_bef_temparature,hour_bef_windspeed\n",
    "train.isna().sum()\n",
    "\n",
    "# test.isna().sum()"
   ]
  },
  {
   "cell_type": "code",
   "execution_count": 32,
   "metadata": {
    "colab": {
     "base_uri": "https://localhost:8080/",
     "height": 145
    },
    "id": "a0ALTVVJE1tl",
    "outputId": "ca1a8e84-2ab9-4dad-bd63-455a5486a5d1"
   },
   "outputs": [
    {
     "data": {
      "text/html": [
       "<div><div id=07c1f515-7667-45c9-b8cd-14bbf52058cf style=\"display:none; background-color:#9D6CFF; color:white; width:200px; height:30px; padding-left:5px; border-radius:4px; flex-direction:row; justify-content:space-around; align-items:center;\" onmouseover=\"this.style.backgroundColor='#BA9BF8'\" onmouseout=\"this.style.backgroundColor='#9D6CFF'\" onclick=\"window.commands?.execute('create-mitosheet-from-dataframe-output');\">See Full Dataframe in Mito</div> <script> if (window.commands?.hasCommand('create-mitosheet-from-dataframe-output')) document.getElementById('07c1f515-7667-45c9-b8cd-14bbf52058cf').style.display = 'flex' </script> <table border=\"1\" class=\"dataframe\">\n",
       "  <thead>\n",
       "    <tr style=\"text-align: right;\">\n",
       "      <th></th>\n",
       "      <th>id</th>\n",
       "      <th>hour</th>\n",
       "      <th>hour_bef_temperature</th>\n",
       "      <th>hour_bef_precipitation</th>\n",
       "      <th>hour_bef_windspeed</th>\n",
       "      <th>hour_bef_humidity</th>\n",
       "      <th>hour_bef_visibility</th>\n",
       "      <th>hour_bef_ozone</th>\n",
       "      <th>hour_bef_pm10</th>\n",
       "      <th>hour_bef_pm2.5</th>\n",
       "    </tr>\n",
       "  </thead>\n",
       "  <tbody>\n",
       "    <tr>\n",
       "      <th>653</th>\n",
       "      <td>1943</td>\n",
       "      <td>19</td>\n",
       "      <td>NaN</td>\n",
       "      <td>NaN</td>\n",
       "      <td>NaN</td>\n",
       "      <td>NaN</td>\n",
       "      <td>NaN</td>\n",
       "      <td>NaN</td>\n",
       "      <td>NaN</td>\n",
       "      <td>NaN</td>\n",
       "    </tr>\n",
       "  </tbody>\n",
       "</table></div>"
      ],
      "text/plain": [
       "       id  hour  hour_bef_temperature  hour_bef_precipitation  \\\n",
       "653  1943    19                   NaN                     NaN   \n",
       "\n",
       "     hour_bef_windspeed  hour_bef_humidity  hour_bef_visibility  \\\n",
       "653                 NaN                NaN                  NaN   \n",
       "\n",
       "     hour_bef_ozone  hour_bef_pm10  hour_bef_pm2.5  \n",
       "653             NaN            NaN             NaN  "
      ]
     },
     "execution_count": 32,
     "metadata": {},
     "output_type": "execute_result"
    }
   ],
   "source": [
    "#train-1시간전 온도의 결측치 2개 확인\n",
    "train[train['hour_bef_temperature'].isna()]\n",
    "\n",
    "\n",
    "# train-1시간전 풍속 결측치 9개 확인\n",
    "train[train['hour_bef_windspeed'].isna()]\n",
    "# train[train['hour_bef_windspeed'].isna()].index\n",
    "\n",
    "# test-1시간전 온도의 결측치확인\n",
    "test[test['hour_bef_temperature'].isna()]\n",
    "\n",
    "# test-1시간전 풍속의 결측치확인\n",
    "test[test['hour_bef_windspeed'].isna()]"
   ]
  },
  {
   "cell_type": "code",
   "execution_count": 33,
   "metadata": {
    "colab": {
     "base_uri": "https://localhost:8080/"
    },
    "id": "xYpi5JwrGy2Q",
    "outputId": "6b4cb651-8abf-4537-f56d-1449f4da921a"
   },
   "outputs": [
    {
     "data": {
      "text/plain": [
       "hour\n",
       "0     1.986667\n",
       "1     1.840000\n",
       "2     1.823333\n",
       "3     1.636667\n",
       "4     1.543333\n",
       "5     1.589655\n",
       "6     1.396667\n",
       "7     1.453333\n",
       "8     1.446667\n",
       "9     1.646667\n",
       "10    1.920000\n",
       "11    2.186667\n",
       "12    2.636667\n",
       "13    2.836667\n",
       "14    2.903333\n",
       "15    3.140000\n",
       "16    3.406897\n",
       "17    3.558621\n",
       "18    3.503448\n",
       "19    3.541379\n",
       "20    3.406667\n",
       "21    3.041379\n",
       "22    2.686667\n",
       "23    2.336667\n",
       "Name: hour_bef_windspeed, dtype: float64"
      ]
     },
     "execution_count": 33,
     "metadata": {},
     "output_type": "execute_result"
    }
   ],
   "source": [
    "# train-시간별 온도 평균 확인\n",
    "train.groupby('hour').mean()['hour_bef_temperature']\n",
    "\n",
    "# train-시간별 풍속 평균 확인\n",
    "train.groupby('hour').mean()['hour_bef_windspeed']\n",
    "\n",
    "\n",
    "# test-시간별 온도 평균 확인\n",
    "# test.groupby('hour').mean()['hour_bef_temperature']\n",
    "\n",
    "# test-시간별 풍속 평균 확인\n",
    "test.groupby('hour').mean()['hour_bef_windspeed']"
   ]
  },
  {
   "cell_type": "code",
   "execution_count": 34,
   "metadata": {
    "colab": {
     "base_uri": "https://localhost:8080/",
     "height": 297
    },
    "id": "ZBoJczTXFFaj",
    "outputId": "ebf66c7e-c566-470d-90b9-33bdfa27c281"
   },
   "outputs": [
    {
     "data": {
      "image/png": "[encoded data removed]",
      "text/plain": [
       "<Figure size 432x288 with 1 Axes>"
      ]
     },
     "metadata": {
      "needs_background": "light"
     },
     "output_type": "display_data"
    }
   ],
   "source": [
    "# 시간별 온도 평균 확인-그래프로 확인\n",
    "train.groupby('hour').mean()['hour_bef_temperature'].plot()\n",
    "plt.axhline(train.groupby('hour').mean()['hour_bef_temperature'].mean(),c='r')\n",
    "\n",
    "\n",
    "# 시간별 풍속 평균 확인-그래프로 확인\n",
    "train.groupby('hour').mean()['hour_bef_windspeed'].plot()\n",
    "plt.axhline(train.groupby('hour').mean()['hour_bef_windspeed'].mean(),c='r')\n",
    "\n",
    "plt.legend()\n",
    "plt.show()"
   ]
  },
  {
   "cell_type": "markdown",
   "metadata": {
    "id": "KuO6WyDUQl-R"
   },
   "source": [
    "### pd.DataFrame.fillna()\n",
    "- 결측치를 채우고자 하는 column과 결측치를 대신하여 넣고자 하는 값을 명시해주어야 합니다."
   ]
  },
  {
   "cell_type": "code",
   "execution_count": 35,
   "metadata": {
    "id": "eQPQj9oOOfoy"
   },
   "outputs": [],
   "source": [
    "# train-1시간전 온도 결측치 평균온도로 지정\n",
    "train['hour_bef_temperature'].fillna({934:14.788136, 1035:20.926667},inplace=True)\n",
    "\n",
    "\n",
    "#  train-1시간전 풍속 결측치 평균풍속으로 지정\n",
    "train['hour_bef_windspeed'].fillna({18:3.281356, 244:1.836667, 260:1.620000, 376:1.965517, 780:3.278333, 934:1.965517, 1035:3.838333, 1138:2.766667, 1229:1.633333},inplace=True)\n",
    "\n",
    "\n",
    "# test-1시간전 온도 결측치 평균온도로 지정\n",
    "test['hour_bef_temperature'].fillna({653:26.110345 },inplace=True)\n",
    "\n",
    "# test-1시간전 풍속 결측치 평균온도로 지정\n",
    "test['hour_bef_windspeed'].fillna({653:3.541379 },inplace=True)"
   ]
  },
  {
   "cell_type": "code",
   "execution_count": 36,
   "metadata": {
    "colab": {
     "base_uri": "https://localhost:8080/",
     "height": 113
    },
    "id": "1zV_0hJsG6Cz",
    "outputId": "3380ebe4-6b33-4822-aa45-a90cc4fc0bbe"
   },
   "outputs": [
    {
     "data": {
      "text/html": [
       "<div><div id=5a79be5e-d74a-424b-86fb-6aa4b45d92d0 style=\"display:none; background-color:#9D6CFF; color:white; width:200px; height:30px; padding-left:5px; border-radius:4px; flex-direction:row; justify-content:space-around; align-items:center;\" onmouseover=\"this.style.backgroundColor='#BA9BF8'\" onmouseout=\"this.style.backgroundColor='#9D6CFF'\" onclick=\"window.commands?.execute('create-mitosheet-from-dataframe-output');\">See Full Dataframe in Mito</div> <script> if (window.commands?.hasCommand('create-mitosheet-from-dataframe-output')) document.getElementById('5a79be5e-d74a-424b-86fb-6aa4b45d92d0').style.display = 'flex' </script> <table border=\"1\" class=\"dataframe\">\n",
       "  <thead>\n",
       "    <tr style=\"text-align: right;\">\n",
       "      <th></th>\n",
       "      <th>id</th>\n",
       "      <th>hour</th>\n",
       "      <th>hour_bef_temperature</th>\n",
       "      <th>hour_bef_precipitation</th>\n",
       "      <th>hour_bef_windspeed</th>\n",
       "      <th>hour_bef_humidity</th>\n",
       "      <th>hour_bef_visibility</th>\n",
       "      <th>hour_bef_ozone</th>\n",
       "      <th>hour_bef_pm10</th>\n",
       "      <th>hour_bef_pm2.5</th>\n",
       "    </tr>\n",
       "  </thead>\n",
       "  <tbody>\n",
       "  </tbody>\n",
       "</table></div>"
      ],
      "text/plain": [
       "Empty DataFrame\n",
       "Columns: [id, hour, hour_bef_temperature, hour_bef_precipitation, hour_bef_windspeed, hour_bef_humidity, hour_bef_visibility, hour_bef_ozone, hour_bef_pm10, hour_bef_pm2.5]\n",
       "Index: []"
      ]
     },
     "execution_count": 36,
     "metadata": {},
     "output_type": "execute_result"
    }
   ],
   "source": [
    "# train-1시간전 온도 결측치\n",
    "train.loc[[934,1035], :]\n",
    "# train[train['hour_bef_temperature'].isna()]\n",
    "\n",
    "\n",
    "# train-1시간전 풍속 결측치\n",
    "train[train['hour_bef_windspeed'].isna()]\n",
    "\n",
    "\n",
    "# test-1시간전 온도 결측치\n",
    "test[test['hour_bef_temperature'].isna()]\n",
    "\n",
    "# test-1시간전 풍속 결측치\n",
    "test[test['hour_bef_windspeed'].isna()]"
   ]
  },
  {
   "cell_type": "markdown",
   "metadata": {
    "id": "PPeXy-ZOMrMF"
   },
   "source": [
    "** 참고영상**\n",
    "https://www.youtube.com/watch?v=FrzmkRKDyjA "
   ]
  },
  {
   "cell_type": "markdown",
   "metadata": {},
   "source": [
    "------------------------------------"
   ]
  },
  {
   "cell_type": "markdown",
   "metadata": {
    "id": "Qyq90ZzB2lnk"
   },
   "source": [
    "## 4. 변수 선택 및 모델 구축\n",
    "## Feature Engineering & Initial Modeling  "
   ]
  },
  {
   "cell_type": "code",
   "execution_count": 37,
   "metadata": {
    "id": "dClgv8pcNklK"
   },
   "outputs": [],
   "source": [
    "# train.columns\n",
    "\n",
    "features = ['hour', 'hour_bef_temperature', 'hour_bef_windspeed'] \n",
    "\n",
    "X_train = train[features]\n",
    "y_train = train['count']\n",
    "X_test = test[features]"
   ]
  },
  {
   "cell_type": "code",
   "execution_count": 38,
   "metadata": {
    "colab": {
     "base_uri": "https://localhost:8080/"
    },
    "id": "JK-_GadjONXU",
    "outputId": "29038a76-79b0-45b0-9bf3-f452301d51de"
   },
   "outputs": [
    {
     "name": "stdout",
     "output_type": "stream",
     "text": [
      "(1459, 3)\n",
      "(1459,)\n",
      "(715, 3)\n"
     ]
    }
   ],
   "source": [
    "print(X_train.shape)\n",
    "print(y_train.shape)\n",
    "print(X_test.shape)"
   ]
  },
  {
   "cell_type": "markdown",
   "metadata": {
    "id": "Ws9uwm2FOyai"
   },
   "source": [
    "### sklearn.ensemble.RandomForestRegressor()\n",
    "- **랜덤 포레스트 모형**: 분류, 회귀 분석 등에 사용되는 앙상블 학습 방법의 일종으로, 훈련 과정에서 구성한 다수의 결정 트리로부터 분류 또는 평균 예측치(회귀 분석)를 출력함으로써 동작하는 방식"
   ]
  },
  {
   "cell_type": "code",
   "execution_count": 39,
   "metadata": {
    "id": "xdIs3HD7Ojlh"
   },
   "outputs": [],
   "source": [
    "# hyper parameter 설정하기\n",
    "model_100 = RandomForestRegressor(n_estimators=100, random_state=0)\n",
    "model_100_5 = RandomForestRegressor(n_estimators=100, max_depth=5, random_state=0)\n",
    "model_200 = RandomForestRegressor(n_estimators=200)\n",
    "\n",
    "# ctrl+shift : 파라미터 창 보기"
   ]
  },
  {
   "cell_type": "markdown",
   "metadata": {
    "id": "V21KUtyl2lnu"
   },
   "source": [
    "## 5. 모델 학습 및 검증\n",
    "## Model Tuning & Evaluation"
   ]
  },
  {
   "cell_type": "markdown",
   "metadata": {
    "id": "dNb8A0rl9fgq"
   },
   "source": [
    "### model.fit()\n",
    "- 모델 학습"
   ]
  },
  {
   "cell_type": "code",
   "execution_count": 40,
   "metadata": {
    "colab": {
     "base_uri": "https://localhost:8080/"
    },
    "id": "5fjt6GqyRCD2",
    "outputId": "374c30c9-563c-47b2-e6ec-d86473bba56a"
   },
   "outputs": [
    {
     "data": {
      "text/html": [
       "<style>#sk-container-id-1 {color: black;background-color: white;}#sk-container-id-1 pre{padding: 0;}#sk-container-id-1 div.sk-toggleable {background-color: white;}#sk-container-id-1 label.sk-toggleable__label {cursor: pointer;display: block;width: 100%;margin-bottom: 0;padding: 0.3em;box-sizing: border-box;text-align: center;}#sk-container-id-1 label.sk-toggleable__label-arrow:before {content: \"▸\";float: left;margin-right: 0.25em;color: #696969;}#sk-container-id-1 label.sk-toggleable__label-arrow:hover:before {color: black;}#sk-container-id-1 div.sk-estimator:hover label.sk-toggleable__label-arrow:before {color: black;}#sk-container-id-1 div.sk-toggleable__content {max-height: 0;max-width: 0;overflow: hidden;text-align: left;background-color: #f0f8ff;}#sk-container-id-1 div.sk-toggleable__content pre {margin: 0.2em;color: black;border-radius: 0.25em;background-color: #f0f8ff;}#sk-container-id-1 input.sk-toggleable__control:checked~div.sk-toggleable__content {max-height: 200px;max-width: 100%;overflow: auto;}#sk-container-id-1 input.sk-toggleable__control:checked~label.sk-toggleable__label-arrow:before {content: \"▾\";}#sk-container-id-1 div.sk-estimator input.sk-toggleable__control:checked~label.sk-toggleable__label {background-color: #d4ebff;}#sk-container-id-1 div.sk-label input.sk-toggleable__control:checked~label.sk-toggleable__label {background-color: #d4ebff;}#sk-container-id-1 input.sk-hidden--visually {border: 0;clip: rect(1px 1px 1px 1px);clip: rect(1px, 1px, 1px, 1px);height: 1px;margin: -1px;overflow: hidden;padding: 0;position: absolute;width: 1px;}#sk-container-id-1 div.sk-estimator {font-family: monospace;background-color: #f0f8ff;border: 1px dotted black;border-radius: 0.25em;box-sizing: border-box;margin-bottom: 0.5em;}#sk-container-id-1 div.sk-estimator:hover {background-color: #d4ebff;}#sk-container-id-1 div.sk-parallel-item::after {content: \"\";width: 100%;border-bottom: 1px solid gray;flex-grow: 1;}#sk-container-id-1 div.sk-label:hover label.sk-toggleable__label {background-color: #d4ebff;}#sk-container-id-1 div.sk-serial::before {content: \"\";position: absolute;border-left: 1px solid gray;box-sizing: border-box;top: 0;bottom: 0;left: 50%;z-index: 0;}#sk-container-id-1 div.sk-serial {display: flex;flex-direction: column;align-items: center;background-color: white;padding-right: 0.2em;padding-left: 0.2em;position: relative;}#sk-container-id-1 div.sk-item {position: relative;z-index: 1;}#sk-container-id-1 div.sk-parallel {display: flex;align-items: stretch;justify-content: center;background-color: white;position: relative;}#sk-container-id-1 div.sk-item::before, #sk-container-id-1 div.sk-parallel-item::before {content: \"\";position: absolute;border-left: 1px solid gray;box-sizing: border-box;top: 0;bottom: 0;left: 50%;z-index: -1;}#sk-container-id-1 div.sk-parallel-item {display: flex;flex-direction: column;z-index: 1;position: relative;background-color: white;}#sk-container-id-1 div.sk-parallel-item:first-child::after {align-self: flex-end;width: 50%;}#sk-container-id-1 div.sk-parallel-item:last-child::after {align-self: flex-start;width: 50%;}#sk-container-id-1 div.sk-parallel-item:only-child::after {width: 0;}#sk-container-id-1 div.sk-dashed-wrapped {border: 1px dashed gray;margin: 0 0.4em 0.5em 0.4em;box-sizing: border-box;padding-bottom: 0.4em;background-color: white;}#sk-container-id-1 div.sk-label label {font-family: monospace;font-weight: bold;display: inline-block;line-height: 1.2em;}#sk-container-id-1 div.sk-label-container {text-align: center;}#sk-container-id-1 div.sk-container {/* jupyter's `normalize.less` sets `[hidden] { display: none; }` but bootstrap.min.css set `[hidden] { display: none !important; }` so we also need the `!important` here to be able to override the default hidden behavior on the sphinx rendered scikit-learn.org. See: https://github.com/scikit-learn/scikit-learn/issues/21755 */display: inline-block !important;position: relative;}#sk-container-id-1 div.sk-text-repr-fallback {display: none;}</style><div id=\"sk-container-id-1\" class=\"sk-top-container\"><div class=\"sk-text-repr-fallback\"><pre>RandomForestRegressor(n_estimators=200)</pre><b>In a Jupyter environment, please rerun this cell to show the HTML representation or trust the notebook. <br />On GitHub, the HTML representation is unable to render, please try loading this page with nbviewer.org.</b></div><div class=\"sk-container\" hidden><div class=\"sk-item\"><div class=\"sk-estimator sk-toggleable\"><input class=\"sk-toggleable__control sk-hidden--visually\" id=\"sk-estimator-id-1\" type=\"checkbox\" checked><label for=\"sk-estimator-id-1\" class=\"sk-toggleable__label sk-toggleable__label-arrow\">RandomForestRegressor</label><div class=\"sk-toggleable__content\"><pre>RandomForestRegressor(n_estimators=200)</pre></div></div></div></div></div>"
      ],
      "text/plain": [
       "RandomForestRegressor(n_estimators=200)"
      ]
     },
     "execution_count": 40,
     "metadata": {},
     "output_type": "execute_result"
    }
   ],
   "source": [
    "model_100.fit(X_train, y_train)\n",
    "model_100_5.fit(X_train, y_train)\n",
    "model_200.fit(X_train, y_train)"
   ]
  },
  {
   "cell_type": "markdown",
   "metadata": {
    "id": "yoFipFlWOue3"
   },
   "source": [
    "### model.predict()\n",
    "- 모델 예측"
   ]
  },
  {
   "cell_type": "code",
   "execution_count": 41,
   "metadata": {
    "id": "nzalgy0NRTf6"
   },
   "outputs": [],
   "source": [
    "ypred1 = model_100.predict(X_test)\n",
    "ypred2 = model_100_5.predict(X_test)\n",
    "ypred3 = model_200.predict(X_test)"
   ]
  },
  {
   "cell_type": "code",
   "execution_count": 42,
   "metadata": {
    "collapsed": true,
    "id": "YxqMbvOCOsn1"
   },
   "outputs": [
    {
     "data": {
      "text/plain": [
       "array([ 86.615     , 245.59      , 106.4       ,  32.74      ,\n",
       "       133.01666667, 126.05      , 237.87      , 371.12      ,\n",
       "        45.45      , 184.57      , 296.28      , 245.09      ,\n",
       "       136.33      ,  45.9       , 198.53      , 124.28      ,\n",
       "        29.25      , 212.23      , 393.32      , 139.01      ,\n",
       "       174.28      , 100.85      ,  17.83      , 123.91      ,\n",
       "       156.29      , 102.545     ,  25.14      ,  86.42      ,\n",
       "       124.23      , 192.06      ,  99.26      ,  32.69      ,\n",
       "        66.65      , 141.82      , 252.51      ,  39.15      ,\n",
       "       169.79      , 153.94      , 262.99      ,  96.91      ,\n",
       "        57.72      , 110.84      , 159.22      ,  51.99      ,\n",
       "       324.52      , 206.932     , 101.58      ,  59.85      ,\n",
       "        15.39      ,  93.26      , 200.15      ,  96.99      ,\n",
       "       197.27      , 148.4       , 161.56      , 135.96      ,\n",
       "        44.44      , 155.93      ,  18.58      ,  16.97      ,\n",
       "       103.4       ,  88.97      , 276.82      , 307.38      ,\n",
       "       138.31      , 320.04      ,  16.62      , 224.58      ,\n",
       "       229.43666667,  26.11      , 106.26      ,  31.33      ,\n",
       "       181.87      ,  16.64      , 315.72      , 168.85      ,\n",
       "        40.25      , 240.92      , 148.19      ,  16.26666667,\n",
       "       245.48      , 169.96      ,  71.965     ,  86.55      ,\n",
       "        93.86      , 302.55      ,  49.81      , 150.13      ,\n",
       "        84.28      , 277.63      , 330.47      , 164.88      ,\n",
       "        62.39      ,  99.28      ,  45.84      ,  97.12      ,\n",
       "       104.74      ,  28.02      , 254.12      , 136.715     ,\n",
       "        19.43      , 183.22      ,  44.32      , 127.73      ,\n",
       "        91.105     , 110.77      , 103.62      ,  16.83666667,\n",
       "       160.06      , 146.65      , 200.76      , 184.97      ,\n",
       "       137.62833333, 110.2       ,  55.82      , 146.68      ,\n",
       "       239.52      ,  45.88      , 174.64      ,  16.32      ,\n",
       "        99.45      , 101.94      , 218.97      , 125.71      ,\n",
       "        44.27      , 126.86      ,  57.07      ,  19.36666667,\n",
       "       184.31      ,  60.09      , 153.16      , 126.24      ,\n",
       "        19.4       , 141.11      , 298.15      , 138.5       ,\n",
       "        32.59      , 149.38      , 274.18      , 365.62      ,\n",
       "       230.69      ,  27.36      ,  39.06      ,  96.62      ,\n",
       "        97.39      , 127.95      , 131.14      , 128.92      ,\n",
       "       147.74      , 214.49      , 135.98      , 290.66      ,\n",
       "       367.32      , 249.18      , 220.49666667,  20.21666667,\n",
       "       108.13      ,  19.44      ,  85.29      , 218.31      ,\n",
       "       182.42      ,  15.65666667, 206.18      , 246.43      ,\n",
       "       149.06      ,  15.43      , 271.27      , 146.605     ,\n",
       "       286.33      ,  13.88      , 128.03      , 179.36      ,\n",
       "        96.99      , 137.85      , 102.31      ,  91.6       ,\n",
       "       251.44      , 219.10666667, 238.57      , 134.19      ,\n",
       "       211.72      , 218.85      , 157.18      , 257.71      ,\n",
       "       135.66      ,  88.07      ,  83.45      , 311.34      ,\n",
       "       138.32      ,  33.66      ,  46.42      , 156.25      ,\n",
       "       129.78      , 133.23      , 144.27      , 241.39      ,\n",
       "       384.7       , 215.34      , 145.66      , 100.17      ,\n",
       "        16.8       , 293.67      ,  17.83      , 398.4       ,\n",
       "       124.08      ,  33.9       , 128.18      , 277.72      ,\n",
       "       202.3475    ,  50.86      , 290.68      , 220.11      ,\n",
       "       202.03      , 199.04      , 246.78      , 152.91      ,\n",
       "       255.29      , 128.67      , 149.84      ,  87.89      ,\n",
       "        86.615     ,  27.4       , 102.38      ,  71.67      ,\n",
       "       136.41      ,  44.5       , 211.67666667, 161.99      ,\n",
       "        37.68      , 230.82      , 278.6       , 135.93      ,\n",
       "        15.8       , 106.08      , 245.98      , 101.28      ,\n",
       "       342.5       , 329.62      , 136.96      , 242.91      ,\n",
       "        16.81333333, 145.39      ,  25.68      , 141.42      ,\n",
       "       147.43      , 103.47      , 198.63666667, 244.68      ,\n",
       "       105.22      ,  13.88      ,  57.72      , 220.73      ,\n",
       "       217.02      , 225.41      , 152.87      , 236.02      ,\n",
       "        27.04      , 343.99      ,  94.36      ,  15.79      ,\n",
       "       255.21      ,  27.04      , 236.41      ,  25.72      ,\n",
       "       197.29      , 227.26      ,  18.26      , 223.25      ,\n",
       "        93.26      , 183.2       , 171.03      ,  89.04      ,\n",
       "        65.31      , 338.76      ,  15.42      , 290.3       ,\n",
       "        84.88      , 215.35      , 232.29      ,  44.27      ,\n",
       "       284.5       , 100.15      ,  15.46      , 207.9       ,\n",
       "       232.09      , 128.27      , 255.66      , 148.89      ,\n",
       "        61.3       , 129.82      , 165.17      , 272.83      ,\n",
       "       232.56      , 146.74      , 132.19      ,  33.52      ,\n",
       "       175.56      ,  43.42      , 249.02      ,  33.1       ,\n",
       "       105.03      , 250.52      , 200.13      , 218.31      ,\n",
       "       369.34      , 148.83      , 130.78      ,  57.93      ,\n",
       "       140.73      ,  86.55      , 279.96      , 255.96      ,\n",
       "       212.8       ,  45.34      , 252.23      , 161.71      ,\n",
       "       192.351     ,  47.08      ,  26.35      ,  20.73      ,\n",
       "       219.55      ,  28.8       , 140.33      , 214.55      ,\n",
       "        91.98      , 402.98      , 288.54      , 102.26      ,\n",
       "        89.88      ,  77.46      ,  23.55      ,  76.46      ,\n",
       "        70.17      , 214.88      , 111.15      ,  45.97      ,\n",
       "       253.        , 256.92      , 206.22      , 383.95      ,\n",
       "        16.22      ,  16.95      , 342.28      , 202.23      ,\n",
       "       105.01      ,  18.01      ,  24.9       , 107.23428571,\n",
       "       137.22      , 326.39      , 216.86      , 235.56      ,\n",
       "       100.71      ,  49.81      , 187.98      ,  62.39      ,\n",
       "        17.24      ,  15.8       , 108.37      , 106.17      ,\n",
       "        57.3       , 191.93      , 237.65      , 230.95      ,\n",
       "       134.89      ,  25.72      ,  74.2       , 104.93      ,\n",
       "        15.31      , 160.06      , 128.62      ,  57.27      ,\n",
       "       247.87      , 331.91      , 228.62      ,  18.2       ,\n",
       "        43.42      , 212.2       , 101.3       ,  45.39      ,\n",
       "       199.24      , 110.41      , 301.29      , 287.03      ,\n",
       "       148.65      , 102.04      , 181.62      , 142.76      ,\n",
       "       127.89      , 254.23      ,  45.9       , 219.9       ,\n",
       "       312.15      ,  65.52      , 130.32      ,  92.59      ,\n",
       "       292.02      ,  27.37      ,  23.        , 187.91      ,\n",
       "        21.24      ,  83.75      ,  16.28333333, 224.51      ,\n",
       "        91.105     , 106.76      , 214.25      , 225.36      ,\n",
       "       103.285     , 129.82      , 187.88      , 274.68      ,\n",
       "       141.46      , 100.63      ,  43.42      , 139.34      ,\n",
       "       258.69      , 102.08      ,  66.38      ,  56.64      ,\n",
       "        20.27      ,  24.44      ,  13.72      ,  44.86      ,\n",
       "       131.61      , 123.11      , 106.13      , 258.69      ,\n",
       "       128.21      , 364.54      , 172.85      , 156.68      ,\n",
       "       279.78      , 140.17      , 129.18      , 234.73      ,\n",
       "       343.1       ,  33.9       ,  97.7       , 400.26      ,\n",
       "       229.41      , 147.77      ,  46.42      , 103.9       ,\n",
       "       147.69      ,  96.91      , 101.57      ,  44.5       ,\n",
       "       336.84      , 295.48      , 250.43      , 118.17      ,\n",
       "       146.75      , 223.84      , 172.88      , 175.25      ,\n",
       "       251.55      ,  99.24      ,  66.32      , 100.15      ,\n",
       "       209.05      , 145.85      , 129.78      ,  99.94      ,\n",
       "        86.55      , 221.11      , 293.19      ,  97.76      ,\n",
       "       178.29      , 200.2       , 239.21      ,  64.37      ,\n",
       "       342.62      ,  96.09      , 180.02      , 120.66      ,\n",
       "        15.05      ,  30.45      , 218.15      , 278.73      ,\n",
       "       100.69      , 104.74      ,  27.43      ,  15.43      ,\n",
       "       177.49      , 175.87      , 331.14      , 257.78      ,\n",
       "        86.55      , 150.33      , 170.88      , 142.96      ,\n",
       "        66.65      ,  86.045     ,  42.32      , 236.76      ,\n",
       "       123.35      , 198.36      , 308.23      , 229.53      ,\n",
       "        16.33      , 171.26      ,  60.8       , 125.37      ,\n",
       "        39.19      , 189.73      , 237.01      ,  24.67      ,\n",
       "       146.89      ,  52.0725    , 256.21      , 229.48      ,\n",
       "       212.255     , 198.59      , 379.17      ,  94.44      ,\n",
       "        37.61      , 210.6       , 200.57      , 215.28      ,\n",
       "        22.68      , 232.04      ,  15.22      ,  57.3       ,\n",
       "        17.83      , 126.        ,  34.18      , 201.19      ,\n",
       "       222.45      , 139.45      ,  45.34      ,  86.615     ,\n",
       "        42.9       , 303.57      ,  97.6       ,  33.9       ,\n",
       "        98.        ,  16.81      ,  35.19      ,  33.89      ,\n",
       "       312.32      ,  14.46      , 137.13      , 242.17      ,\n",
       "       338.66      , 245.73      , 102.165     , 175.44      ,\n",
       "       104.78      , 103.36      , 182.08833333,  43.47      ,\n",
       "        19.68933333, 125.8       ,  17.72666667, 230.36      ,\n",
       "       149.51      ,  45.43      , 202.3475    , 256.1       ,\n",
       "       253.48      , 330.61      ,  24.38      ,  99.17      ,\n",
       "        40.35      ,  40.29      , 100.02      , 100.55      ,\n",
       "        27.41      , 215.8       ,  86.55      , 194.21      ,\n",
       "       132.68      , 400.45      , 200.18      , 274.55      ,\n",
       "       120.09      , 293.3       ,  84.65      ,  27.72      ,\n",
       "        25.2       ,  45.24      ,  86.31      ,  16.84      ,\n",
       "        16.08      , 128.34      ,  13.88      , 287.03      ,\n",
       "       232.5       , 132.97      ,  87.85      , 100.34      ,\n",
       "        23.1       , 143.37      ,  92.24      , 160.28      ,\n",
       "       215.55      ,  13.42      , 219.6       , 144.71      ,\n",
       "        12.67      , 234.4       , 102.        ,  44.45      ,\n",
       "        80.86      , 204.23      , 192.45      , 396.08      ,\n",
       "       278.53      , 243.29      , 244.57      , 194.71      ,\n",
       "        19.33      ,  91.94      , 136.16      ,  15.5       ,\n",
       "        37.66      ,  90.01      , 167.09      , 225.31      ,\n",
       "        63.97      , 199.978     ,  96.45      , 231.04      ,\n",
       "       127.91      , 330.74      ,  66.38      ,  37.92      ,\n",
       "        16.41666667, 219.54      , 262.58      ,  82.52      ,\n",
       "        86.52      ,  25.63      , 100.54      , 177.44      ,\n",
       "       181.48      , 167.54      ,  88.99      ,  45.43      ,\n",
       "       106.42      , 102.17      ,  57.72      , 126.44      ,\n",
       "       323.85      , 135.93      , 293.32      , 160.45      ,\n",
       "       305.77      , 199.        ,  96.91      , 109.82      ,\n",
       "        91.78      , 306.66      , 237.01      , 280.58      ,\n",
       "       106.8425    ,  91.64      , 169.95      ,  13.32      ,\n",
       "       132.56      , 281.5       ,  27.48      ,  93.18      ,\n",
       "        94.14      , 125.14      , 221.9       , 142.71      ,\n",
       "       296.49      ,  94.47      , 105.415     , 138.57      ,\n",
       "       320.01      , 135.83      , 215.92      , 146.29      ,\n",
       "        39.19      , 238.        ,  16.62      ,  19.17      ,\n",
       "        15.31      , 230.01      , 112.03      , 132.71      ,\n",
       "       255.04      , 181.01      , 118.4       ,  26.85      ,\n",
       "       236.68      ,  18.72      , 141.18      ,  38.68      ,\n",
       "        45.43      ,  96.38      ,  62.39      , 210.98      ,\n",
       "        22.44      ,  82.07      , 255.21      ,  33.32      ,\n",
       "       331.66      , 222.19      ,  13.76      , 383.57      ,\n",
       "       131.19      , 233.34      ,  43.47      ,  88.83      ,\n",
       "        30.73      , 297.04      ,  66.65      ,  52.66      ,\n",
       "       126.39      , 189.11      , 225.41      ])"
      ]
     },
     "execution_count": 42,
     "metadata": {},
     "output_type": "execute_result"
    }
   ],
   "source": [
    "ypred1"
   ]
  },
  {
   "cell_type": "markdown",
   "metadata": {
    "id": "qm0jUMv4OkZM"
   },
   "source": [
    "### pd.DataFrame.to_csv()\n",
    " - csv파일 저장하는 함수"
   ]
  },
  {
   "cell_type": "code",
   "execution_count": 43,
   "metadata": {
    "id": "Rv_WwDKxSmbl"
   },
   "outputs": [],
   "source": [
    "submission['count'] = ypred1\n",
    "submission.to_csv('data/따릉이/out_model_100.csv', index=False)"
   ]
  },
  {
   "cell_type": "code",
   "execution_count": 44,
   "metadata": {
    "id": "YDR4Be1ETEpi"
   },
   "outputs": [],
   "source": [
    "submission['count'] = ypred2\n",
    "submission.to_csv('data/따릉이/out_model_100_5.csv', index=False)"
   ]
  },
  {
   "cell_type": "code",
   "execution_count": 45,
   "metadata": {
    "id": "2A24dfAMTEwy"
   },
   "outputs": [],
   "source": [
    "submission['count'] = ypred3\n",
    "submission.to_csv('data/따릉이/out_model_200.csv', index=False)"
   ]
  },
  {
   "cell_type": "markdown",
   "metadata": {
    "id": "3BNtFKiZ2ln6"
   },
   "source": [
    "## 6. 결과 및 결언\n",
    "## Conclusion & Discussion"
   ]
  }
 ],
 "metadata": {
  "colab": {
   "collapsed_sections": [],
   "name": "따릉이-완성.ipynb",
   "provenance": []
  },
  "kernelspec": {
   "display_name": "Python 3",
   "language": "python",
   "name": "python3"
  },
  "language_info": {
   "codemirror_mode": {
    "name": "ipython",
    "version": 3
   },
   "file_extension": ".py",
   "mimetype": "text/x-python",
   "name": "python",
   "nbconvert_exporter": "python",
   "pygments_lexer": "ipython3",
   "version": "3.9.10"
  }
 },
 "nbformat": 4,
 "nbformat_minor": 1
}
