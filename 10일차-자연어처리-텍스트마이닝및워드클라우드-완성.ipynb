{
 "cells": [
  {
   "cell_type": "markdown",
   "id": "d2d8f562",
   "metadata": {},
   "source": [
    "# 자연어 처리(NLP: Natural Language Processing)"
   ]
  },
  {
   "cell_type": "markdown",
   "id": "11496a2c",
   "metadata": {},
   "source": [
    "## 자연어 처리(NLP) 이해하기"
   ]
  },
  {
   "cell_type": "markdown",
   "id": "68f655f5",
   "metadata": {},
   "source": [
    "NLP (Natural Language Processing, 자연어처리)는 텍스트에서 의미있는 정보를 분석, 추출하고 이해하는 일련의 기술집합 <br><br>\n",
    "- 우리 일상에 볼 수 있는 NLP 응용사례 <br>\n",
    "    > 텍스트 요약 (ex: Summly) , (텍스트 마이닝)<br>\n",
    "    > 대화 시스템 (ex: Apple Siri) <br>\n",
    "    > 기계 번역 (ex: Google Translate) <br>\n",
    "    \n",
    " \n",
    "### 텍스트 마이닝(text mining)\n",
    "- 비정형 데이터로부터 패턴을 찾아내어 의미 있는 정보를 추출하는 분석 과정 또는 기법\n",
    "- 텍스트 분석에서 의미 있는 인사이트를 도출하기 위해 머신러닝의 고급 기술을 적용하며 발전된 분석 기술\n",
    "- 텍스트 마이닝은 데이터 마이닝 + 자연어 처리 + 정보 검색 등이 결합된 분석 기법  \n",
    "- 텍스트 마이닝 기법중에서 핵심이 되는 것은 **감성 분석**과 **토픽 모델링**이다.\n",
    "<br><br>\n",
    "\n",
    "#### # 텍스트 마이닝 프로세스\n",
    " - 텍스트 전처리 --> 특성 벡터화 --> 머신러닝 모델 구축 및 학습/평가 프로세스 수행 \n",
    " - 사이킷런, 텐서플로우 같은 라이브러리에서 관련 기능 제공함\n",
    " \n",
    "#### # 텍스트 전처리\n",
    "- 토큰화, 불용어(Stop word) 제거, 표제어 추출, 형태소 분석 등의 작업 포함  \n",
    "\n",
    "#### # 특성 벡터화(feature vectorization) \n",
    "머신러닝 알고리즘으로 분석하기 위해서는 텍스트를 구성하는 단어 기반의 특성 추출(feature extraction)을 하고 이를 숫자형 값이 벡터 값으로 표현해야 한다.\n",
    "\n",
    "##### * 특성 벡터화 대표적 방법\n",
    "- **BOW(Bag of Words)** <br>\n",
    "BoW는 문서가 가지고 있는 모든 단어에 대해 순서는 무시한 채 빈도만 고려하여 단어가 얼마나 자주 등장하는 지로 특성 벡터를 만드는 방법 <br>\n",
    " - 카운트 기반 벡터화 방식 : CountVectorizer \n",
    " - TF-IDF 기반 벡터화 방식 : TfidfVectorizer (빈도수에 가중치 부여)\n",
    "<br>\n",
    "- **Word2vec** <br>\n",
    "신경망 모델을 사용하여 텍스트에서 단어(word)를 공간에서 점 또는 벡터(vector)로 표현하여 단어 연관을 학습하고 이를 통해 동의어를 감지하거나 부분 문장에 대한 추가 단어를 **예측**할 수 있는 방법. 단어 임베딩(Word Embedding) 기법 <br>\n",
    " \n",
    " - Word2vec 방식:\n",
    "    > 맥락으로 단어를 예측하는 모델: CBOW(continuous bag of words) <br> \n",
    "    > 단어로 맥락을 예측하는 skip-gram 모델 "
   ]
  },
  {
   "cell_type": "code",
   "execution_count": 27,
   "id": "a27ee97a",
   "metadata": {
    "scrolled": false
   },
   "outputs": [
    {
     "data": {
      "text/html": [
       "<img src=\"https://camo.githubusercontent.com/30d4fe1ae96e11d679de6e65632cc708c1237ba7/68747470733a2f2f73332e616d617a6f6e6177732e636f6d2f736b69706772616d2d696d616765732f776f7264327665632d322e706e67\" width=\"400\" height=\"300\"/>"
      ],
      "text/plain": [
       "<IPython.core.display.Image object>"
      ]
     },
     "execution_count": 27,
     "metadata": {},
     "output_type": "execute_result"
    }
   ],
   "source": [
    "from IPython.display import Image\n",
    "Image(url='https://camo.githubusercontent.com/30d4fe1ae96e11d679de6e65632cc708c1237ba7/68747470733a2f2f73332e616d617a6f6e6177732e636f6d2f736b69706772616d2d696d616765732f776f7264327665632d322e706e67'\n",
    "     , width=400, height=300)"
   ]
  },
  {
   "cell_type": "markdown",
   "id": "be317845",
   "metadata": {},
   "source": [
    "##### * Word2vec  체험  사이트\n",
    "- 단어로 맥락(또는 단어) 예측 <br>\n",
    " https://word2vec.kr/search/?query= <br>\n",
    "입력 : 한국-서울+도쿄, 김정은-북한+한국, 한국-제주도+대마도\n",
    "<br>\n",
    "\n",
    "- word2vec의 원리를 시각화 사이트 <br>\n",
    "https://ronxin.github.io/wevi/ \n",
    "<br>\n",
    "\n",
    "- 실제 데이터로 만든 단어 벡터 시각화\n",
    "아마존에서 스마트폰 구매자들이 남긴 리뷰 텍스트를 바탕으로 word2vec을 이용해 만든 단어 벡터를 t-SNE라는 기법을 이용해 2차원으로 차원 축소한 뒤 인터렉티브 시각화한 코드\n",
    "https://nbviewer.org/github/dreamgonfly/phone-review-nlp/blob/master/phone_reviews_nlp.ipynb#Visualizing-word-vectors-with-t-SNE"
   ]
  },
  {
   "cell_type": "markdown",
   "id": "0ff113f0",
   "metadata": {},
   "source": [
    "----------------"
   ]
  },
  {
   "cell_type": "markdown",
   "id": "aacf4dc7",
   "metadata": {},
   "source": [
    "#### # 감성 분석(sentiment analysis)\n",
    "- 텍스트에서 사용자의 주관적인 의견이나 감성, 태도를 분석하는 텍스트 마이닝의 핵심 분석 기법 중 하나\n",
    "- 오피니언 마이닝(opinion mining)이라고도 함\n",
    "- 텍스트에서 감성을 나타내는 단어를 기반으로 긍정 또는 부정의 감성을 결정한다.\n",
    "- 감성 사전 기반의 감성 분석 : <br>\n",
    "    감성 단어에 대한 사전을 가진 상태에서 단어를 검색하여 점수를 계산한다.\n",
    "- 머신러닝 기반의 감성 분석: 감성 분류 클래스 제공 <br> \n",
    "    데이터를 지도 학습 방법으로 훈련하여 감성 분류 모델을 구축한 뒤 분석할 데이터를 감성 분류 모델에 적용하여 분석한다."
   ]
  },
  {
   "cell_type": "markdown",
   "id": "b4623ee9",
   "metadata": {},
   "source": [
    "#### # 토픽 모델링(topic modeling)\n",
    "- 문서를 구성하는 키워드를 기반으로 토픽(주체)을 추출하고 추출한 토픽을 기준으로 문서를 분류(클러스터링) 및 분석하는 기법\n",
    "- 문서에서 다루는 토픽을 도출하여 동향을 파악하고 새로운 문서의 토픽을 예측하는 분석에 사용한다.\n",
    "- 대표적인 머신러닝 기반 토픽 모델링 기법\n",
    " > **LDA(Latent Dirichlet Allocation)**<br>\n",
    " > 디리클레 분포를 이용하여 주어진 문서에 잠재되어 있는 토픽을 추론하는 확률 모델 알고리즘을 사용함  <br> \n",
    " > 하나의 문서는 여러 토픽으로 구성되어 있고, 문서의 토픽 분포에 따라서 단어의 분포가 결정된다고 가정함 <br><br>\n",
    " > **pyLDAvis** : LDA를 이용한 토픽 모델링 분석 결과 시각화 라이브러리, 유사성에 따라 토픽간 거리 지도와 선택한 토픽에서 관련성 높은 단어 30개를 bar차트로 시각화하여 보여준다.\n"
   ]
  },
  {
   "cell_type": "markdown",
   "id": "591fd1c5",
   "metadata": {},
   "source": [
    "---------------"
   ]
  },
  {
   "cell_type": "markdown",
   "id": "3859d9e0",
   "metadata": {},
   "source": [
    "-------"
   ]
  },
  {
   "cell_type": "markdown",
   "id": "483fff55",
   "metadata": {},
   "source": [
    "## [실습] NLTK,KoNLPy,사이킷런으로 자연어 처리하기"
   ]
  },
  {
   "cell_type": "code",
   "execution_count": 1,
   "id": "aa6d14fe",
   "metadata": {},
   "outputs": [],
   "source": [
    "import matplotlib.pyplot as plt\n",
    "import seaborn as sns\n",
    "\n",
    "plt.rcParams['font.family'] = 'Malgun Gothic'\n",
    "plt.rcParams['figure.figsize'] = (10,6)"
   ]
  },
  {
   "cell_type": "code",
   "execution_count": 4,
   "id": "18a32180",
   "metadata": {},
   "outputs": [],
   "source": [
    "# warnings(워닝) 메시지 안나도록 처리\n",
    "import warnings\n",
    "warnings.filterwarnings(\"ignore\")"
   ]
  },
  {
   "cell_type": "markdown",
   "id": "384319f4",
   "metadata": {},
   "source": [
    "### NLTK 자연어 처리 패키지 : 영어\n",
    "NLTK(Natural Language Toolkit) 패키지는 교육용으로 개발된 자연어 처리 및 문서 분석용 파이썬 패키지\n",
    "- https://www.nltk.org/"
   ]
  },
  {
   "cell_type": "markdown",
   "id": "0c64d0c9",
   "metadata": {},
   "source": [
    "### 라이브러리 설치"
   ]
  },
  {
   "cell_type": "code",
   "execution_count": 3,
   "id": "5467e365",
   "metadata": {
    "collapsed": true
   },
   "outputs": [
    {
     "name": "stdout",
     "output_type": "stream",
     "text": [
      "Requirement already satisfied: nltk in c:\\python\\python39\\lib\\site-packages (3.7)\n",
      "Requirement already satisfied: regex>=2021.8.3 in c:\\python\\python39\\lib\\site-packages (from nltk) (2022.6.2)\n",
      "Requirement already satisfied: joblib in c:\\python\\python39\\lib\\site-packages (from nltk) (1.1.0)\n",
      "Requirement already satisfied: tqdm in c:\\python\\python39\\lib\\site-packages (from nltk) (4.64.0)\n",
      "Requirement already satisfied: click in c:\\python\\python39\\lib\\site-packages (from nltk) (8.1.3)\n",
      "Requirement already satisfied: colorama in c:\\python\\python39\\lib\\site-packages (from click->nltk) (0.4.5)\n"
     ]
    },
    {
     "name": "stderr",
     "output_type": "stream",
     "text": [
      "WARNING: Ignoring invalid distribution -pencv-python-headless (c:\\python\\python39\\lib\\site-packages)\n",
      "WARNING: Ignoring invalid distribution -pencv-python-headless (c:\\python\\python39\\lib\\site-packages)\n",
      "WARNING: Ignoring invalid distribution -pencv-python-headless (c:\\python\\python39\\lib\\site-packages)\n",
      "WARNING: Ignoring invalid distribution -pencv-python-headless (c:\\python\\python39\\lib\\site-packages)\n",
      "WARNING: Ignoring invalid distribution -pencv-python-headless (c:\\python\\python39\\lib\\site-packages)\n",
      "WARNING: Ignoring invalid distribution -pencv-python-headless (c:\\python\\python39\\lib\\site-packages)\n"
     ]
    }
   ],
   "source": [
    "!pip install nltk"
   ]
  },
  {
   "cell_type": "code",
   "execution_count": 6,
   "id": "0141b84c",
   "metadata": {
    "collapsed": true
   },
   "outputs": [
    {
     "name": "stdout",
     "output_type": "stream",
     "text": [
      "Help on package nltk:\n",
      "\n",
      "NAME\n",
      "    nltk\n",
      "\n",
      "DESCRIPTION\n",
      "    The Natural Language Toolkit (NLTK) is an open source Python library\n",
      "    for Natural Language Processing.  A free online book is available.\n",
      "    (If you use the library for academic research, please cite the book.)\n",
      "    \n",
      "    Steven Bird, Ewan Klein, and Edward Loper (2009).\n",
      "    Natural Language Processing with Python.  O'Reilly Media Inc.\n",
      "    https://www.nltk.org/book/\n",
      "    \n",
      "    isort:skip_file\n",
      "    \n",
      "    @version: 3.7\n",
      "\n",
      "PACKAGE CONTENTS\n",
      "    app (package)\n",
      "    book\n",
      "    ccg (package)\n",
      "    chat (package)\n",
      "    chunk (package)\n",
      "    classify (package)\n",
      "    cli\n",
      "    cluster (package)\n",
      "    collections\n",
      "    collocations\n",
      "    compat\n",
      "    corpus (package)\n",
      "    data\n",
      "    decorators\n",
      "    downloader\n",
      "    draw (package)\n",
      "    featstruct\n",
      "    grammar\n",
      "    help\n",
      "    inference (package)\n",
      "    internals\n",
      "    jsontags\n",
      "    lazyimport\n",
      "    lm (package)\n",
      "    metrics (package)\n",
      "    misc (package)\n",
      "    parse (package)\n",
      "    probability\n",
      "    sem (package)\n",
      "    sentiment (package)\n",
      "    stem (package)\n",
      "    tag (package)\n",
      "    tbl (package)\n",
      "    test (package)\n",
      "    text\n",
      "    tgrep\n",
      "    tokenize (package)\n",
      "    toolbox\n",
      "    translate (package)\n",
      "    tree (package)\n",
      "    treeprettyprinter\n",
      "    treetransforms\n",
      "    twitter (package)\n",
      "    util\n",
      "    wsd\n",
      "\n",
      "SUBMODULES\n",
      "    agreement\n",
      "    aline\n",
      "    api\n",
      "    arlstem\n",
      "    arlstem2\n",
      "    association\n",
      "    bleu_score\n",
      "    bllip\n",
      "    boxer\n",
      "    brill\n",
      "    brill_trainer\n",
      "    casual\n",
      "    chart\n",
      "    chrf_score\n",
      "    cistem\n",
      "    confusionmatrix\n",
      "    corenlp\n",
      "    crf\n",
      "    decisiontree\n",
      "    dependencygraph\n",
      "    destructive\n",
      "    discourse\n",
      "    distance\n",
      "    drt\n",
      "    earleychart\n",
      "    evaluate\n",
      "    featurechart\n",
      "    gale_church\n",
      "    gdfa\n",
      "    gleu_score\n",
      "    glue\n",
      "    hmm\n",
      "    hunpos\n",
      "    ibm1\n",
      "    ibm2\n",
      "    ibm3\n",
      "    ibm4\n",
      "    ibm5\n",
      "    ibm_model\n",
      "    immutable\n",
      "    isri\n",
      "    lancaster\n",
      "    legality_principle\n",
      "    lfg\n",
      "    linearlogic\n",
      "    logic\n",
      "    mace\n",
      "    malt\n",
      "    mapping\n",
      "    maxent\n",
      "    megam\n",
      "    meteor_score\n",
      "    mwe\n",
      "    naivebayes\n",
      "    nist_score\n",
      "    nonprojectivedependencyparser\n",
      "    paice\n",
      "    parented\n",
      "    parsing\n",
      "    pchart\n",
      "    perceptron\n",
      "    phrase_based\n",
      "    porter\n",
      "    positivenaivebayes\n",
      "    prettyprinter\n",
      "    probabilistic\n",
      "    projectivedependencyparser\n",
      "    prover9\n",
      "    punkt\n",
      "    recursivedescent\n",
      "    regexp\n",
      "    relextract\n",
      "    repp\n",
      "    resolution\n",
      "    ribes_score\n",
      "    rslp\n",
      "    rte_classify\n",
      "    scikitlearn\n",
      "    scores\n",
      "    segmentation\n",
      "    senna\n",
      "    sequential\n",
      "    sexpr\n",
      "    shiftreduce\n",
      "    simple\n",
      "    snowball\n",
      "    sonority_sequencing\n",
      "    spearman\n",
      "    stack_decoder\n",
      "    stanford\n",
      "    stanford_segmenter\n",
      "    tableau\n",
      "    tadm\n",
      "    textcat\n",
      "    texttiling\n",
      "    tnt\n",
      "    toktok\n",
      "    transforms\n",
      "    transitionparser\n",
      "    treebank\n",
      "    viterbi\n",
      "    weka\n",
      "    wordnet\n",
      "\n",
      "FUNCTIONS\n",
      "    demo()\n",
      "        # FIXME:  override any accidentally imported demo, see https://github.com/nltk/nltk/issues/2116\n",
      "    \n",
      "    tee(iterable, n=2, /)\n",
      "        Returns a tuple of n independent iterators.\n",
      "\n",
      "DATA\n",
      "    RUS_PICKLE = 'taggers/averaged_perceptron_tagger_ru/averaged_perceptro...\n",
      "    SLASH = *slash*\n",
      "    TYPE = *type*\n",
      "    __author_email__ = 'nltk.team@gmail.com'\n",
      "    __classifiers__ = ['Development Status :: 5 - Production/Stable', 'Int...\n",
      "    __copyright__ = 'Copyright (C) 2001-2022 NLTK Project.\\n\\nDistribut......\n",
      "    __keywords__ = ['NLP', 'CL', 'natural language processing', 'computati...\n",
      "    __license__ = 'Apache License, Version 2.0'\n",
      "    __longdescr__ = 'The Natural Language Toolkit (NLTK) is a Python ...in...\n",
      "    __maintainer__ = 'NLTK Team'\n",
      "    __maintainer_email__ = 'nltk.team@gmail.com'\n",
      "    __url__ = 'https://www.nltk.org/'\n",
      "    app = <LazyModule 'nltk.nltk.app'>\n",
      "    chat = <LazyModule 'nltk.nltk.chat'>\n",
      "    corpus = <LazyModule 'nltk.nltk.corpus'>\n",
      "    infile = <_io.TextIOWrapper name='C:\\\\python\\\\Python39\\\\l...ckages\\\\nl...\n",
      "    json_tags = {'!nltk.tag.BrillTagger': <class 'nltk.tag.brill.BrillTagg...\n",
      "    toolbox = <LazyModule 'nltk.nltk.toolbox'>\n",
      "    version_file = r'C:\\python\\Python39\\lib\\site-packages\\nltk\\VERSION'\n",
      "\n",
      "VERSION\n",
      "    3.7\n",
      "\n",
      "AUTHOR\n",
      "    NLTK Team\n",
      "\n",
      "FILE\n",
      "    c:\\python\\python39\\lib\\site-packages\\nltk\\__init__.py\n",
      "\n",
      "\n"
     ]
    }
   ],
   "source": [
    "import nltk\n",
    "help(nltk)"
   ]
  },
  {
   "cell_type": "code",
   "execution_count": 6,
   "id": "052424f7",
   "metadata": {
    "collapsed": true
   },
   "outputs": [
    {
     "name": "stdout",
     "output_type": "stream",
     "text": [
      "Package                       Version\n",
      "----------------------------- -------------------\n",
      "absl-py                       1.1.0\n",
      "analytics-python              1.4.0\n",
      "anyio                         3.6.1\n",
      "argon2-cffi                   21.3.0\n",
      "argon2-cffi-bindings          21.2.0\n",
      "astroid                       2.4.2\n",
      "asttokens                     2.0.5\n",
      "astunparse                    1.6.3\n",
      "attrs                         21.4.0\n",
      "Babel                         2.10.3\n",
      "backcall                      0.2.0\n",
      "backoff                       1.10.0\n",
      "beautifulsoup4                4.11.1\n",
      "bleach                        5.0.1\n",
      "branca                        0.5.0\n",
      "cachetools                    5.2.0\n",
      "certifi                       2022.6.15\n",
      "cffi                          1.15.0\n",
      "chardet                       5.0.0\n",
      "charset-normalizer            2.1.0\n",
      "click                         8.1.3\n",
      "colorama                      0.4.5\n",
      "cvzone                        1.5.6\n",
      "cycler                        0.11.0\n",
      "Cython                        0.29.30\n",
      "DateTime                      4.3\n",
      "debugpy                       1.6.0\n",
      "decorator                     5.1.1\n",
      "defusedxml                    0.7.1\n",
      "dill                          0.3.5.1\n",
      "dm-tree                       0.1.7\n",
      "entrypoints                   0.4\n",
      "et-xmlfile                    1.1.0\n",
      "etils                         0.6.0\n",
      "executing                     0.8.3\n",
      "fastjsonschema                2.15.3\n",
      "flatbuffers                   1.12\n",
      "folium                        0.12.1.post1\n",
      "fonttools                     4.33.3\n",
      "gast                          0.4.0\n",
      "gin-config                    0.5.0\n",
      "google-api-core               2.8.2\n",
      "google-api-python-client      2.52.0\n",
      "google-auth                   2.9.0\n",
      "google-auth-httplib2          0.1.0\n",
      "google-auth-oauthlib          0.4.6\n",
      "google-cloud-bigquery         3.2.0\n",
      "google-cloud-bigquery-storage 2.13.2\n",
      "google-cloud-core             2.3.1\n",
      "google-crc32c                 1.3.0\n",
      "google-pasta                  0.2.0\n",
      "google-resumable-media        2.3.3\n",
      "googleapis-common-protos      1.56.3\n",
      "graphviz                      0.20\n",
      "grpcio                        1.47.0\n",
      "grpcio-status                 1.47.0\n",
      "h3                            3.7.4\n",
      "h5py                          3.1.0\n",
      "httplib2                      0.20.4\n",
      "idna                          3.3\n",
      "importlib-metadata            4.12.0\n",
      "importlib-resources           5.8.0\n",
      "ipykernel                     6.15.0\n",
      "ipython                       8.4.0\n",
      "ipython-genutils              0.2.0\n",
      "ipywidgets                    7.7.1\n",
      "isort                         5.6.4\n",
      "jedi                          0.18.1\n",
      "Jinja2                        3.1.2\n",
      "joblib                        1.1.0\n",
      "JPype1                        1.4.0\n",
      "json5                         0.9.8\n",
      "jsonschema                    4.6.1\n",
      "jupyter                       1.0.0\n",
      "jupyter-client                7.3.4\n",
      "jupyter-console               6.4.4\n",
      "jupyter-core                  4.10.0\n",
      "jupyter-server                1.18.0\n",
      "jupyterlab                    3.4.3\n",
      "jupyterlab-pygments           0.2.2\n",
      "jupyterlab-server             2.14.0\n",
      "jupyterlab-widgets            1.0.2\n",
      "kaggle                        1.5.12\n",
      "keras                         2.9.0\n",
      "keras-nightly                 2.5.0.dev2021032900\n",
      "Keras-Preprocessing           1.1.2\n",
      "kiwisolver                    1.4.3\n",
      "konlpy                        0.6.0\n",
      "lazy-object-proxy             1.4.3\n",
      "libclang                      14.0.1\n",
      "lxml                          4.9.0\n",
      "Markdown                      3.3.7\n",
      "MarkupSafe                    2.1.1\n",
      "matplotlib                    3.5.2\n",
      "matplotlib-inline             0.1.3\n",
      "mccabe                        0.6.1\n",
      "mediapipe                     0.8.10.1\n",
      "missingno                     0.5.1\n",
      "mistune                       0.8.4\n",
      "mitoinstaller                 0.0.167\n",
      "mitosheet                     0.1.433\n",
      "monotonic                     1.6\n",
      "nbclassic                     0.4.0\n",
      "nbclient                      0.6.4\n",
      "nbconvert                     6.5.0\n",
      "nbformat                      5.4.0\n",
      "nest-asyncio                  1.5.5\n",
      "nltk                          3.7\n",
      "notebook                      6.4.12\n",
      "notebook-shim                 0.1.0\n",
      "numpy                         1.23.0\n",
      "oauth2client                  4.1.3\n",
      "oauthlib                      3.2.0\n",
      "opencv-contrib-python         4.6.0.66\n",
      "opencv-python                 4.6.0.66\n",
      "openpyxl                      3.0.10\n",
      "opt-einsum                    3.3.0\n",
      "packaging                     21.3\n",
      "pandas                        1.4.3\n",
      "pandocfilters                 1.5.0\n",
      "parso                         0.8.3\n",
      "pickleshare                   0.7.5\n",
      "Pillow                        8.0.1\n",
      "pip                           22.1.2\n",
      "plotly                        5.9.0\n",
      "portalocker                   2.4.0\n",
      "prometheus-client             0.14.1\n",
      "promise                       2.3\n",
      "prompt-toolkit                3.0.30\n",
      "proto-plus                    1.20.6\n",
      "protobuf                      3.19.4\n",
      "psutil                        5.9.1\n",
      "pure-eval                     0.2.2\n",
      "py-cpuinfo                    8.0.0\n",
      "pyarrow                       8.0.0\n",
      "pyasn1                        0.4.8\n",
      "pyasn1-modules                0.2.8\n",
      "pycocotools                   2.0.4\n",
      "pycparser                     2.21\n",
      "pygame                        2.0.0\n",
      "Pygments                      2.12.0\n",
      "pylint                        2.6.0\n",
      "pyparsing                     3.0.9\n",
      "pyrsistent                    0.18.1\n",
      "python-dateutil               2.8.2\n",
      "python-slugify                6.1.2\n",
      "pytz                          2020.4\n",
      "pywin32                       304\n",
      "pywinpty                      2.0.5\n",
      "PyYAML                        6.0\n",
      "pyzmq                         23.2.0\n",
      "qtconsole                     5.3.1\n",
      "QtPy                          2.1.0\n",
      "regex                         2022.6.2\n",
      "requests                      2.28.1\n",
      "requests-oauthlib             1.3.1\n",
      "rsa                           4.8\n",
      "sacrebleu                     2.1.0\n",
      "scikit-learn                  1.1.1\n",
      "scipy                         1.8.1\n",
      "seaborn                       0.11.2\n",
      "Send2Trash                    1.8.0\n",
      "sentencepiece                 0.1.96\n",
      "seqeval                       1.2.2\n",
      "setuptools                    58.1.0\n",
      "six                           1.15.0\n",
      "sniffio                       1.2.0\n",
      "soupsieve                     2.3.2.post1\n",
      "stack-data                    0.3.0\n",
      "tabulate                      0.8.10\n",
      "tenacity                      8.0.1\n",
      "tensorboard                   2.9.1\n",
      "tensorboard-data-server       0.6.1\n",
      "tensorboard-plugin-wit        1.8.1\n",
      "tensorflow                    2.9.1\n",
      "tensorflow-addons             0.17.1\n",
      "tensorflow-datasets           4.6.0\n",
      "tensorflow-estimator          2.9.0\n",
      "tensorflow-hub                0.12.0\n",
      "tensorflow-io-gcs-filesystem  0.26.0\n",
      "tensorflow-metadata           1.9.0\n",
      "tensorflow-model-optimization 0.7.2\n",
      "tensorflow-text               2.5.0\n",
      "termcolor                     1.1.0\n",
      "terminado                     0.15.0\n",
      "text-unidecode                1.3\n",
      "tf-models-official            2.5.0\n",
      "tf-slim                       1.1.0\n",
      "threadpoolctl                 3.1.0\n",
      "timezonefinder                6.0.1\n",
      "tinycss2                      1.1.1\n",
      "toml                          0.10.2\n",
      "torch                         1.12.0\n",
      "torchaudio                    0.12.0\n",
      "torchvision                   0.13.0\n",
      "tornado                       6.1\n",
      "tqdm                          4.64.0\n",
      "traitlets                     5.3.0\n",
      "typeguard                     2.13.3\n",
      "typing-extensions             3.7.4.3\n",
      "uritemplate                   4.1.1\n",
      "urllib3                       1.26.9\n",
      "wcwidth                       0.2.5\n",
      "webencodings                  0.5.1\n",
      "websocket-client              1.3.3\n",
      "Werkzeug                      2.1.2\n",
      "wheel                         0.37.1\n",
      "widgetsnbextension            3.6.1\n",
      "wordcloud                     1.8.2.2\n",
      "wrapt                         1.12.1\n",
      "XlsxWriter                    3.0.2\n",
      "zipp                          3.8.0\n",
      "zope.interface                5.2.0\n"
     ]
    },
    {
     "name": "stderr",
     "output_type": "stream",
     "text": [
      "WARNING: Ignoring invalid distribution -pencv-python-headless (c:\\python\\python39\\lib\\site-packages)\n",
      "WARNING: Ignoring invalid distribution -pencv-python-headless (c:\\python\\python39\\lib\\site-packages)\n",
      "WARNING: Ignoring invalid distribution -pencv-python-headless (c:\\python\\python39\\lib\\site-packages)\n",
      "WARNING: Ignoring invalid distribution -pencv-python-headless (c:\\python\\python39\\lib\\site-packages)\n"
     ]
    }
   ],
   "source": [
    "!pip list"
   ]
  },
  {
   "cell_type": "code",
   "execution_count": 7,
   "id": "a6199a57",
   "metadata": {
    "collapsed": true
   },
   "outputs": [
    {
     "name": "stdout",
     "output_type": "stream",
     "text": [
      "Name: nltk\n",
      "Version: 3.7\n",
      "Summary: Natural Language Toolkit\n",
      "Home-page: https://www.nltk.org/\n",
      "Author: NLTK Team\n",
      "Author-email: nltk.team@gmail.com\n",
      "License: Apache License, Version 2.0\n",
      "Location: c:\\python\\python39\\lib\\site-packages\n",
      "Requires: click, joblib, regex, tqdm\n",
      "Required-by: \n"
     ]
    },
    {
     "name": "stderr",
     "output_type": "stream",
     "text": [
      "WARNING: Ignoring invalid distribution -pencv-python-headless (c:\\python\\python39\\lib\\site-packages)\n"
     ]
    }
   ],
   "source": [
    "!pip show nltk"
   ]
  },
  {
   "cell_type": "markdown",
   "id": "4410257b",
   "metadata": {},
   "source": [
    "####  WordCloud  설치\n",
    "http://amueller.github.io/word_cloud/"
   ]
  },
  {
   "cell_type": "code",
   "execution_count": 8,
   "id": "ffc44f9d",
   "metadata": {
    "collapsed": true
   },
   "outputs": [
    {
     "name": "stdout",
     "output_type": "stream",
     "text": [
      "Requirement already satisfied: wordcloud in c:\\python\\python39\\lib\\site-packages (1.8.2.2)\n",
      "Requirement already satisfied: numpy>=1.6.1 in c:\\python\\python39\\lib\\site-packages (from wordcloud) (1.19.5)\n",
      "Requirement already satisfied: matplotlib in c:\\python\\python39\\lib\\site-packages (from wordcloud) (3.5.2)\n",
      "Requirement already satisfied: pillow in c:\\users\\yswoo\\appdata\\roaming\\python\\python39\\site-packages (from wordcloud) (8.0.1)\n",
      "Requirement already satisfied: pyparsing>=2.2.1 in c:\\python\\python39\\lib\\site-packages (from matplotlib->wordcloud) (3.0.9)\n",
      "Requirement already satisfied: python-dateutil>=2.7 in c:\\python\\python39\\lib\\site-packages (from matplotlib->wordcloud) (2.8.2)\n",
      "Requirement already satisfied: fonttools>=4.22.0 in c:\\python\\python39\\lib\\site-packages (from matplotlib->wordcloud) (4.33.3)\n",
      "Requirement already satisfied: cycler>=0.10 in c:\\python\\python39\\lib\\site-packages (from matplotlib->wordcloud) (0.11.0)\n",
      "Requirement already satisfied: kiwisolver>=1.0.1 in c:\\python\\python39\\lib\\site-packages (from matplotlib->wordcloud) (1.4.3)\n",
      "Requirement already satisfied: packaging>=20.0 in c:\\python\\python39\\lib\\site-packages (from matplotlib->wordcloud) (21.3)\n",
      "Requirement already satisfied: six>=1.5 in c:\\python\\python39\\lib\\site-packages (from python-dateutil>=2.7->matplotlib->wordcloud) (1.15.0)\n"
     ]
    },
    {
     "name": "stderr",
     "output_type": "stream",
     "text": [
      "WARNING: Ignoring invalid distribution -pencv-python-headless (c:\\python\\python39\\lib\\site-packages)\n",
      "WARNING: Ignoring invalid distribution -pencv-python-headless (c:\\python\\python39\\lib\\site-packages)\n",
      "WARNING: Ignoring invalid distribution -pencv-python-headless (c:\\python\\python39\\lib\\site-packages)\n",
      "WARNING: Ignoring invalid distribution -pencv-python-headless (c:\\python\\python39\\lib\\site-packages)\n",
      "WARNING: Ignoring invalid distribution -pencv-python-headless (c:\\python\\python39\\lib\\site-packages)\n",
      "WARNING: Ignoring invalid distribution -pencv-python-headless (c:\\python\\python39\\lib\\site-packages)\n"
     ]
    }
   ],
   "source": [
    "!pip install wordcloud"
   ]
  },
  {
   "cell_type": "markdown",
   "id": "80f62144",
   "metadata": {},
   "source": [
    "### NLTK 패키지가 제공하는 주요 기능\n",
    "- 말뭉치(corpus)\n",
    "- 토큰(token) 생성\n",
    "- 형태소 분석(morphological analysis)\n",
    "- 품사(POS, part-of-speech) 태깅"
   ]
  },
  {
   "cell_type": "markdown",
   "id": "a2084b6a",
   "metadata": {},
   "source": [
    "#### # 말뭉치(corpus)\n",
    "- 자연어 분석 작업을 위해 만든 샘플 문서 집합\n",
    "- 소설, 신문 등의 문서를 모아놓은 것과 품사.형태소 등의 보조적 의미를 추가하고 쉬운 분석을 위해 구조적인 형태로 정리해 놓은 것 포함함\n",
    "- NLTK 패키지의 corpus 서브패키지\n",
    "- 말뭉치 자료는 설치시에 제공되지 않고 download 명령으로 사용자가 다운로드 받아야 한다."
   ]
  },
  {
   "cell_type": "code",
   "execution_count": 9,
   "id": "603ccbba",
   "metadata": {
    "collapsed": true
   },
   "outputs": [
    {
     "name": "stdout",
     "output_type": "stream",
     "text": [
      "Help on package nltk:\n",
      "\n",
      "NAME\n",
      "    nltk\n",
      "\n",
      "DESCRIPTION\n",
      "    The Natural Language Toolkit (NLTK) is an open source Python library\n",
      "    for Natural Language Processing.  A free online book is available.\n",
      "    (If you use the library for academic research, please cite the book.)\n",
      "    \n",
      "    Steven Bird, Ewan Klein, and Edward Loper (2009).\n",
      "    Natural Language Processing with Python.  O'Reilly Media Inc.\n",
      "    https://www.nltk.org/book/\n",
      "    \n",
      "    isort:skip_file\n",
      "    \n",
      "    @version: 3.7\n",
      "\n",
      "PACKAGE CONTENTS\n",
      "    app (package)\n",
      "    book\n",
      "    ccg (package)\n",
      "    chat (package)\n",
      "    chunk (package)\n",
      "    classify (package)\n",
      "    cli\n",
      "    cluster (package)\n",
      "    collections\n",
      "    collocations\n",
      "    compat\n",
      "    corpus (package)\n",
      "    data\n",
      "    decorators\n",
      "    downloader\n",
      "    draw (package)\n",
      "    featstruct\n",
      "    grammar\n",
      "    help\n",
      "    inference (package)\n",
      "    internals\n",
      "    jsontags\n",
      "    lazyimport\n",
      "    lm (package)\n",
      "    metrics (package)\n",
      "    misc (package)\n",
      "    parse (package)\n",
      "    probability\n",
      "    sem (package)\n",
      "    sentiment (package)\n",
      "    stem (package)\n",
      "    tag (package)\n",
      "    tbl (package)\n",
      "    test (package)\n",
      "    text\n",
      "    tgrep\n",
      "    tokenize (package)\n",
      "    toolbox\n",
      "    translate (package)\n",
      "    tree (package)\n",
      "    treeprettyprinter\n",
      "    treetransforms\n",
      "    twitter (package)\n",
      "    util\n",
      "    wsd\n",
      "\n",
      "SUBMODULES\n",
      "    agreement\n",
      "    aline\n",
      "    api\n",
      "    arlstem\n",
      "    arlstem2\n",
      "    association\n",
      "    bleu_score\n",
      "    bllip\n",
      "    boxer\n",
      "    brill\n",
      "    brill_trainer\n",
      "    casual\n",
      "    chart\n",
      "    chrf_score\n",
      "    cistem\n",
      "    confusionmatrix\n",
      "    corenlp\n",
      "    crf\n",
      "    decisiontree\n",
      "    dependencygraph\n",
      "    destructive\n",
      "    discourse\n",
      "    distance\n",
      "    drt\n",
      "    earleychart\n",
      "    evaluate\n",
      "    featurechart\n",
      "    gale_church\n",
      "    gdfa\n",
      "    gleu_score\n",
      "    glue\n",
      "    hmm\n",
      "    hunpos\n",
      "    ibm1\n",
      "    ibm2\n",
      "    ibm3\n",
      "    ibm4\n",
      "    ibm5\n",
      "    ibm_model\n",
      "    immutable\n",
      "    isri\n",
      "    lancaster\n",
      "    legality_principle\n",
      "    lfg\n",
      "    linearlogic\n",
      "    logic\n",
      "    mace\n",
      "    malt\n",
      "    mapping\n",
      "    maxent\n",
      "    megam\n",
      "    meteor_score\n",
      "    mwe\n",
      "    naivebayes\n",
      "    nist_score\n",
      "    nonprojectivedependencyparser\n",
      "    paice\n",
      "    parented\n",
      "    parsing\n",
      "    pchart\n",
      "    perceptron\n",
      "    phrase_based\n",
      "    porter\n",
      "    positivenaivebayes\n",
      "    prettyprinter\n",
      "    probabilistic\n",
      "    projectivedependencyparser\n",
      "    prover9\n",
      "    punkt\n",
      "    recursivedescent\n",
      "    regexp\n",
      "    relextract\n",
      "    repp\n",
      "    resolution\n",
      "    ribes_score\n",
      "    rslp\n",
      "    rte_classify\n",
      "    scikitlearn\n",
      "    scores\n",
      "    segmentation\n",
      "    senna\n",
      "    sequential\n",
      "    sexpr\n",
      "    shiftreduce\n",
      "    simple\n",
      "    snowball\n",
      "    sonority_sequencing\n",
      "    spearman\n",
      "    stack_decoder\n",
      "    stanford\n",
      "    stanford_segmenter\n",
      "    tableau\n",
      "    tadm\n",
      "    textcat\n",
      "    texttiling\n",
      "    tnt\n",
      "    toktok\n",
      "    transforms\n",
      "    transitionparser\n",
      "    treebank\n",
      "    viterbi\n",
      "    weka\n",
      "    wordnet\n",
      "\n",
      "FUNCTIONS\n",
      "    demo()\n",
      "        # FIXME:  override any accidentally imported demo, see https://github.com/nltk/nltk/issues/2116\n",
      "    \n",
      "    tee(iterable, n=2, /)\n",
      "        Returns a tuple of n independent iterators.\n",
      "\n",
      "DATA\n",
      "    RUS_PICKLE = 'taggers/averaged_perceptron_tagger_ru/averaged_perceptro...\n",
      "    SLASH = *slash*\n",
      "    TYPE = *type*\n",
      "    __author_email__ = 'nltk.team@gmail.com'\n",
      "    __classifiers__ = ['Development Status :: 5 - Production/Stable', 'Int...\n",
      "    __copyright__ = 'Copyright (C) 2001-2022 NLTK Project.\\n\\nDistribut......\n",
      "    __keywords__ = ['NLP', 'CL', 'natural language processing', 'computati...\n",
      "    __license__ = 'Apache License, Version 2.0'\n",
      "    __longdescr__ = 'The Natural Language Toolkit (NLTK) is a Python ...in...\n",
      "    __maintainer__ = 'NLTK Team'\n",
      "    __maintainer_email__ = 'nltk.team@gmail.com'\n",
      "    __url__ = 'https://www.nltk.org/'\n",
      "    app = <LazyModule 'nltk.nltk.app'>\n",
      "    chat = <LazyModule 'nltk.nltk.chat'>\n",
      "    corpus = <LazyModule 'nltk.nltk.corpus'>\n",
      "    infile = <_io.TextIOWrapper name='C:\\\\python\\\\Python39\\\\l...ckages\\\\nl...\n",
      "    json_tags = {'!nltk.tag.BrillTagger': <class 'nltk.tag.brill.BrillTagg...\n",
      "    toolbox = <LazyModule 'nltk.nltk.toolbox'>\n",
      "    version_file = r'C:\\python\\Python39\\lib\\site-packages\\nltk\\VERSION'\n",
      "\n",
      "VERSION\n",
      "    3.7\n",
      "\n",
      "AUTHOR\n",
      "    NLTK Team\n",
      "\n",
      "FILE\n",
      "    c:\\python\\python39\\lib\\site-packages\\nltk\\__init__.py\n",
      "\n",
      "\n"
     ]
    }
   ],
   "source": [
    "help(nltk)"
   ]
  },
  {
   "cell_type": "code",
   "execution_count": 10,
   "id": "15172642",
   "metadata": {
    "scrolled": false
   },
   "outputs": [
    {
     "name": "stdout",
     "output_type": "stream",
     "text": [
      "*** Introductory Examples for the NLTK Book ***\n",
      "Loading text1, ..., text9 and sent1, ..., sent9\n",
      "Type the name of the text or sentence to view it.\n",
      "Type: 'texts()' or 'sents()' to list the materials.\n",
      "text1: Moby Dick by Herman Melville 1851\n",
      "text2: Sense and Sensibility by Jane Austen 1811\n",
      "text3: The Book of Genesis\n",
      "text4: Inaugural Address Corpus\n",
      "text5: Chat Corpus\n",
      "text6: Monty Python and the Holy Grail\n",
      "text7: Wall Street Journal\n",
      "text8: Personals Corpus\n",
      "text9: The Man Who Was Thursday by G . K . Chesterton 1908\n",
      "text1: Moby Dick by Herman Melville 1851\n",
      "text2: Sense and Sensibility by Jane Austen 1811\n",
      "text3: The Book of Genesis\n",
      "text4: Inaugural Address Corpus\n",
      "text5: Chat Corpus\n",
      "text6: Monty Python and the Holy Grail\n",
      "text7: Wall Street Journal\n",
      "text8: Personals Corpus\n",
      "text9: The Man Who Was Thursday by G . K . Chesterton 1908\n"
     ]
    }
   ],
   "source": [
    "# 1.말뭉치 중 'book' 말뭉치 내부로 다운로드하여 사용함\n",
    "import nltk\n",
    "nltk.download(\"book\", quiet=True) # 다운로드는 메모리에 1회만 업로드됨\n",
    "\n",
    "# 'book' text 확인\n",
    "from nltk.book import *\n",
    "texts()"
   ]
  },
  {
   "cell_type": "code",
   "execution_count": 11,
   "id": "ee08ea64",
   "metadata": {},
   "outputs": [
    {
     "data": {
      "text/plain": [
       "['austen-emma.txt',\n",
       " 'austen-persuasion.txt',\n",
       " 'austen-sense.txt',\n",
       " 'bible-kjv.txt',\n",
       " 'blake-poems.txt',\n",
       " 'bryant-stories.txt',\n",
       " 'burgess-busterbrown.txt',\n",
       " 'carroll-alice.txt',\n",
       " 'chesterton-ball.txt',\n",
       " 'chesterton-brown.txt',\n",
       " 'chesterton-thursday.txt',\n",
       " 'edgeworth-parents.txt',\n",
       " 'melville-moby_dick.txt',\n",
       " 'milton-paradise.txt',\n",
       " 'shakespeare-caesar.txt',\n",
       " 'shakespeare-hamlet.txt',\n",
       " 'shakespeare-macbeth.txt',\n",
       " 'whitman-leaves.txt']"
      ]
     },
     "execution_count": 11,
     "metadata": {},
     "output_type": "execute_result"
    }
   ],
   "source": [
    "# 2.내장 말뭉치 데이터 사용\n",
    "# 저작권 말소된 작품들 리스트(gutenberg 말뭉치)\n",
    "nltk.corpus.gutenberg.fileids()"
   ]
  },
  {
   "cell_type": "code",
   "execution_count": 26,
   "id": "5acf158f",
   "metadata": {},
   "outputs": [
    {
     "name": "stdout",
     "output_type": "stream",
     "text": [
      "[The Tragedie of Hamlet by William Shakespeare 1599]\n",
      "\n",
      "\n",
      "Actus Primus. Scoena Prima.\n",
      "\n",
      "Enter Barnardo and Francisco two Centinels.\n",
      "\n",
      "  Barnardo. Who's there?\n",
      "  Fran. Nay answer me: Stand & vnfold\n",
      "your selfe\n",
      "\n",
      "   Bar. Long liue the King\n",
      "\n",
      "   Fran. Barnardo?\n",
      "  Bar. He\n",
      "\n",
      "   Fran. You come most carefully vpon your houre\n",
      "\n",
      "   Bar. 'Tis now strook twelue, get thee to bed Francisco\n",
      "\n",
      "   Fran. For this releefe much thankes: 'Tis bitter cold,\n",
      "And I am sicke at heart\n",
      "\n",
      "   Barn. Haue you had quiet Guard?\n",
      "  Fran. Not a Mouse stirring\n",
      "\n",
      "   Barn. Well, goodnight. If you do meet Horatio and\n",
      "Marcellus, the Riuals of my Watch, bid them make hast.\n",
      "Enter Horatio and Marcellus.\n",
      "\n",
      "  Fran. I thinke I heare them. Stand: who's there?\n",
      "  Hor. Friends to this ground\n",
      "\n",
      "   Mar. And Leige-men to the Dane\n",
      "\n",
      "   Fran. Giue you good night\n",
      "\n",
      "   Mar. O farwel honest Soldier, who hath relieu'd you?\n",
      "  Fra. Barnardo ha's my place: giue you goodnight.\n",
      "\n",
      "Exit Fran.\n",
      "\n",
      "  Mar. Holla Barnardo\n",
      "\n",
      "   Bar. Say, what is Horatio there?\n",
      "  Hor. A peece of\n"
     ]
    }
   ],
   "source": [
    "# 햄릿이란 작품을 1000자까지 보여줌\n",
    "hamlet_raw = nltk.corpus.gutenberg.raw(\"shakespeare-hamlet.txt\") #shakespeare-hamlet.txt\n",
    "print(hamlet_raw[:1000])"
   ]
  },
  {
   "cell_type": "code",
   "execution_count": 24,
   "id": "2e5afaf9",
   "metadata": {},
   "outputs": [],
   "source": [
    "# txt 파일로 저장하기\n",
    "with open('data/hamlet.txt', 'w') as file:\n",
    "    file.write(hamlet_raw)"
   ]
  },
  {
   "cell_type": "markdown",
   "id": "11994163",
   "metadata": {},
   "source": [
    "#### # 토큰(token) 생성\n",
    "긴 문자열을 분석을 위한 작은 단위로 나누어야 한다\n",
    "- 토큰(token): 문자열 단위\n",
    "- 토큰 생성(tokenizing): 문자열을 토큰으로 나누는 작업 \n",
    "- 토큰 생성 함수(tokenizer): 문자열을 토큰으로 분리하는 함수(리스트)    "
   ]
  },
  {
   "cell_type": "code",
   "execution_count": 29,
   "id": "e1d8a9a4",
   "metadata": {},
   "outputs": [
    {
     "name": "stdout",
     "output_type": "stream",
     "text": [
      "Enter Barnardo and Francisco two Centinels.\n"
     ]
    }
   ],
   "source": [
    "from nltk.tokenize import sent_tokenize\n",
    "# print(sent_tokenize(hamlet_raw[:1000])) # 마침표 단위로 분리"
   ]
  },
  {
   "cell_type": "code",
   "execution_count": 32,
   "id": "d8ce0f74",
   "metadata": {},
   "outputs": [
    {
     "data": {
      "text/plain": [
       "['9',\n",
       " ']',\n",
       " 'Actus',\n",
       " 'Primus',\n",
       " '.',\n",
       " 'Scoena',\n",
       " 'Prima',\n",
       " '.',\n",
       " 'Enter',\n",
       " 'Barnardo',\n",
       " 'a']"
      ]
     },
     "execution_count": 32,
     "metadata": {},
     "output_type": "execute_result"
    }
   ],
   "source": [
    "# 토큰화한 데이터를 슬라이싱 하여 보여준다.\n",
    "from nltk.tokenize import word_tokenize\n",
    "word_tokenize(hamlet_raw[50:100])"
   ]
  },
  {
   "cell_type": "code",
   "execution_count": 33,
   "id": "73cf86a7",
   "metadata": {
    "scrolled": true
   },
   "outputs": [
    {
     "data": {
      "text/plain": [
       "['9', 'Actus', 'Primus', 'Scoena', 'Prima', 'Enter', 'Barnardo', 'a']"
      ]
     },
     "execution_count": 33,
     "metadata": {},
     "output_type": "execute_result"
    }
   ],
   "source": [
    "# 정규화로 괄호와 같은 불필요한 요소를 제거한다.\n",
    "from nltk.tokenize import RegexpTokenizer\n",
    "retokenize = RegexpTokenizer(\"[\\w]+\")\n",
    "retokenize.tokenize(hamlet_raw[50:100])"
   ]
  },
  {
   "cell_type": "markdown",
   "id": "5fe71c35",
   "metadata": {},
   "source": [
    "#### # 형태소 분석(morphological analysis)\n",
    "단어로부터 어근, 접두사, 접미사, 품사 등 다양한 언어적 속성을 파악하고 이를 이용하여 형태소를 찾아내거나 처리하는 작업\n",
    "- **형태소(morpheme)**: 언어학에서 일정한 의미가 있는 가장 작은 말의 단위. 단 **자연어 처리에서는 토큰으로 형태소를 이용한다**\n",
    "- 형태소 분석(morphological analysis)의 예: <br>\n",
    " > 어간 추출(stemming)<br> \n",
    " > 원형 복원(lemmatizing)<br>\n",
    " > 품사 부착(Part-Of-Speech tagging)  "
   ]
  },
  {
   "cell_type": "markdown",
   "id": "317ad591",
   "metadata": {},
   "source": [
    " - *어간 추출(stemming) <br>\n",
    "변화된 단어의 접미사나 어미를 제거하여 같은 의미를 가지는 형태소의 기본형을 찾는 방법"
   ]
  },
  {
   "cell_type": "code",
   "execution_count": 34,
   "id": "28246d5b",
   "metadata": {},
   "outputs": [
    {
     "name": "stdout",
     "output_type": "stream",
     "text": [
      "Porter Stemmer   : ['fli', 'fli', 'fli', 'flew', 'flown']\n",
      "Lancaster Stemmer: ['fly', 'fli', 'fly', 'flew', 'flown']\n"
     ]
    }
   ],
   "source": [
    "from nltk.stem import PorterStemmer, LancasterStemmer\n",
    "\n",
    "st1 = PorterStemmer()\n",
    "st2 = LancasterStemmer()\n",
    "\n",
    "words = [\"fly\", \"flies\", \"flying\", \"flew\", \"flown\"]\n",
    "\n",
    "print(\"Porter Stemmer   :\", [st1.stem(w) for w in words])\n",
    "print(\"Lancaster Stemmer:\", [st2.stem(w) for w in words])"
   ]
  },
  {
   "cell_type": "markdown",
   "id": "1a0510cf",
   "metadata": {},
   "source": [
    " - *원형 복원(lemmatizing) <br>\n",
    " 같은 의미를 가지는 여러 단어를 사전형으로 통일하는 작업"
   ]
  },
  {
   "cell_type": "code",
   "execution_count": 24,
   "id": "308daf56",
   "metadata": {},
   "outputs": [
    {
     "data": {
      "text/plain": [
       "['fly', 'fly', 'fly', 'fly', 'fly']"
      ]
     },
     "execution_count": 24,
     "metadata": {},
     "output_type": "execute_result"
    }
   ],
   "source": [
    "from nltk.stem import WordNetLemmatizer\n",
    "\n",
    "lm = WordNetLemmatizer()\n",
    "\n",
    "[lm.lemmatize(w, pos=\"v\") for w in words]"
   ]
  },
  {
   "cell_type": "markdown",
   "id": "beae686a",
   "metadata": {},
   "source": [
    "#### # 품사(POS, part-of-speech) 태깅\n",
    "- 품사(POS, part-of-speech): 낱말을 문법적인 기능이나 형태, 뜻에 따라 구분한 것\n",
    "- 품사의 구분은 언어마다 그리고 학자마다 다르다  \n",
    "- NLTK 펜 트리뱅크 태그세트에서 사용하는 품사의 예:\n",
    "    > NNP: 단수 고유명사 <br>\n",
    "    > VB: 동사 <br>\n",
    "    > VBP: 동사 현재형 <br>\n",
    "    > TO: to 전치사 <br>\n",
    "    > NN: 명사(단수형 혹은 집합형) <br>\n",
    "    > DT: 관형사 <br>"
   ]
  },
  {
   "cell_type": "code",
   "execution_count": 30,
   "id": "bb87696b",
   "metadata": {},
   "outputs": [
    {
     "name": "stdout",
     "output_type": "stream",
     "text": [
      "VB: verb, base form\n",
      "    ask assemble assess assign assume atone attention avoid bake balkanize\n",
      "    bank begin behold believe bend benefit bevel beware bless boil bomb\n",
      "    boost brace break bring broil brush build ...\n"
     ]
    }
   ],
   "source": [
    "# 품사 설명\n",
    "nltk.help.upenn_tagset(\"VB\")"
   ]
  },
  {
   "cell_type": "code",
   "execution_count": 35,
   "id": "46ba4a23",
   "metadata": {
    "scrolled": true
   },
   "outputs": [
    {
     "data": {
      "text/plain": [
       "[('The', 'DT'),\n",
       " ('Tragedie', 'NNP'),\n",
       " ('of', 'IN'),\n",
       " ('Hamlet', 'NNP'),\n",
       " ('by', 'IN'),\n",
       " ('William', 'NNP'),\n",
       " ('Shakespeare', 'NNP'),\n",
       " ('1599', 'CD')]"
      ]
     },
     "execution_count": 35,
     "metadata": {},
     "output_type": "execute_result"
    }
   ],
   "source": [
    "# 단어 토큰에 품사를 부착하여 튜플로 출력\n",
    "from nltk.tag import pos_tag\n",
    "\n",
    "sentence = \"The Tragedie of Hamlet by William Shakespeare 1599\"\n",
    "tagged_list = pos_tag(word_tokenize(sentence))\n",
    "tagged_list"
   ]
  },
  {
   "cell_type": "code",
   "execution_count": 36,
   "id": "78c9c4ee",
   "metadata": {},
   "outputs": [
    {
     "data": {
      "text/plain": [
       "['Tragedie', 'Hamlet', 'William', 'Shakespeare']"
      ]
     },
     "execution_count": 36,
     "metadata": {},
     "output_type": "execute_result"
    }
   ],
   "source": [
    "# 예:)고유명사 토큰만 선택\n",
    "nouns_list = [t[0] for t in tagged_list if t[1] == \"NNP\"]\n",
    "nouns_list"
   ]
  },
  {
   "cell_type": "code",
   "execution_count": 37,
   "id": "4cb5c5cb",
   "metadata": {},
   "outputs": [
    {
     "data": {
      "text/plain": [
       "['The', 'Tragedie', 'of', 'Hamlet', 'by', 'William', 'Shakespeare', '1599']"
      ]
     },
     "execution_count": 37,
     "metadata": {},
     "output_type": "execute_result"
    }
   ],
   "source": [
    "# 태그 튜플 제거\n",
    "from nltk.tag import untag\n",
    "\n",
    "untag(tagged_list)"
   ]
  },
  {
   "cell_type": "markdown",
   "id": "8e51f230",
   "metadata": {},
   "source": [
    "--------------"
   ]
  },
  {
   "cell_type": "markdown",
   "id": "66839938",
   "metadata": {},
   "source": [
    "### NLTK 기타 클래스 : 분석 및 시각화\n",
    "\n",
    "#### # Text 클래스\n",
    "NLTK에서 문서 분석에 유용한 여러가지 메서드를 제공하는 클래스"
   ]
  },
  {
   "cell_type": "code",
   "execution_count": 43,
   "id": "7006f5c6",
   "metadata": {
    "scrolled": true
   },
   "outputs": [
    {
     "data": {
      "image/png": "[encoded data removed]",
      "text/plain": [
       "<Figure size 432x288 with 1 Axes>"
      ]
     },
     "metadata": {
      "needs_background": "light"
     },
     "output_type": "display_data"
    }
   ],
   "source": [
    "# 각 토큰의 사용 빈도를 그래프로 그려준다.\n",
    "from nltk import Text\n",
    "import matplotlib.pyplot as plt\n",
    "\n",
    "text = Text(retokenize.tokenize(hamlet_raw))\n",
    "text\n",
    "text.plot(40)  # 빈도수가 많은 순서로 40개 출력\n",
    "plt.show()"
   ]
  },
  {
   "cell_type": "code",
   "execution_count": 44,
   "id": "07f33278",
   "metadata": {
    "scrolled": true
   },
   "outputs": [
    {
     "data": {
      "image/png": "[encoded data removed]",
      "text/plain": [
       "<Figure size 432x288 with 1 Axes>"
      ]
     },
     "metadata": {
      "needs_background": "light"
     },
     "output_type": "display_data"
    }
   ],
   "source": [
    "# hamlet의 등장 인물들에 대한 단어가 사용된 위치를 시각화한다\n",
    "text.dispersion_plot(['Ham', 'Lord', 'King','Hamlet','Fran', 'Bar', 'Hor', 'Barn'])"
   ]
  },
  {
   "cell_type": "code",
   "execution_count": 45,
   "id": "367ba1a8",
   "metadata": {
    "collapsed": true
   },
   "outputs": [
    {
     "name": "stdout",
     "output_type": "stream",
     "text": [
      "Displaying 25 of 100 matches:\n",
      "The Tragedie of Hamlet by William Shakespeare 1599 Actus P\n",
      "to the Combate In which our Valiant Hamlet For so this side of our knowne worl\n",
      " of the Article designe His fell to Hamlet Now sir young Fortinbras Of vnimpro\n",
      "at we haue seene to night Vnto yong Hamlet For vpon my life This Spirit dumbe \n",
      "ing of Denmarke Gertrude the Queene Hamlet Polonius Laertes and his Sister Oph\n",
      " Lords Attendant King Though yet of Hamlet our deere Brothers death The memory\n",
      "end it at thy will But now my Cosin Hamlet and my Sonne Ham A little more then\n",
      "d I am too much i th Sun Queen Good Hamlet cast thy nightly colour off And let\n",
      "weet and commendable In your Nature Hamlet To giue these mourning duties to yo\n",
      "Let not thy Mother lose her Prayers Hamlet I prythee stay with vs go not to Wi\n",
      " This gentle and vnforc d accord of Hamlet Sits smiling to my heart in grace w\n",
      "thly Thunder Come away Exeunt Manet Hamlet Ham Oh that this too too solid Fles\n",
      "u Ophel Doe you doubt that Laer For Hamlet and the trifling of his fauours Hol\n",
      "ase you somthing touching the L ord Hamlet Polon Marry well bethought Tis told\n",
      "e Then a command to parley For Lord Hamlet Beleeue so much in him that he is y\n",
      "o giue words or talke with the Lord Hamlet Looke too t I charge you come your \n",
      "e I shall obey my Lord Exeunt Enter Hamlet Horatio Marcellus Ham The Ayre bite\n",
      "I will speake to thee Ile call thee Hamlet King Father Royall Dane Oh oh answe\n",
      "re what should we doe Ghost beckens Hamlet Hor It beckons you to goe away with\n",
      "goe on Ile follow thee Exeunt Ghost Hamlet Hor He waxes desperate with imagina\n",
      "s follow him Exeunt Enter Ghost and Hamlet Ham Where wilt thou lead me speak I\n",
      "be To eares of flesh and bloud list Hamlet oh list If thou didst euer thy dear\n",
      "ould st thou not stirre in this Now Hamlet heare It s giuen out that sleeping \n",
      " my most seeming vertuous Queene Oh Hamlet what a falling off was there From m\n",
      "ale his vneffectuall Fire Adue adue Hamlet remember me Enter Ham Oh all you ho\n"
     ]
    }
   ],
   "source": [
    "# concordance 메서드: 단어가 사용된 위치를 직접 표시 (콤마, 괄호 등이 없어짐)\n",
    "text.concordance(\"Hamlet\")"
   ]
  },
  {
   "cell_type": "markdown",
   "id": "48e3dbd1",
   "metadata": {},
   "source": [
    "#### # FreqDist(단어의 빈도수)"
   ]
  },
  {
   "cell_type": "code",
   "execution_count": 47,
   "id": "abba1de7",
   "metadata": {},
   "outputs": [
    {
     "data": {
      "text/plain": [
       "FreqDist({'the': 860, 'and': 606, 'of': 576, 'to': 576, 'I': 553, 'you': 479, 'a': 449, 'my': 435, 'in': 359, 'it': 354, ...})"
      ]
     },
     "execution_count": 47,
     "metadata": {},
     "output_type": "execute_result"
    }
   ],
   "source": [
    "# 단어의 빈도수\n",
    "fd = text.vocab()\n",
    "fd"
   ]
  },
  {
   "cell_type": "code",
   "execution_count": 52,
   "id": "2f74cc95",
   "metadata": {
    "scrolled": true
   },
   "outputs": [
    {
     "data": {
      "text/plain": [
       "FreqDist({'Ham': 322, 'Lord': 205, 'King': 154, 'Hamlet': 97, 'Hor': 92, 'Enter': 80, 'Oh': 73, 'My': 62, 'Qu': 60, 'Ile': 56, ...})"
      ]
     },
     "execution_count": 52,
     "metadata": {},
     "output_type": "execute_result"
    }
   ],
   "source": [
    "# 햄릿 파일 읽어오기\n",
    "hamlet_raw = nltk.corpus.gutenberg.raw(\"shakespeare-hamlet.txt\") #shakespeare-hamlet.txt\n",
    "\n",
    "# 불용어 \n",
    "stopwords = [\"Mr.\", \"Mrs.\", \"Miss\", \"Mr\", \"Mrs\", \"Dear\"] \n",
    "\n",
    "# 토큰화 하기\n",
    "hamlet_tokens = pos_tag(retokenize.tokenize(hamlet_raw))\n",
    "names_list = [t[0] for t in hamlet_tokens if t[1] == \"NNP\" and t[0] not in stopwords]\n",
    "\n",
    "# 단어 빈도수\n",
    "from nltk import FreqDist\n",
    "fd_names = FreqDist(names_list)\n",
    "fd_names "
   ]
  },
  {
   "cell_type": "code",
   "execution_count": 49,
   "id": "2227e700",
   "metadata": {},
   "outputs": [
    {
     "data": {
      "text/plain": [
       "[('Ham', 322), ('Lord', 205), ('King', 154), ('Hamlet', 97), ('Hor', 92)]"
      ]
     },
     "execution_count": 49,
     "metadata": {},
     "output_type": "execute_result"
    }
   ],
   "source": [
    "# 가장 출현 횟수가 높은 단어 5ㄱㅐ\n",
    "fd_names.most_common(5)"
   ]
  },
  {
   "cell_type": "code",
   "execution_count": 50,
   "id": "965236e2",
   "metadata": {},
   "outputs": [
    {
     "data": {
      "text/plain": [
       "(5570, 322, 0.05780969479353681)"
      ]
     },
     "execution_count": 50,
     "metadata": {},
     "output_type": "execute_result"
    }
   ],
   "source": [
    "# \"Ham\" 단어의 출현 횟수, 확률\n",
    "fd_names.N(), fd_names[\"Ham\"], fd_names.freq(\"Ham\")"
   ]
  },
  {
   "cell_type": "code",
   "execution_count": 53,
   "id": "d2bf6073",
   "metadata": {
    "scrolled": true
   },
   "outputs": [
    {
     "data": {
      "image/png": "[encoded data removed]",
      "text/plain": [
       "<Figure size 432x288 with 1 Axes>"
      ]
     },
     "metadata": {
      "needs_background": "light"
     },
     "output_type": "display_data"
    }
   ],
   "source": [
    "# 단어의 사용 빈도수에 따라 워드클라우드(Word Cloud) 시각화\n",
    "from wordcloud import WordCloud\n",
    "\n",
    "wc = WordCloud(width=1000, height=600, \n",
    "               background_color=\"white\", random_state=0)\n",
    "plt.imshow(wc.generate_from_frequencies(fd_names)) # 딕셔너리\n",
    "plt.axis(\"off\")\n",
    "plt.show()"
   ]
  },
  {
   "cell_type": "markdown",
   "id": "ac5defdb",
   "metadata": {},
   "source": [
    "### [실습] 햄릿.txt 파일에서 명사들 빈도수에 따른 워드클라우드 생성하기"
   ]
  },
  {
   "cell_type": "code",
   "execution_count": 62,
   "id": "5922a0d8",
   "metadata": {},
   "outputs": [
    {
     "name": "stdout",
     "output_type": "stream",
     "text": [
      "text1: Moby Dick by Herman Melville 1851\n",
      "text2: Sense and Sensibility by Jane Austen 1811\n",
      "text3: The Book of Genesis\n",
      "text4: Inaugural Address Corpus\n",
      "text5: Chat Corpus\n",
      "text6: Monty Python and the Holy Grail\n",
      "text7: Wall Street Journal\n",
      "text8: Personals Corpus\n",
      "text9: The Man Who Was Thursday by G . K . Chesterton 1908\n",
      "단어 빈도수:  <FreqDist with 490 samples and 5618 outcomes>\n"
     ]
    },
    {
     "data": {
      "image/png": "[encoded data removed]",
      "text/plain": [
       "<Figure size 432x288 with 1 Axes>"
      ]
     },
     "metadata": {
      "needs_background": "light"
     },
     "output_type": "display_data"
    }
   ],
   "source": [
    "# 1.말뭉치 중 'book' 말뭉치 내부로 다운로드하여 사용함\n",
    "import nltk\n",
    "nltk.download(\"book\", quiet=True) # 다운로드는 메모리에 1회만 업로드됨\n",
    "\n",
    "# 'book' text 확인\n",
    "from nltk.book import *\n",
    "texts()\n",
    "\n",
    "\n",
    "# 햄릿 파일 읽어오기\n",
    "hamlet_raw = nltk.corpus.gutenberg.raw(\"austen-sense.txt\") #shakespeare-hamlet.txt\n",
    "\n",
    "# 불용어 \n",
    "stopwords = [\"Mr.\", \"Mrs.\", \"Miss\", \"Mr\", \"Mrs\", \"Dear\"] \n",
    "\n",
    "# 토큰화 하기\n",
    "hamlet_tokens = pos_tag(retokenize.tokenize(hamlet_raw))\n",
    "names_list = [t[0] for t in hamlet_tokens if t[1] == \"NNP\" and t[0] not in stopwords]\n",
    "\n",
    "\n",
    "# 단어 빈도수\n",
    "from nltk import FreqDist\n",
    "fd_names = FreqDist(names_list)\n",
    "print('단어 빈도수: ', fd_names)\n",
    "fd_names\n",
    "\n",
    "# 단어의 사용 빈도수에 따라 워드클라우드(Word Cloud) 시각화\n",
    "from wordcloud import WordCloud\n",
    "\n",
    "wc = WordCloud(width=1000, height=600, \n",
    "               background_color=\"black\", random_state=0)\n",
    "plt.imshow(wc.generate_from_frequencies(fd_names)) # 딕셔너리\n",
    "plt.axis(\"off\")\n",
    "plt.show()"
   ]
  },
  {
   "cell_type": "markdown",
   "id": "d8887dd3",
   "metadata": {},
   "source": [
    "--------------------"
   ]
  },
  {
   "cell_type": "markdown",
   "id": "75596fbd",
   "metadata": {},
   "source": [
    "### KoNLPy 한국어 처리 패키지\n",
    "KoNLPy(코엔엘파이라고 읽는다)는 한국어 텍스트를 이용하여 기초적인 NLP 작업을 수행하기 위한 파이썬 패키지\n",
    "- https://konlpy.org/ko/latest/"
   ]
  },
  {
   "cell_type": "markdown",
   "id": "692f10c2",
   "metadata": {},
   "source": [
    "### 라이브러리 설치\n",
    "0. 설치방법 참고: \n",
    "> 공식:   https://konlpy.org/ko/latest/install/ <br>\n",
    "> 경험자: https://ingu627.github.io/tips/install_konlpy/   (1, 2, 4) \n",
    "1. JAVA JDK 다운로드: https://www.oracle.com/java/technologies/downloads/#jdk17-windows \n",
    "https://download.oracle.com/java/17/latest/jdk-17_windows-x64_bin.exe  <br>\n",
    "\n",
    "2. PC(윈도우즈) 시스템 환경변수 설정\n",
    " > 시스템 변수 :  JAVA_HOME / C:\\Program Files\\Java\\jdk-17.0.4 <br>\n",
    "3. JAVA관련 파이썬 라이브러리(JPypel~)  다운로드\n",
    "  https://www.lfd.uci.edu/~gohlke/pythonlibs/#jpype <br>\n",
    "- 주의!!! 자신의 파이선 버전에 맞는 JPype1 설치하기\n",
    "ex)파이썬 3.9.x --> JPype1‑1.4.0‑cp39‑cp39‑win_amd64.whl 사용 <br>\n",
    "4. JPypel~ 설치하기\n",
    "> pip install JPype1‑1.4.0‑cp39‑cp39‑win_amd64.whl"
   ]
  },
  {
   "cell_type": "code",
   "execution_count": null,
   "id": "79ac267d",
   "metadata": {},
   "outputs": [],
   "source": [
    "!pip install JPype1‑1.4.0‑cp39‑cp39‑win_amd64.whl"
   ]
  },
  {
   "cell_type": "code",
   "execution_count": 63,
   "id": "4d825601",
   "metadata": {
    "collapsed": true
   },
   "outputs": [
    {
     "name": "stdout",
     "output_type": "stream",
     "text": [
      "Requirement already satisfied: konlpy in c:\\python\\python39\\lib\\site-packages (0.6.0)\n",
      "Requirement already satisfied: numpy>=1.6 in c:\\python\\python39\\lib\\site-packages (from konlpy) (1.19.5)\n",
      "Requirement already satisfied: lxml>=4.1.0 in c:\\python\\python39\\lib\\site-packages (from konlpy) (4.9.0)\n",
      "Requirement already satisfied: JPype1>=0.7.0 in c:\\python\\python39\\lib\\site-packages (from konlpy) (1.4.0)\n"
     ]
    },
    {
     "name": "stderr",
     "output_type": "stream",
     "text": [
      "WARNING: Ignoring invalid distribution -pencv-python-headless (c:\\python\\python39\\lib\\site-packages)\n",
      "WARNING: Ignoring invalid distribution -pencv-python-headless (c:\\python\\python39\\lib\\site-packages)\n",
      "WARNING: Ignoring invalid distribution -pencv-python-headless (c:\\python\\python39\\lib\\site-packages)\n",
      "WARNING: Ignoring invalid distribution -pencv-python-headless (c:\\python\\python39\\lib\\site-packages)\n",
      "WARNING: Ignoring invalid distribution -pencv-python-headless (c:\\python\\python39\\lib\\site-packages)\n",
      "WARNING: Ignoring invalid distribution -pencv-python-headless (c:\\python\\python39\\lib\\site-packages)\n"
     ]
    }
   ],
   "source": [
    "!pip install konlpy"
   ]
  },
  {
   "cell_type": "code",
   "execution_count": 64,
   "id": "893db809",
   "metadata": {
    "scrolled": false
   },
   "outputs": [
    {
     "data": {
      "text/plain": [
       "'0.6.0'"
      ]
     },
     "execution_count": 64,
     "metadata": {},
     "output_type": "execute_result"
    }
   ],
   "source": [
    "import konlpy\n",
    "konlpy.__version__"
   ]
  },
  {
   "cell_type": "markdown",
   "id": "bd66bf72",
   "metadata": {},
   "source": [
    "### KoNLPy 패키지의 주요 기능 \n",
    "- 한국어 말뭉치(corpus)\n",
    "- 형태소 분석(morphological analysis)"
   ]
  },
  {
   "cell_type": "markdown",
   "id": "c837d742",
   "metadata": {},
   "source": [
    "#### # 한국어 말뭉치(corpus)\n",
    "- kolaw : 대한민국 헌법 말뭉치\n",
    "- kobill : 국회법안 말뭉치"
   ]
  },
  {
   "cell_type": "code",
   "execution_count": 65,
   "id": "9b0dfeeb",
   "metadata": {},
   "outputs": [
    {
     "data": {
      "text/plain": [
       "['constitution.txt']"
      ]
     },
     "execution_count": 65,
     "metadata": {},
     "output_type": "execute_result"
    }
   ],
   "source": [
    "# 말뭉치가 포함하는 파일의 이름 출력\n",
    "from konlpy.corpus import kolaw\n",
    "kolaw.fileids()"
   ]
  },
  {
   "cell_type": "code",
   "execution_count": 66,
   "id": "966ad9b7",
   "metadata": {},
   "outputs": [
    {
     "data": {
      "text/plain": [
       "['1809890.txt',\n",
       " '1809891.txt',\n",
       " '1809892.txt',\n",
       " '1809893.txt',\n",
       " '1809894.txt',\n",
       " '1809895.txt',\n",
       " '1809896.txt',\n",
       " '1809897.txt',\n",
       " '1809898.txt',\n",
       " '1809899.txt']"
      ]
     },
     "execution_count": 66,
     "metadata": {},
     "output_type": "execute_result"
    }
   ],
   "source": [
    "from konlpy.corpus import kobill\n",
    "kobill.fileids()"
   ]
  },
  {
   "cell_type": "code",
   "execution_count": 68,
   "id": "1640d173",
   "metadata": {},
   "outputs": [
    {
     "name": "stdout",
     "output_type": "stream",
     "text": [
      "대한민국헌법\n",
      "\n",
      "유구한 역사와 전통에 빛나는 우리 대한국민은 3·1운동으로\n"
     ]
    }
   ],
   "source": [
    "# 해당 kolaw(헌법 말뭉치) 파일의 텍스트 출력\n",
    "c = kolaw.open('constitution.txt').read()\n",
    "print(c[:40])"
   ]
  },
  {
   "cell_type": "code",
   "execution_count": 74,
   "id": "c6b2da86",
   "metadata": {},
   "outputs": [
    {
     "name": "stdout",
     "output_type": "stream",
     "text": [
      "지방공무원법 일부개정법률안\n",
      "\n",
      "(정의화의원 대표발의 )\n",
      "\n",
      " 의 안\n",
      " 번 호\n"
     ]
    }
   ],
   "source": [
    "# kobill(국회법안 말뭉치) 파일의 텍스트 출력\n",
    "d = kobill.open('1809890.txt').read()\n",
    "print(d[:40])"
   ]
  },
  {
   "cell_type": "markdown",
   "id": "6ce15818",
   "metadata": {},
   "source": [
    "#### # 형태소 분석(morphological analysis)\n",
    "KoNLPy의 다양한 형태소 분석, 태깅 라이브러리 제공\n",
    "\n",
    "- Hannanum: 한나눔. KAIST Semantic Web Research Center 개발.\n",
    "http://semanticweb.kaist.ac.kr/hannanum/\n",
    "\n",
    "- Kkma: 꼬꼬마. 서울대학교 IDS(Intelligent Data Systems) 연구실 개발.\n",
    "http://kkma.snu.ac.kr/\n",
    "\n",
    "- Komoran: 코모란. Shineware에서 개발.\n",
    "https://github.com/shin285/KOMORAN\n",
    "\n",
    "- Mecab: 메카브. 일본어용 형태소 분석기를 한국어를 사용할 수 있도록 수정.\n",
    "https://bitbucket.org/eunjeon/mecab-ko\n",
    "\n",
    "- Open Korean Text: 오픈 소스 한국어 분석기. 과거 트위터 형태소 분석기.\n",
    "https://github.com/open-korean-text/open-korean-text"
   ]
  },
  {
   "cell_type": "code",
   "execution_count": 75,
   "id": "cb90a713",
   "metadata": {},
   "outputs": [],
   "source": [
    "from konlpy.tag import *\n",
    "\n",
    "hannanum = Hannanum()\n",
    "kkma = Kkma()\n",
    "komoran = Komoran()\n",
    "# mecab = Mecab()  # 윈도우에서는 오류 발생\n",
    "okt = Okt()"
   ]
  },
  {
   "cell_type": "markdown",
   "id": "f7647012",
   "metadata": {},
   "source": [
    "##### ## nouns : 명사 추출\n",
    "문자열에서 명사만 추출하려면 noun 명령을 사용"
   ]
  },
  {
   "cell_type": "code",
   "execution_count": 76,
   "id": "cfafc04f",
   "metadata": {},
   "outputs": [
    {
     "data": {
      "text/plain": [
       "['대한민국헌법', '유구', '역사', '전통', '빛', '우리', '대한국민', '3·1운동']"
      ]
     },
     "execution_count": 76,
     "metadata": {},
     "output_type": "execute_result"
    }
   ],
   "source": [
    "hannanum.nouns(c[:40])"
   ]
  },
  {
   "cell_type": "code",
   "execution_count": 77,
   "id": "ec3aa717",
   "metadata": {
    "collapsed": true
   },
   "outputs": [
    {
     "data": {
      "text/plain": [
       "['대한',\n",
       " '대한민국',\n",
       " '대한민국헌법',\n",
       " '민국',\n",
       " '헌법',\n",
       " '유구',\n",
       " '역사',\n",
       " '전통',\n",
       " '우리',\n",
       " '국민',\n",
       " '3',\n",
       " '1',\n",
       " '1운동',\n",
       " '운동']"
      ]
     },
     "execution_count": 77,
     "metadata": {},
     "output_type": "execute_result"
    }
   ],
   "source": [
    "kkma.nouns(c[:40])"
   ]
  },
  {
   "cell_type": "code",
   "execution_count": 78,
   "id": "f5b74df4",
   "metadata": {},
   "outputs": [
    {
     "data": {
      "text/plain": [
       "['대한민국', '헌법', '역사', '전통', '국민', '운동']"
      ]
     },
     "execution_count": 78,
     "metadata": {},
     "output_type": "execute_result"
    }
   ],
   "source": [
    "# komoran은 빈줄이 있으면 에러가 남\n",
    "komoran.nouns(\"\\n\".join([s for s in c[:40].split(\"\\n\") if s]))"
   ]
  },
  {
   "cell_type": "code",
   "execution_count": 79,
   "id": "53d35e43",
   "metadata": {},
   "outputs": [
    {
     "data": {
      "text/plain": [
       "['대한민국', '헌법', '유구', '역사', '전통', '우리', '국민', '운동']"
      ]
     },
     "execution_count": 79,
     "metadata": {},
     "output_type": "execute_result"
    }
   ],
   "source": [
    "okt.nouns(c[:40])"
   ]
  },
  {
   "cell_type": "markdown",
   "id": "44c4ea88",
   "metadata": {},
   "source": [
    "##### ## morphs : 형태소 추출\n",
    "모든 품사의 형태소(문자열 단위인 토큰(token)의미) 를 알아내려면 morphs라는 명령을 사용"
   ]
  },
  {
   "cell_type": "code",
   "execution_count": 80,
   "id": "615fc7c1",
   "metadata": {},
   "outputs": [
    {
     "data": {
      "text/plain": [
       "['대한민국헌법',\n",
       " '유구',\n",
       " '하',\n",
       " 'ㄴ',\n",
       " '역사',\n",
       " '와',\n",
       " '전통',\n",
       " '에',\n",
       " '빛',\n",
       " '나는',\n",
       " '우리',\n",
       " '대한국민',\n",
       " '은',\n",
       " '3·1운동',\n",
       " '으로']"
      ]
     },
     "execution_count": 80,
     "metadata": {},
     "output_type": "execute_result"
    }
   ],
   "source": [
    "hannanum.morphs(c[:40])"
   ]
  },
  {
   "cell_type": "code",
   "execution_count": 48,
   "id": "984f626a",
   "metadata": {
    "collapsed": true
   },
   "outputs": [
    {
     "data": {
      "text/plain": [
       "['대한민국',\n",
       " '헌법',\n",
       " '유구',\n",
       " '하',\n",
       " 'ㄴ',\n",
       " '역사',\n",
       " '와',\n",
       " '전통',\n",
       " '에',\n",
       " '빛나',\n",
       " '는',\n",
       " '우리',\n",
       " '대하',\n",
       " 'ㄴ',\n",
       " '국민',\n",
       " '은',\n",
       " '3',\n",
       " '·',\n",
       " '1',\n",
       " '운동',\n",
       " '으로']"
      ]
     },
     "execution_count": 48,
     "metadata": {},
     "output_type": "execute_result"
    }
   ],
   "source": [
    "kkma.morphs(c[:40])"
   ]
  },
  {
   "cell_type": "code",
   "execution_count": 81,
   "id": "fb350bb5",
   "metadata": {
    "collapsed": true
   },
   "outputs": [
    {
     "data": {
      "text/plain": [
       "['대한민국',\n",
       " '헌법',\n",
       " '유구',\n",
       " '하',\n",
       " 'ㄴ',\n",
       " '역사',\n",
       " '와',\n",
       " '전통',\n",
       " '에',\n",
       " '빛나',\n",
       " '는',\n",
       " '우리',\n",
       " '대하',\n",
       " 'ㄴ',\n",
       " '국민',\n",
       " '은',\n",
       " '3',\n",
       " '·',\n",
       " '1',\n",
       " '운동',\n",
       " '으로']"
      ]
     },
     "execution_count": 81,
     "metadata": {},
     "output_type": "execute_result"
    }
   ],
   "source": [
    "# komoran은 빈줄이 있으면 에러가 남\n",
    "komoran.morphs(\"\\n\".join([s for s in c[:40].split(\"\\n\") if s]))"
   ]
  },
  {
   "cell_type": "code",
   "execution_count": 82,
   "id": "71c047b3",
   "metadata": {
    "collapsed": true
   },
   "outputs": [
    {
     "data": {
      "text/plain": [
       "['대한민국',\n",
       " '헌법',\n",
       " '\\n\\n',\n",
       " '유구',\n",
       " '한',\n",
       " '역사',\n",
       " '와',\n",
       " '전통',\n",
       " '에',\n",
       " '빛나는',\n",
       " '우리',\n",
       " '대',\n",
       " '한',\n",
       " '국민',\n",
       " '은',\n",
       " '3',\n",
       " '·',\n",
       " '1',\n",
       " '운동',\n",
       " '으로']"
      ]
     },
     "execution_count": 82,
     "metadata": {},
     "output_type": "execute_result"
    }
   ],
   "source": [
    "okt.morphs(c[:40])"
   ]
  },
  {
   "cell_type": "markdown",
   "id": "1117c986",
   "metadata": {},
   "source": [
    "##### ## 품사(pos, part-of-speech) 태킹(부착): \n",
    "- 품사(POS, part-of-speech): 낱말을 문법적인 기능이나 형태, 뜻에 따라 구분한 것\n",
    "- 다양한 한국어 품사 태그세트가 있다.(예: 21세기 세종계획 품사 태그세트등)\n",
    "- 형태소 분석기마다 사용하는 품사 태그가 다르므로 각 형태소 분석기에 대한 문서를 참조해야한다."
   ]
  },
  {
   "cell_type": "code",
   "execution_count": 83,
   "id": "bfc29e8b",
   "metadata": {
    "collapsed": true
   },
   "outputs": [
    {
     "data": {
      "text/plain": [
       "[('대한민국헌법', 'N'),\n",
       " ('유구', 'N'),\n",
       " ('하', 'X'),\n",
       " ('ㄴ', 'E'),\n",
       " ('역사', 'N'),\n",
       " ('와', 'J'),\n",
       " ('전통', 'N'),\n",
       " ('에', 'J'),\n",
       " ('빛', 'N'),\n",
       " ('나는', 'J'),\n",
       " ('우리', 'N'),\n",
       " ('대한국민', 'N'),\n",
       " ('은', 'J'),\n",
       " ('3·1운동', 'N'),\n",
       " ('으로', 'J')]"
      ]
     },
     "execution_count": 83,
     "metadata": {},
     "output_type": "execute_result"
    }
   ],
   "source": [
    "hannanum.pos(c[:40])"
   ]
  },
  {
   "cell_type": "code",
   "execution_count": 84,
   "id": "0e6fdc84",
   "metadata": {
    "collapsed": true
   },
   "outputs": [
    {
     "data": {
      "text/plain": [
       "[('대한민국', 'NNG'),\n",
       " ('헌법', 'NNG'),\n",
       " ('유구', 'NNG'),\n",
       " ('하', 'XSV'),\n",
       " ('ㄴ', 'ETD'),\n",
       " ('역사', 'NNG'),\n",
       " ('와', 'JC'),\n",
       " ('전통', 'NNG'),\n",
       " ('에', 'JKM'),\n",
       " ('빛나', 'VV'),\n",
       " ('는', 'ETD'),\n",
       " ('우리', 'NNM'),\n",
       " ('대하', 'VV'),\n",
       " ('ㄴ', 'ETD'),\n",
       " ('국민', 'NNG'),\n",
       " ('은', 'JX'),\n",
       " ('3', 'NR'),\n",
       " ('·', 'SP'),\n",
       " ('1', 'NR'),\n",
       " ('운동', 'NNG'),\n",
       " ('으로', 'JKM')]"
      ]
     },
     "execution_count": 84,
     "metadata": {},
     "output_type": "execute_result"
    }
   ],
   "source": [
    "kkma.pos(c[:40])"
   ]
  },
  {
   "cell_type": "code",
   "execution_count": 74,
   "id": "aa4d18ea",
   "metadata": {
    "collapsed": true
   },
   "outputs": [
    {
     "data": {
      "text/plain": [
       "[('대한민국', 'NNP'),\n",
       " ('헌법', 'NNP'),\n",
       " ('유구', 'XR'),\n",
       " ('하', 'XSA'),\n",
       " ('ㄴ', 'ETM'),\n",
       " ('역사', 'NNG'),\n",
       " ('와', 'JC'),\n",
       " ('전통', 'NNG'),\n",
       " ('에', 'JKB'),\n",
       " ('빛나', 'VV'),\n",
       " ('는', 'ETM'),\n",
       " ('우리', 'NP'),\n",
       " ('대하', 'VV'),\n",
       " ('ㄴ', 'ETM'),\n",
       " ('국민', 'NNP'),\n",
       " ('은', 'JX'),\n",
       " ('3', 'SN'),\n",
       " ('·', 'SP'),\n",
       " ('1', 'SN'),\n",
       " ('운동', 'NNP'),\n",
       " ('으로', 'JKB')]"
      ]
     },
     "execution_count": 74,
     "metadata": {},
     "output_type": "execute_result"
    }
   ],
   "source": [
    "# komoran은 빈줄이 있으면 에러가 남\n",
    "komoran.pos(\"\\n\".join([s for s in c[:40].split(\"\\n\") if s]))"
   ]
  },
  {
   "cell_type": "code",
   "execution_count": 85,
   "id": "02d58b2a",
   "metadata": {
    "collapsed": true
   },
   "outputs": [
    {
     "data": {
      "text/plain": [
       "[('대한민국', 'Noun'),\n",
       " ('헌법', 'Noun'),\n",
       " ('\\n\\n', 'Foreign'),\n",
       " ('유구', 'Noun'),\n",
       " ('한', 'Josa'),\n",
       " ('역사', 'Noun'),\n",
       " ('와', 'Josa'),\n",
       " ('전통', 'Noun'),\n",
       " ('에', 'Josa'),\n",
       " ('빛나는', 'Verb'),\n",
       " ('우리', 'Noun'),\n",
       " ('대', 'Modifier'),\n",
       " ('한', 'Modifier'),\n",
       " ('국민', 'Noun'),\n",
       " ('은', 'Josa'),\n",
       " ('3', 'Number'),\n",
       " ('·', 'Punctuation'),\n",
       " ('1', 'Number'),\n",
       " ('운동', 'Noun'),\n",
       " ('으로', 'Josa')]"
      ]
     },
     "execution_count": 85,
     "metadata": {},
     "output_type": "execute_result"
    }
   ],
   "source": [
    "okt.pos(c[:40])"
   ]
  },
  {
   "cell_type": "code",
   "execution_count": 87,
   "id": "706fc67e",
   "metadata": {
    "collapsed": true
   },
   "outputs": [
    {
     "data": {
      "text/plain": [
       "{'EC': '연결 어미',\n",
       " 'ECD': '의존적 연결 어미',\n",
       " 'ECE': '대등 연결 어미',\n",
       " 'ECS': '보조적 연결 어미',\n",
       " 'EF': '종결 어미',\n",
       " 'EFA': '청유형 종결 어미',\n",
       " 'EFI': '감탄형 종결 어미',\n",
       " 'EFN': '평서형 종결 어미',\n",
       " 'EFO': '명령형 종결 어미',\n",
       " 'EFQ': '의문형 종결 어미',\n",
       " 'EFR': '존칭형 종결 어미',\n",
       " 'EP': '선어말 어미',\n",
       " 'EPH': '존칭 선어말 어미',\n",
       " 'EPP': '공손 선어말 어미',\n",
       " 'EPT': '시제 선어말 어미',\n",
       " 'ET': '전성 어미',\n",
       " 'ETD': '관형형 전성 어미',\n",
       " 'ETN': '명사형 전성 어미',\n",
       " 'IC': '감탄사',\n",
       " 'JC': '접속 조사',\n",
       " 'JK': '조사',\n",
       " 'JKC': '보격 조사',\n",
       " 'JKG': '관형격 조사',\n",
       " 'JKI': '호격 조사',\n",
       " 'JKM': '부사격 조사',\n",
       " 'JKO': '목적격 조사',\n",
       " 'JKQ': '인용격 조사',\n",
       " 'JKS': '주격 조사',\n",
       " 'JX': '보조사',\n",
       " 'MA': '부사',\n",
       " 'MAC': '접속 부사',\n",
       " 'MAG': '일반 부사',\n",
       " 'MD': '관형사',\n",
       " 'MDN': '수 관형사',\n",
       " 'MDT': '일반 관형사',\n",
       " 'NN': '명사',\n",
       " 'NNB': '일반 의존 명사',\n",
       " 'NNG': '보통명사',\n",
       " 'NNM': '단위 의존 명사',\n",
       " 'NNP': '고유명사',\n",
       " 'NP': '대명사',\n",
       " 'NR': '수사',\n",
       " 'OH': '한자',\n",
       " 'OL': '외국어',\n",
       " 'ON': '숫자',\n",
       " 'SE': '줄임표',\n",
       " 'SF': '마침표, 물음표, 느낌표',\n",
       " 'SO': '붙임표(물결,숨김,빠짐)',\n",
       " 'SP': '쉼표,가운뎃점,콜론,빗금',\n",
       " 'SS': '따옴표,괄호표,줄표',\n",
       " 'SW': '기타기호 (논리수학기호,화폐기호)',\n",
       " 'UN': '명사추정범주',\n",
       " 'VA': '형용사',\n",
       " 'VC': '지정사',\n",
       " 'VCN': \"부정 지정사, 형용사 '아니다'\",\n",
       " 'VCP': \"긍정 지정사, 서술격 조사 '이다'\",\n",
       " 'VV': '동사',\n",
       " 'VX': '보조 용언',\n",
       " 'VXA': '보조 형용사',\n",
       " 'VXV': '보조 동사',\n",
       " 'XP': '접두사',\n",
       " 'XPN': '체언 접두사',\n",
       " 'XPV': '용언 접두사',\n",
       " 'XR': '어근',\n",
       " 'XSA': '형용사 파생 접미사',\n",
       " 'XSN': '명사파생 접미사',\n",
       " 'XSV': '동사 파생 접미사'}"
      ]
     },
     "execution_count": 87,
     "metadata": {},
     "output_type": "execute_result"
    }
   ],
   "source": [
    "# 부착되는 품사 태그의 기호와 의미 확인은 .tagset 사용해서\n",
    "# kkma.tagset\n",
    "# okt.tagset"
   ]
  },
  {
   "cell_type": "code",
   "execution_count": 88,
   "id": "7473997d",
   "metadata": {
    "collapsed": true
   },
   "outputs": [
    {
     "data": {
      "text/html": [
       "<div><div id=79f9bf3b-c561-492e-b5d1-9dc686da39a6 style=\"display:none; background-color:#9D6CFF; color:white; width:200px; height:30px; padding-left:5px; border-radius:4px; flex-direction:row; justify-content:space-around; align-items:center;\" onmouseover=\"this.style.backgroundColor='#BA9BF8'\" onmouseout=\"this.style.backgroundColor='#9D6CFF'\" onclick=\"window.commands?.execute('create-mitosheet-from-dataframe-output');\">See Full Dataframe in Mito</div> <script> if (window.commands?.hasCommand('create-mitosheet-from-dataframe-output')) document.getElementById('79f9bf3b-c561-492e-b5d1-9dc686da39a6').style.display = 'flex' </script> <table border=\"1\" class=\"dataframe\">\n",
       "  <thead>\n",
       "    <tr style=\"text-align: right;\">\n",
       "      <th></th>\n",
       "      <th>Hannanum-기호</th>\n",
       "      <th>Hannanum-품사</th>\n",
       "      <th>Kkma-기호</th>\n",
       "      <th>Kkma-품사</th>\n",
       "      <th>Komoran-기호</th>\n",
       "      <th>Komoran-품사</th>\n",
       "      <th>OKT-기호</th>\n",
       "      <th>OKT-품사</th>\n",
       "    </tr>\n",
       "  </thead>\n",
       "  <tbody>\n",
       "    <tr>\n",
       "      <th>0</th>\n",
       "      <td>E</td>\n",
       "      <td>어미</td>\n",
       "      <td>EC</td>\n",
       "      <td>연결 어미</td>\n",
       "      <td>EC</td>\n",
       "      <td>연결 어미</td>\n",
       "      <td>Adjective</td>\n",
       "      <td>형용사</td>\n",
       "    </tr>\n",
       "    <tr>\n",
       "      <th>1</th>\n",
       "      <td>EC</td>\n",
       "      <td>연결 어미</td>\n",
       "      <td>ECD</td>\n",
       "      <td>의존적 연결 어미</td>\n",
       "      <td>EF</td>\n",
       "      <td>종결 어미</td>\n",
       "      <td>Adverb</td>\n",
       "      <td>부사</td>\n",
       "    </tr>\n",
       "    <tr>\n",
       "      <th>2</th>\n",
       "      <td>EF</td>\n",
       "      <td>종결 어미</td>\n",
       "      <td>ECE</td>\n",
       "      <td>대등 연결 어미</td>\n",
       "      <td>EP</td>\n",
       "      <td>선어말어미</td>\n",
       "      <td>Alpha</td>\n",
       "      <td>알파벳</td>\n",
       "    </tr>\n",
       "    <tr>\n",
       "      <th>3</th>\n",
       "      <td>EP</td>\n",
       "      <td>선어말어미</td>\n",
       "      <td>ECS</td>\n",
       "      <td>보조적 연결 어미</td>\n",
       "      <td>ETM</td>\n",
       "      <td>관형형 전성 어미</td>\n",
       "      <td>Conjunction</td>\n",
       "      <td>접속사</td>\n",
       "    </tr>\n",
       "    <tr>\n",
       "      <th>4</th>\n",
       "      <td>ET</td>\n",
       "      <td>전성 어미</td>\n",
       "      <td>EF</td>\n",
       "      <td>종결 어미</td>\n",
       "      <td>ETN</td>\n",
       "      <td>명사형 전성 어미</td>\n",
       "      <td>Determiner</td>\n",
       "      <td>관형사</td>\n",
       "    </tr>\n",
       "    <tr>\n",
       "      <th>...</th>\n",
       "      <td>...</td>\n",
       "      <td>...</td>\n",
       "      <td>...</td>\n",
       "      <td>...</td>\n",
       "      <td>...</td>\n",
       "      <td>...</td>\n",
       "      <td>...</td>\n",
       "      <td>...</td>\n",
       "    </tr>\n",
       "    <tr>\n",
       "      <th>62</th>\n",
       "      <td>*</td>\n",
       "      <td>*</td>\n",
       "      <td>XPV</td>\n",
       "      <td>용언 접두사</td>\n",
       "      <td>*</td>\n",
       "      <td>*</td>\n",
       "      <td>*</td>\n",
       "      <td>*</td>\n",
       "    </tr>\n",
       "    <tr>\n",
       "      <th>63</th>\n",
       "      <td>*</td>\n",
       "      <td>*</td>\n",
       "      <td>XR</td>\n",
       "      <td>어근</td>\n",
       "      <td>*</td>\n",
       "      <td>*</td>\n",
       "      <td>*</td>\n",
       "      <td>*</td>\n",
       "    </tr>\n",
       "    <tr>\n",
       "      <th>64</th>\n",
       "      <td>*</td>\n",
       "      <td>*</td>\n",
       "      <td>XSA</td>\n",
       "      <td>형용사 파생 접미사</td>\n",
       "      <td>*</td>\n",
       "      <td>*</td>\n",
       "      <td>*</td>\n",
       "      <td>*</td>\n",
       "    </tr>\n",
       "    <tr>\n",
       "      <th>65</th>\n",
       "      <td>*</td>\n",
       "      <td>*</td>\n",
       "      <td>XSN</td>\n",
       "      <td>명사파생 접미사</td>\n",
       "      <td>*</td>\n",
       "      <td>*</td>\n",
       "      <td>*</td>\n",
       "      <td>*</td>\n",
       "    </tr>\n",
       "    <tr>\n",
       "      <th>66</th>\n",
       "      <td>*</td>\n",
       "      <td>*</td>\n",
       "      <td>XSV</td>\n",
       "      <td>동사 파생 접미사</td>\n",
       "      <td>*</td>\n",
       "      <td>*</td>\n",
       "      <td>*</td>\n",
       "      <td>*</td>\n",
       "    </tr>\n",
       "  </tbody>\n",
       "</table></div>"
      ],
      "text/plain": [
       "   Hannanum-기호 Hannanum-품사 Kkma-기호     Kkma-품사 Komoran-기호 Komoran-품사  \\\n",
       "0            E          어미      EC       연결 어미         EC      연결 어미   \n",
       "1           EC       연결 어미     ECD   의존적 연결 어미         EF      종결 어미   \n",
       "2           EF       종결 어미     ECE    대등 연결 어미         EP      선어말어미   \n",
       "3           EP       선어말어미     ECS   보조적 연결 어미        ETM  관형형 전성 어미   \n",
       "4           ET       전성 어미      EF       종결 어미        ETN  명사형 전성 어미   \n",
       "..         ...         ...     ...         ...        ...        ...   \n",
       "62           *           *     XPV      용언 접두사          *          *   \n",
       "63           *           *      XR          어근          *          *   \n",
       "64           *           *     XSA  형용사 파생 접미사          *          *   \n",
       "65           *           *     XSN    명사파생 접미사          *          *   \n",
       "66           *           *     XSV   동사 파생 접미사          *          *   \n",
       "\n",
       "         OKT-기호 OKT-품사  \n",
       "0     Adjective    형용사  \n",
       "1        Adverb     부사  \n",
       "2         Alpha    알파벳  \n",
       "3   Conjunction    접속사  \n",
       "4    Determiner    관형사  \n",
       "..          ...    ...  \n",
       "62            *      *  \n",
       "63            *      *  \n",
       "64            *      *  \n",
       "65            *      *  \n",
       "66            *      *  \n",
       "\n",
       "[67 rows x 8 columns]"
      ]
     },
     "execution_count": 88,
     "metadata": {},
     "output_type": "execute_result"
    }
   ],
   "source": [
    "# 형태소 태깅 라이브러리별 기호와 품사 출력하기\n",
    "import pandas as pd\n",
    "\n",
    "tagsets = pd.DataFrame()\n",
    "N = 67\n",
    "tagsets[\"Hannanum-기호\"] = list(hannanum.tagset.keys()) + list(\"*\" * (N - len(hannanum.tagset)))\n",
    "tagsets[\"Hannanum-품사\"] = list(hannanum.tagset.values()) + list(\"*\" * (N - len(hannanum.tagset)))\n",
    "tagsets[\"Kkma-기호\"] = list(kkma.tagset.keys()) + list(\"*\" * (N - len(kkma.tagset)))\n",
    "tagsets[\"Kkma-품사\"] = list(kkma.tagset.values()) + list(\"*\" * (N - len(kkma.tagset)))\n",
    "tagsets[\"Komoran-기호\"] = list(komoran.tagset.keys()) + list(\"*\" * (N - len(komoran.tagset)))\n",
    "tagsets[\"Komoran-품사\"] = list(komoran.tagset.values()) + list(\"*\" * (N - len(komoran.tagset)))\n",
    "# tagsets[\"Mecab-기호\"] = list(mecab.tagset.keys()) + list(\"*\" * (N - len(mecab.tagset)))\n",
    "# tagsets[\"Mecab-품사\"] = list(mecab.tagset.values()) + list(\"*\" * (N - len(mecab.tagset)))\n",
    "tagsets[\"OKT-기호\"] = list(okt.tagset.keys()) + list(\"*\" * (N - len(okt.tagset)))\n",
    "tagsets[\"OKT-품사\"] = list(okt.tagset.values()) + list(\"*\" * (N - len(okt.tagset)))\n",
    "tagsets"
   ]
  },
  {
   "cell_type": "markdown",
   "id": "035ba72b",
   "metadata": {},
   "source": [
    "### KoNLPy 시각화\n",
    "koNLPy의 형태소 분석기와 NLTK의 Text 클래스를 결합하여 NLTK 기능 사용하여 시각화하기"
   ]
  },
  {
   "cell_type": "code",
   "execution_count": 89,
   "id": "8578597f",
   "metadata": {
    "scrolled": true
   },
   "outputs": [
    {
     "data": {
      "image/png": "[encoded data removed]",
      "text/plain": [
       "<Figure size 432x288 with 1 Axes>"
      ]
     },
     "metadata": {
      "needs_background": "light"
     },
     "output_type": "display_data"
    }
   ],
   "source": [
    "from nltk import Text\n",
    "import matplotlib.pyplot as plt \n",
    "plt.rcParams['font.family'] = 'Malgun Gothic'\n",
    "\n",
    "kolaw_ko = Text(okt.nouns(c), name=\"kolaw\")\n",
    "kolaw_ko.plot(30)\n",
    "plt.show()"
   ]
  },
  {
   "cell_type": "markdown",
   "id": "6432388d",
   "metadata": {},
   "source": [
    "#### # FreqDist: 단어(토큰) 빈도수"
   ]
  },
  {
   "cell_type": "code",
   "execution_count": 90,
   "id": "920e930d",
   "metadata": {
    "scrolled": true
   },
   "outputs": [
    {
     "data": {
      "text/plain": [
       "FreqDist({'제': 175, '법률': 127, '정': 89, '수': 88, '대통령': 83, '국가': 73, '국회': 68, '국민': 61, '관': 58, '때': 55, ...})"
      ]
     },
     "execution_count": 90,
     "metadata": {},
     "output_type": "execute_result"
    }
   ],
   "source": [
    "# 단어(토큰)들의 빈도수 체크\n",
    "kolaw_ko.vocab()"
   ]
  },
  {
   "cell_type": "markdown",
   "id": "a165567b",
   "metadata": {},
   "source": [
    "#### # WordCloud"
   ]
  },
  {
   "cell_type": "code",
   "execution_count": 97,
   "id": "2694c589",
   "metadata": {
    "scrolled": true
   },
   "outputs": [
    {
     "data": {
      "image/png": "[encoded data removed]",
      "text/plain": [
       "<Figure size 576x360 with 1 Axes>"
      ]
     },
     "metadata": {
      "needs_background": "light"
     },
     "output_type": "display_data"
    },
    {
     "data": {
      "text/plain": [
       "<wordcloud.wordcloud.WordCloud at 0x1dd63735f70>"
      ]
     },
     "execution_count": 97,
     "metadata": {},
     "output_type": "execute_result"
    }
   ],
   "source": [
    "from wordcloud import WordCloud\n",
    "import matplotlib.pyplot as plt\n",
    "plt.rcParams['font.family'] = 'Malgun Gothic'\n",
    "plt.rcParams['figure.figsize'] = (8, 5)\n",
    "\n",
    "\n",
    "# 자신의 컴퓨터 환경에 맞는 한글 폰트 경로를 설정(window에서)\n",
    "# font_path = 'malgun'  # C:/Windows/Fonts/\n",
    "font_path = 'HMKMMAG' # C:/Windows/Fonts/HMKMMAG.TTF\n",
    "# font_path = 'HMFMPYUN'\n",
    "\n",
    "wc = WordCloud(width = 1000, height = 600, background_color=\"white\", font_path=font_path)\n",
    "plt.imshow(wc.generate_from_frequencies(kolaw_ko.vocab()))\n",
    "plt.axis(\"off\")\n",
    "plt.show()\n",
    "\n",
    "wc.to_file('image/법전_워드클라우드.png')"
   ]
  },
  {
   "cell_type": "markdown",
   "id": "8e105cf0",
   "metadata": {},
   "source": [
    "----------------------"
   ]
  },
  {
   "cell_type": "code",
   "execution_count": 98,
   "id": "0613a88e",
   "metadata": {
    "collapsed": true
   },
   "outputs": [
    {
     "name": "stdout",
     "output_type": "stream",
     "text": [
      "Requirement already satisfied: scikit-learn in c:\\python\\python39\\lib\\site-packages (1.1.1)\n",
      "Requirement already satisfied: joblib>=1.0.0 in c:\\python\\python39\\lib\\site-packages (from scikit-learn) (1.1.0)\n",
      "Requirement already satisfied: threadpoolctl>=2.0.0 in c:\\python\\python39\\lib\\site-packages (from scikit-learn) (3.1.0)\n",
      "Requirement already satisfied: scipy>=1.3.2 in c:\\python\\python39\\lib\\site-packages (from scikit-learn) (1.8.1)\n",
      "Requirement already satisfied: numpy>=1.17.3 in c:\\python\\python39\\lib\\site-packages (from scikit-learn) (1.19.5)\n"
     ]
    },
    {
     "name": "stderr",
     "output_type": "stream",
     "text": [
      "WARNING: Ignoring invalid distribution -pencv-python-headless (c:\\python\\python39\\lib\\site-packages)\n",
      "WARNING: Ignoring invalid distribution -pencv-python-headless (c:\\python\\python39\\lib\\site-packages)\n",
      "WARNING: Ignoring invalid distribution -pencv-python-headless (c:\\python\\python39\\lib\\site-packages)\n",
      "WARNING: Ignoring invalid distribution -pencv-python-headless (c:\\python\\python39\\lib\\site-packages)\n",
      "WARNING: Ignoring invalid distribution -pencv-python-headless (c:\\python\\python39\\lib\\site-packages)\n",
      "WARNING: Ignoring invalid distribution -pencv-python-headless (c:\\python\\python39\\lib\\site-packages)\n"
     ]
    }
   ],
   "source": [
    "!pip install scikit-learn"
   ]
  },
  {
   "cell_type": "markdown",
   "id": "fcbe7ac4",
   "metadata": {},
   "source": [
    "### Scikit-Learn 문서 전처리 기능 \n",
    "Scikit-Learn의 feature_extraction와 feature_extraction.text 서브패키지에서 문서 전처리용 클래스 제공한다.\n",
    "- https://scikit-learn.org/stable/modules/classes.html?highlight=feature_extraction#module-sklearn.feature_extraction.text\n",
    "\n",
    "\n",
    "#### # 특성화 벡터화 방법: BOW(Bag of Words) 인코딩 \n",
    "- 문서를 숫자 벡터로 변환하는 가장 기본적인 방법\n",
    "- BOW 인코딩 방법에서는 전체 문서 {d1,d2,…,dn} 를 구성하는 고정된 단어장(vocabulary) {t1,t2,…,tm} 를 만들고 di라는 개별 문서에 단어장에 해당하는 단어들이 포함되어 있는지를 표시하는 방법이다.\n",
    "> xi,j=문서 di내의 단어 tj의 출현 빈도 <br>\n",
    "> xi,j={만약 단어 tj가 문서 di 안에 없으면: 0, 만약 단어 tj가 문서 di 안에 있으면:1}\n",
    "\n",
    "    \n",
    "#### # Scikit-Learn 텍스트 전처리용 클래스 \n",
    "- DictVectorizer: <br>\n",
    "각 단어의 수를 세어놓은 사전에서 BOW 인코딩 벡터를 만든다.\n",
    "- **CountVectorizer**:<br>\n",
    "문서 집합에서 단어 토큰을 생성하고 각 단어의 수를 세어 BOW 인코딩 벡터를 만든다.\n",
    "- **TfidfVectorizer**:<br>\n",
    "CountVectorizer와 비슷하지만 TF-IDF 방식으로 단어의 가중치를 조정한 BOW 인코딩 벡터를 만든다.\n",
    "- HashingVectorizer:<br>\n",
    "해시 함수(hash function)을 사용하여 적은 메모리와 빠른 속도로 BOW 인코딩 벡터를 만든다."
   ]
  },
  {
   "cell_type": "markdown",
   "id": "00d4dcdc",
   "metadata": {},
   "source": [
    "#### ## CountVectorizer"
   ]
  },
  {
   "cell_type": "markdown",
   "id": "0d213047",
   "metadata": {},
   "source": [
    "CountVectorizer 작업 순서 <br>\n",
    "1. 문서를 토큰 리스트로 변환한다.\n",
    "2. 각 문서에서 토큰의 출현 빈도를 센다.\n",
    "3. 각 문서를 BOW 인코딩 벡터로 변환한다 "
   ]
  },
  {
   "cell_type": "code",
   "execution_count": 99,
   "id": "7fa88c91",
   "metadata": {},
   "outputs": [
    {
     "data": {
      "text/plain": [
       "{'this': 9,\n",
       " 'is': 3,\n",
       " 'the': 7,\n",
       " 'first': 2,\n",
       " 'document': 1,\n",
       " 'second': 6,\n",
       " 'and': 0,\n",
       " 'third': 8,\n",
       " 'one': 5,\n",
       " 'last': 4}"
      ]
     },
     "execution_count": 99,
     "metadata": {},
     "output_type": "execute_result"
    }
   ],
   "source": [
    "from sklearn.feature_extraction.text import CountVectorizer\n",
    "corpus = [\n",
    "    'This is the first document.',\n",
    "    'This is the second second document.',\n",
    "    'And the third one.',\n",
    "    'Is this the first document?',\n",
    "    'The last document?',\n",
    "]\n",
    "vect = CountVectorizer()\n",
    "vect.fit(corpus)\n",
    "vect.vocabulary_"
   ]
  },
  {
   "cell_type": "code",
   "execution_count": 101,
   "id": "cd5d0b71",
   "metadata": {},
   "outputs": [
    {
     "data": {
      "text/plain": [
       "{'그림은': 8,\n",
       " '모자를': 11,\n",
       " '그린': 6,\n",
       " '아니었다': 16,\n",
       " '그것은': 3,\n",
       " '코끼리를': 24,\n",
       " '소화시키고': 14,\n",
       " '있는': 22,\n",
       " '보아': 12,\n",
       " '구렁이었다': 1,\n",
       " '그래서': 4,\n",
       " '나는': 9,\n",
       " '어른들이': 19,\n",
       " '알아볼': 17,\n",
       " '있도록': 23,\n",
       " '구렁이의': 2,\n",
       " '속을': 15,\n",
       " '그렸다': 5,\n",
       " '어른들은': 18,\n",
       " '언제나': 20,\n",
       " '설명을': 13,\n",
       " '해주어야만': 26,\n",
       " '한다': 25,\n",
       " '나의': 10,\n",
       " '그림': 7,\n",
       " '2호는': 0,\n",
       " '이러했다': 21}"
      ]
     },
     "execution_count": 101,
     "metadata": {},
     "output_type": "execute_result"
    }
   ],
   "source": [
    "from sklearn.feature_extraction.text import CountVectorizer\n",
    "corpus = [\n",
    "    '내 그림은 모자를 그린 게 아니었다.',\n",
    "    '그것은 코끼리를 소화시키고 있는 보아 구렁이었다.',\n",
    "    '그래서 나는 어른들이 알아볼 수 있도록 보아 구렁이의 속을 그렸다.',\n",
    "    '어른들은 언제나 설명을 해주어야만 한다.',\n",
    "    ' 나의 그림 제 2호는 이러했다.'\n",
    "]\n",
    "vect = CountVectorizer()\n",
    "vect.fit(corpus)\n",
    "vect.vocabulary_\n",
    "# 출력결과('숫자-알파벳-가나다순' : 인덱스)"
   ]
  },
  {
   "cell_type": "code",
   "execution_count": 102,
   "id": "081d6431",
   "metadata": {},
   "outputs": [
    {
     "data": {
      "text/plain": [
       "array([[0, 0, 0, 0, 0, 0, 1, 0, 1, 0, 0, 1, 0, 0, 0, 0, 1, 0, 0, 0, 0, 0,\n",
       "        0, 0, 0, 0, 0],\n",
       "       [0, 1, 0, 1, 0, 0, 0, 0, 0, 0, 0, 0, 1, 0, 1, 0, 0, 0, 0, 0, 0, 0,\n",
       "        1, 0, 1, 0, 0],\n",
       "       [0, 0, 1, 0, 1, 1, 0, 0, 0, 1, 0, 0, 1, 0, 0, 1, 0, 1, 0, 1, 0, 0,\n",
       "        0, 1, 0, 0, 0],\n",
       "       [0, 0, 0, 0, 0, 0, 0, 0, 0, 0, 0, 0, 0, 1, 0, 0, 0, 0, 1, 0, 1, 0,\n",
       "        0, 0, 0, 1, 1],\n",
       "       [1, 0, 0, 0, 0, 0, 0, 1, 0, 0, 1, 0, 0, 0, 0, 0, 0, 0, 0, 0, 0, 1,\n",
       "        0, 0, 0, 0, 0]], dtype=int64)"
      ]
     },
     "execution_count": 102,
     "metadata": {},
     "output_type": "execute_result"
    }
   ],
   "source": [
    "# 출력결과(숫자-알파벳-가나다순)\n",
    "vect.transform(corpus).toarray()"
   ]
  },
  {
   "cell_type": "code",
   "execution_count": 103,
   "id": "08ffc0ca",
   "metadata": {},
   "outputs": [
    {
     "data": {
      "text/plain": [
       "array([[0, 0, 0, 0, 0, 0, 1, 0, 1, 0, 0, 1, 0, 0, 0, 0, 1, 0, 0, 0, 0, 0,\n",
       "        0, 0, 0, 0, 0]], dtype=int64)"
      ]
     },
     "execution_count": 103,
     "metadata": {},
     "output_type": "execute_result"
    }
   ],
   "source": [
    "vect.transform(['내 그림은 모자를 그린 게 아니었다.']).toarray()"
   ]
  },
  {
   "cell_type": "markdown",
   "id": "7407a7ee",
   "metadata": {},
   "source": [
    "#### ## TfidfVectorizer\n",
    "- TF-IDF(Term Frequency – Inverse Document Frequency) 인코딩\n",
    "- 단어를 갯수 그대로 카운트하지 않고 모든 문서에 공통적으로 들어있는 단어의 경우 문서 구별 능력이 떨어진다고 보아 가중치를 축소하는 방법\n",
    "\n",
    " > idf$(d,f) = \\log {n\\over 1+df(t)}$"
   ]
  },
  {
   "cell_type": "code",
   "execution_count": 104,
   "id": "07ccb5b2",
   "metadata": {
    "scrolled": false
   },
   "outputs": [
    {
     "data": {
      "text/plain": [
       "array([[0.        , 0.        , 0.        , 0.        , 0.        ,\n",
       "        0.        , 0.5       , 0.        , 0.5       , 0.        ,\n",
       "        0.        , 0.5       , 0.        , 0.        , 0.        ,\n",
       "        0.        , 0.5       , 0.        , 0.        , 0.        ,\n",
       "        0.        , 0.        , 0.        , 0.        , 0.        ,\n",
       "        0.        , 0.        ],\n",
       "       [0.        , 0.42066906, 0.        , 0.42066906, 0.        ,\n",
       "        0.        , 0.        , 0.        , 0.        , 0.        ,\n",
       "        0.        , 0.        , 0.33939315, 0.        , 0.42066906,\n",
       "        0.        , 0.        , 0.        , 0.        , 0.        ,\n",
       "        0.        , 0.        , 0.42066906, 0.        , 0.42066906,\n",
       "        0.        , 0.        ],\n",
       "       [0.        , 0.        , 0.3399922 , 0.        , 0.3399922 ,\n",
       "        0.3399922 , 0.        , 0.        , 0.        , 0.3399922 ,\n",
       "        0.        , 0.        , 0.27430356, 0.        , 0.        ,\n",
       "        0.3399922 , 0.        , 0.3399922 , 0.        , 0.3399922 ,\n",
       "        0.        , 0.        , 0.        , 0.3399922 , 0.        ,\n",
       "        0.        , 0.        ],\n",
       "       [0.        , 0.        , 0.        , 0.        , 0.        ,\n",
       "        0.        , 0.        , 0.        , 0.        , 0.        ,\n",
       "        0.        , 0.        , 0.        , 0.4472136 , 0.        ,\n",
       "        0.        , 0.        , 0.        , 0.4472136 , 0.        ,\n",
       "        0.4472136 , 0.        , 0.        , 0.        , 0.        ,\n",
       "        0.4472136 , 0.4472136 ],\n",
       "       [0.5       , 0.        , 0.        , 0.        , 0.        ,\n",
       "        0.        , 0.        , 0.5       , 0.        , 0.        ,\n",
       "        0.5       , 0.        , 0.        , 0.        , 0.        ,\n",
       "        0.        , 0.        , 0.        , 0.        , 0.        ,\n",
       "        0.        , 0.5       , 0.        , 0.        , 0.        ,\n",
       "        0.        , 0.        ]])"
      ]
     },
     "execution_count": 104,
     "metadata": {},
     "output_type": "execute_result"
    }
   ],
   "source": [
    "from sklearn.feature_extraction.text import TfidfVectorizer\n",
    "\n",
    "# tfidv = TfidfVectorizer()\n",
    "# tfidv = tfidv.fit(corpus)\n",
    "tfidv = TfidfVectorizer().fit(corpus)\n",
    "tfidv.transform(corpus).toarray()"
   ]
  },
  {
   "cell_type": "code",
   "execution_count": 106,
   "id": "c493b996",
   "metadata": {
    "scrolled": true
   },
   "outputs": [
    {
     "name": "stdout",
     "output_type": "stream",
     "text": [
      "[('보아', 0.6136967130607184), ('2호는', 0.5), ('이러했다', 0.5), ('아니었다', 0.5), ('그린', 0.5), ('그림', 0.5), ('그림은', 0.5), ('나의', 0.5), ('모자를', 0.5), ('언제나', 0.4472135954999579)]\n"
     ]
    },
    {
     "data": {
      "image/png": "[encoded data removed]",
      "text/plain": [
       "<Figure size 576x360 with 1 Axes>"
      ]
     },
     "metadata": {
      "needs_background": "light"
     },
     "output_type": "display_data"
    }
   ],
   "source": [
    "# 빈도수로 Bar그래프 그리기\n",
    "import numpy as np\n",
    "from sklearn.feature_extraction.text import TfidfVectorizer\n",
    "\n",
    "# tfidv = CountVectorizer().fit(corpus)  \n",
    "tfidv = TfidfVectorizer().fit(corpus)\n",
    "count = tfidv.transform(corpus).toarray().sum(axis=0) \n",
    "\n",
    "\n",
    "# 토큰 빈도수로 정렬하고 토큰명 추출\n",
    "idx = np.argsort(-count)  # 내림 정렬하여 인덱스 반환: 토큰의 인덱스\n",
    "count = count[idx]        # 토큰의 빈도수\n",
    "feature_name = np.array(tfidv.get_feature_names())[idx]  # 토큰값\n",
    "\n",
    "# 빈도수 많은 순서대로 10개만 출력\n",
    "print(list(zip(feature_name, count))[:10])\n",
    "\n",
    "# 빈도수로 Bar그래프 그리기 \n",
    "plt.bar(feature_name, count)\n",
    "plt.xticks(rotation=90)\n",
    "plt.grid()\n",
    "plt.show()"
   ]
  },
  {
   "cell_type": "markdown",
   "id": "d1a9830d",
   "metadata": {},
   "source": [
    "------------------"
   ]
  },
  {
   "cell_type": "markdown",
   "id": "29efc198",
   "metadata": {},
   "source": [
    "---------------------"
   ]
  },
  {
   "cell_type": "markdown",
   "id": "41c9f239",
   "metadata": {},
   "source": [
    "## [실습] 예제를 이용한 자연어 처리 실습"
   ]
  },
  {
   "cell_type": "markdown",
   "id": "7a29d08f",
   "metadata": {},
   "source": [
    "### [실습] 네이버 뉴스 검색 데이터 분석하기\n",
    "네이버 뉴스 검색 결과(기사제목, url)를 웹크롤링으로 가져와 DataFrame으로 보여주고, 기사의 제목을 토큰화하여 단어의 빈도수를 Bar그래프와 워드클라우드로 시각화 하세요."
   ]
  },
  {
   "cell_type": "markdown",
   "id": "c37cd428",
   "metadata": {},
   "source": [
    "#### 웹크롤링을 위한 라이브러리 설치하기"
   ]
  },
  {
   "cell_type": "code",
   "execution_count": 1,
   "id": "459599ec",
   "metadata": {
    "collapsed": true
   },
   "outputs": [
    {
     "name": "stdout",
     "output_type": "stream",
     "text": [
      "Requirement already satisfied: requests in c:\\python\\python39\\lib\\site-packages (2.28.1)\n",
      "Requirement already satisfied: charset-normalizer<3,>=2 in c:\\python\\python39\\lib\\site-packages (from requests) (2.1.0)\n",
      "Requirement already satisfied: urllib3<1.27,>=1.21.1 in c:\\python\\python39\\lib\\site-packages (from requests) (1.26.9)\n",
      "Requirement already satisfied: certifi>=2017.4.17 in c:\\python\\python39\\lib\\site-packages (from requests) (2022.6.15)\n",
      "Requirement already satisfied: idna<4,>=2.5 in c:\\python\\python39\\lib\\site-packages (from requests) (3.3)\n"
     ]
    },
    {
     "name": "stderr",
     "output_type": "stream",
     "text": [
      "WARNING: Ignoring invalid distribution -pencv-python-headless (c:\\python\\python39\\lib\\site-packages)\n",
      "WARNING: Ignoring invalid distribution -pencv-python-headless (c:\\python\\python39\\lib\\site-packages)\n",
      "WARNING: Ignoring invalid distribution -pencv-python-headless (c:\\python\\python39\\lib\\site-packages)\n",
      "WARNING: Ignoring invalid distribution -pencv-python-headless (c:\\python\\python39\\lib\\site-packages)\n",
      "WARNING: Ignoring invalid distribution -pencv-python-headless (c:\\python\\python39\\lib\\site-packages)\n",
      "WARNING: Ignoring invalid distribution -pencv-python-headless (c:\\python\\python39\\lib\\site-packages)\n"
     ]
    }
   ],
   "source": [
    "# 정적 크롤링을 위한 requests 설치\n",
    "!pip install requests                        "
   ]
  },
  {
   "cell_type": "code",
   "execution_count": 2,
   "id": "dbeaf826",
   "metadata": {},
   "outputs": [],
   "source": [
    "import requests"
   ]
  },
  {
   "cell_type": "code",
   "execution_count": 3,
   "id": "39bc9a42",
   "metadata": {
    "collapsed": true
   },
   "outputs": [
    {
     "name": "stdout",
     "output_type": "stream",
     "text": [
      "Requirement already satisfied: beautifulsoup4 in c:\\python\\python39\\lib\\site-packages (4.11.1)\n",
      "Requirement already satisfied: soupsieve>1.2 in c:\\python\\python39\\lib\\site-packages (from beautifulsoup4) (2.3.2.post1)\n"
     ]
    },
    {
     "name": "stderr",
     "output_type": "stream",
     "text": [
      "WARNING: Ignoring invalid distribution -pencv-python-headless (c:\\python\\python39\\lib\\site-packages)\n",
      "WARNING: Ignoring invalid distribution -pencv-python-headless (c:\\python\\python39\\lib\\site-packages)\n",
      "WARNING: Ignoring invalid distribution -pencv-python-headless (c:\\python\\python39\\lib\\site-packages)\n",
      "WARNING: Ignoring invalid distribution -pencv-python-headless (c:\\python\\python39\\lib\\site-packages)\n",
      "WARNING: Ignoring invalid distribution -pencv-python-headless (c:\\python\\python39\\lib\\site-packages)\n",
      "WARNING: Ignoring invalid distribution -pencv-python-headless (c:\\python\\python39\\lib\\site-packages)\n"
     ]
    }
   ],
   "source": [
    "# HTML과 XML 문서를 파싱하기 위한 파이썬 패키지\n",
    "!pip install beautifulsoup4"
   ]
  },
  {
   "cell_type": "code",
   "execution_count": 5,
   "id": "2f05c9d2",
   "metadata": {},
   "outputs": [],
   "source": [
    "import bs4 "
   ]
  },
  {
   "cell_type": "markdown",
   "id": "58207df4",
   "metadata": {},
   "source": [
    "#### 1.네이버 뉴스검색 결과를 웹크롤링으로 가져오기\n",
    "- DataFrame : 기사제목, URL "
   ]
  },
  {
   "cell_type": "code",
   "execution_count": 1,
   "id": "beaa6805",
   "metadata": {
    "scrolled": true
   },
   "outputs": [
    {
     "name": "stdout",
     "output_type": "stream",
     "text": [
      "검색 키워드를 입력하세요 : 고환율\n",
      "------------------------------\n",
      "뉴스 데이터 크롤링하기...\n",
      "10% 20% 30% 40% 50% 60% 70% 80% 90% 100% \n",
      "------------------------------\n",
      "\"고환율\" 검색어로 검색된 뉴스 [100]건 가져오기 완료!\n",
      "------------------------------\n"
     ]
    },
    {
     "data": {
      "text/html": [
       "<div><div id=f8f303f3-ab78-4536-a1bc-3ad6b859e805 style=\"display:none; background-color:#9D6CFF; color:white; width:200px; height:30px; padding-left:5px; border-radius:4px; flex-direction:row; justify-content:space-around; align-items:center;\" onmouseover=\"this.style.backgroundColor='#BA9BF8'\" onmouseout=\"this.style.backgroundColor='#9D6CFF'\" onclick=\"window.commands?.execute('create-mitosheet-from-dataframe-output');\">See Full Dataframe in Mito</div> <script> if (window.commands?.hasCommand('create-mitosheet-from-dataframe-output')) document.getElementById('f8f303f3-ab78-4536-a1bc-3ad6b859e805').style.display = 'flex' </script> <table border=\"1\" class=\"dataframe\">\n",
       "  <thead>\n",
       "    <tr style=\"text-align: right;\">\n",
       "      <th></th>\n",
       "      <th>title</th>\n",
       "      <th>url</th>\n",
       "    </tr>\n",
       "  </thead>\n",
       "  <tbody>\n",
       "    <tr>\n",
       "      <th>0</th>\n",
       "      <td>\"한국의 과도한 긴축이 고환율 부른다\"</td>\n",
       "      <td>https://view.asiae.co.kr/article/2022091307383292976</td>\n",
       "    </tr>\n",
       "    <tr>\n",
       "      <th>1</th>\n",
       "      <td>저성장·고금리·고환율…하반기 경제 ‘복합 위기’ 비상등</td>\n",
       "      <td>https://www.khan.co.kr/economy/economy-general/article/202209122107005</td>\n",
       "    </tr>\n",
       "    <tr>\n",
       "      <th>2</th>\n",
       "      <td>고환율·무역수지 악화...하반기 역성장 쇼크 우려</td>\n",
       "      <td>https://www.dailian.co.kr/news/view/1151118/?sc=Naver</td>\n",
       "    </tr>\n",
       "    <tr>\n",
       "      <th>3</th>\n",
       "      <td>'李 사법리스크'속 野 민생대책위 출범…\"경제위기 대안 제시\"</td>\n",
       "      <td>https://www.yna.co.kr/view/AKR20220913120200001?input=1195m</td>\n",
       "    </tr>\n",
       "    <tr>\n",
       "      <th>4</th>\n",
       "      <td>고환율 장기화에…업종별 희비 엇갈리는 산업계</td>\n",
       "      <td>https://news.mtn.co.kr/news-detail/2022091314334950721</td>\n",
       "    </tr>\n",
       "    <tr>\n",
       "      <th>...</th>\n",
       "      <td>...</td>\n",
       "      <td>...</td>\n",
       "    </tr>\n",
       "    <tr>\n",
       "      <th>95</th>\n",
       "      <td>[韓경제 암초 `고환율`] `2009년 금융위기` 원화가치인데… \"괜찮다\"는 정부 믿어도 되나</td>\n",
       "      <td>http://www.dt.co.kr/contents.html?article_no=2022090502100363056001&amp;ref=naver</td>\n",
       "    </tr>\n",
       "    <tr>\n",
       "      <th>96</th>\n",
       "      <td>하늘길 장벽 낮아진 여행객들...고환율·고유가 여전히 걸림돌</td>\n",
       "      <td>https://www.ytn.co.kr/_ln/0102_202209012243230416</td>\n",
       "    </tr>\n",
       "    <tr>\n",
       "      <th>97</th>\n",
       "      <td>고환율·고물가에 얼어붙은 추석 체감 경기</td>\n",
       "      <td>https://www.cjb.co.kr/home/sub.php?menukey=61&amp;mod=view&amp;P_NO=220902522&amp;PRO_CODE=99</td>\n",
       "    </tr>\n",
       "    <tr>\n",
       "      <th>98</th>\n",
       "      <td>소상공인 고금리‧고환율‧고물가 3高 대응…58조원 규모 신규·대환대출</td>\n",
       "      <td>https://www.news1.kr/articles/4782768</td>\n",
       "    </tr>\n",
       "    <tr>\n",
       "      <th>99</th>\n",
       "      <td>우울한 면세점…고환율에 中 항공노선 증편도 하세월</td>\n",
       "      <td>http://www.fnnews.com/news/202208311808360834</td>\n",
       "    </tr>\n",
       "  </tbody>\n",
       "</table></div>"
      ],
      "text/plain": [
       "                                                title  \\\n",
       "0                               \"한국의 과도한 긴축이 고환율 부른다\"   \n",
       "1                      저성장·고금리·고환율…하반기 경제 ‘복합 위기’ 비상등   \n",
       "2                         고환율·무역수지 악화...하반기 역성장 쇼크 우려   \n",
       "3                  '李 사법리스크'속 野 민생대책위 출범…\"경제위기 대안 제시\"   \n",
       "4                            고환율 장기화에…업종별 희비 엇갈리는 산업계   \n",
       "..                                                ...   \n",
       "95  [韓경제 암초 `고환율`] `2009년 금융위기` 원화가치인데… \"괜찮다\"는 정부 ...   \n",
       "96                  하늘길 장벽 낮아진 여행객들...고환율·고유가 여전히 걸림돌   \n",
       "97                             고환율·고물가에 얼어붙은 추석 체감 경기   \n",
       "98             소상공인 고금리‧고환율‧고물가 3高 대응…58조원 규모 신규·대환대출   \n",
       "99                        우울한 면세점…고환율에 中 항공노선 증편도 하세월   \n",
       "\n",
       "                                                  url  \n",
       "0   https://view.asiae.co.kr/article/2022091307383...  \n",
       "1   https://www.khan.co.kr/economy/economy-general...  \n",
       "2   https://www.dailian.co.kr/news/view/1151118/?s...  \n",
       "3   https://www.yna.co.kr/view/AKR2022091312020000...  \n",
       "4   https://news.mtn.co.kr/news-detail/20220913143...  \n",
       "..                                                ...  \n",
       "95  http://www.dt.co.kr/contents.html?article_no=2...  \n",
       "96  https://www.ytn.co.kr/_ln/0102_202209012243230416  \n",
       "97  https://www.cjb.co.kr/home/sub.php?menukey=61&...  \n",
       "98              https://www.news1.kr/articles/4782768  \n",
       "99      http://www.fnnews.com/news/202208311808360834  \n",
       "\n",
       "[100 rows x 2 columns]"
      ]
     },
     "execution_count": 1,
     "metadata": {},
     "output_type": "execute_result"
    }
   ],
   "source": [
    "import requests\n",
    "from bs4 import BeautifulSoup\n",
    "import pandas as pd\n",
    "\n",
    "\n",
    "keyword = input('검색 키워드를 입력하세요 : ')\n",
    "query = keyword.replace(' ', '+')\n",
    "\n",
    "print('-'*30)\n",
    "print(\"뉴스 데이터 크롤링하기...\")\n",
    "news_count, total = 100, 100\n",
    "news_url = 'https://search.naver.com/search.naver?where=news&query={}&start='\n",
    "titles, urls = [], []\n",
    "while news_count: \n",
    "    req = requests.get(news_url.format(query) + str(len(titles)))\n",
    "    soup = BeautifulSoup(req.text, 'html.parser')\n",
    "    page_tags   = soup.select('ul.list_news > li > div > div > a')\n",
    "    page_titles = list(map(lambda tag: tag.get('title'), page_tags))\n",
    "    page_urls   = list(map(lambda tag: tag.get('href'), page_tags))\n",
    "\n",
    "    if len(page_titles) < news_count:\n",
    "        titles += page_titles\n",
    "        urls += page_urls\n",
    "        news_count -= len(page_titles) \n",
    "    else: \n",
    "        titles += page_titles[:news_count]\n",
    "        urls += page_urls[:news_count]\n",
    "        news_count = 0 \n",
    "\n",
    "    print(f\"{total - news_count}% \", end=\"\")\n",
    "print()\n",
    "print('-'*30) \n",
    "print(f'\"{keyword}\" 검색어로 검색된 뉴스 [{total}]건 가져오기 완료!')  \n",
    "print('-'*30)\n",
    "\n",
    "\n",
    "# DataFrame + Series => DataFrame으로 나타내기\n",
    "df = pd.DataFrame(titles, columns=['title'])\n",
    "sr = pd.Series(urls)\n",
    "df['url'] = sr\n",
    "\n",
    "df"
   ]
  },
  {
   "cell_type": "code",
   "execution_count": 2,
   "id": "3fce011a",
   "metadata": {},
   "outputs": [],
   "source": [
    "# 파일로 저장하기 (1000건 추출하여 저장하여라!!!)\n",
    "# file = f'data/naver_news_{keyword}.csv'\n",
    "file = 'data/naver_news.csv'\n",
    "news_df = df['title']\n",
    "news_df.to_csv(file, index=False, encoding=\"utf-8-sig\")"
   ]
  },
  {
   "cell_type": "markdown",
   "id": "01a2f4c0",
   "metadata": {},
   "source": [
    "#### 2.기사 제목의 토큰 빈도수 Bar그래프 시각화\n",
    "- CountVectorizer 클래스 사용 : 빈도수\n",
    "- TfidfVectorizer 클래스 사용 : 빈도수에 가중치 반영"
   ]
  },
  {
   "cell_type": "code",
   "execution_count": 3,
   "id": "b1cca190",
   "metadata": {},
   "outputs": [
    {
     "data": {
      "image/png": "[encoded data removed]",
      "text/plain": [
       "<Figure size 432x288 with 1 Axes>"
      ]
     },
     "metadata": {
      "needs_background": "light"
     },
     "output_type": "display_data"
    },
    {
     "name": "stdout",
     "output_type": "stream",
     "text": [
      "[('고환율', 57), ('고환율에', 16), ('고물가', 15), ('고금리', 14), ('경제', 9), ('환율', 8), ('수출', 5), ('3고', 5), ('아이폰14', 5), ('무역적자', 5)]\n"
     ]
    }
   ],
   "source": [
    "from sklearn.feature_extraction.text import CountVectorizer\n",
    "from sklearn.feature_extraction.text import TfidfVectorizer\n",
    "import numpy as np\n",
    "import matplotlib.pyplot as plt\n",
    "plt.rcParams['font.family'] = 'Malgun Gothic'\n",
    "\n",
    "# 기사제목을 말뭉치로 사용\n",
    "corpus = df['title'].to_list()\n",
    "\n",
    "# 기사제목을 토큰화\n",
    "vect = CountVectorizer().fit(corpus)  \n",
    "# vect = TfidfVectorizer().fit(corpus)  \n",
    "count = vect.transform(corpus).toarray().sum(axis=0) \n",
    "\n",
    "\n",
    "# 토큰 빈도수로 정렬하고 토큰명 추출\n",
    "idx = np.argsort(-count)  # 내림 정렬하여 인덱스 반환: 토큰의 인덱스\n",
    "count = count[idx]        # 토큰의 빈도수\n",
    "feature_name = np.array(vect.get_feature_names_out())[idx]  # 토큰값\n",
    "# feature_name = np.array(vect.get_feature_names())[idx]  # 토큰값\n",
    "\n",
    "\n",
    "# Bar그래프 그리기 \n",
    "plt.bar(range(len(count)), count)\n",
    "plt.grid()\n",
    "plt.show()\n",
    "\n",
    "\n",
    "# 빈도수 많은 순서대로 10개만 출력\n",
    "print(list(zip(feature_name, count))[:10])"
   ]
  },
  {
   "cell_type": "markdown",
   "id": "9efc23f7",
   "metadata": {},
   "source": [
    "#### 3.기사 제목의 토큰 빈도수 워드클라우드로 시각화\n",
    "- 워드클라우드 입력데이터 : 딕셔너리 타입"
   ]
  },
  {
   "cell_type": "code",
   "execution_count": 4,
   "id": "0bd2bb37",
   "metadata": {
    "scrolled": false
   },
   "outputs": [
    {
     "data": {
      "image/png": "[encoded data removed]",
      "text/plain": [
       "<Figure size 720x432 with 1 Axes>"
      ]
     },
     "metadata": {
      "needs_background": "light"
     },
     "output_type": "display_data"
    },
    {
     "data": {
      "text/plain": [
       "<wordcloud.wordcloud.WordCloud at 0x18859bb27f0>"
      ]
     },
     "execution_count": 4,
     "metadata": {},
     "output_type": "execute_result"
    }
   ],
   "source": [
    "from wordcloud import WordCloud\n",
    "import matplotlib.pyplot as plt\n",
    "plt.rcParams['figure.figsize'] = (10,6)\n",
    "\n",
    "# 자신의 컴퓨터 환경에 맞는 한글 폰트 경로를 설정(window에서)\n",
    "font_path = 'malgun'  # C:/Windows/Fonts/\n",
    "font_path = 'HMKMMAG' # C:/Windows/Fonts/HMKMMAG.TTF\n",
    "\n",
    "# (토큰명, 빈도수) 딕셔너리 타입으로 변환\n",
    "data = dict(zip(feature_name, count))\n",
    "\n",
    "# 워드클라우드로 그래프로 시각화\n",
    "wc = WordCloud(width = 1000, height = 600, \n",
    "               background_color=\"white\", font_path=font_path)\n",
    "plt.imshow(wc.generate_from_frequencies(data))  \n",
    "plt.axis(\"off\")\n",
    "plt.show()\n",
    "\n",
    "# 파일로 저장하기\n",
    "wc.to_file('image/기사_워드클라우드.png')\n",
    "wc.to_file(f'image/기사_워드클라우드_{keyword}.png')"
   ]
  },
  {
   "cell_type": "markdown",
   "id": "02b76444",
   "metadata": {},
   "source": [
    "--------------"
   ]
  },
  {
   "cell_type": "markdown",
   "id": "976e10e1",
   "metadata": {},
   "source": [
    "### [실습] 영화 리뷰 데이터로 감성 예측하기\n",
    "[주의!] 데이터량이 많아(10만건 이상) 특징 벡터화 작업(TfidfVectorizer)시간이 오래걸린다.\n",
    "\n",
    "\n",
    "#### 목표\n",
    "영화 리뷰 데이터를 읽어와 텍스트 마이닝 작업을 통해 리뷰 텍스트에 담긴 긍정/부정 감성을 분석하여 예측하는 모델을 마들어 본다\n",
    "\n",
    "#### 1. 데이터 준비하기 \n",
    "- 네이버 영화 리뷰 말뭉치 : https://github.com/e9t/nsmc\n",
    "- ratings.txt, ratings_train.txt, ratings_test.txt 다운로드\n",
    "- 데이터 사이즈 : (200K, 150K, 50K)\n",
    "- 데이터 컬럼 : id, document, label\n",
    "- 감성 분류 클래스 값(label): 영화 리뷰 평점에 따른 분류 1~4[0] 9~10[1], 5~8[중립평점 제외])   "
   ]
  },
  {
   "cell_type": "markdown",
   "id": "03a67579",
   "metadata": {},
   "source": [
    "#### 2. 데이터 전처리\n",
    "- 데이터 불러오기\n",
    "- 결측지 제거하기: document값 notnull인 행 추출\n",
    "- 한글 이외의 문자 제거하기"
   ]
  },
  {
   "cell_type": "code",
   "execution_count": 117,
   "id": "caa77827",
   "metadata": {
    "collapsed": true
   },
   "outputs": [
    {
     "name": "stdout",
     "output_type": "stream",
     "text": [
      "\n",
      "INSTALLED VERSIONS\n",
      "------------------\n",
      "commit           : e8093ba372f9adfe79439d90fe74b0b5b6dea9d6\n",
      "python           : 3.9.10.final.0\n",
      "python-bits      : 64\n",
      "OS               : Windows\n",
      "OS-release       : 10\n",
      "Version          : 10.0.19044\n",
      "machine          : AMD64\n",
      "processor        : Intel64 Family 6 Model 142 Stepping 12, GenuineIntel\n",
      "byteorder        : little\n",
      "LC_ALL           : None\n",
      "LANG             : None\n",
      "LOCALE           : Korean_Korea.949\n",
      "\n",
      "pandas           : 1.4.3\n",
      "numpy            : 1.19.5\n",
      "pytz             : 2020.4\n",
      "dateutil         : 2.8.2\n",
      "setuptools       : 58.1.0\n",
      "pip              : 22.2.1\n",
      "Cython           : 0.29.30\n",
      "pytest           : None\n",
      "hypothesis       : None\n",
      "sphinx           : None\n",
      "blosc            : None\n",
      "feather          : None\n",
      "xlsxwriter       : 3.0.2\n",
      "lxml.etree       : 4.9.0\n",
      "html5lib         : None\n",
      "pymysql          : None\n",
      "psycopg2         : None\n",
      "jinja2           : 3.1.2\n",
      "IPython          : 8.4.0\n",
      "pandas_datareader: None\n",
      "bs4              : 4.11.1\n",
      "bottleneck       : None\n",
      "brotli           : None\n",
      "fastparquet      : None\n",
      "fsspec           : None\n",
      "gcsfs            : None\n",
      "markupsafe       : 2.1.1\n",
      "matplotlib       : 3.5.2\n",
      "numba            : None\n",
      "numexpr          : None\n",
      "odfpy            : None\n",
      "openpyxl         : 3.0.10\n",
      "pandas_gbq       : None\n",
      "pyarrow          : 8.0.0\n",
      "pyreadstat       : None\n",
      "pyxlsb           : None\n",
      "s3fs             : None\n",
      "scipy            : 1.8.1\n",
      "snappy           : None\n",
      "sqlalchemy       : None\n",
      "tables           : None\n",
      "tabulate         : 0.8.10\n",
      "xarray           : None\n",
      "xlrd             : None\n",
      "xlwt             : None\n",
      "zstandard        : None\n"
     ]
    }
   ],
   "source": [
    "# warning 메시지 표시 안함\n",
    "import warnings\n",
    "warnings.filterwarnings(action='ignore')\n",
    "\n",
    "import pandas as pd\n",
    "pd.show_versions()"
   ]
  },
  {
   "cell_type": "markdown",
   "id": "78b78dce",
   "metadata": {},
   "source": [
    "#### 2-1. 데이터 불러오기"
   ]
  },
  {
   "cell_type": "code",
   "execution_count": 5,
   "id": "dbad6bb4",
   "metadata": {},
   "outputs": [
    {
     "data": {
      "text/html": [
       "<div><div id=7845f551-0a6e-4751-94a6-1d5a74acafdf style=\"display:none; background-color:#9D6CFF; color:white; width:200px; height:30px; padding-left:5px; border-radius:4px; flex-direction:row; justify-content:space-around; align-items:center;\" onmouseover=\"this.style.backgroundColor='#BA9BF8'\" onmouseout=\"this.style.backgroundColor='#9D6CFF'\" onclick=\"window.commands?.execute('create-mitosheet-from-dataframe-output');\">See Full Dataframe in Mito</div> <script> if (window.commands?.hasCommand('create-mitosheet-from-dataframe-output')) document.getElementById('7845f551-0a6e-4751-94a6-1d5a74acafdf').style.display = 'flex' </script> <table border=\"1\" class=\"dataframe\">\n",
       "  <thead>\n",
       "    <tr style=\"text-align: right;\">\n",
       "      <th></th>\n",
       "      <th>id</th>\n",
       "      <th>document</th>\n",
       "      <th>label</th>\n",
       "    </tr>\n",
       "  </thead>\n",
       "  <tbody>\n",
       "    <tr>\n",
       "      <th>0</th>\n",
       "      <td>9976970</td>\n",
       "      <td>아 더빙.. 진짜 짜증나네요 목소리</td>\n",
       "      <td>0</td>\n",
       "    </tr>\n",
       "    <tr>\n",
       "      <th>1</th>\n",
       "      <td>3819312</td>\n",
       "      <td>흠...포스터보고 초딩영화줄....오버연기조차 가볍지 않구나</td>\n",
       "      <td>1</td>\n",
       "    </tr>\n",
       "    <tr>\n",
       "      <th>2</th>\n",
       "      <td>10265843</td>\n",
       "      <td>너무재밓었다그래서보는것을추천한다</td>\n",
       "      <td>0</td>\n",
       "    </tr>\n",
       "    <tr>\n",
       "      <th>3</th>\n",
       "      <td>9045019</td>\n",
       "      <td>교도소 이야기구먼 ..솔직히 재미는 없다..평점 조정</td>\n",
       "      <td>0</td>\n",
       "    </tr>\n",
       "    <tr>\n",
       "      <th>4</th>\n",
       "      <td>6483659</td>\n",
       "      <td>사이몬페그의 익살스런 연기가 돋보였던 영화!스파이더맨에서 늙어보이기만 했던 커스틴 던스트가 너무나도 이뻐보였다</td>\n",
       "      <td>1</td>\n",
       "    </tr>\n",
       "  </tbody>\n",
       "</table></div>"
      ],
      "text/plain": [
       "         id                                           document  label\n",
       "0   9976970                                아 더빙.. 진짜 짜증나네요 목소리      0\n",
       "1   3819312                  흠...포스터보고 초딩영화줄....오버연기조차 가볍지 않구나      1\n",
       "2  10265843                                  너무재밓었다그래서보는것을추천한다      0\n",
       "3   9045019                      교도소 이야기구먼 ..솔직히 재미는 없다..평점 조정      0\n",
       "4   6483659  사이몬페그의 익살스런 연기가 돋보였던 영화!스파이더맨에서 늙어보이기만 했던 커스틴 ...      1"
      ]
     },
     "execution_count": 5,
     "metadata": {},
     "output_type": "execute_result"
    }
   ],
   "source": [
    "import pandas as pd\n",
    "\n",
    "df = pd.read_csv('data/moviereview/ratings_train.txt', encoding='utf-8', \n",
    "                 sep='\\t', engine='python')\n",
    "df.head()\n",
    "\n",
    "# df 요약정보\n",
    "# df.info()"
   ]
  },
  {
   "cell_type": "markdown",
   "id": "a093d25e",
   "metadata": {},
   "source": [
    "##### 2-2.결측지 제거(document값 notnull인 행 추출)"
   ]
  },
  {
   "cell_type": "code",
   "execution_count": 6,
   "id": "5ef9e0de",
   "metadata": {},
   "outputs": [
    {
     "name": "stdout",
     "output_type": "stream",
     "text": [
      "<class 'pandas.core.frame.DataFrame'>\n",
      "Int64Index: 149995 entries, 0 to 149999\n",
      "Data columns (total 3 columns):\n",
      " #   Column    Non-Null Count   Dtype \n",
      "---  ------    --------------   ----- \n",
      " 0   id        149995 non-null  int64 \n",
      " 1   document  149995 non-null  object\n",
      " 2   label     149995 non-null  int64 \n",
      "dtypes: int64(2), object(1)\n",
      "memory usage: 4.6+ MB\n"
     ]
    }
   ],
   "source": [
    "df = df[df.document.notnull()]  # df[df['document'].notnull()]\n",
    "df.info()"
   ]
  },
  {
   "cell_type": "code",
   "execution_count": 7,
   "id": "d3ea0168",
   "metadata": {},
   "outputs": [
    {
     "data": {
      "text/plain": [
       "0    75170\n",
       "1    74825\n",
       "Name: label, dtype: int64"
      ]
     },
     "execution_count": 7,
     "metadata": {},
     "output_type": "execute_result"
    }
   ],
   "source": [
    "# label 컬럼의 값별 개수\n",
    "df.label.value_counts()"
   ]
  },
  {
   "cell_type": "markdown",
   "id": "4a654ac1",
   "metadata": {},
   "source": [
    "##### 2-3. 한글 이외의 문자 제거하기"
   ]
  },
  {
   "cell_type": "code",
   "execution_count": 8,
   "id": "773ad9b1",
   "metadata": {},
   "outputs": [
    {
     "data": {
      "text/html": [
       "<div><div id=440f9988-1fbd-4750-bccc-41b3d35ce37f style=\"display:none; background-color:#9D6CFF; color:white; width:200px; height:30px; padding-left:5px; border-radius:4px; flex-direction:row; justify-content:space-around; align-items:center;\" onmouseover=\"this.style.backgroundColor='#BA9BF8'\" onmouseout=\"this.style.backgroundColor='#9D6CFF'\" onclick=\"window.commands?.execute('create-mitosheet-from-dataframe-output');\">See Full Dataframe in Mito</div> <script> if (window.commands?.hasCommand('create-mitosheet-from-dataframe-output')) document.getElementById('440f9988-1fbd-4750-bccc-41b3d35ce37f').style.display = 'flex' </script> <table border=\"1\" class=\"dataframe\">\n",
       "  <thead>\n",
       "    <tr style=\"text-align: right;\">\n",
       "      <th></th>\n",
       "      <th>id</th>\n",
       "      <th>document</th>\n",
       "      <th>label</th>\n",
       "    </tr>\n",
       "  </thead>\n",
       "  <tbody>\n",
       "    <tr>\n",
       "      <th>0</th>\n",
       "      <td>9976970</td>\n",
       "      <td>아 더빙 진짜 짜증나네요 목소리</td>\n",
       "      <td>0</td>\n",
       "    </tr>\n",
       "    <tr>\n",
       "      <th>1</th>\n",
       "      <td>3819312</td>\n",
       "      <td>흠포스터보고 초딩영화줄오버연기조차 가볍지 않구나</td>\n",
       "      <td>1</td>\n",
       "    </tr>\n",
       "    <tr>\n",
       "      <th>2</th>\n",
       "      <td>10265843</td>\n",
       "      <td>너무재밓었다그래서보는것을추천한다</td>\n",
       "      <td>0</td>\n",
       "    </tr>\n",
       "    <tr>\n",
       "      <th>3</th>\n",
       "      <td>9045019</td>\n",
       "      <td>교도소 이야기구먼 솔직히 재미는 없다평점 조정</td>\n",
       "      <td>0</td>\n",
       "    </tr>\n",
       "    <tr>\n",
       "      <th>4</th>\n",
       "      <td>6483659</td>\n",
       "      <td>사이몬페그의 익살스런 연기가 돋보였던 영화스파이더맨에서 늙어보이기만 했던 커스틴 던스트가 너무나도 이뻐보였다</td>\n",
       "      <td>1</td>\n",
       "    </tr>\n",
       "  </tbody>\n",
       "</table></div>"
      ],
      "text/plain": [
       "         id                                           document  label\n",
       "0   9976970                                  아 더빙 진짜 짜증나네요 목소리      0\n",
       "1   3819312                         흠포스터보고 초딩영화줄오버연기조차 가볍지 않구나      1\n",
       "2  10265843                                  너무재밓었다그래서보는것을추천한다      0\n",
       "3   9045019                          교도소 이야기구먼 솔직히 재미는 없다평점 조정      0\n",
       "4   6483659  사이몬페그의 익살스런 연기가 돋보였던 영화스파이더맨에서 늙어보이기만 했던 커스틴 던...      1"
      ]
     },
     "execution_count": 8,
     "metadata": {},
     "output_type": "execute_result"
    }
   ],
   "source": [
    "import re \n",
    "\n",
    "df.document = df.document.apply(lambda x : re.sub(r'[^ ㄱ-ㅎ|가-힣]+', '', x)) \n",
    "df.head()"
   ]
  },
  {
   "cell_type": "markdown",
   "id": "bdb210c0",
   "metadata": {},
   "source": [
    "#### 테스팅 데이터에 대해서도 2-1 ~ 2-3번 동일 시행\n",
    "- 데이터 전처리 기능을 함수로 만들어 사용하자!"
   ]
  },
  {
   "cell_type": "code",
   "execution_count": 9,
   "id": "237ef9fc",
   "metadata": {
    "scrolled": true
   },
   "outputs": [
    {
     "name": "stdout",
     "output_type": "stream",
     "text": [
      "before-df.shape : (150000, 3)\n",
      "after-df.shape : (149995, 3)\n",
      "before-df.shape : (50000, 3)\n",
      "after-df.shape : (49997, 3)\n"
     ]
    },
    {
     "data": {
      "text/html": [
       "<div><div id=41028899-8ccc-47e6-a918-f2c3f600c7af style=\"display:none; background-color:#9D6CFF; color:white; width:200px; height:30px; padding-left:5px; border-radius:4px; flex-direction:row; justify-content:space-around; align-items:center;\" onmouseover=\"this.style.backgroundColor='#BA9BF8'\" onmouseout=\"this.style.backgroundColor='#9D6CFF'\" onclick=\"window.commands?.execute('create-mitosheet-from-dataframe-output');\">See Full Dataframe in Mito</div> <script> if (window.commands?.hasCommand('create-mitosheet-from-dataframe-output')) document.getElementById('41028899-8ccc-47e6-a918-f2c3f600c7af').style.display = 'flex' </script> <table border=\"1\" class=\"dataframe\">\n",
       "  <thead>\n",
       "    <tr style=\"text-align: right;\">\n",
       "      <th></th>\n",
       "      <th>id</th>\n",
       "      <th>document</th>\n",
       "      <th>label</th>\n",
       "    </tr>\n",
       "  </thead>\n",
       "  <tbody>\n",
       "    <tr>\n",
       "      <th>0</th>\n",
       "      <td>6270596</td>\n",
       "      <td>굳 ㅋ</td>\n",
       "      <td>1</td>\n",
       "    </tr>\n",
       "    <tr>\n",
       "      <th>1</th>\n",
       "      <td>9274899</td>\n",
       "      <td></td>\n",
       "      <td>0</td>\n",
       "    </tr>\n",
       "    <tr>\n",
       "      <th>2</th>\n",
       "      <td>8544678</td>\n",
       "      <td>뭐야 이 평점들은 나쁘진 않지만 점 짜리는 더더욱 아니잖아</td>\n",
       "      <td>0</td>\n",
       "    </tr>\n",
       "    <tr>\n",
       "      <th>3</th>\n",
       "      <td>6825595</td>\n",
       "      <td>지루하지는 않은데 완전 막장임 돈주고 보기에는</td>\n",
       "      <td>0</td>\n",
       "    </tr>\n",
       "    <tr>\n",
       "      <th>4</th>\n",
       "      <td>6723715</td>\n",
       "      <td>만 아니었어도 별 다섯 개 줬을텐데 왜 로 나와서 제 심기를 불편하게 하죠</td>\n",
       "      <td>0</td>\n",
       "    </tr>\n",
       "  </tbody>\n",
       "</table></div>"
      ],
      "text/plain": [
       "        id                                   document  label\n",
       "0  6270596                                        굳 ㅋ      1\n",
       "1  9274899                                                 0\n",
       "2  8544678           뭐야 이 평점들은 나쁘진 않지만 점 짜리는 더더욱 아니잖아      0\n",
       "3  6825595                  지루하지는 않은데 완전 막장임 돈주고 보기에는      0\n",
       "4  6723715  만 아니었어도 별 다섯 개 줬을텐데 왜 로 나와서 제 심기를 불편하게 하죠      0"
      ]
     },
     "execution_count": 9,
     "metadata": {},
     "output_type": "execute_result"
    }
   ],
   "source": [
    "import pandas as pd \n",
    "import re \n",
    "\n",
    "\n",
    "# 데이터 전처리 함수\n",
    "def pre_processing(file):\n",
    "    \n",
    "    # 1.데이터 불러오기\n",
    "    df = pd.read_csv(file, encoding='utf-8', \n",
    "                 sep='\\t', engine='python')\n",
    "    print(f'before-df.shape : {df.shape}')\n",
    "    \n",
    "    \n",
    "    # 2.결측지 제거(document값 notnull인 행 추출)\n",
    "    df = df[df['document'].notnull()]  # df[df['document'].notnull()]\n",
    "    \n",
    " \n",
    "    # 3. 한글 이외의 문자 제거하기\n",
    "    df['document'] = df.document.apply(lambda x : re.sub(r'[^ ㄱ-ㅎ|가-힣]+', '', x)) \n",
    "    print(f'after-df.shape : {df.shape}')\n",
    "    \n",
    "    \n",
    "    return df\n",
    "\n",
    "train_df = pre_processing('data/moviereview/ratings_train.txt')\n",
    "test_df = pre_processing('data/moviereview/ratings_test.txt')\n",
    "test_df.head()    "
   ]
  },
  {
   "cell_type": "markdown",
   "id": "e7595af5",
   "metadata": {},
   "source": [
    "#### 3. 분석 모델 구축 및 평가\n",
    "**이진분류(긍정 or 부정) : 로지스틱 회귀 분석** \n",
    " 1. 특징 벡터화 작업하기 (사이킷런 TfidfVectorizer) \n",
    " 2. 머신러닝 모델 구축 : (사이킷런 LogisticRegression)\n",
    " 3. 머신러닝 모델 평가 ( )"
   ]
  },
  {
   "cell_type": "markdown",
   "id": "8bac322b",
   "metadata": {},
   "source": [
    "#### 3-1. 특징 벡터화 작업하기 : TfidfVectorizer\n",
    "텍스트 데이터를 숫자 형태의 벡터 데이터로 변환하는 특징 벡터화 작업\n",
    "- 형태소 단위로 텍스트를 한글 토큰화 (KoNLPy)\n",
    "- Okt(Open korean text): 오픈 소스 한국어 분석기. 과거 트위터 형태소 분석기 사용\n",
    "- 토큰화된 한글 단어에 대해 TF-IDF 방식 사용하여 벡터화(사이킷런)"
   ]
  },
  {
   "cell_type": "code",
   "execution_count": 10,
   "id": "bf35678a",
   "metadata": {},
   "outputs": [
    {
     "name": "stderr",
     "output_type": "stream",
     "text": [
      "C:\\python\\Python39\\lib\\site-packages\\sklearn\\feature_extraction\\text.py:524: UserWarning: The parameter 'token_pattern' will not be used since 'tokenizer' is not None'\n",
      "  warnings.warn(\n"
     ]
    },
    {
     "name": "stdout",
     "output_type": "stream",
     "text": [
      "-----------\n"
     ]
    }
   ],
   "source": [
    "# 일반 PC에서 처리시간 길다(6~10분)\n",
    "# 데이터 갯수를 줄이자(!)\n",
    "from konlpy.tag import Okt\n",
    "from sklearn.feature_extraction.text import TfidfVectorizer\n",
    "\n",
    "okt = Okt()\n",
    "\n",
    "# 형태소 분석\n",
    "def okt_tokenizer(text):\n",
    "    tokens = okt.morphs(text) # 형태소 단위로 토큰화    \n",
    "    return tokens\n",
    "\n",
    "\n",
    "# ngram_range:토큰 단어의 크기, 토큰 출현 빈도(3개이상 90%미만)\n",
    "tfidf = TfidfVectorizer(tokenizer=okt_tokenizer, \n",
    "                        ngram_range=(1,2),\n",
    "                       min_df=3, max_df=0.9)\n",
    "\n",
    "tfidf.fit(train_df['document'])\n",
    "\n",
    "train_tfidf = tfidf.transform(train_df['document'])    \n",
    "\n",
    "print('-----------')"
   ]
  },
  {
   "cell_type": "markdown",
   "id": "d8ab66c3",
   "metadata": {},
   "source": [
    "#### 3-2. 머신러닝 모델 구축\n",
    "- 머신러닝 모델 : LogisticRegression"
   ]
  },
  {
   "cell_type": "code",
   "execution_count": 11,
   "id": "b866f39a",
   "metadata": {},
   "outputs": [
    {
     "data": {
      "text/html": [
       "<style>#sk-container-id-1 {color: black;background-color: white;}#sk-container-id-1 pre{padding: 0;}#sk-container-id-1 div.sk-toggleable {background-color: white;}#sk-container-id-1 label.sk-toggleable__label {cursor: pointer;display: block;width: 100%;margin-bottom: 0;padding: 0.3em;box-sizing: border-box;text-align: center;}#sk-container-id-1 label.sk-toggleable__label-arrow:before {content: \"▸\";float: left;margin-right: 0.25em;color: #696969;}#sk-container-id-1 label.sk-toggleable__label-arrow:hover:before {color: black;}#sk-container-id-1 div.sk-estimator:hover label.sk-toggleable__label-arrow:before {color: black;}#sk-container-id-1 div.sk-toggleable__content {max-height: 0;max-width: 0;overflow: hidden;text-align: left;background-color: #f0f8ff;}#sk-container-id-1 div.sk-toggleable__content pre {margin: 0.2em;color: black;border-radius: 0.25em;background-color: #f0f8ff;}#sk-container-id-1 input.sk-toggleable__control:checked~div.sk-toggleable__content {max-height: 200px;max-width: 100%;overflow: auto;}#sk-container-id-1 input.sk-toggleable__control:checked~label.sk-toggleable__label-arrow:before {content: \"▾\";}#sk-container-id-1 div.sk-estimator input.sk-toggleable__control:checked~label.sk-toggleable__label {background-color: #d4ebff;}#sk-container-id-1 div.sk-label input.sk-toggleable__control:checked~label.sk-toggleable__label {background-color: #d4ebff;}#sk-container-id-1 input.sk-hidden--visually {border: 0;clip: rect(1px 1px 1px 1px);clip: rect(1px, 1px, 1px, 1px);height: 1px;margin: -1px;overflow: hidden;padding: 0;position: absolute;width: 1px;}#sk-container-id-1 div.sk-estimator {font-family: monospace;background-color: #f0f8ff;border: 1px dotted black;border-radius: 0.25em;box-sizing: border-box;margin-bottom: 0.5em;}#sk-container-id-1 div.sk-estimator:hover {background-color: #d4ebff;}#sk-container-id-1 div.sk-parallel-item::after {content: \"\";width: 100%;border-bottom: 1px solid gray;flex-grow: 1;}#sk-container-id-1 div.sk-label:hover label.sk-toggleable__label {background-color: #d4ebff;}#sk-container-id-1 div.sk-serial::before {content: \"\";position: absolute;border-left: 1px solid gray;box-sizing: border-box;top: 0;bottom: 0;left: 50%;z-index: 0;}#sk-container-id-1 div.sk-serial {display: flex;flex-direction: column;align-items: center;background-color: white;padding-right: 0.2em;padding-left: 0.2em;position: relative;}#sk-container-id-1 div.sk-item {position: relative;z-index: 1;}#sk-container-id-1 div.sk-parallel {display: flex;align-items: stretch;justify-content: center;background-color: white;position: relative;}#sk-container-id-1 div.sk-item::before, #sk-container-id-1 div.sk-parallel-item::before {content: \"\";position: absolute;border-left: 1px solid gray;box-sizing: border-box;top: 0;bottom: 0;left: 50%;z-index: -1;}#sk-container-id-1 div.sk-parallel-item {display: flex;flex-direction: column;z-index: 1;position: relative;background-color: white;}#sk-container-id-1 div.sk-parallel-item:first-child::after {align-self: flex-end;width: 50%;}#sk-container-id-1 div.sk-parallel-item:last-child::after {align-self: flex-start;width: 50%;}#sk-container-id-1 div.sk-parallel-item:only-child::after {width: 0;}#sk-container-id-1 div.sk-dashed-wrapped {border: 1px dashed gray;margin: 0 0.4em 0.5em 0.4em;box-sizing: border-box;padding-bottom: 0.4em;background-color: white;}#sk-container-id-1 div.sk-label label {font-family: monospace;font-weight: bold;display: inline-block;line-height: 1.2em;}#sk-container-id-1 div.sk-label-container {text-align: center;}#sk-container-id-1 div.sk-container {/* jupyter's `normalize.less` sets `[hidden] { display: none; }` but bootstrap.min.css set `[hidden] { display: none !important; }` so we also need the `!important` here to be able to override the default hidden behavior on the sphinx rendered scikit-learn.org. See: https://github.com/scikit-learn/scikit-learn/issues/21755 */display: inline-block !important;position: relative;}#sk-container-id-1 div.sk-text-repr-fallback {display: none;}</style><div id=\"sk-container-id-1\" class=\"sk-top-container\"><div class=\"sk-text-repr-fallback\"><pre>LogisticRegression(random_state=0)</pre><b>In a Jupyter environment, please rerun this cell to show the HTML representation or trust the notebook. <br />On GitHub, the HTML representation is unable to render, please try loading this page with nbviewer.org.</b></div><div class=\"sk-container\" hidden><div class=\"sk-item\"><div class=\"sk-estimator sk-toggleable\"><input class=\"sk-toggleable__control sk-hidden--visually\" id=\"sk-estimator-id-1\" type=\"checkbox\" checked><label for=\"sk-estimator-id-1\" class=\"sk-toggleable__label sk-toggleable__label-arrow\">LogisticRegression</label><div class=\"sk-toggleable__content\"><pre>LogisticRegression(random_state=0)</pre></div></div></div></div></div>"
      ],
      "text/plain": [
       "LogisticRegression(random_state=0)"
      ]
     },
     "execution_count": 11,
     "metadata": {},
     "output_type": "execute_result"
    }
   ],
   "source": [
    "from sklearn.linear_model import LogisticRegression\n",
    "\n",
    "lr = LogisticRegression(random_state=0)\n",
    "\n",
    "lr.fit(train_tfidf, train_df['label']) #학습 진행"
   ]
  },
  {
   "cell_type": "markdown",
   "id": "c924ebe1",
   "metadata": {},
   "source": [
    "#####  최적의 모델 만들기 : GridSearchCV 적용\n",
    "베이지안 옵티마이제이션이나 그리드 서치, 랜덤 서치 등\n",
    "- 최적의 하이퍼파라미터 값을 갖는 모델을 만들기 위해 사용하는 방법: Manual Search, Grid Search, Random Search, Bayesian optimization\n",
    "- GridSearchCV는 모델성능향상을 위해 사용하는 방법 중 하나로 교차 검증과 하이퍼 파라미터 튜닝을 동시에 수행한다.\n",
    "- 교차검증(CV Cross Validation): train set을 train set + validation set으로 분리한 뒤, validation set을 사용해 검증하는 방식\n",
    "- 하이퍼파라미터: 머신러닝에서 하이퍼파라미터는 최적의 훈련 모델을 구현하기 위해 모델에 설정하는 변수, 모델링할 때 사용자가 직접 세팅해주는 값 \n",
    "    > Tree 모델의 max_depth, max_leaf_nodes, 부스팅 모델의 learning_rate, SVM의 C, gamma, K-NN의 k 등\n",
    "- 지정된 파라미터들을 순차적으로 적용해보며 최적의 파라미터 값을 찾아주기 때문에 시간이 좀 걸린다."
   ]
  },
  {
   "cell_type": "code",
   "execution_count": 12,
   "id": "a9bc31e5",
   "metadata": {
    "scrolled": true
   },
   "outputs": [
    {
     "name": "stdout",
     "output_type": "stream",
     "text": [
      "Fitting 3 folds for each of 6 candidates, totalling 18 fits\n"
     ]
    },
    {
     "name": "stderr",
     "output_type": "stream",
     "text": [
      "C:\\python\\Python39\\lib\\site-packages\\sklearn\\linear_model\\_logistic.py:444: ConvergenceWarning: lbfgs failed to converge (status=1):\n",
      "STOP: TOTAL NO. of ITERATIONS REACHED LIMIT.\n",
      "\n",
      "Increase the number of iterations (max_iter) or scale the data as shown in:\n",
      "    https://scikit-learn.org/stable/modules/preprocessing.html\n",
      "Please also refer to the documentation for alternative solver options:\n",
      "    https://scikit-learn.org/stable/modules/linear_model.html#logistic-regression\n",
      "  n_iter_i = _check_optimize_result(\n",
      "C:\\python\\Python39\\lib\\site-packages\\sklearn\\linear_model\\_logistic.py:444: ConvergenceWarning: lbfgs failed to converge (status=1):\n",
      "STOP: TOTAL NO. of ITERATIONS REACHED LIMIT.\n",
      "\n",
      "Increase the number of iterations (max_iter) or scale the data as shown in:\n",
      "    https://scikit-learn.org/stable/modules/preprocessing.html\n",
      "Please also refer to the documentation for alternative solver options:\n",
      "    https://scikit-learn.org/stable/modules/linear_model.html#logistic-regression\n",
      "  n_iter_i = _check_optimize_result(\n",
      "C:\\python\\Python39\\lib\\site-packages\\sklearn\\linear_model\\_logistic.py:444: ConvergenceWarning: lbfgs failed to converge (status=1):\n",
      "STOP: TOTAL NO. of ITERATIONS REACHED LIMIT.\n",
      "\n",
      "Increase the number of iterations (max_iter) or scale the data as shown in:\n",
      "    https://scikit-learn.org/stable/modules/preprocessing.html\n",
      "Please also refer to the documentation for alternative solver options:\n",
      "    https://scikit-learn.org/stable/modules/linear_model.html#logistic-regression\n",
      "  n_iter_i = _check_optimize_result(\n",
      "C:\\python\\Python39\\lib\\site-packages\\sklearn\\linear_model\\_logistic.py:444: ConvergenceWarning: lbfgs failed to converge (status=1):\n",
      "STOP: TOTAL NO. of ITERATIONS REACHED LIMIT.\n",
      "\n",
      "Increase the number of iterations (max_iter) or scale the data as shown in:\n",
      "    https://scikit-learn.org/stable/modules/preprocessing.html\n",
      "Please also refer to the documentation for alternative solver options:\n",
      "    https://scikit-learn.org/stable/modules/linear_model.html#logistic-regression\n",
      "  n_iter_i = _check_optimize_result(\n",
      "C:\\python\\Python39\\lib\\site-packages\\sklearn\\linear_model\\_logistic.py:444: ConvergenceWarning: lbfgs failed to converge (status=1):\n",
      "STOP: TOTAL NO. of ITERATIONS REACHED LIMIT.\n",
      "\n",
      "Increase the number of iterations (max_iter) or scale the data as shown in:\n",
      "    https://scikit-learn.org/stable/modules/preprocessing.html\n",
      "Please also refer to the documentation for alternative solver options:\n",
      "    https://scikit-learn.org/stable/modules/linear_model.html#logistic-regression\n",
      "  n_iter_i = _check_optimize_result(\n",
      "C:\\python\\Python39\\lib\\site-packages\\sklearn\\linear_model\\_logistic.py:444: ConvergenceWarning: lbfgs failed to converge (status=1):\n",
      "STOP: TOTAL NO. of ITERATIONS REACHED LIMIT.\n",
      "\n",
      "Increase the number of iterations (max_iter) or scale the data as shown in:\n",
      "    https://scikit-learn.org/stable/modules/preprocessing.html\n",
      "Please also refer to the documentation for alternative solver options:\n",
      "    https://scikit-learn.org/stable/modules/linear_model.html#logistic-regression\n",
      "  n_iter_i = _check_optimize_result(\n",
      "C:\\python\\Python39\\lib\\site-packages\\sklearn\\linear_model\\_logistic.py:444: ConvergenceWarning: lbfgs failed to converge (status=1):\n",
      "STOP: TOTAL NO. of ITERATIONS REACHED LIMIT.\n",
      "\n",
      "Increase the number of iterations (max_iter) or scale the data as shown in:\n",
      "    https://scikit-learn.org/stable/modules/preprocessing.html\n",
      "Please also refer to the documentation for alternative solver options:\n",
      "    https://scikit-learn.org/stable/modules/linear_model.html#logistic-regression\n",
      "  n_iter_i = _check_optimize_result(\n",
      "C:\\python\\Python39\\lib\\site-packages\\sklearn\\linear_model\\_logistic.py:444: ConvergenceWarning: lbfgs failed to converge (status=1):\n",
      "STOP: TOTAL NO. of ITERATIONS REACHED LIMIT.\n",
      "\n",
      "Increase the number of iterations (max_iter) or scale the data as shown in:\n",
      "    https://scikit-learn.org/stable/modules/preprocessing.html\n",
      "Please also refer to the documentation for alternative solver options:\n",
      "    https://scikit-learn.org/stable/modules/linear_model.html#logistic-regression\n",
      "  n_iter_i = _check_optimize_result(\n",
      "C:\\python\\Python39\\lib\\site-packages\\sklearn\\linear_model\\_logistic.py:444: ConvergenceWarning: lbfgs failed to converge (status=1):\n",
      "STOP: TOTAL NO. of ITERATIONS REACHED LIMIT.\n",
      "\n",
      "Increase the number of iterations (max_iter) or scale the data as shown in:\n",
      "    https://scikit-learn.org/stable/modules/preprocessing.html\n",
      "Please also refer to the documentation for alternative solver options:\n",
      "    https://scikit-learn.org/stable/modules/linear_model.html#logistic-regression\n",
      "  n_iter_i = _check_optimize_result(\n"
     ]
    },
    {
     "name": "stdout",
     "output_type": "stream",
     "text": [
      "{'C': 3} 0.8544\n"
     ]
    },
    {
     "name": "stderr",
     "output_type": "stream",
     "text": [
      "C:\\python\\Python39\\lib\\site-packages\\sklearn\\linear_model\\_logistic.py:444: ConvergenceWarning: lbfgs failed to converge (status=1):\n",
      "STOP: TOTAL NO. of ITERATIONS REACHED LIMIT.\n",
      "\n",
      "Increase the number of iterations (max_iter) or scale the data as shown in:\n",
      "    https://scikit-learn.org/stable/modules/preprocessing.html\n",
      "Please also refer to the documentation for alternative solver options:\n",
      "    https://scikit-learn.org/stable/modules/linear_model.html#logistic-regression\n",
      "  n_iter_i = _check_optimize_result(\n"
     ]
    }
   ],
   "source": [
    "from sklearn.model_selection import GridSearchCV\n",
    "\n",
    "# 하이퍼파라미터 C에 대해 비교 검사할 값\n",
    "params = {'C':[1, 3, 3.5, 4, 4.5, 5]}\n",
    "\n",
    "\n",
    "# cv=3(교차검증) scoring='accuracy'(모형 비교)\n",
    "# verbose=1(함수 수행시 발생하는 상세한 정보 출력여부: 0[X],1[자세히],2[함축])\n",
    "lr_grid_cv = GridSearchCV(lr, param_grid=params, cv=3,\n",
    "                         scoring='accuracy', verbose=1)\n",
    "\n",
    "\n",
    "# 학습\n",
    "lr_grid_cv.fit(train_tfidf, train_df['label'])\n",
    "\n",
    "\n",
    "# 최적의 파라미터 출력\n",
    "print(lr_grid_cv.best_params_, round(lr_grid_cv.best_score_, 4))\n",
    "\n",
    "# 최적 감성 분석 모델 저장(best 하이퍼 파라미터 값을 가진 모형)\n",
    "lr_best = lr_grid_cv.best_estimator_"
   ]
  },
  {
   "cell_type": "markdown",
   "id": "fd939121",
   "metadata": {},
   "source": [
    "#### 3-2. 머신러닝 모델 평가\n",
    "- 평가용 데이터를 이용하여 모델 정확도 평가하기\n",
    "- 새로운 텍스트로 감성 예측 확인하기"
   ]
  },
  {
   "cell_type": "code",
   "execution_count": 14,
   "id": "23899695",
   "metadata": {
    "scrolled": true
   },
   "outputs": [
    {
     "name": "stdout",
     "output_type": "stream",
     "text": [
      "감성 분석 정확도 : 0.856\n"
     ]
    }
   ],
   "source": [
    "# 평가용 데이터를 이용하여 모델 정확도 평가하기\n",
    "from sklearn.metrics import accuracy_score\n",
    "\n",
    "test_tfidf = tfidf.transform(test_df['document'])\n",
    "test_predict = lr_best.predict(test_tfidf)\n",
    "\n",
    "accuracy_score = accuracy_score(test_df['label'], test_predict)\n",
    "print(f'감성 분석 정확도 : {round(accuracy_score, 3)}')"
   ]
  },
  {
   "cell_type": "markdown",
   "id": "f515d29e",
   "metadata": {},
   "source": [
    "- **[test] 문장을 직접 입력하여** 감성 분류 예측해보기"
   ]
  },
  {
   "cell_type": "code",
   "execution_count": 16,
   "id": "52073628",
   "metadata": {
    "scrolled": true
   },
   "outputs": [
    {
     "name": "stdout",
     "output_type": "stream",
     "text": [
      "감성 분석할 문장 입력: 오늘 즐거운 날입니다.\n",
      "re.compile st : ['오늘', '즐거운', '날입니다']\n",
      "전처리된 st : ['오늘 즐거운 날입니다']\n",
      "------------------------------\n",
      "['오늘 즐거운 날입니다']->긍정 감성\n"
     ]
    }
   ],
   "source": [
    "import re\n",
    "\n",
    "# 새로운 텍스트로 감성 예측 확인하기\n",
    "# 예: 오늘은 좋은 날이 될 것 같은 예감이 듭니다.\n",
    "# 예: 오늘은 기분이 좋지 않습니다\n",
    "st = input('감성 분석할 문장 입력: ')\n",
    "\n",
    "\n",
    "# 1.입력된 텍스트에 대한 전처리 작업\n",
    "st = re.compile(r'[ㄱ-ㅎ|가-힣]+').findall(st)\n",
    "print(f're.compile st : {st}')\n",
    "st = [' '.join(st)]\n",
    "print(f'전처리된 st : {st}')\n",
    "\n",
    "\n",
    "# 2.특징 벡터화\n",
    "st_tfidf = tfidf.transform(st)\n",
    "\n",
    "\n",
    "# 3.최적 감성 분석 모델 적용하여 예측하기\n",
    "st_predict = lr_best.predict(st_tfidf)\n",
    "\n",
    "\n",
    "# 4.예측값 출력하기\n",
    "print('-'*30)\n",
    "print(f'{st}->부정 감성')  if st_predict == 0  else print(f'{st}->긍정 감성')"
   ]
  },
  {
   "cell_type": "markdown",
   "id": "4c69992a",
   "metadata": {},
   "source": [
    "-----------------"
   ]
  },
  {
   "cell_type": "markdown",
   "id": "81be15c3",
   "metadata": {},
   "source": [
    "### [미션] 네이버 뉴스 검색 데이터 감성분류 적용하기\n",
    "1. 앞에서 진행한 네이버 뉴스검색 1000건에 대해\n",
    "2. 앞에서 만든 감성 분류 모델을 적용하여 \n",
    "3. 분류 결과 예측값을 'title_label'컬럼을 만들어 신규 추가하여 \n",
    "4. 파일(naver_news_ml.csv)로 저장하기"
   ]
  },
  {
   "cell_type": "code",
   "execution_count": 17,
   "id": "e5db57d0",
   "metadata": {
    "scrolled": true
   },
   "outputs": [
    {
     "data": {
      "text/html": [
       "<div><div id=29431b88-0cb1-49ee-b67d-9ae5d877db9c style=\"display:none; background-color:#9D6CFF; color:white; width:200px; height:30px; padding-left:5px; border-radius:4px; flex-direction:row; justify-content:space-around; align-items:center;\" onmouseover=\"this.style.backgroundColor='#BA9BF8'\" onmouseout=\"this.style.backgroundColor='#9D6CFF'\" onclick=\"window.commands?.execute('create-mitosheet-from-dataframe-output');\">See Full Dataframe in Mito</div> <script> if (window.commands?.hasCommand('create-mitosheet-from-dataframe-output')) document.getElementById('29431b88-0cb1-49ee-b67d-9ae5d877db9c').style.display = 'flex' </script> <table border=\"1\" class=\"dataframe\">\n",
       "  <thead>\n",
       "    <tr style=\"text-align: right;\">\n",
       "      <th></th>\n",
       "      <th>cnt</th>\n",
       "      <th>title</th>\n",
       "      <th>description</th>\n",
       "      <th>title_label</th>\n",
       "    </tr>\n",
       "  </thead>\n",
       "  <tbody>\n",
       "    <tr>\n",
       "      <th>0</th>\n",
       "      <td>1</td>\n",
       "      <td>복합위기 속 경제안전판 마련추경 땐 종이호랑이</td>\n",
       "      <td>지금 한국 경제는 고환율·고금리·고물가에 더해 무역 적자와 재정 적자가 동시에 발생하는 `쌍둥이 적자` 우려까지 나오는 복합적인 위기상황을 맞고 있는데요. 정부는 대내외 불확실성이 클 수록 재정 건전성을 지켜...</td>\n",
       "      <td>0</td>\n",
       "    </tr>\n",
       "    <tr>\n",
       "      <th>1</th>\n",
       "      <td>2</td>\n",
       "      <td>국민연금 제약바이오 베팅픽은 셀트리온한미약품</td>\n",
       "      <td>지금도 미국발 긴축우려와 유럽의 경기 둔화, 고환율, 여기에 미국 정부의 바이오 국산화란 변수가 있긴 한데요. 그럼에도 불구하고, 전문가들은 국민연금 등 연기금의 움직임을 주목할 필요가 있다고 조언합니다. 이들이...</td>\n",
       "      <td>1</td>\n",
       "    </tr>\n",
       "    <tr>\n",
       "      <th>2</th>\n",
       "      <td>3</td>\n",
       "      <td>제주도도의회 공조 결과물로 인정받기를</td>\n",
       "      <td>코로나19 장기화와 3고(고금리·고환율·고물가) 위기 속에서 협력의 필요성에 공감한 것이다. 도민의 삶에 무한 책임을 갖는 제주도와 도의회의 공조가 어떻게 전개될지 주목된다. 제주도와 도의회는 지난 8일...</td>\n",
       "      <td>1</td>\n",
       "    </tr>\n",
       "    <tr>\n",
       "      <th>3</th>\n",
       "      <td>4</td>\n",
       "      <td>정기국회 국면 여야 전열정비</td>\n",
       "      <td>민생대책위는 고금리·고물가·고환율 3고(高) 대응책의 일환으로 민생 개선형 입법안을 집중 논의할 것으로 관측된다. 민생대책위에는 김성환·홍성국·오기형·이용우·정태호·홍기원·김승남·맹성규·양이원영·이동주...</td>\n",
       "      <td>0</td>\n",
       "    </tr>\n",
       "    <tr>\n",
       "      <th>4</th>\n",
       "      <td>5</td>\n",
       "      <td>민주당 이번 정기국회 초부자감세 저지 기조 세운다</td>\n",
       "      <td>말했다.고환율 브리핑서 &amp;apos;증세가 세계적 대세&amp;apos; 강조경제정책 &amp;apos;사회적 약자 보호&amp;apos; 미국과 정반대전기차... 이날 경제대책위는 &amp;apos;고환율 및 고물가 대응방안&amp;apos;이라는 제목으로 경제브리핑을 하고 감세가 아닌 증세가 세계적...</td>\n",
       "      <td>0</td>\n",
       "    </tr>\n",
       "  </tbody>\n",
       "</table></div>"
      ],
      "text/plain": [
       "   cnt                        title  \\\n",
       "0    1    복합위기 속 경제안전판 마련추경 땐 종이호랑이   \n",
       "1    2     국민연금 제약바이오 베팅픽은 셀트리온한미약품   \n",
       "2    3         제주도도의회 공조 결과물로 인정받기를   \n",
       "3    4              정기국회 국면 여야 전열정비   \n",
       "4    5  민주당 이번 정기국회 초부자감세 저지 기조 세운다   \n",
       "\n",
       "                                         description  title_label  \n",
       "0  지금 한국 경제는 고환율·고금리·고물가에 더해 무역 적자와 재정 적자가 동시에 발생...            0  \n",
       "1  지금도 미국발 긴축우려와 유럽의 경기 둔화, 고환율, 여기에 미국 정부의 바이오 국...            1  \n",
       "2  코로나19 장기화와 3고(고금리·고환율·고물가) 위기 속에서 협력의 필요성에 공감한...            1  \n",
       "3  민생대책위는 고금리·고물가·고환율 3고(高) 대응책의 일환으로 민생 개선형 입법안을...            0  \n",
       "4  말했다.고환율 브리핑서 &apos;증세가 세계적 대세&apos; 강조경제정책 &ap...            0  "
      ]
     },
     "execution_count": 17,
     "metadata": {},
     "output_type": "execute_result"
    }
   ],
   "source": [
    "import pandas as pd \n",
    "\n",
    "# 1.데이터 불러오기\n",
    "file = 'data/naver_news_고환율.csv'\n",
    "news_df = pd.read_csv(file, encoding='utf-8')\n",
    "\n",
    "# 결측지 제거(document값 notnull인 행 추출)\n",
    "news_df['title'] = news_df['title'].apply(lambda x : re.sub(r'[^ ㄱ-ㅎ|가-힣]+', '', x)) \n",
    "news_df['title'] = news_df['title'].apply(lambda x : re.sub(r'&quot;|<b>|</b>', '', x))\n",
    "news_df['description'] = news_df['description'].apply(lambda x : re.sub(r'&quot;|<b>|</b>', '', x))\n",
    "\n",
    "news_df = news_df[news_df['title'].notnull()]  # df[df['document'].notnull()]\n",
    "news_df = news_df[news_df['description'].notnull()]  # df[df['document'].notnull()]\n",
    "\n",
    "\n",
    "# 특징 벡터화\n",
    "# news_tfidf = tfidf.transform(news_df['title'])\n",
    "news_tfidf = tfidf.transform(news_df['description'])\n",
    "\n",
    "\n",
    "# 2.감성 분류 모델 적용하기\n",
    "news_predict = lr_best.predict(news_tfidf)\n",
    "\n",
    "\n",
    "# 3.예측값 분류 컬럼 추가하기\n",
    "news_df['title_label'] = news_predict\n",
    "news_df.head()"
   ]
  },
  {
   "cell_type": "code",
   "execution_count": 18,
   "id": "7a55ca3d",
   "metadata": {},
   "outputs": [
    {
     "data": {
      "text/plain": [
       "1    51\n",
       "0    49\n",
       "Name: title_label, dtype: int64"
      ]
     },
     "execution_count": 18,
     "metadata": {},
     "output_type": "execute_result"
    }
   ],
   "source": [
    "news_df['title_label'].value_counts()"
   ]
  },
  {
   "cell_type": "code",
   "execution_count": 19,
   "id": "ee793694",
   "metadata": {},
   "outputs": [],
   "source": [
    "# 4.파일에 저장하기\n",
    "file = '%s_ml.csv' % (file)\n",
    "news_df.to_csv(file, index=False, encoding=\"utf-8-sig\")"
   ]
  },
  {
   "cell_type": "markdown",
   "id": "042875c7",
   "metadata": {},
   "source": [
    "------------------------------"
   ]
  },
  {
   "cell_type": "markdown",
   "id": "7bdcd155",
   "metadata": {},
   "source": [
    "THE END"
   ]
  }
 ],
 "metadata": {
  "kernelspec": {
   "display_name": "Python 3",
   "language": "python",
   "name": "python3"
  },
  "language_info": {
   "codemirror_mode": {
    "name": "ipython",
    "version": 3
   },
   "file_extension": ".py",
   "mimetype": "text/x-python",
   "name": "python",
   "nbconvert_exporter": "python",
   "pygments_lexer": "ipython3",
   "version": "3.9.10"
  }
 },
 "nbformat": 4,
 "nbformat_minor": 5
}
