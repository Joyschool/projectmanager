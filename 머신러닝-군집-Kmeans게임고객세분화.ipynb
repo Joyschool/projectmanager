{
 "cells": [
  {
   "cell_type": "markdown",
   "id": "a55cf926",
   "metadata": {},
   "source": [
    "# K-means 알고리즘으로 게임고객 세분화하기"
   ]
  },
  {
   "cell_type": "markdown",
   "id": "68c76af8",
   "metadata": {},
   "source": [
    "- 비지도학습 - Clustering"
   ]
  },
  {
   "cell_type": "markdown",
   "id": "850f5bb5",
   "metadata": {},
   "source": [
    "### # 라이브러리 설치하기"
   ]
  },
  {
   "cell_type": "code",
   "execution_count": null,
   "id": "b5eefe0a",
   "metadata": {},
   "outputs": [],
   "source": [
    "!pip install scikit-learn "
   ]
  },
  {
   "cell_type": "markdown",
   "id": "dbc3a251",
   "metadata": {},
   "source": [
    "-----------------"
   ]
  },
  {
   "cell_type": "markdown",
   "id": "3b91ec56",
   "metadata": {},
   "source": [
    "### [실습] 게임고객 세분화 하기\n",
    "- 비지도학습 : 레이블 없이 데이터만 주어짐\n",
    "- K-means clustering : K-평균 군집화 알고리즘"
   ]
  },
  {
   "cell_type": "markdown",
   "id": "b3373919",
   "metadata": {},
   "source": [
    "#### 1. 데이터 준비하기"
   ]
  },
  {
   "cell_type": "code",
   "execution_count": null,
   "id": "b24c34b4",
   "metadata": {},
   "outputs": [],
   "source": [
    "import pandas as pd\n",
    "import numpy as np\n",
    "import matplotlib\n",
    "import matplotlib.pyplot as plt\n",
    "\n",
    "# 한글출력 & 그래프 크기 설정\n",
    "matplotlib.rcParams['font.family'] = 'Malgun Gothic'  \n",
    "plt.rcParams['figure.figsize'] = (7, 5)  # (가로,세로) 인치 단위\n",
    "\n",
    "# 데이터 가져오기\n",
    "file = 'data/game_usage.csv'\n",
    "df = pd.read_csv(file)\n",
    "df"
   ]
  },
  {
   "cell_type": "code",
   "execution_count": null,
   "id": "a7030511",
   "metadata": {},
   "outputs": [],
   "source": [
    "# 컬럼명 공백을 다른 문자로 대체하여 사용하기\n",
    "df.columns = df.columns.str.replace(' ', '_')\n",
    "\n",
    "# 게임 사용시간 최대인 정보 추출하기\n",
    "field = 'time_spent'\n",
    "df.query(f'{field} >= {df[field].max()}')"
   ]
  },
  {
   "cell_type": "code",
   "execution_count": null,
   "id": "09ba8cda",
   "metadata": {},
   "outputs": [],
   "source": [
    "df['time_spent'].describe()"
   ]
  },
  {
   "cell_type": "markdown",
   "id": "e8128cee",
   "metadata": {},
   "source": [
    "#### 2. 데이터 그래프로 나타내기 : 산포도 그래프"
   ]
  },
  {
   "cell_type": "code",
   "execution_count": null,
   "id": "239a6c61",
   "metadata": {},
   "outputs": [],
   "source": [
    "X = df['time_spent']  # 게임 시간(h)\n",
    "Y = df['game_level']   # 게임 레벨\n",
    "\n",
    "# 게임 이용자 분석: 산포도 그래프\n",
    "plt.title('게임 이용자 현황')\n",
    "plt.xlabel('게임시간')\n",
    "plt.ylabel('게임레벨')\n",
    "plt.scatter(X, Y)\n",
    "plt.show()"
   ]
  },
  {
   "cell_type": "markdown",
   "id": "3882553e",
   "metadata": {},
   "source": [
    "#### 3. K-Means clustering(K-평균 군집화 기법)으로 4개 군집으로 분류\n",
    "- K-평균 알고리즘은 거리값을 기준으로 가까운 값을 같은 군집으로 본다.\n",
    "- cluster.KMeans(n_clusters=k)"
   ]
  },
  {
   "cell_type": "code",
   "execution_count": null,
   "id": "b0f23202",
   "metadata": {},
   "outputs": [],
   "source": [
    "from sklearn import cluster\n",
    "\n",
    "def kmeans_predict_plot(data, k):\n",
    "    model = cluster.KMeans(n_clusters=k)\n",
    "    model.fit(data)    \n",
    "    labels = model.predict(data)\n",
    "    print(labels)\n",
    "    colors = np.array(['red','green','blue','magenta'])\n",
    "    \n",
    "    X = data[:,0]\n",
    "    Y = data[:, 1]\n",
    "    plt.suptitle(f'K-means clustering, K={k}',fontsize=16)\n",
    "    plt.scatter(X, Y, color=colors[labels])\n",
    "    \n",
    "gamer_data = np.column_stack((X, Y))  # 예: [39, 944] X,Y배열쌍으로 구성\n",
    "#print(gamer_data)\n",
    "kmeans_predict_plot(gamer_data, k=4)"
   ]
  },
  {
   "cell_type": "markdown",
   "id": "4efc620f",
   "metadata": {},
   "source": [
    "#### 4. X축, Y축의 범위를 동일하게 0~1000으로 일치시켜서 그래프에 표현해보기\n",
    "- K-평균 알고리즘이 거리값을기준으로 가까운 값을 같은 군집으로 보기 때문에 X축, Y축의 범위가 다르면 적절한 군집화가 이루어지지 않을 있기 때문에 범위를 동일하게 만든다."
   ]
  },
  {
   "cell_type": "code",
   "execution_count": null,
   "id": "11aa54d7",
   "metadata": {
    "scrolled": true
   },
   "outputs": [],
   "source": [
    "kmeans_predict_plot(gamer_data, k=4)\n",
    "plt.xlim(0, 1000)\n",
    "plt.ylim(0, 1000)"
   ]
  },
  {
   "cell_type": "markdown",
   "id": "fcfc6c47",
   "metadata": {},
   "source": [
    "#### 5. 데이터 정규화(Normalization)하기\n",
    "- 데이터를 정제하는 방법 중 하나\n",
    "- 데이터가 적절한 군집화가 이루어질 수 있도록 \n",
    "- 모든 데이터를 0 ~ 1사이의 값을 갖게 표현하는 것 \n",
    "- 사이킷런에서는 학습 전에 데이터를 정제하기 위한 방법으로 정규화 클래스(preprocessing 서브 모듈의 MinMaxScaler 클래스)를 이용한다. \n",
    "- X축, Y축 분포의 특성이 모두 반영되도록 하는 작업이 데이터 정규화 작업이라고 볼 수 있다"
   ]
  },
  {
   "cell_type": "code",
   "execution_count": null,
   "id": "73707b2d",
   "metadata": {},
   "outputs": [],
   "source": [
    "from sklearn.preprocessing import MinMaxScaler\n",
    "\n",
    "normalscaler = MinMaxScaler()      # min-max 스케일러 객체 생성\n",
    "normalscaler.fit(gamer_data)       # gamer_data 피팅하기\n",
    "n_data = normalscaler.transform(gamer_data)    # gamer_data를 0~1 사이의 값으로 변환\n",
    "print(n_data.shape)\n",
    "\n",
    "print( n_data[:, 0].mean(), n_data[:, 1].mean() )  # 0~1사이의 0.5에 근사한 값인지 확인한다."
   ]
  },
  {
   "cell_type": "code",
   "execution_count": null,
   "id": "7c8b4b7e",
   "metadata": {},
   "outputs": [],
   "source": [
    "kmeans_predict_plot(n_data, k=4)  # gamer_data -> n_data 정규화 데이터를 입력값으로"
   ]
  },
  {
   "cell_type": "markdown",
   "id": "4b8bd863",
   "metadata": {},
   "source": [
    "#### # 데이터 표준화(Standardization) 정도 알아보기\n",
    "- 데이터를 정제하는 방법 중 하나\n",
    "- 표준화는 데이터를 정제할 때 전체의 평균(mean)과 분산(variation)을 사용한다."
   ]
  },
  {
   "cell_type": "code",
   "execution_count": null,
   "id": "45591d86",
   "metadata": {},
   "outputs": [],
   "source": [
    "from sklearn.preprocessing import StandardScaler\n",
    "\n",
    "standardScaler = StandardScaler() # 평균 0, 표준편차 1\n",
    "standardScaler.fit(gamer_data)\n",
    "s_data = standardScaler.transform(gamer_data)\n",
    "\n",
    "print( s_data[:, 0].std(), s_data[:, 1].std() )\n",
    "print( s_data[:, 0].mean(), s_data[:, 1].mean() )"
   ]
  },
  {
   "cell_type": "markdown",
   "id": "931c6822",
   "metadata": {},
   "source": [
    "-------"
   ]
  },
  {
   "cell_type": "markdown",
   "id": "c9a97b5a",
   "metadata": {},
   "source": [
    "THE END"
   ]
  }
 ],
 "metadata": {
  "kernelspec": {
   "display_name": "Python 3",
   "language": "python",
   "name": "python3"
  },
  "language_info": {
   "codemirror_mode": {
    "name": "ipython",
    "version": 3
   },
   "file_extension": ".py",
   "mimetype": "text/x-python",
   "name": "python",
   "nbconvert_exporter": "python",
   "pygments_lexer": "ipython3",
   "version": "3.9.10"
  }
 },
 "nbformat": 4,
 "nbformat_minor": 5
}
