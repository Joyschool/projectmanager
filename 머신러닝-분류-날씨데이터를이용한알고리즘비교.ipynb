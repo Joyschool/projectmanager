{
 "cells": [
  {
   "cell_type": "markdown",
   "id": "9027e374",
   "metadata": {},
   "source": [
    "# 날씨 데이터로 Scikit-learn ML 알고리즘 비교하기"
   ]
  },
  {
   "cell_type": "markdown",
   "id": "81165bfd",
   "metadata": {},
   "source": [
    "### 내용\n",
    "비가 올지 안올지 데이터를 예측하는 다양한 알고리즘 비교하기\n",
    "\n",
    "\n",
    "### 파일 \n",
    "- 구분: 0(비가 안온다)/1(비가 온다)"
   ]
  },
  {
   "cell_type": "code",
   "execution_count": 3,
   "id": "2d510c9d",
   "metadata": {},
   "outputs": [
    {
     "data": {
      "text/html": [
       "<div><div id=e3483cac-befe-4863-a3a6-ba77ef18bdf2 style=\"display:none; background-color:#9D6CFF; color:white; width:200px; height:30px; padding-left:5px; border-radius:4px; flex-direction:row; justify-content:space-around; align-items:center;\" onmouseover=\"this.style.backgroundColor='#BA9BF8'\" onmouseout=\"this.style.backgroundColor='#9D6CFF'\" onclick=\"window.commands?.execute('create-mitosheet-from-dataframe-output');\">See Full Dataframe in Mito</div> <script> if (window.commands?.hasCommand('create-mitosheet-from-dataframe-output')) document.getElementById('e3483cac-befe-4863-a3a6-ba77ef18bdf2').style.display = 'flex' </script> <table border=\"1\" class=\"dataframe\">\n",
       "  <thead>\n",
       "    <tr style=\"text-align: right;\">\n",
       "      <th></th>\n",
       "      <th>일시</th>\n",
       "      <th>평균기온(°C)</th>\n",
       "      <th>평균 상대습도(%)</th>\n",
       "      <th>평균 전운량(1/10)</th>\n",
       "      <th>합계 일조 시간(hr)</th>\n",
       "      <th>강수 계속시간(hr)</th>\n",
       "      <th>구분</th>\n",
       "    </tr>\n",
       "  </thead>\n",
       "  <tbody>\n",
       "    <tr>\n",
       "      <th>0</th>\n",
       "      <td>2010-01-01</td>\n",
       "      <td>-7.6</td>\n",
       "      <td>48.0</td>\n",
       "      <td>3.8</td>\n",
       "      <td>7.3</td>\n",
       "      <td>NaN</td>\n",
       "      <td>0</td>\n",
       "    </tr>\n",
       "    <tr>\n",
       "      <th>1</th>\n",
       "      <td>2010-01-02</td>\n",
       "      <td>-3.6</td>\n",
       "      <td>76.4</td>\n",
       "      <td>6.0</td>\n",
       "      <td>0.8</td>\n",
       "      <td>6.57</td>\n",
       "      <td>1</td>\n",
       "    </tr>\n",
       "    <tr>\n",
       "      <th>2</th>\n",
       "      <td>2010-01-03</td>\n",
       "      <td>-6.8</td>\n",
       "      <td>49.3</td>\n",
       "      <td>2.6</td>\n",
       "      <td>8.2</td>\n",
       "      <td>NaN</td>\n",
       "      <td>0</td>\n",
       "    </tr>\n",
       "    <tr>\n",
       "      <th>3</th>\n",
       "      <td>2010-01-04</td>\n",
       "      <td>-5.9</td>\n",
       "      <td>84.1</td>\n",
       "      <td>7.5</td>\n",
       "      <td>0.1</td>\n",
       "      <td>13.03</td>\n",
       "      <td>1</td>\n",
       "    </tr>\n",
       "    <tr>\n",
       "      <th>4</th>\n",
       "      <td>2010-01-05</td>\n",
       "      <td>-9.9</td>\n",
       "      <td>66.4</td>\n",
       "      <td>2.1</td>\n",
       "      <td>7.5</td>\n",
       "      <td>0.95</td>\n",
       "      <td>1</td>\n",
       "    </tr>\n",
       "  </tbody>\n",
       "</table></div>"
      ],
      "text/plain": [
       "           일시  평균기온(°C)  평균 상대습도(%)  평균 전운량(1/10)  합계 일조 시간(hr)  강수 계속시간(hr)  \\\n",
       "0  2010-01-01      -7.6        48.0           3.8           7.3          NaN   \n",
       "1  2010-01-02      -3.6        76.4           6.0           0.8         6.57   \n",
       "2  2010-01-03      -6.8        49.3           2.6           8.2          NaN   \n",
       "3  2010-01-04      -5.9        84.1           7.5           0.1        13.03   \n",
       "4  2010-01-05      -9.9        66.4           2.1           7.5         0.95   \n",
       "\n",
       "   구분  \n",
       "0   0  \n",
       "1   1  \n",
       "2   0  \n",
       "3   1  \n",
       "4   1  "
      ]
     },
     "execution_count": 3,
     "metadata": {},
     "output_type": "execute_result"
    }
   ],
   "source": [
    "import pandas as pd\n",
    "\n",
    "file = 'data/weather_total.csv'\n",
    "df = pd.read_csv(file, encoding='cp949')\n",
    "df.head(5)"
   ]
  },
  {
   "cell_type": "markdown",
   "id": "48e677b1",
   "metadata": {},
   "source": [
    "-----------------------"
   ]
  },
  {
   "cell_type": "markdown",
   "id": "0825bdc8",
   "metadata": {},
   "source": [
    "### [실습] Scikit-learn ML 알고리즘 비교하기"
   ]
  },
  {
   "cell_type": "code",
   "execution_count": 13,
   "id": "c6d61342",
   "metadata": {},
   "outputs": [
    {
     "name": "stdout",
     "output_type": "stream",
     "text": [
      "--------------------------------------------------\n",
      "Results for model SVC\n",
      "Correct: 1311\n",
      "Incorrect: 296\n",
      "Accuracy: 81.58%\n"
     ]
    }
   ],
   "source": [
    "import csv\n",
    "import random\n",
    "\n",
    "# 사용할 ML 모듈 가져오기\n",
    "from sklearn import svm\n",
    "from sklearn.linear_model import Perceptron\n",
    "from sklearn.naive_bayes import GaussianNB\n",
    "from sklearn.neighbors import KNeighborsClassifier\n",
    "\n",
    "# 1.사용할 ML 모델 지정하기\n",
    "model = svm.SVC()\n",
    "# model = Perceptron()\n",
    "# model = KNeighborsClassifier(n_neighbors=1)\n",
    "# model = GaussianNB()\n",
    "\n",
    "\n",
    "# 2.학습용 데이터 불러오기(전처리가 된 상태의 데이터)\n",
    "file = 'data/weather_total.csv'\n",
    "with open(file) as f:\n",
    "    reader = csv.reader(f)\n",
    "    next(reader)\n",
    "\n",
    "    data = []\n",
    "    for row in reader:\n",
    "        data.append({\n",
    "            \"evidence\": [float(cell) if cell !='' else 0  for cell in row[1:5] ],\n",
    "            \"label\": \"Rain\" if row[6] == \"1\" else \"No-rain\"\n",
    "        })\n",
    "# print(data)\n",
    "\n",
    "\n",
    "# 3.학습용 데이터와 테스트 데이터 분류하기= 6:4\n",
    "holdout = int(0.40 * len(data))\n",
    "random.shuffle(data)\n",
    "testing = data[:holdout]\n",
    "training = data[holdout:]\n",
    "\n",
    "\n",
    "# 4.학습용 데이터에서 독립변수와 종속변수 지정하게 학습모델에 넣기\n",
    "X_training = [row[\"evidence\"] for row in training]   # 독립변수\n",
    "y_training = [row[\"label\"] for row in training]      # 레이블\n",
    "model.fit(X_training, y_training)\n",
    "\n",
    "\n",
    "# 5.테스트 데이터 모델에 넣고 예측하기\n",
    "X_testing = [row[\"evidence\"] for row in testing]\n",
    "y_testing = [row[\"label\"] for row in testing]\n",
    "predictions = model.predict(X_testing)\n",
    "\n",
    "\n",
    "# 6.모델의 성능 및 정확도 출력하기\n",
    "correct = 0\n",
    "incorrect = 0\n",
    "total = 0\n",
    "for actual, predicted in zip(y_testing, predictions):\n",
    "    total += 1\n",
    "    if actual == predicted:\n",
    "        correct += 1\n",
    "    else:\n",
    "        incorrect += 1\n",
    "# 화면에 출력하기\n",
    "print('-'*50)\n",
    "print(f\"Results for model {type(model).__name__}\")\n",
    "print(f\"Correct: {correct}\")\n",
    "print(f\"Incorrect: {incorrect}\")\n",
    "print(f\"Accuracy: {100 * correct / total:.2f}%\")"
   ]
  },
  {
   "cell_type": "markdown",
   "id": "9d29dbc2",
   "metadata": {},
   "source": [
    "------"
   ]
  },
  {
   "cell_type": "markdown",
   "id": "3ad541fa",
   "metadata": {},
   "source": [
    "## THE END"
   ]
  }
 ],
 "metadata": {
  "kernelspec": {
   "display_name": "Python 3",
   "language": "python",
   "name": "python3"
  },
  "language_info": {
   "codemirror_mode": {
    "name": "ipython",
    "version": 3
   },
   "file_extension": ".py",
   "mimetype": "text/x-python",
   "name": "python",
   "nbconvert_exporter": "python",
   "pygments_lexer": "ipython3",
   "version": "3.9.10"
  }
 },
 "nbformat": 4,
 "nbformat_minor": 5
}
