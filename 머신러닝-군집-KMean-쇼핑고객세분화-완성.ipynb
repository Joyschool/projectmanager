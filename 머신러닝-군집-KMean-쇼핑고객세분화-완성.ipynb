{
 "cells": [
  {
   "cell_type": "markdown",
   "id": "b8aa93ac",
   "metadata": {},
   "source": [
    "# 머신러닝 실습 예제\n",
    "\n",
    "## 군집(Clustering) : K-means 알고리즘"
   ]
  },
  {
   "cell_type": "markdown",
   "id": "f5bec913",
   "metadata": {},
   "source": [
    "### # 군집(Clustring)\n",
    "- 주어진 데이터 집합을 유사한 특성(관계, 특성)을 갖는 데이터들의 그룹으로 나누는 것을 군집화(clustering)라 하고 이렇게 나누어진 유사한 데이터의 그룹을 군집(cluster)이라 한다.\n",
    "- 대표적인 비지도학습 방법 \n",
    "\n",
    "#### ## 군집화 방법\n",
    "- **K-평균 군집화(K-means Clustering)**\n",
    "- 디비스캔 군집화(DBSCAN Clustering)\n",
    "- 유사도 전파 군집화(Affinity Propagation Clustering)\n",
    "- 계층적 군집화(Hierarchical Clustering)\n",
    "- 스펙트럴 군집화(Spectral Clustering\n",
    "<br><br>\n",
    "- 사이킷런 군집 클래스 : \n",
    "https://scikit-learn.org/stable/modules/classes.html?highlight=sklearn%20cluster#module-sklearn.cluster\n",
    "\n",
    "#### ## 성능평가 방법\n",
    "(다른 방법과 다르게 비교적)성능기준을 만들기 어렵다.<br>\n",
    "- 조정 랜드지수(ARI: Adjusted Rand Index):<br>\n",
    "랜드지수(Rand Index, RI)는 가능한 모든 데이터 쌍의 개수에 대해 정답인 데이터 쌍의 개수의 비율로 정의하는 방식으로 무작위 군집화에서 생기는 랜드지수의 기댓값을 원래의 값에서 빼서 기댓값과 분산을 재조정한 것\n",
    "- 조정 상호정보량(AMI:Adjusted Mutual Information):<br>\n",
    "두 확률변수간의 상호 의존성을 측정한 값\n",
    "- **실루엣계수(Silhouette Coefficient)**:<br>\n",
    "모든 데이터 쌍 (i,j)에 대해 거리 혹은 비유사도(dissimilarity)을 구한 값"
   ]
  },
  {
   "cell_type": "markdown",
   "id": "69a5565a",
   "metadata": {},
   "source": [
    "### # K-means\n",
    "- 데이터를 K개의 군집(Cluster)으로 묶는(Clusting) 알고리즘\n",
    "- 군집에 배정할 때 각 군집의 중심점(Centroid)과 데이터들의 평균(mean) 유클리드 거리를 계산하여 가장 가까운 군집에 배정하는 방법\n",
    "- 사이킷런 K-means :\n",
    "https://scikit-learn.org/stable/modules/generated/sklearn.cluster.KMeans.html#sklearn.cluster.KMeans"
   ]
  },
  {
   "cell_type": "markdown",
   "id": "8e541c0f",
   "metadata": {},
   "source": [
    "-----------------"
   ]
  },
  {
   "cell_type": "markdown",
   "id": "6c820071",
   "metadata": {},
   "source": [
    "### [실습] 고객 세분화(Customer Segmentation)"
   ]
  },
  {
   "cell_type": "markdown",
   "id": "38cf289e",
   "metadata": {},
   "source": [
    "### 1. 목표 설정\n",
    "\n",
    "**타겟 마케팅을 위한 소비자 군집 만들기**\n",
    "- 타겟 마케팅 : 구매 행동을 가진 그룹을 세분화하여 각 특성에 맞는 마케팅을 하는 전략 \n",
    "- 머신러닝 군집(Clustering) 분석 : K-평균 알고리즘 사용, 비지도학습\n",
    "- 기존 고객 정보를 **머신러닝의 군집 분석** 학습을 통해 훈련시켜 모델을 만들어 유사한 특성(관계, 특성)을 갖는 데이터를 클러스터로 구성한다. 이를 통해 새로운 데이터의 특성을 분석하여 해당하는 클러스터를 **예측**한다."
   ]
  },
  {
   "cell_type": "markdown",
   "id": "115b8b6b",
   "metadata": {},
   "source": [
    "### 2. 데이터 수집"
   ]
  },
  {
   "cell_type": "markdown",
   "id": "65fe4312",
   "metadata": {},
   "source": [
    "#### UCI Machine Learning Repository (https://archive.ics.uci.edu/ml/index.php)\n",
    "- **검색키워드**: online retail (https://archive.ics.uci.edu/ml/datasets/online+retail)\n",
    "- **다운로드** : Online Retail.xlsx 다운로드--> data 폴더로 이동(파일명 공백없도록 수정) \n",
    "- **데이터셋** : 영국 온라인 소매 플랫폼에서 2010-12-01 ~ 2011-12-09까지 발생한 541,909건의 실제 거래 데이터 "
   ]
  },
  {
   "cell_type": "code",
   "execution_count": 1,
   "id": "789f6fb9",
   "metadata": {
    "scrolled": false
   },
   "outputs": [
    {
     "data": {
      "text/html": [
       "<div><div id=284c6961-b968-496d-9c62-50882e328f99 style=\"display:none; background-color:#9D6CFF; color:white; width:200px; height:30px; padding-left:5px; border-radius:4px; flex-direction:row; justify-content:space-around; align-items:center;\" onmouseover=\"this.style.backgroundColor='#BA9BF8'\" onmouseout=\"this.style.backgroundColor='#9D6CFF'\" onclick=\"window.commands?.execute('create-mitosheet-from-dataframe-output');\">See Full Dataframe in Mito</div> <script> if (window.commands?.hasCommand('create-mitosheet-from-dataframe-output')) document.getElementById('284c6961-b968-496d-9c62-50882e328f99').style.display = 'flex' </script> <table border=\"1\" class=\"dataframe\">\n",
       "  <thead>\n",
       "    <tr style=\"text-align: right;\">\n",
       "      <th></th>\n",
       "      <th>InvoiceNo</th>\n",
       "      <th>StockCode</th>\n",
       "      <th>Description</th>\n",
       "      <th>Quantity</th>\n",
       "      <th>InvoiceDate</th>\n",
       "      <th>UnitPrice</th>\n",
       "      <th>CustomerID</th>\n",
       "      <th>Country</th>\n",
       "    </tr>\n",
       "  </thead>\n",
       "  <tbody>\n",
       "    <tr>\n",
       "      <th>0</th>\n",
       "      <td>536365</td>\n",
       "      <td>85123A</td>\n",
       "      <td>WHITE HANGING HEART T-LIGHT HOLDER</td>\n",
       "      <td>6</td>\n",
       "      <td>2010-12-01 08:26:00</td>\n",
       "      <td>2.55</td>\n",
       "      <td>17850.0</td>\n",
       "      <td>United Kingdom</td>\n",
       "    </tr>\n",
       "    <tr>\n",
       "      <th>1</th>\n",
       "      <td>536365</td>\n",
       "      <td>71053</td>\n",
       "      <td>WHITE METAL LANTERN</td>\n",
       "      <td>6</td>\n",
       "      <td>2010-12-01 08:26:00</td>\n",
       "      <td>3.39</td>\n",
       "      <td>17850.0</td>\n",
       "      <td>United Kingdom</td>\n",
       "    </tr>\n",
       "    <tr>\n",
       "      <th>2</th>\n",
       "      <td>536365</td>\n",
       "      <td>84406B</td>\n",
       "      <td>CREAM CUPID HEARTS COAT HANGER</td>\n",
       "      <td>8</td>\n",
       "      <td>2010-12-01 08:26:00</td>\n",
       "      <td>2.75</td>\n",
       "      <td>17850.0</td>\n",
       "      <td>United Kingdom</td>\n",
       "    </tr>\n",
       "    <tr>\n",
       "      <th>3</th>\n",
       "      <td>536365</td>\n",
       "      <td>84029G</td>\n",
       "      <td>KNITTED UNION FLAG HOT WATER BOTTLE</td>\n",
       "      <td>6</td>\n",
       "      <td>2010-12-01 08:26:00</td>\n",
       "      <td>3.39</td>\n",
       "      <td>17850.0</td>\n",
       "      <td>United Kingdom</td>\n",
       "    </tr>\n",
       "    <tr>\n",
       "      <th>4</th>\n",
       "      <td>536365</td>\n",
       "      <td>84029E</td>\n",
       "      <td>RED WOOLLY HOTTIE WHITE HEART.</td>\n",
       "      <td>6</td>\n",
       "      <td>2010-12-01 08:26:00</td>\n",
       "      <td>3.39</td>\n",
       "      <td>17850.0</td>\n",
       "      <td>United Kingdom</td>\n",
       "    </tr>\n",
       "  </tbody>\n",
       "</table></div>"
      ],
      "text/plain": [
       "  InvoiceNo StockCode                          Description  Quantity  \\\n",
       "0    536365    85123A   WHITE HANGING HEART T-LIGHT HOLDER         6   \n",
       "1    536365     71053                  WHITE METAL LANTERN         6   \n",
       "2    536365    84406B       CREAM CUPID HEARTS COAT HANGER         8   \n",
       "3    536365    84029G  KNITTED UNION FLAG HOT WATER BOTTLE         6   \n",
       "4    536365    84029E       RED WOOLLY HOTTIE WHITE HEART.         6   \n",
       "\n",
       "          InvoiceDate  UnitPrice  CustomerID         Country  \n",
       "0 2010-12-01 08:26:00       2.55     17850.0  United Kingdom  \n",
       "1 2010-12-01 08:26:00       3.39     17850.0  United Kingdom  \n",
       "2 2010-12-01 08:26:00       2.75     17850.0  United Kingdom  \n",
       "3 2010-12-01 08:26:00       3.39     17850.0  United Kingdom  \n",
       "4 2010-12-01 08:26:00       3.39     17850.0  United Kingdom  "
      ]
     },
     "execution_count": 1,
     "metadata": {},
     "output_type": "execute_result"
    }
   ],
   "source": [
    "import pandas as pd\n",
    "import numpy as np\n",
    "\n",
    "# 데이터량이 많아서 로딩하는데 시간이 좀 걸린다.\n",
    "df = pd.read_excel('data/OnlineRetail.xlsx') # 파일명에 공백이 없도록 수정하면 좋다.\n",
    "df.head()"
   ]
  },
  {
   "cell_type": "code",
   "execution_count": 2,
   "id": "2a358e9a",
   "metadata": {},
   "outputs": [
    {
     "name": "stdout",
     "output_type": "stream",
     "text": [
      "총기간: 2010-12-01 08:26:00 ~ 2011-12-09 12:50:00\n",
      "날짜수: 373 days 04:24:00\n"
     ]
    }
   ],
   "source": [
    "print(f\"총기간: {df['InvoiceDate'].min()} ~ {df['InvoiceDate'].max()}\")\n",
    "print(f\"날짜수: {df['InvoiceDate'].max() - df['InvoiceDate'].min()}\" )"
   ]
  },
  {
   "cell_type": "markdown",
   "id": "05e52756",
   "metadata": {},
   "source": [
    "#### 컬럼정보\n",
    "- InvoiceNo : 송장번호 'C'로 시작하는 취소 주문\n",
    "- StockCode : 제품 고유 품목코드\n",
    "- Description : 제품 설명\n",
    "- Quantity : 주문 수량\n",
    "- InvoiceDate : 주문 날짜와 시간\n",
    "- UnitPrice : 제품 단가 (영국 파운드화)\n",
    "- CustomerID : 주문 고객 번호\n",
    "- Country : 주문 고객의 국적"
   ]
  },
  {
   "cell_type": "markdown",
   "id": "b58a4008",
   "metadata": {},
   "source": [
    "#### 데이터 요약정보"
   ]
  },
  {
   "cell_type": "code",
   "execution_count": 3,
   "id": "f2af7574",
   "metadata": {},
   "outputs": [
    {
     "name": "stdout",
     "output_type": "stream",
     "text": [
      "<class 'pandas.core.frame.DataFrame'>\n",
      "RangeIndex: 541909 entries, 0 to 541908\n",
      "Data columns (total 8 columns):\n",
      " #   Column       Non-Null Count   Dtype         \n",
      "---  ------       --------------   -----         \n",
      " 0   InvoiceNo    541909 non-null  object        \n",
      " 1   StockCode    541909 non-null  object        \n",
      " 2   Description  540455 non-null  object        \n",
      " 3   Quantity     541909 non-null  int64         \n",
      " 4   InvoiceDate  541909 non-null  datetime64[ns]\n",
      " 5   UnitPrice    541909 non-null  float64       \n",
      " 6   CustomerID   406829 non-null  float64       \n",
      " 7   Country      541909 non-null  object        \n",
      "dtypes: datetime64[ns](1), float64(2), int64(1), object(4)\n",
      "memory usage: 33.1+ MB\n"
     ]
    }
   ],
   "source": [
    "df.info() # 데이터의 건수, 컬럼, 데이터타입,  Null값과 같은 결측치가 있는지 확인 등"
   ]
  },
  {
   "cell_type": "code",
   "execution_count": 4,
   "id": "141d9bda",
   "metadata": {
    "scrolled": true
   },
   "outputs": [
    {
     "data": {
      "text/html": [
       "<div><div id=97e1aa78-fc18-4d78-8574-a121c8c411a6 style=\"display:none; background-color:#9D6CFF; color:white; width:200px; height:30px; padding-left:5px; border-radius:4px; flex-direction:row; justify-content:space-around; align-items:center;\" onmouseover=\"this.style.backgroundColor='#BA9BF8'\" onmouseout=\"this.style.backgroundColor='#9D6CFF'\" onclick=\"window.commands?.execute('create-mitosheet-from-dataframe-output');\">See Full Dataframe in Mito</div> <script> if (window.commands?.hasCommand('create-mitosheet-from-dataframe-output')) document.getElementById('97e1aa78-fc18-4d78-8574-a121c8c411a6').style.display = 'flex' </script> <table border=\"1\" class=\"dataframe\">\n",
       "  <thead>\n",
       "    <tr style=\"text-align: right;\">\n",
       "      <th></th>\n",
       "      <th>Quantity</th>\n",
       "      <th>UnitPrice</th>\n",
       "      <th>CustomerID</th>\n",
       "    </tr>\n",
       "  </thead>\n",
       "  <tbody>\n",
       "    <tr>\n",
       "      <th>count</th>\n",
       "      <td>541909.000000</td>\n",
       "      <td>541909.000000</td>\n",
       "      <td>406829.000000</td>\n",
       "    </tr>\n",
       "    <tr>\n",
       "      <th>mean</th>\n",
       "      <td>9.552250</td>\n",
       "      <td>4.611114</td>\n",
       "      <td>15287.690570</td>\n",
       "    </tr>\n",
       "    <tr>\n",
       "      <th>std</th>\n",
       "      <td>218.081158</td>\n",
       "      <td>96.759853</td>\n",
       "      <td>1713.600303</td>\n",
       "    </tr>\n",
       "    <tr>\n",
       "      <th>min</th>\n",
       "      <td>-80995.000000</td>\n",
       "      <td>-11062.060000</td>\n",
       "      <td>12346.000000</td>\n",
       "    </tr>\n",
       "    <tr>\n",
       "      <th>25%</th>\n",
       "      <td>1.000000</td>\n",
       "      <td>1.250000</td>\n",
       "      <td>13953.000000</td>\n",
       "    </tr>\n",
       "    <tr>\n",
       "      <th>50%</th>\n",
       "      <td>3.000000</td>\n",
       "      <td>2.080000</td>\n",
       "      <td>15152.000000</td>\n",
       "    </tr>\n",
       "    <tr>\n",
       "      <th>75%</th>\n",
       "      <td>10.000000</td>\n",
       "      <td>4.130000</td>\n",
       "      <td>16791.000000</td>\n",
       "    </tr>\n",
       "    <tr>\n",
       "      <th>max</th>\n",
       "      <td>80995.000000</td>\n",
       "      <td>38970.000000</td>\n",
       "      <td>18287.000000</td>\n",
       "    </tr>\n",
       "  </tbody>\n",
       "</table></div>"
      ],
      "text/plain": [
       "            Quantity      UnitPrice     CustomerID\n",
       "count  541909.000000  541909.000000  406829.000000\n",
       "mean        9.552250       4.611114   15287.690570\n",
       "std       218.081158      96.759853    1713.600303\n",
       "min    -80995.000000  -11062.060000   12346.000000\n",
       "25%         1.000000       1.250000   13953.000000\n",
       "50%         3.000000       2.080000   15152.000000\n",
       "75%        10.000000       4.130000   16791.000000\n",
       "max     80995.000000   38970.000000   18287.000000"
      ]
     },
     "execution_count": 4,
     "metadata": {},
     "output_type": "execute_result"
    }
   ],
   "source": [
    "df.describe()   # 기술통계 정보"
   ]
  },
  {
   "cell_type": "markdown",
   "id": "e6c78448",
   "metadata": {},
   "source": [
    "-------------------"
   ]
  },
  {
   "cell_type": "markdown",
   "id": "f59d4d32",
   "metadata": {},
   "source": [
    "### 3. 데이터 전처리\n",
    "\n",
    "#### 3-1. 데이터 정제하기\n",
    " 1. 중복 데이터 제거\n",
    " 2. Quantity 과 UnitPrice 음수인 값 제거\n",
    " 3. CustomerID 값 없는 데이터 삭제\n",
    " 4. CustomerID float64 --> int형으로 변환\t"
   ]
  },
  {
   "cell_type": "markdown",
   "id": "39874b0b",
   "metadata": {},
   "source": [
    "#### 3-1-1.중복 데이터 제거"
   ]
  },
  {
   "cell_type": "code",
   "execution_count": 5,
   "id": "dd3d7079",
   "metadata": {},
   "outputs": [
    {
     "name": "stdout",
     "output_type": "stream",
     "text": [
      "(541909, 8)\n",
      "(536641, 8)\n"
     ]
    }
   ],
   "source": [
    "print(df.shape)\n",
    "df.drop_duplicates(inplace=True)\n",
    "print(df.shape)"
   ]
  },
  {
   "cell_type": "markdown",
   "id": "c0d5a77d",
   "metadata": {},
   "source": [
    "#### 3-1-2.Quantity 과 UnitPrice 음수인 값 제거"
   ]
  },
  {
   "cell_type": "code",
   "execution_count": 6,
   "id": "699d5dd8",
   "metadata": {},
   "outputs": [
    {
     "name": "stdout",
     "output_type": "stream",
     "text": [
      "(524878, 8)\n"
     ]
    }
   ],
   "source": [
    "df = df[ df['Quantity'] > 0 ]\n",
    "df = df[ df['UnitPrice'] > 0 ]\n",
    "print(df.shape)"
   ]
  },
  {
   "cell_type": "markdown",
   "id": "bb76b897",
   "metadata": {},
   "source": [
    "#### 3-1-3.CustomerID 값 없는 데이터 삭제"
   ]
  },
  {
   "cell_type": "code",
   "execution_count": 7,
   "id": "359b4800",
   "metadata": {},
   "outputs": [
    {
     "name": "stdout",
     "output_type": "stream",
     "text": [
      "(392692, 8)\n"
     ]
    }
   ],
   "source": [
    "df = df[ df['CustomerID'].notnull() ]\n",
    "print(df.shape)"
   ]
  },
  {
   "cell_type": "markdown",
   "id": "ef87d5cc",
   "metadata": {},
   "source": [
    "#### 3-1-4.CustomerID float64 --> int형으로 변환"
   ]
  },
  {
   "cell_type": "code",
   "execution_count": 8,
   "id": "bdf11f39",
   "metadata": {},
   "outputs": [
    {
     "name": "stdout",
     "output_type": "stream",
     "text": [
      "<class 'pandas.core.frame.DataFrame'>\n",
      "Int64Index: 392692 entries, 0 to 541908\n",
      "Data columns (total 8 columns):\n",
      " #   Column       Non-Null Count   Dtype         \n",
      "---  ------       --------------   -----         \n",
      " 0   InvoiceNo    392692 non-null  object        \n",
      " 1   StockCode    392692 non-null  object        \n",
      " 2   Description  392692 non-null  object        \n",
      " 3   Quantity     392692 non-null  int64         \n",
      " 4   InvoiceDate  392692 non-null  datetime64[ns]\n",
      " 5   UnitPrice    392692 non-null  float64       \n",
      " 6   CustomerID   392692 non-null  int32         \n",
      " 7   Country      392692 non-null  object        \n",
      "dtypes: datetime64[ns](1), float64(1), int32(1), int64(1), object(4)\n",
      "memory usage: 25.5+ MB\n"
     ]
    }
   ],
   "source": [
    "df['CustomerID'] = df['CustomerID'].astype(int)\n",
    "df.info()"
   ]
  },
  {
   "cell_type": "markdown",
   "id": "05d4539a",
   "metadata": {},
   "source": [
    "#### 3-2.분석 데이터 생성\n",
    "- 고객별 데이터 분석용 작업(그룹핑)"
   ]
  },
  {
   "cell_type": "markdown",
   "id": "c17e5796",
   "metadata": {},
   "source": [
    "#### 3-2-1. 분석용 데이터 확인"
   ]
  },
  {
   "cell_type": "code",
   "execution_count": 10,
   "id": "123baba3",
   "metadata": {
    "scrolled": false
   },
   "outputs": [
    {
     "name": "stdout",
     "output_type": "stream",
     "text": [
      "제품의 품목 개수: 3665\n",
      "고객수: 4338\n",
      "거래건수: 18532\n",
      "고객국적: 37\n"
     ]
    },
    {
     "data": {
      "text/plain": [
       "United Kingdom          349203\n",
       "Germany                   9025\n",
       "France                    8326\n",
       "EIRE                      7226\n",
       "Spain                     2479\n",
       "Netherlands               2359\n",
       "Belgium                   2031\n",
       "Switzerland               1841\n",
       "Portugal                  1453\n",
       "Australia                 1181\n",
       "Norway                    1071\n",
       "Italy                      758\n",
       "Channel Islands            747\n",
       "Finland                    685\n",
       "Cyprus                     603\n",
       "Sweden                     450\n",
       "Austria                    398\n",
       "Denmark                    380\n",
       "Poland                     330\n",
       "Japan                      321\n",
       "Israel                     245\n",
       "Unspecified                241\n",
       "Singapore                  222\n",
       "Iceland                    182\n",
       "USA                        179\n",
       "Canada                     151\n",
       "Greece                     145\n",
       "Malta                      112\n",
       "United Arab Emirates        68\n",
       "European Community          60\n",
       "RSA                         57\n",
       "Lebanon                     45\n",
       "Lithuania                   35\n",
       "Brazil                      32\n",
       "Czech Republic              25\n",
       "Bahrain                     17\n",
       "Saudi Arabia                 9\n",
       "Name: Country, dtype: int64"
      ]
     },
     "execution_count": 10,
     "metadata": {},
     "output_type": "execute_result"
    }
   ],
   "source": [
    "a = df['StockCode'].value_counts() # 제품 고유 품목코드\n",
    "# a.sort_values(ascending = False)  # 시리즈 데이터 정렬-값 내림차순(갯수 많은 순)\n",
    "print(f'제품의 품목 개수: {len(a)}')\n",
    "\n",
    "a = df['CustomerID'].value_counts()\n",
    "print(f'고객수: {len(a)}')\n",
    "\n",
    "a = df['InvoiceNo'].value_counts()\n",
    "print(f'거래건수: {len(a)}')\n",
    "\n",
    "a = df['Country'].value_counts()\n",
    "print(f'고객국적: {len(a)}')\n",
    "a"
   ]
  },
  {
   "cell_type": "markdown",
   "id": "d9db710a",
   "metadata": {},
   "source": [
    "#### 3-2-2. 분석용 데이터 생성"
   ]
  },
  {
   "cell_type": "code",
   "execution_count": 11,
   "id": "f4891db2",
   "metadata": {},
   "outputs": [
    {
     "data": {
      "text/html": [
       "<div><div id=32275be0-c89b-486d-90e3-f22607a40af3 style=\"display:none; background-color:#9D6CFF; color:white; width:200px; height:30px; padding-left:5px; border-radius:4px; flex-direction:row; justify-content:space-around; align-items:center;\" onmouseover=\"this.style.backgroundColor='#BA9BF8'\" onmouseout=\"this.style.backgroundColor='#9D6CFF'\" onclick=\"window.commands?.execute('create-mitosheet-from-dataframe-output');\">See Full Dataframe in Mito</div> <script> if (window.commands?.hasCommand('create-mitosheet-from-dataframe-output')) document.getElementById('32275be0-c89b-486d-90e3-f22607a40af3').style.display = 'flex' </script> <table border=\"1\" class=\"dataframe\">\n",
       "  <thead>\n",
       "    <tr style=\"text-align: right;\">\n",
       "      <th></th>\n",
       "      <th>InvoiceNo</th>\n",
       "      <th>StockCode</th>\n",
       "      <th>Description</th>\n",
       "      <th>Quantity</th>\n",
       "      <th>InvoiceDate</th>\n",
       "      <th>UnitPrice</th>\n",
       "      <th>CustomerID</th>\n",
       "      <th>Country</th>\n",
       "      <th>SaleAmount</th>\n",
       "    </tr>\n",
       "  </thead>\n",
       "  <tbody>\n",
       "    <tr>\n",
       "      <th>0</th>\n",
       "      <td>536365</td>\n",
       "      <td>85123A</td>\n",
       "      <td>WHITE HANGING HEART T-LIGHT HOLDER</td>\n",
       "      <td>6</td>\n",
       "      <td>2010-12-01 08:26:00</td>\n",
       "      <td>2.55</td>\n",
       "      <td>17850</td>\n",
       "      <td>United Kingdom</td>\n",
       "      <td>15.30</td>\n",
       "    </tr>\n",
       "    <tr>\n",
       "      <th>1</th>\n",
       "      <td>536365</td>\n",
       "      <td>71053</td>\n",
       "      <td>WHITE METAL LANTERN</td>\n",
       "      <td>6</td>\n",
       "      <td>2010-12-01 08:26:00</td>\n",
       "      <td>3.39</td>\n",
       "      <td>17850</td>\n",
       "      <td>United Kingdom</td>\n",
       "      <td>20.34</td>\n",
       "    </tr>\n",
       "  </tbody>\n",
       "</table></div>"
      ],
      "text/plain": [
       "  InvoiceNo StockCode                         Description  Quantity  \\\n",
       "0    536365    85123A  WHITE HANGING HEART T-LIGHT HOLDER         6   \n",
       "1    536365     71053                 WHITE METAL LANTERN         6   \n",
       "\n",
       "          InvoiceDate  UnitPrice  CustomerID         Country  SaleAmount  \n",
       "0 2010-12-01 08:26:00       2.55       17850  United Kingdom       15.30  \n",
       "1 2010-12-01 08:26:00       3.39       17850  United Kingdom       20.34  "
      ]
     },
     "execution_count": 11,
     "metadata": {},
     "output_type": "execute_result"
    }
   ],
   "source": [
    "# 고객의 주문 금액\n",
    "df['SaleAmount'] = df['UnitPrice'] * df['Quantity']  # SaleAmount 컬럼 신규 추가\n",
    "df.head(2)"
   ]
  },
  {
   "cell_type": "code",
   "execution_count": 13,
   "id": "9ceaf64f",
   "metadata": {},
   "outputs": [
    {
     "data": {
      "text/html": [
       "<div><div id=6ea78154-0cf5-4715-8625-e8ee863b8c1a style=\"display:none; background-color:#9D6CFF; color:white; width:200px; height:30px; padding-left:5px; border-radius:4px; flex-direction:row; justify-content:space-around; align-items:center;\" onmouseover=\"this.style.backgroundColor='#BA9BF8'\" onmouseout=\"this.style.backgroundColor='#9D6CFF'\" onclick=\"window.commands?.execute('create-mitosheet-from-dataframe-output');\">See Full Dataframe in Mito</div> <script> if (window.commands?.hasCommand('create-mitosheet-from-dataframe-output')) document.getElementById('6ea78154-0cf5-4715-8625-e8ee863b8c1a').style.display = 'flex' </script> <table border=\"1\" class=\"dataframe\">\n",
       "  <thead>\n",
       "    <tr style=\"text-align: right;\">\n",
       "      <th></th>\n",
       "      <th>SaleAmount</th>\n",
       "      <th>InvoiceNo</th>\n",
       "      <th>InvoiceDate</th>\n",
       "    </tr>\n",
       "    <tr>\n",
       "      <th>CustomerID</th>\n",
       "      <th></th>\n",
       "      <th></th>\n",
       "      <th></th>\n",
       "    </tr>\n",
       "  </thead>\n",
       "  <tbody>\n",
       "    <tr>\n",
       "      <th>12346</th>\n",
       "      <td>77183.60</td>\n",
       "      <td>1</td>\n",
       "      <td>2011-01-18 10:01:00</td>\n",
       "    </tr>\n",
       "    <tr>\n",
       "      <th>12347</th>\n",
       "      <td>4310.00</td>\n",
       "      <td>182</td>\n",
       "      <td>2011-12-07 15:52:00</td>\n",
       "    </tr>\n",
       "    <tr>\n",
       "      <th>12348</th>\n",
       "      <td>1797.24</td>\n",
       "      <td>31</td>\n",
       "      <td>2011-09-25 13:13:00</td>\n",
       "    </tr>\n",
       "    <tr>\n",
       "      <th>12349</th>\n",
       "      <td>1757.55</td>\n",
       "      <td>73</td>\n",
       "      <td>2011-11-21 09:51:00</td>\n",
       "    </tr>\n",
       "    <tr>\n",
       "      <th>12350</th>\n",
       "      <td>334.40</td>\n",
       "      <td>17</td>\n",
       "      <td>2011-02-02 16:01:00</td>\n",
       "    </tr>\n",
       "    <tr>\n",
       "      <th>...</th>\n",
       "      <td>...</td>\n",
       "      <td>...</td>\n",
       "      <td>...</td>\n",
       "    </tr>\n",
       "    <tr>\n",
       "      <th>18280</th>\n",
       "      <td>180.60</td>\n",
       "      <td>10</td>\n",
       "      <td>2011-03-07 09:52:00</td>\n",
       "    </tr>\n",
       "    <tr>\n",
       "      <th>18281</th>\n",
       "      <td>80.82</td>\n",
       "      <td>7</td>\n",
       "      <td>2011-06-12 10:53:00</td>\n",
       "    </tr>\n",
       "    <tr>\n",
       "      <th>18282</th>\n",
       "      <td>178.05</td>\n",
       "      <td>12</td>\n",
       "      <td>2011-12-02 11:43:00</td>\n",
       "    </tr>\n",
       "    <tr>\n",
       "      <th>18283</th>\n",
       "      <td>2045.53</td>\n",
       "      <td>721</td>\n",
       "      <td>2011-12-06 12:02:00</td>\n",
       "    </tr>\n",
       "    <tr>\n",
       "      <th>18287</th>\n",
       "      <td>1837.28</td>\n",
       "      <td>70</td>\n",
       "      <td>2011-10-28 09:29:00</td>\n",
       "    </tr>\n",
       "  </tbody>\n",
       "</table></div>"
      ],
      "text/plain": [
       "            SaleAmount  InvoiceNo         InvoiceDate\n",
       "CustomerID                                           \n",
       "12346         77183.60          1 2011-01-18 10:01:00\n",
       "12347          4310.00        182 2011-12-07 15:52:00\n",
       "12348          1797.24         31 2011-09-25 13:13:00\n",
       "12349          1757.55         73 2011-11-21 09:51:00\n",
       "12350           334.40         17 2011-02-02 16:01:00\n",
       "...                ...        ...                 ...\n",
       "18280           180.60         10 2011-03-07 09:52:00\n",
       "18281            80.82          7 2011-06-12 10:53:00\n",
       "18282           178.05         12 2011-12-02 11:43:00\n",
       "18283          2045.53        721 2011-12-06 12:02:00\n",
       "18287          1837.28         70 2011-10-28 09:29:00\n",
       "\n",
       "[4338 rows x 3 columns]"
      ]
     },
     "execution_count": 13,
     "metadata": {},
     "output_type": "execute_result"
    }
   ],
   "source": [
    "# 고객의 주문 총액 : 그룹핑 (주문합계, 송장건수, 최근주문날짜)\n",
    "aggregations={\n",
    "    'SaleAmount':'sum',\n",
    "    'InvoiceNo':'count',\n",
    "    'InvoiceDate':'max'\n",
    "}\n",
    "customer_df = df.groupby('CustomerID').agg(aggregations)\n",
    "customer_df"
   ]
  },
  {
   "cell_type": "code",
   "execution_count": 14,
   "id": "03bd86f8",
   "metadata": {
    "scrolled": true
   },
   "outputs": [
    {
     "data": {
      "text/html": [
       "<div><div id=d1b9cacf-8049-449c-bdec-f6cd077ca769 style=\"display:none; background-color:#9D6CFF; color:white; width:200px; height:30px; padding-left:5px; border-radius:4px; flex-direction:row; justify-content:space-around; align-items:center;\" onmouseover=\"this.style.backgroundColor='#BA9BF8'\" onmouseout=\"this.style.backgroundColor='#9D6CFF'\" onclick=\"window.commands?.execute('create-mitosheet-from-dataframe-output');\">See Full Dataframe in Mito</div> <script> if (window.commands?.hasCommand('create-mitosheet-from-dataframe-output')) document.getElementById('d1b9cacf-8049-449c-bdec-f6cd077ca769').style.display = 'flex' </script> <table border=\"1\" class=\"dataframe\">\n",
       "  <thead>\n",
       "    <tr style=\"text-align: right;\">\n",
       "      <th></th>\n",
       "      <th>SaleAmount</th>\n",
       "      <th>Freq</th>\n",
       "      <th>ElapsedDays</th>\n",
       "    </tr>\n",
       "    <tr>\n",
       "      <th>CustomerID</th>\n",
       "      <th></th>\n",
       "      <th></th>\n",
       "      <th></th>\n",
       "    </tr>\n",
       "  </thead>\n",
       "  <tbody>\n",
       "    <tr>\n",
       "      <th>12346</th>\n",
       "      <td>77183.60</td>\n",
       "      <td>1</td>\n",
       "      <td>2011-01-18 10:01:00</td>\n",
       "    </tr>\n",
       "    <tr>\n",
       "      <th>12347</th>\n",
       "      <td>4310.00</td>\n",
       "      <td>182</td>\n",
       "      <td>2011-12-07 15:52:00</td>\n",
       "    </tr>\n",
       "    <tr>\n",
       "      <th>12348</th>\n",
       "      <td>1797.24</td>\n",
       "      <td>31</td>\n",
       "      <td>2011-09-25 13:13:00</td>\n",
       "    </tr>\n",
       "    <tr>\n",
       "      <th>12349</th>\n",
       "      <td>1757.55</td>\n",
       "      <td>73</td>\n",
       "      <td>2011-11-21 09:51:00</td>\n",
       "    </tr>\n",
       "    <tr>\n",
       "      <th>12350</th>\n",
       "      <td>334.40</td>\n",
       "      <td>17</td>\n",
       "      <td>2011-02-02 16:01:00</td>\n",
       "    </tr>\n",
       "    <tr>\n",
       "      <th>...</th>\n",
       "      <td>...</td>\n",
       "      <td>...</td>\n",
       "      <td>...</td>\n",
       "    </tr>\n",
       "    <tr>\n",
       "      <th>18280</th>\n",
       "      <td>180.60</td>\n",
       "      <td>10</td>\n",
       "      <td>2011-03-07 09:52:00</td>\n",
       "    </tr>\n",
       "    <tr>\n",
       "      <th>18281</th>\n",
       "      <td>80.82</td>\n",
       "      <td>7</td>\n",
       "      <td>2011-06-12 10:53:00</td>\n",
       "    </tr>\n",
       "    <tr>\n",
       "      <th>18282</th>\n",
       "      <td>178.05</td>\n",
       "      <td>12</td>\n",
       "      <td>2011-12-02 11:43:00</td>\n",
       "    </tr>\n",
       "    <tr>\n",
       "      <th>18283</th>\n",
       "      <td>2045.53</td>\n",
       "      <td>721</td>\n",
       "      <td>2011-12-06 12:02:00</td>\n",
       "    </tr>\n",
       "    <tr>\n",
       "      <th>18287</th>\n",
       "      <td>1837.28</td>\n",
       "      <td>70</td>\n",
       "      <td>2011-10-28 09:29:00</td>\n",
       "    </tr>\n",
       "  </tbody>\n",
       "</table></div>"
      ],
      "text/plain": [
       "            SaleAmount  Freq         ElapsedDays\n",
       "CustomerID                                      \n",
       "12346         77183.60     1 2011-01-18 10:01:00\n",
       "12347          4310.00   182 2011-12-07 15:52:00\n",
       "12348          1797.24    31 2011-09-25 13:13:00\n",
       "12349          1757.55    73 2011-11-21 09:51:00\n",
       "12350           334.40    17 2011-02-02 16:01:00\n",
       "...                ...   ...                 ...\n",
       "18280           180.60    10 2011-03-07 09:52:00\n",
       "18281            80.82     7 2011-06-12 10:53:00\n",
       "18282           178.05    12 2011-12-02 11:43:00\n",
       "18283          2045.53   721 2011-12-06 12:02:00\n",
       "18287          1837.28    70 2011-10-28 09:29:00\n",
       "\n",
       "[4338 rows x 3 columns]"
      ]
     },
     "execution_count": 14,
     "metadata": {},
     "output_type": "execute_result"
    }
   ],
   "source": [
    "# 컬럼명 변경 (송장건수->Freq, 최근주문날짜->ElapsedDays)\n",
    "customer_df = customer_df.rename(columns = {'InvoiceNo':'Freq','InvoiceDate':'ElapsedDays'})\n",
    "customer_df"
   ]
  },
  {
   "cell_type": "code",
   "execution_count": 17,
   "id": "b46ecb6d",
   "metadata": {},
   "outputs": [
    {
     "ename": "TypeError",
     "evalue": "Addition/subtraction of integers and integer-arrays with Timestamp is no longer supported.  Instead of adding/subtracting `n`, use `n * obj.freq`",
     "output_type": "error",
     "traceback": [
      "\u001b[1;31m---------------------------------------------\u001b[0m",
      "\u001b[1;31mTypeError\u001b[0m   Traceback (most recent call last)",
      "Input \u001b[1;32mIn [17]\u001b[0m, in \u001b[0;36m<cell line: 5>\u001b[1;34m()\u001b[0m\n\u001b[0;32m      1\u001b[0m \u001b[38;5;66;03m# 마지막 주문 후 며칠이 지났는가(기준날짜: 2011-12-10 (최종날짜보다 하루 이후 날짜를 기준으로 잡는다.))\u001b[39;00m\n\u001b[0;32m      3\u001b[0m \u001b[38;5;28;01mimport\u001b[39;00m \u001b[38;5;21;01mdatetime\u001b[39;00m\n\u001b[1;32m----> 5\u001b[0m customer_df[\u001b[38;5;124m'\u001b[39m\u001b[38;5;124mElapsedDays\u001b[39m\u001b[38;5;124m'\u001b[39m] \u001b[38;5;241m=\u001b[39m \u001b[43mdatetime\u001b[49m\u001b[38;5;241;43m.\u001b[39;49m\u001b[43mdatetime\u001b[49m\u001b[43m(\u001b[49m\u001b[38;5;241;43m2011\u001b[39;49m\u001b[43m,\u001b[49m\u001b[38;5;241;43m12\u001b[39;49m\u001b[43m,\u001b[49m\u001b[38;5;241;43m10\u001b[39;49m\u001b[43m)\u001b[49m\u001b[43m \u001b[49m\u001b[38;5;241;43m-\u001b[39;49m\u001b[43m \u001b[49m\u001b[43mcustomer_df\u001b[49m\u001b[38;5;241;43m.\u001b[39;49m\u001b[43mElapsedDays\u001b[49m\n\u001b[0;32m      6\u001b[0m customer_df\n\u001b[0;32m      8\u001b[0m customer_df[\u001b[38;5;124m'\u001b[39m\u001b[38;5;124mElapsedDays\u001b[39m\u001b[38;5;124m'\u001b[39m] \u001b[38;5;241m=\u001b[39m customer_df[\u001b[38;5;124m'\u001b[39m\u001b[38;5;124mElapsedDays\u001b[39m\u001b[38;5;124m'\u001b[39m]\u001b[38;5;241m.\u001b[39mapply(\u001b[38;5;28;01mlambda\u001b[39;00m x:x\u001b[38;5;241m.\u001b[39mdays \u001b[38;5;241m+\u001b[39m \u001b[38;5;241m1\u001b[39m)\n",
      "File \u001b[1;32mC:\\python\\Python39\\lib\\site-packages\\pandas\\core\\ops\\common.py:70\u001b[0m, in \u001b[0;36m_unpack_zerodim_and_defer.<locals>.new_method\u001b[1;34m(self, other)\u001b[0m\n\u001b[0;32m     66\u001b[0m             \u001b[38;5;28;01mreturn\u001b[39;00m \u001b[38;5;28mNotImplemented\u001b[39m\n\u001b[0;32m     68\u001b[0m other \u001b[38;5;241m=\u001b[39m item_from_zerodim(other)\n\u001b[1;32m---> 70\u001b[0m \u001b[38;5;28;01mreturn\u001b[39;00m \u001b[43mmethod\u001b[49m\u001b[43m(\u001b[49m\u001b[38;5;28;43mself\u001b[39;49m\u001b[43m,\u001b[49m\u001b[43m \u001b[49m\u001b[43mother\u001b[49m\u001b[43m)\u001b[49m\n",
      "File \u001b[1;32mC:\\python\\Python39\\lib\\site-packages\\pandas\\core\\arraylike.py:112\u001b[0m, in \u001b[0;36mOpsMixin.__rsub__\u001b[1;34m(self, other)\u001b[0m\n\u001b[0;32m    110\u001b[0m \u001b[38;5;129m@unpack_zerodim_and_defer\u001b[39m(\u001b[38;5;124m\"\u001b[39m\u001b[38;5;124m__rsub__\u001b[39m\u001b[38;5;124m\"\u001b[39m)\n\u001b[0;32m    111\u001b[0m \u001b[38;5;28;01mdef\u001b[39;00m \u001b[38;5;21m__rsub__\u001b[39m(\u001b[38;5;28mself\u001b[39m, other):\n\u001b[1;32m--> 112\u001b[0m     \u001b[38;5;28;01mreturn\u001b[39;00m \u001b[38;5;28;43mself\u001b[39;49m\u001b[38;5;241;43m.\u001b[39;49m\u001b[43m_arith_method\u001b[49m\u001b[43m(\u001b[49m\u001b[43mother\u001b[49m\u001b[43m,\u001b[49m\u001b[43m \u001b[49m\u001b[43mroperator\u001b[49m\u001b[38;5;241;43m.\u001b[39;49m\u001b[43mrsub\u001b[49m\u001b[43m)\u001b[49m\n",
      "File \u001b[1;32mC:\\python\\Python39\\lib\\site-packages\\pandas\\core\\series.py:5639\u001b[0m, in \u001b[0;36mSeries._arith_method\u001b[1;34m(self, other, op)\u001b[0m\n\u001b[0;32m   5637\u001b[0m \u001b[38;5;28;01mdef\u001b[39;00m \u001b[38;5;21m_arith_method\u001b[39m(\u001b[38;5;28mself\u001b[39m, other, op):\n\u001b[0;32m   5638\u001b[0m     \u001b[38;5;28mself\u001b[39m, other \u001b[38;5;241m=\u001b[39m ops\u001b[38;5;241m.\u001b[39malign_method_SERIES(\u001b[38;5;28mself\u001b[39m, other)\n\u001b[1;32m-> 5639\u001b[0m     \u001b[38;5;28;01mreturn\u001b[39;00m \u001b[43mbase\u001b[49m\u001b[38;5;241;43m.\u001b[39;49m\u001b[43mIndexOpsMixin\u001b[49m\u001b[38;5;241;43m.\u001b[39;49m\u001b[43m_arith_method\u001b[49m\u001b[43m(\u001b[49m\u001b[38;5;28;43mself\u001b[39;49m\u001b[43m,\u001b[49m\u001b[43m \u001b[49m\u001b[43mother\u001b[49m\u001b[43m,\u001b[49m\u001b[43m \u001b[49m\u001b[43mop\u001b[49m\u001b[43m)\u001b[49m\n",
      "File \u001b[1;32mC:\\python\\Python39\\lib\\site-packages\\pandas\\core\\base.py:1295\u001b[0m, in \u001b[0;36mIndexOpsMixin._arith_method\u001b[1;34m(self, other, op)\u001b[0m\n\u001b[0;32m   1292\u001b[0m rvalues \u001b[38;5;241m=\u001b[39m ensure_wrapped_if_datetimelike(rvalues)\n\u001b[0;32m   1294\u001b[0m \u001b[38;5;28;01mwith\u001b[39;00m np\u001b[38;5;241m.\u001b[39merrstate(\u001b[38;5;28mall\u001b[39m\u001b[38;5;241m=\u001b[39m\u001b[38;5;124m\"\u001b[39m\u001b[38;5;124mignore\u001b[39m\u001b[38;5;124m\"\u001b[39m):\n\u001b[1;32m-> 1295\u001b[0m     result \u001b[38;5;241m=\u001b[39m \u001b[43mops\u001b[49m\u001b[38;5;241;43m.\u001b[39;49m\u001b[43marithmetic_op\u001b[49m\u001b[43m(\u001b[49m\u001b[43mlvalues\u001b[49m\u001b[43m,\u001b[49m\u001b[43m \u001b[49m\u001b[43mrvalues\u001b[49m\u001b[43m,\u001b[49m\u001b[43m \u001b[49m\u001b[43mop\u001b[49m\u001b[43m)\u001b[49m\n\u001b[0;32m   1297\u001b[0m \u001b[38;5;28;01mreturn\u001b[39;00m \u001b[38;5;28mself\u001b[39m\u001b[38;5;241m.\u001b[39m_construct_result(result, name\u001b[38;5;241m=\u001b[39mres_name)\n",
      "File \u001b[1;32mC:\\python\\Python39\\lib\\site-packages\\pandas\\core\\ops\\array_ops.py:216\u001b[0m, in \u001b[0;36marithmetic_op\u001b[1;34m(left, right, op)\u001b[0m\n\u001b[0;32m    203\u001b[0m \u001b[38;5;66;03m# NB: We assume that extract_array and ensure_wrapped_if_datetimelike\u001b[39;00m\n\u001b[0;32m    204\u001b[0m \u001b[38;5;66;03m#  have already been called on `left` and `right`,\u001b[39;00m\n\u001b[0;32m    205\u001b[0m \u001b[38;5;66;03m#  and `maybe_prepare_scalar_for_op` has already been called on `right`\u001b[39;00m\n\u001b[0;32m    206\u001b[0m \u001b[38;5;66;03m# We need to special-case datetime64/timedelta64 dtypes (e.g. because numpy\u001b[39;00m\n\u001b[0;32m    207\u001b[0m \u001b[38;5;66;03m# casts integer dtypes to timedelta64 when operating with timedelta64 - GH#22390)\u001b[39;00m\n\u001b[0;32m    209\u001b[0m \u001b[38;5;28;01mif\u001b[39;00m (\n\u001b[0;32m    210\u001b[0m     should_extension_dispatch(left, right)\n\u001b[0;32m    211\u001b[0m     \u001b[38;5;129;01mor\u001b[39;00m \u001b[38;5;28misinstance\u001b[39m(right, (Timedelta, BaseOffset, Timestamp))\n\u001b[1;32m   (...)\u001b[0m\n\u001b[0;32m    214\u001b[0m     \u001b[38;5;66;03m# Timedelta/Timestamp and other custom scalars are included in the check\u001b[39;00m\n\u001b[0;32m    215\u001b[0m     \u001b[38;5;66;03m# because numexpr will fail on it, see GH#31457\u001b[39;00m\n\u001b[1;32m--> 216\u001b[0m     res_values \u001b[38;5;241m=\u001b[39m \u001b[43mop\u001b[49m\u001b[43m(\u001b[49m\u001b[43mleft\u001b[49m\u001b[43m,\u001b[49m\u001b[43m \u001b[49m\u001b[43mright\u001b[49m\u001b[43m)\u001b[49m\n\u001b[0;32m    217\u001b[0m \u001b[38;5;28;01melse\u001b[39;00m:\n\u001b[0;32m    218\u001b[0m     \u001b[38;5;66;03m# TODO we should handle EAs consistently and move this check before the if/else\u001b[39;00m\n\u001b[0;32m    219\u001b[0m     \u001b[38;5;66;03m# (https://github.com/pandas-dev/pandas/issues/41165)\u001b[39;00m\n\u001b[0;32m    220\u001b[0m     _bool_arith_check(op, left, right)\n",
      "File \u001b[1;32mC:\\python\\Python39\\lib\\site-packages\\pandas\\core\\roperator.py:13\u001b[0m, in \u001b[0;36mrsub\u001b[1;34m(left, right)\u001b[0m\n\u001b[0;32m     12\u001b[0m \u001b[38;5;28;01mdef\u001b[39;00m \u001b[38;5;21mrsub\u001b[39m(left, right):\n\u001b[1;32m---> 13\u001b[0m     \u001b[38;5;28;01mreturn\u001b[39;00m \u001b[43mright\u001b[49m\u001b[43m \u001b[49m\u001b[38;5;241;43m-\u001b[39;49m\u001b[43m \u001b[49m\u001b[43mleft\u001b[49m\n",
      "File \u001b[1;32mC:\\python\\Python39\\lib\\site-packages\\pandas\\_libs\\tslibs\\timestamps.pyx:322\u001b[0m, in \u001b[0;36mpandas._libs.tslibs.timestamps._Timestamp.__sub__\u001b[1;34m()\u001b[0m\n",
      "\u001b[1;31mTypeError\u001b[0m: Addition/subtraction of integers and integer-arrays with Timestamp is no longer supported.  Instead of adding/subtracting `n`, use `n * obj.freq`"
     ]
    }
   ],
   "source": [
    "# 마지막 주문 후 며칠이 지났는가(기준날짜: 2011-12-10 (최종날짜보다 하루 이후 날짜를 기준으로 잡는다.))\n",
    "\n",
    "import datetime\n",
    "\n",
    "customer_df['ElapsedDays'] = datetime.datetime(2011,12,10) - customer_df.ElapsedDays\n",
    "customer_df\n",
    "\n",
    "customer_df['ElapsedDays'] = customer_df['ElapsedDays'].apply(lambda x:x.days + 1)\n",
    "customer_df"
   ]
  },
  {
   "cell_type": "code",
   "execution_count": null,
   "id": "30a0569c",
   "metadata": {},
   "outputs": [],
   "source": [
    "# 현재 날짜 시간\n",
    "import datetime\n",
    "\n",
    "now  = datetime.datetime.now()\n",
    "print(\"현재 :\", now)"
   ]
  },
  {
   "cell_type": "markdown",
   "id": "d08624fb",
   "metadata": {},
   "source": [
    "#### 정렬"
   ]
  },
  {
   "cell_type": "code",
   "execution_count": 18,
   "id": "32df414e",
   "metadata": {},
   "outputs": [
    {
     "data": {
      "text/html": [
       "<div><div id=c227eab3-98a1-457a-bab2-2da144ff8c50 style=\"display:none; background-color:#9D6CFF; color:white; width:200px; height:30px; padding-left:5px; border-radius:4px; flex-direction:row; justify-content:space-around; align-items:center;\" onmouseover=\"this.style.backgroundColor='#BA9BF8'\" onmouseout=\"this.style.backgroundColor='#9D6CFF'\" onclick=\"window.commands?.execute('create-mitosheet-from-dataframe-output');\">See Full Dataframe in Mito</div> <script> if (window.commands?.hasCommand('create-mitosheet-from-dataframe-output')) document.getElementById('c227eab3-98a1-457a-bab2-2da144ff8c50').style.display = 'flex' </script> <table border=\"1\" class=\"dataframe\">\n",
       "  <thead>\n",
       "    <tr style=\"text-align: right;\">\n",
       "      <th></th>\n",
       "      <th>SaleAmount</th>\n",
       "      <th>Freq</th>\n",
       "      <th>ElapsedDays</th>\n",
       "    </tr>\n",
       "    <tr>\n",
       "      <th>CustomerID</th>\n",
       "      <th></th>\n",
       "      <th></th>\n",
       "      <th></th>\n",
       "    </tr>\n",
       "  </thead>\n",
       "  <tbody>\n",
       "    <tr>\n",
       "      <th>14646</th>\n",
       "      <td>280206.02</td>\n",
       "      <td>2076</td>\n",
       "      <td>2</td>\n",
       "    </tr>\n",
       "    <tr>\n",
       "      <th>18102</th>\n",
       "      <td>259657.30</td>\n",
       "      <td>431</td>\n",
       "      <td>1</td>\n",
       "    </tr>\n",
       "    <tr>\n",
       "      <th>17450</th>\n",
       "      <td>194390.79</td>\n",
       "      <td>336</td>\n",
       "      <td>9</td>\n",
       "    </tr>\n",
       "    <tr>\n",
       "      <th>16446</th>\n",
       "      <td>168472.50</td>\n",
       "      <td>3</td>\n",
       "      <td>1</td>\n",
       "    </tr>\n",
       "    <tr>\n",
       "      <th>14911</th>\n",
       "      <td>143711.17</td>\n",
       "      <td>5670</td>\n",
       "      <td>2</td>\n",
       "    </tr>\n",
       "    <tr>\n",
       "      <th>...</th>\n",
       "      <td>...</td>\n",
       "      <td>...</td>\n",
       "      <td>...</td>\n",
       "    </tr>\n",
       "    <tr>\n",
       "      <th>16878</th>\n",
       "      <td>13.30</td>\n",
       "      <td>3</td>\n",
       "      <td>85</td>\n",
       "    </tr>\n",
       "    <tr>\n",
       "      <th>17956</th>\n",
       "      <td>12.75</td>\n",
       "      <td>1</td>\n",
       "      <td>250</td>\n",
       "    </tr>\n",
       "    <tr>\n",
       "      <th>16454</th>\n",
       "      <td>6.90</td>\n",
       "      <td>2</td>\n",
       "      <td>45</td>\n",
       "    </tr>\n",
       "    <tr>\n",
       "      <th>14792</th>\n",
       "      <td>6.20</td>\n",
       "      <td>2</td>\n",
       "      <td>64</td>\n",
       "    </tr>\n",
       "    <tr>\n",
       "      <th>16738</th>\n",
       "      <td>3.75</td>\n",
       "      <td>1</td>\n",
       "      <td>298</td>\n",
       "    </tr>\n",
       "  </tbody>\n",
       "</table></div>"
      ],
      "text/plain": [
       "            SaleAmount  Freq  ElapsedDays\n",
       "CustomerID                               \n",
       "14646        280206.02  2076            2\n",
       "18102        259657.30   431            1\n",
       "17450        194390.79   336            9\n",
       "16446        168472.50     3            1\n",
       "14911        143711.17  5670            2\n",
       "...                ...   ...          ...\n",
       "16878            13.30     3           85\n",
       "17956            12.75     1          250\n",
       "16454             6.90     2           45\n",
       "14792             6.20     2           64\n",
       "16738             3.75     1          298\n",
       "\n",
       "[4338 rows x 3 columns]"
      ]
     },
     "execution_count": 18,
     "metadata": {},
     "output_type": "execute_result"
    }
   ],
   "source": [
    "# 정렬 : 주문 합계가 가장 많은 순으로 정렬\n",
    "customer_df.sort_values(by='SaleAmount',axis=0,ascending=False)"
   ]
  },
  {
   "cell_type": "code",
   "execution_count": 19,
   "id": "b81fa3dd",
   "metadata": {},
   "outputs": [
    {
     "data": {
      "text/html": [
       "<div><div id=d7942ad7-745b-49ce-af44-52c50be8b3e2 style=\"display:none; background-color:#9D6CFF; color:white; width:200px; height:30px; padding-left:5px; border-radius:4px; flex-direction:row; justify-content:space-around; align-items:center;\" onmouseover=\"this.style.backgroundColor='#BA9BF8'\" onmouseout=\"this.style.backgroundColor='#9D6CFF'\" onclick=\"window.commands?.execute('create-mitosheet-from-dataframe-output');\">See Full Dataframe in Mito</div> <script> if (window.commands?.hasCommand('create-mitosheet-from-dataframe-output')) document.getElementById('d7942ad7-745b-49ce-af44-52c50be8b3e2').style.display = 'flex' </script> <table border=\"1\" class=\"dataframe\">\n",
       "  <thead>\n",
       "    <tr style=\"text-align: right;\">\n",
       "      <th></th>\n",
       "      <th>SaleAmount</th>\n",
       "      <th>Freq</th>\n",
       "      <th>ElapsedDays</th>\n",
       "    </tr>\n",
       "    <tr>\n",
       "      <th>CustomerID</th>\n",
       "      <th></th>\n",
       "      <th></th>\n",
       "      <th></th>\n",
       "    </tr>\n",
       "  </thead>\n",
       "  <tbody>\n",
       "    <tr>\n",
       "      <th>14441</th>\n",
       "      <td>1712.89</td>\n",
       "      <td>51</td>\n",
       "      <td>1</td>\n",
       "    </tr>\n",
       "    <tr>\n",
       "      <th>15694</th>\n",
       "      <td>6479.40</td>\n",
       "      <td>78</td>\n",
       "      <td>1</td>\n",
       "    </tr>\n",
       "    <tr>\n",
       "      <th>12680</th>\n",
       "      <td>862.81</td>\n",
       "      <td>52</td>\n",
       "      <td>1</td>\n",
       "    </tr>\n",
       "    <tr>\n",
       "      <th>16954</th>\n",
       "      <td>2085.08</td>\n",
       "      <td>54</td>\n",
       "      <td>1</td>\n",
       "    </tr>\n",
       "    <tr>\n",
       "      <th>12713</th>\n",
       "      <td>848.55</td>\n",
       "      <td>38</td>\n",
       "      <td>1</td>\n",
       "    </tr>\n",
       "    <tr>\n",
       "      <th>...</th>\n",
       "      <td>...</td>\n",
       "      <td>...</td>\n",
       "      <td>...</td>\n",
       "    </tr>\n",
       "    <tr>\n",
       "      <th>14237</th>\n",
       "      <td>161.00</td>\n",
       "      <td>9</td>\n",
       "      <td>374</td>\n",
       "    </tr>\n",
       "    <tr>\n",
       "      <th>13065</th>\n",
       "      <td>205.86</td>\n",
       "      <td>14</td>\n",
       "      <td>374</td>\n",
       "    </tr>\n",
       "    <tr>\n",
       "      <th>16274</th>\n",
       "      <td>351.75</td>\n",
       "      <td>65</td>\n",
       "      <td>374</td>\n",
       "    </tr>\n",
       "    <tr>\n",
       "      <th>12791</th>\n",
       "      <td>192.60</td>\n",
       "      <td>2</td>\n",
       "      <td>374</td>\n",
       "    </tr>\n",
       "    <tr>\n",
       "      <th>13747</th>\n",
       "      <td>79.60</td>\n",
       "      <td>1</td>\n",
       "      <td>374</td>\n",
       "    </tr>\n",
       "  </tbody>\n",
       "</table></div>"
      ],
      "text/plain": [
       "            SaleAmount  Freq  ElapsedDays\n",
       "CustomerID                               \n",
       "14441          1712.89    51            1\n",
       "15694          6479.40    78            1\n",
       "12680           862.81    52            1\n",
       "16954          2085.08    54            1\n",
       "12713           848.55    38            1\n",
       "...                ...   ...          ...\n",
       "14237           161.00     9          374\n",
       "13065           205.86    14          374\n",
       "16274           351.75    65          374\n",
       "12791           192.60     2          374\n",
       "13747            79.60     1          374\n",
       "\n",
       "[4338 rows x 3 columns]"
      ]
     },
     "execution_count": 19,
     "metadata": {},
     "output_type": "execute_result"
    }
   ],
   "source": [
    "# 정렬 : 최근 주문기간 순으로 정렬\n",
    "customer_df.sort_values(by='ElapsedDays',axis=0,ascending=True)"
   ]
  },
  {
   "cell_type": "code",
   "execution_count": 20,
   "id": "cfba1707",
   "metadata": {
    "scrolled": false
   },
   "outputs": [
    {
     "data": {
      "text/html": [
       "<div><div id=f5f27512-47a5-49ed-b7d8-9214549ed244 style=\"display:none; background-color:#9D6CFF; color:white; width:200px; height:30px; padding-left:5px; border-radius:4px; flex-direction:row; justify-content:space-around; align-items:center;\" onmouseover=\"this.style.backgroundColor='#BA9BF8'\" onmouseout=\"this.style.backgroundColor='#9D6CFF'\" onclick=\"window.commands?.execute('create-mitosheet-from-dataframe-output');\">See Full Dataframe in Mito</div> <script> if (window.commands?.hasCommand('create-mitosheet-from-dataframe-output')) document.getElementById('f5f27512-47a5-49ed-b7d8-9214549ed244').style.display = 'flex' </script> <table border=\"1\" class=\"dataframe\">\n",
       "  <thead>\n",
       "    <tr style=\"text-align: right;\">\n",
       "      <th></th>\n",
       "      <th>SaleAmount</th>\n",
       "      <th>Freq</th>\n",
       "      <th>ElapsedDays</th>\n",
       "    </tr>\n",
       "    <tr>\n",
       "      <th>CustomerID</th>\n",
       "      <th></th>\n",
       "      <th></th>\n",
       "      <th></th>\n",
       "    </tr>\n",
       "  </thead>\n",
       "  <tbody>\n",
       "    <tr>\n",
       "      <th>12346</th>\n",
       "      <td>77183.60</td>\n",
       "      <td>1</td>\n",
       "      <td>326</td>\n",
       "    </tr>\n",
       "    <tr>\n",
       "      <th>12347</th>\n",
       "      <td>4310.00</td>\n",
       "      <td>182</td>\n",
       "      <td>3</td>\n",
       "    </tr>\n",
       "    <tr>\n",
       "      <th>12348</th>\n",
       "      <td>1797.24</td>\n",
       "      <td>31</td>\n",
       "      <td>76</td>\n",
       "    </tr>\n",
       "    <tr>\n",
       "      <th>12349</th>\n",
       "      <td>1757.55</td>\n",
       "      <td>73</td>\n",
       "      <td>19</td>\n",
       "    </tr>\n",
       "    <tr>\n",
       "      <th>12350</th>\n",
       "      <td>334.40</td>\n",
       "      <td>17</td>\n",
       "      <td>311</td>\n",
       "    </tr>\n",
       "    <tr>\n",
       "      <th>...</th>\n",
       "      <td>...</td>\n",
       "      <td>...</td>\n",
       "      <td>...</td>\n",
       "    </tr>\n",
       "    <tr>\n",
       "      <th>18280</th>\n",
       "      <td>180.60</td>\n",
       "      <td>10</td>\n",
       "      <td>278</td>\n",
       "    </tr>\n",
       "    <tr>\n",
       "      <th>18281</th>\n",
       "      <td>80.82</td>\n",
       "      <td>7</td>\n",
       "      <td>181</td>\n",
       "    </tr>\n",
       "    <tr>\n",
       "      <th>18282</th>\n",
       "      <td>178.05</td>\n",
       "      <td>12</td>\n",
       "      <td>8</td>\n",
       "    </tr>\n",
       "    <tr>\n",
       "      <th>18283</th>\n",
       "      <td>2045.53</td>\n",
       "      <td>721</td>\n",
       "      <td>4</td>\n",
       "    </tr>\n",
       "    <tr>\n",
       "      <th>18287</th>\n",
       "      <td>1837.28</td>\n",
       "      <td>70</td>\n",
       "      <td>43</td>\n",
       "    </tr>\n",
       "  </tbody>\n",
       "</table></div>"
      ],
      "text/plain": [
       "            SaleAmount  Freq  ElapsedDays\n",
       "CustomerID                               \n",
       "12346         77183.60     1          326\n",
       "12347          4310.00   182            3\n",
       "12348          1797.24    31           76\n",
       "12349          1757.55    73           19\n",
       "12350           334.40    17          311\n",
       "...                ...   ...          ...\n",
       "18280           180.60    10          278\n",
       "18281            80.82     7          181\n",
       "18282           178.05    12            8\n",
       "18283          2045.53   721            4\n",
       "18287          1837.28    70           43\n",
       "\n",
       "[4338 rows x 3 columns]"
      ]
     },
     "execution_count": 20,
     "metadata": {},
     "output_type": "execute_result"
    }
   ],
   "source": [
    "# 정렬 : 고객번호 순으로 \n",
    "customer_df.sort_index()\n",
    "# customer_df.sort_index(axis=0,ascending=True)"
   ]
  },
  {
   "cell_type": "markdown",
   "id": "44ac9b2d",
   "metadata": {},
   "source": [
    "#### 3-3.데이터 시각화"
   ]
  },
  {
   "cell_type": "markdown",
   "id": "6e00745d",
   "metadata": {},
   "source": [
    "#### 3-3-1.데이터 분포 조정하기\n",
    "1. 데이터 값이 한쪽으로 차우치지 않았는지 **박스플롯 그래프**로 확인하고 조정한다. \n",
    "> 아웃레이어를 확인한다\n",
    "2. 한쪽으로 치우친 분포를 **로그 변환**을 취하게 되면 정규분포 모양으로 고르게 분포하게 된다.\n",
    ">  (로그함수는 x축 값이 커질 때 y축으로 밀집하고, x축이 0에 가까울때 y축이 무한대에 가깝게 간다. 이 특징을 이용해 밀집된 곳은 퍼지게, 퍼진부분은 밀집되게 할 수 있기 때문에 분포를 고르게 하기 위해서는 로그함수를 취하게 된다.)"
   ]
  },
  {
   "cell_type": "markdown",
   "id": "2bbab1b7",
   "metadata": {},
   "source": [
    "#### #박스 플롯(상자그림: box plot)"
   ]
  },
  {
   "cell_type": "code",
   "execution_count": 22,
   "id": "367d056b",
   "metadata": {
    "scrolled": false
   },
   "outputs": [
    {
     "data": {
      "image/png": "[encoded data removed]",
      "text/plain": [
       "<Figure size 432x288 with 1 Axes>"
      ]
     },
     "metadata": {
      "needs_background": "light"
     },
     "output_type": "display_data"
    }
   ],
   "source": [
    "import matplotlib.pyplot as plt\n",
    "\n",
    "# 한글출력 설정\n",
    "plt.rcParams['font.family'] = 'Malgun Gothic'# '맑은 고딕'으로 설정\n",
    "# plt.rc('font', family='NanumBarunGothic') \n",
    "plt.rcParams['axes.unicode_minus'] = False \n",
    "\n",
    "S = [26,31,27,38,42,56,18,17,25,25]\n",
    "\n",
    "plt.boxplot(S, sym='bo')\n",
    "# plt.boxplot(S, vert=False)\n",
    "plt.grid()\n",
    "plt.show()"
   ]
  },
  {
   "cell_type": "markdown",
   "id": "f65fd888",
   "metadata": {},
   "source": [
    "- 데이터가 한쪽으로 치우친 것 확인함"
   ]
  },
  {
   "cell_type": "code",
   "execution_count": 23,
   "id": "e585ec1b",
   "metadata": {},
   "outputs": [
    {
     "data": {
      "image/png": "[encoded data removed]",
      "text/plain": [
       "<Figure size 432x288 with 1 Axes>"
      ]
     },
     "metadata": {
      "needs_background": "light"
     },
     "output_type": "display_data"
    }
   ],
   "source": [
    "import matplotlib.pyplot as plt\n",
    "\n",
    "fig, ax = plt.subplots()\n",
    "ax.boxplot([customer_df.Freq, customer_df.SaleAmount, customer_df.ElapsedDays],\n",
    "           sym='bo')\n",
    "plt.xticks([1,2,3], ['Freq','SaleAmount','ElapsedDays'])\n",
    "plt.show()"
   ]
  },
  {
   "cell_type": "markdown",
   "id": "9d08216d",
   "metadata": {},
   "source": [
    "--------------------------------"
   ]
  },
  {
   "cell_type": "markdown",
   "id": "edd3075f",
   "metadata": {},
   "source": [
    "#### #로그함수의 성질\n",
    "- 로그함수"
   ]
  },
  {
   "cell_type": "code",
   "execution_count": 24,
   "id": "2199ddf0",
   "metadata": {},
   "outputs": [
    {
     "name": "stdout",
     "output_type": "stream",
     "text": [
      "Malgun Gothic C:\\Windows\\Fonts\\malgun.ttf\n",
      "Malgun Gothic C:\\Windows\\Fonts\\malgunsl.ttf\n",
      "Malgun Gothic C:\\Windows\\Fonts\\malgunbd.ttf\n"
     ]
    }
   ],
   "source": [
    "from matplotlib import font_manager\n",
    "\n",
    "for i in font_manager.fontManager.ttflist:\n",
    "    if 'Malgun Gothic' in i.name:\n",
    "        print(i.name, i.fname)"
   ]
  },
  {
   "cell_type": "code",
   "execution_count": 25,
   "id": "7c2726d8",
   "metadata": {
    "scrolled": false
   },
   "outputs": [
    {
     "data": {
      "image/png": "[encoded data removed]",
      "text/plain": [
       "<Figure size 432x288 with 1 Axes>"
      ]
     },
     "metadata": {
      "needs_background": "light"
     },
     "output_type": "display_data"
    }
   ],
   "source": [
    "import numpy as np\n",
    "\n",
    "# 로그함수\n",
    "xx = np.linspace(0.01, 8, 100)\n",
    "yy = np.log(xx)\n",
    "plt.title(\"log function\")\n",
    "plt.plot(xx, yy)\n",
    "plt.axhline(0, c='r', ls=\"--\")\n",
    "plt.axvline(0, c='r', ls=\"--\")\n",
    "plt.axvline(1, c='r', ls=\"--\")\n",
    "plt.xlabel(\"$x$\")\n",
    "plt.ylabel(\"$\\log(x)$\")\n",
    "plt.show()"
   ]
  },
  {
   "cell_type": "markdown",
   "id": "bf3e419f",
   "metadata": {},
   "source": [
    "- 어떤 함수에 로그를 적용해도 함수의 최고점, 최저점의 위치는 변하지 않는다.\n",
    " > arg max f(x) = arg max logf(x)"
   ]
  },
  {
   "cell_type": "code",
   "execution_count": 26,
   "id": "d388b6e7",
   "metadata": {
    "scrolled": true
   },
   "outputs": [
    {
     "data": {
      "image/png": "[encoded data removed]",
      "text/plain": [
       "<Figure size 432x288 with 2 Axes>"
      ]
     },
     "metadata": {
      "needs_background": "light"
     },
     "output_type": "display_data"
    }
   ],
   "source": [
    "def ff(x):\n",
    "    return x**3 - 12*x + 20 * np.sin(x) + 7\n",
    "\n",
    "xx = np.linspace(-4, 4, 300)\n",
    "yy = ff(xx)\n",
    "\n",
    "plt.subplot(211)     # 2행 1열 첫번째\n",
    "plt.plot(xx, yy)\n",
    "plt.axhline(1, c='r', ls='--')\n",
    "plt.yticks([0, 1, 5, 10])\n",
    "plt.ylim(-2, 15)\n",
    "plt.title('$f(x)$')\n",
    "\n",
    "plt.subplot(212)     # 2행 1열 두번째\n",
    "plt.plot(xx, np.log(yy))\n",
    "plt.axhline(1, c='r', ls='--')\n",
    "plt.title('$log f(x)$')\n",
    "\n",
    "plt.tight_layout()\n",
    "plt.show()"
   ]
  },
  {
   "cell_type": "markdown",
   "id": "55ee9372",
   "metadata": {},
   "source": [
    "- 로그함수는 0~1사이의 작은 값을 확대시켜 보여준다."
   ]
  },
  {
   "cell_type": "code",
   "execution_count": 27,
   "id": "5c1a2352",
   "metadata": {
    "scrolled": true
   },
   "outputs": [
    {
     "name": "stdout",
     "output_type": "stream",
     "text": [
      "[0.19356424 0.25224431 0.21259213 0.19217803 0.14942128]\n"
     ]
    },
    {
     "data": {
      "image/png": "[encoded data removed]",
      "text/plain": [
       "<Figure size 432x288 with 2 Axes>"
      ]
     },
     "metadata": {
      "needs_background": "light"
     },
     "output_type": "display_data"
    }
   ],
   "source": [
    "np.random.seed(0)\n",
    "x = np.random.rand(5)\n",
    "x = x / x.sum()\n",
    "print(x)\n",
    "\n",
    "plt.subplot(211)\n",
    "plt.title('0, 1 사이 숫자들의 $\\log$ 변환')\n",
    "plt.bar(range(1,6), x)\n",
    "plt.ylim(0, 1)\n",
    "plt.ylabel('x')\n",
    "\n",
    "plt.subplot(212)\n",
    "plt.bar(range(1,6), np.log(x))\n",
    "plt.ylabel('log x')\n",
    "\n",
    "plt.show()"
   ]
  },
  {
   "cell_type": "markdown",
   "id": "ffeb34f0",
   "metadata": {},
   "source": [
    "-------------------"
   ]
  },
  {
   "cell_type": "markdown",
   "id": "a194c184",
   "metadata": {},
   "source": [
    "- **로그함수를 이용하여 값의 분포를 고르게 조정한다.**\n",
    "> x가 0의 값을 가지면 무한대가 되므로 이를 해결하기 위한 방법으로 x대신 x+1을 해준다.<br>\n",
    "> np.log(값) --> np.log(1+값) --> np.log1p() 사용한다"
   ]
  },
  {
   "cell_type": "code",
   "execution_count": 28,
   "id": "a136112c",
   "metadata": {},
   "outputs": [
    {
     "data": {
      "text/html": [
       "<div><div id=45b26cf1-4a7d-4d28-8645-1fc5b3476db1 style=\"display:none; background-color:#9D6CFF; color:white; width:200px; height:30px; padding-left:5px; border-radius:4px; flex-direction:row; justify-content:space-around; align-items:center;\" onmouseover=\"this.style.backgroundColor='#BA9BF8'\" onmouseout=\"this.style.backgroundColor='#9D6CFF'\" onclick=\"window.commands?.execute('create-mitosheet-from-dataframe-output');\">See Full Dataframe in Mito</div> <script> if (window.commands?.hasCommand('create-mitosheet-from-dataframe-output')) document.getElementById('45b26cf1-4a7d-4d28-8645-1fc5b3476db1').style.display = 'flex' </script> <table border=\"1\" class=\"dataframe\">\n",
       "  <thead>\n",
       "    <tr style=\"text-align: right;\">\n",
       "      <th></th>\n",
       "      <th>SaleAmount</th>\n",
       "      <th>Freq</th>\n",
       "      <th>ElapsedDays</th>\n",
       "      <th>SaleAmount_log</th>\n",
       "      <th>Freq_log</th>\n",
       "      <th>ElapsedDays_log</th>\n",
       "    </tr>\n",
       "    <tr>\n",
       "      <th>CustomerID</th>\n",
       "      <th></th>\n",
       "      <th></th>\n",
       "      <th></th>\n",
       "      <th></th>\n",
       "      <th></th>\n",
       "      <th></th>\n",
       "    </tr>\n",
       "  </thead>\n",
       "  <tbody>\n",
       "    <tr>\n",
       "      <th>12346</th>\n",
       "      <td>77183.6</td>\n",
       "      <td>1</td>\n",
       "      <td>326</td>\n",
       "      <td>11.253955</td>\n",
       "      <td>0.693147</td>\n",
       "      <td>5.789960</td>\n",
       "    </tr>\n",
       "    <tr>\n",
       "      <th>12347</th>\n",
       "      <td>4310.0</td>\n",
       "      <td>182</td>\n",
       "      <td>3</td>\n",
       "      <td>8.368925</td>\n",
       "      <td>5.209486</td>\n",
       "      <td>1.386294</td>\n",
       "    </tr>\n",
       "  </tbody>\n",
       "</table></div>"
      ],
      "text/plain": [
       "            SaleAmount  Freq  ElapsedDays  SaleAmount_log  Freq_log  \\\n",
       "CustomerID                                                            \n",
       "12346          77183.6     1          326       11.253955  0.693147   \n",
       "12347           4310.0   182            3        8.368925  5.209486   \n",
       "\n",
       "            ElapsedDays_log  \n",
       "CustomerID                   \n",
       "12346              5.789960  \n",
       "12347              1.386294  "
      ]
     },
     "execution_count": 28,
     "metadata": {},
     "output_type": "execute_result"
    }
   ],
   "source": [
    "# 로그함수를 이용하여 값의 분포 고르게 조정\n",
    "import numpy as np\n",
    "\n",
    "customer_df['SaleAmount_log'] = np.log1p(customer_df.SaleAmount)\n",
    "customer_df['Freq_log'] = np.log1p(customer_df.Freq)\n",
    "customer_df['ElapsedDays_log'] = np.log1p(customer_df.ElapsedDays)\n",
    "customer_df.head(2)"
   ]
  },
  {
   "cell_type": "code",
   "execution_count": 29,
   "id": "83420969",
   "metadata": {
    "scrolled": false
   },
   "outputs": [
    {
     "data": {
      "image/png": "[encoded data removed]",
      "text/plain": [
       "<Figure size 864x360 with 2 Axes>"
      ]
     },
     "metadata": {
      "needs_background": "light"
     },
     "output_type": "display_data"
    }
   ],
   "source": [
    "import matplotlib.pyplot as plt\n",
    "\n",
    "plt.figure(figsize=(12, 5)) #그래프 크기(인치)\n",
    "\n",
    "plt.subplot(121)\n",
    "plt.boxplot([customer_df.Freq, customer_df.SaleAmount, customer_df.ElapsedDays],\n",
    "           sym='bo')\n",
    "plt.xticks([1,2,3], ['Freq','SaleAmount','ElapsedDays'])\n",
    "plt.title('Before')\n",
    "\n",
    "\n",
    "# 아웃레이어가 줄고 비교적 균형잡힌 모양이 된다.\n",
    "plt.subplot(122)\n",
    "plt.boxplot([customer_df.Freq_log, customer_df.SaleAmount_log, customer_df.ElapsedDays_log],\n",
    "           sym='bo')\n",
    "plt.xticks([1,2,3], ['Freq_log','SaleAmount_log','ElapsedDays_log'])\n",
    "plt.title('After')\n",
    "\n",
    "plt.show()"
   ]
  },
  {
   "cell_type": "markdown",
   "id": "235a5727",
   "metadata": {},
   "source": [
    "---------"
   ]
  },
  {
   "cell_type": "markdown",
   "id": "6ac79b4f",
   "metadata": {},
   "source": [
    "---------"
   ]
  },
  {
   "cell_type": "markdown",
   "id": "d39c0ce7",
   "metadata": {},
   "source": [
    "### 4. 분석모델(ML모델) 적용 : K-평균 군집화 모델 이용\n",
    "\n",
    "- **K-Means 알고리즘** : 데이터를 K개의 군집(Cluster)으로 묶는(Clusting) 알고리즘으로 비슷한 특성을 지닌 데이터들끼리 묶어 K개의 군집으로 세분화하는 기법\n",
    "- **군집(Cluster)** : 비슷한 특성을 지닌 데이터들을 모아놓은 그룹(Group) \n",
    "- **평균(mean)** : 군집에 배정할 때 각 군집의 중심점(Centroid)과 데이터들의 평균(mean) 유클리드 거리를 계산하여 가장 가까운 군집에 배정함"
   ]
  },
  {
   "cell_type": "markdown",
   "id": "36e71e8c",
   "metadata": {},
   "source": [
    "#### 4-1. K-Means 알고리즘의 원리\n",
    " Step 1). 군집의 개수(K) 설정 <br> \n",
    " Step 2). 초기 중심점 설정 <br>\n",
    " Step 3). 데이터를 군집에 할당(배정) <br>\n",
    " Step 4). 중심점 재설정(갱신) <br>\n",
    " Step 5). 데이터를 군집에 재할당(배정) <br>\n",
    " ** Step5->Step4 중심점의 위치가 더 이상 변하지 않을 때까지 5단계에서 다시 4단계로 가면서 반복시행한다."
   ]
  },
  {
   "cell_type": "markdown",
   "id": "f63cfefb",
   "metadata": {},
   "source": [
    " Step 1). 군집의 개수(K) 설정\n",
    "군집의 개수 설정 방법론 \n",
    "  - 1) Rule of thumnb\n",
    "  - 2) **Elbow Method**\n",
    "  - 3) 정보 기준 접근법(Information Criterion Approach)"
   ]
  },
  {
   "cell_type": "markdown",
   "id": "ed3da6d8",
   "metadata": {},
   "source": [
    " Step 2). 초기 중심점 설정\n",
    "  - 1) Randomly select\n",
    "  - 2) Manually assign\n",
    "  - 3) **K-means++**"
   ]
  },
  {
   "cell_type": "markdown",
   "id": "9e7878d8",
   "metadata": {},
   "source": [
    " Step 3). 데이터를 군집에 할당(배정) <br>\n",
    "거리 상 가장 가까운 군집(중심점)으로 주어진 모든 데이터를 할당 또는 배정한다"
   ]
  },
  {
   "cell_type": "markdown",
   "id": "f3446693",
   "metadata": {},
   "source": [
    " Step 4). 중심점 재설정(갱신) <br>\n",
    "모든 주어진 데이터의 군집 배정이 끝나면 군집의 중심점(Centroid)을 그 군집의 속하는 데이터들의 가장 중간(평균)에 위치한 지점으로 재설정한다    "
   ]
  },
  {
   "cell_type": "markdown",
   "id": "200b3f70",
   "metadata": {},
   "source": [
    " Step 5). 데이터를 군집에 재할당(배정)<br>\n",
    "step 3에서 했던 방법과 똑같이 시행하며, 더 이상 중심점의 이동이 없을 때까지 step 4와 step 5를 반복한다."
   ]
  },
  {
   "cell_type": "markdown",
   "id": "eddb33d1",
   "metadata": {},
   "source": [
    "#### 4-2. scikit-learn K-Means 모델 적용\n",
    "- **K-means** 군집 알고리즘과 군집 평가지표인 **실루엣 계수**(Silhouette Coefficient) 이용\n",
    "-  알고리즘 학습에 사용할 **X_features 지정**하기('Freq_log','SaleAmount_log','ElapsedDays_log')\n",
    "- X_features를 **정규분포로 스케일링**한다.\n",
    "- 참고: 실루엣 계수 설명(https://studying-haeung.tistory.com/10)"
   ]
  },
  {
   "cell_type": "markdown",
   "id": "011ea9cc",
   "metadata": {},
   "source": [
    "#### 4-2-1.독립변수(X_feature)를 정규 분포로 스케일링하기"
   ]
  },
  {
   "cell_type": "code",
   "execution_count": 30,
   "id": "023930fa",
   "metadata": {},
   "outputs": [],
   "source": [
    "from sklearn.cluster import KMeans\n",
    "from sklearn.metrics import silhouette_score, silhouette_samples\n",
    "from sklearn.preprocessing import StandardScaler\n",
    "\n",
    "\n",
    "X_features = customer_df[['Freq_log','SaleAmount_log','ElapsedDays_log']].values\n",
    "\n",
    "\n",
    "# 정규분포로 스케일링한다.\n",
    "X_features_scaled = StandardScaler().fit_transform(X_features)"
   ]
  },
  {
   "cell_type": "code",
   "execution_count": 31,
   "id": "b48b783e",
   "metadata": {
    "scrolled": true
   },
   "outputs": [
    {
     "data": {
      "text/html": [
       "<div><div id=edb963d1-8633-4abc-86df-050812cb8e8c style=\"display:none; background-color:#9D6CFF; color:white; width:200px; height:30px; padding-left:5px; border-radius:4px; flex-direction:row; justify-content:space-around; align-items:center;\" onmouseover=\"this.style.backgroundColor='#BA9BF8'\" onmouseout=\"this.style.backgroundColor='#9D6CFF'\" onclick=\"window.commands?.execute('create-mitosheet-from-dataframe-output');\">See Full Dataframe in Mito</div> <script> if (window.commands?.hasCommand('create-mitosheet-from-dataframe-output')) document.getElementById('edb963d1-8633-4abc-86df-050812cb8e8c').style.display = 'flex' </script> <table border=\"1\" class=\"dataframe\">\n",
       "  <thead>\n",
       "    <tr style=\"text-align: right;\">\n",
       "      <th></th>\n",
       "      <th>0</th>\n",
       "      <th>1</th>\n",
       "      <th>2</th>\n",
       "    </tr>\n",
       "  </thead>\n",
       "  <tbody>\n",
       "    <tr>\n",
       "      <th>0</th>\n",
       "      <td>-2.438202</td>\n",
       "      <td>3.707716</td>\n",
       "      <td>1.478884</td>\n",
       "    </tr>\n",
       "    <tr>\n",
       "      <th>1</th>\n",
       "      <td>1.188986</td>\n",
       "      <td>1.414903</td>\n",
       "      <td>-1.890642</td>\n",
       "    </tr>\n",
       "    <tr>\n",
       "      <th>2</th>\n",
       "      <td>-0.211465</td>\n",
       "      <td>0.720024</td>\n",
       "      <td>0.372339</td>\n",
       "    </tr>\n",
       "    <tr>\n",
       "      <th>3</th>\n",
       "      <td>0.461819</td>\n",
       "      <td>0.702287</td>\n",
       "      <td>-0.659158</td>\n",
       "    </tr>\n",
       "    <tr>\n",
       "      <th>4</th>\n",
       "      <td>-0.673554</td>\n",
       "      <td>-0.614514</td>\n",
       "      <td>1.442954</td>\n",
       "    </tr>\n",
       "    <tr>\n",
       "      <th>...</th>\n",
       "      <td>...</td>\n",
       "      <td>...</td>\n",
       "      <td>...</td>\n",
       "    </tr>\n",
       "    <tr>\n",
       "      <th>4333</th>\n",
       "      <td>-1.069075</td>\n",
       "      <td>-1.102093</td>\n",
       "      <td>1.357416</td>\n",
       "    </tr>\n",
       "    <tr>\n",
       "      <th>4334</th>\n",
       "      <td>-1.324833</td>\n",
       "      <td>-1.735717</td>\n",
       "      <td>1.030534</td>\n",
       "    </tr>\n",
       "    <tr>\n",
       "      <th>4335</th>\n",
       "      <td>-0.934910</td>\n",
       "      <td>-1.113332</td>\n",
       "      <td>-1.270148</td>\n",
       "    </tr>\n",
       "    <tr>\n",
       "      <th>4336</th>\n",
       "      <td>2.291307</td>\n",
       "      <td>0.822812</td>\n",
       "      <td>-1.719901</td>\n",
       "    </tr>\n",
       "    <tr>\n",
       "      <th>4337</th>\n",
       "      <td>0.428581</td>\n",
       "      <td>0.737526</td>\n",
       "      <td>-0.055859</td>\n",
       "    </tr>\n",
       "  </tbody>\n",
       "</table></div>"
      ],
      "text/plain": [
       "             0         1         2\n",
       "0    -2.438202  3.707716  1.478884\n",
       "1     1.188986  1.414903 -1.890642\n",
       "2    -0.211465  0.720024  0.372339\n",
       "3     0.461819  0.702287 -0.659158\n",
       "4    -0.673554 -0.614514  1.442954\n",
       "...        ...       ...       ...\n",
       "4333 -1.069075 -1.102093  1.357416\n",
       "4334 -1.324833 -1.735717  1.030534\n",
       "4335 -0.934910 -1.113332 -1.270148\n",
       "4336  2.291307  0.822812 -1.719901\n",
       "4337  0.428581  0.737526 -0.055859\n",
       "\n",
       "[4338 rows x 3 columns]"
      ]
     },
     "execution_count": 31,
     "metadata": {},
     "output_type": "execute_result"
    }
   ],
   "source": [
    "tmp = pd.DataFrame(X_features_scaled)\n",
    "tmp\n",
    "# tmp.info()"
   ]
  },
  {
   "cell_type": "markdown",
   "id": "584bb7d4",
   "metadata": {},
   "source": [
    "#### 4-2-2. 군집의 개수(K) 설정 : 엘보 방법(Elbow Method)\n",
    "- 클러스터 개수를 1~10까지 변화시키면서 왜곡의 크기 변화를 그래프로 나타내어 엘보 지점 찾는다.\n",
    "- Cluster 간의 거리의 합을 나타내는 inertia가 급격히 떨어지는 구간이 생기는데 이 지점의 K 값을 군집의 개수로 사용\n",
    "- inertia_속성으로 확인할 수 있다"
   ]
  },
  {
   "cell_type": "code",
   "execution_count": 32,
   "id": "448e1b3e",
   "metadata": {},
   "outputs": [],
   "source": [
    "#!pip install numpy==1.21.4"
   ]
  },
  {
   "cell_type": "code",
   "execution_count": 33,
   "id": "0aa041e3",
   "metadata": {},
   "outputs": [
    {
     "data": {
      "image/png": "[encoded data removed]",
      "text/plain": [
       "<Figure size 432x288 with 1 Axes>"
      ]
     },
     "metadata": {
      "needs_background": "light"
     },
     "output_type": "display_data"
    }
   ],
   "source": [
    "# 만약 kmeans_i.fit()부분에서 numpy 오류가 나면\n",
    "# numpy 버전을 1.21.4로 설치한다. \n",
    "\n",
    "distortions = []  # 왜곡의 크기 값\n",
    "\n",
    "for i in range(1, 11):\n",
    "    kmeans_i = KMeans(n_clusters=i, random_state=0)  # 모델 생성\n",
    "    kmeans_i.fit(X_features_scaled)                 # 모델 훈련\n",
    "    distortions.append(kmeans_i.inertia_)           # inertia value:군집의 응집도(낮을 수록 응집도 높다)\n",
    "    \n",
    "plt.plot(range(1,11), distortions, marker='o')   \n",
    "plt.xlabel('Number of cluster')\n",
    "plt.ylabel('Distortion')\n",
    "plt.show()"
   ]
  },
  {
   "cell_type": "markdown",
   "id": "e4b25401",
   "metadata": {},
   "source": [
    "#### 4-2-3. 군집의 개수(K=3) 설정하여 모델 생성하기"
   ]
  },
  {
   "cell_type": "code",
   "execution_count": 36,
   "id": "37d94cc3",
   "metadata": {
    "scrolled": true
   },
   "outputs": [
    {
     "data": {
      "text/html": [
       "<div><div id=5ff3a7ee-3cd0-46c5-8e38-4d5c61669537 style=\"display:none; background-color:#9D6CFF; color:white; width:200px; height:30px; padding-left:5px; border-radius:4px; flex-direction:row; justify-content:space-around; align-items:center;\" onmouseover=\"this.style.backgroundColor='#BA9BF8'\" onmouseout=\"this.style.backgroundColor='#9D6CFF'\" onclick=\"window.commands?.execute('create-mitosheet-from-dataframe-output');\">See Full Dataframe in Mito</div> <script> if (window.commands?.hasCommand('create-mitosheet-from-dataframe-output')) document.getElementById('5ff3a7ee-3cd0-46c5-8e38-4d5c61669537').style.display = 'flex' </script> <table border=\"1\" class=\"dataframe\">\n",
       "  <thead>\n",
       "    <tr style=\"text-align: right;\">\n",
       "      <th></th>\n",
       "      <th>SaleAmount</th>\n",
       "      <th>Freq</th>\n",
       "      <th>ElapsedDays</th>\n",
       "      <th>SaleAmount_log</th>\n",
       "      <th>Freq_log</th>\n",
       "      <th>ElapsedDays_log</th>\n",
       "      <th>ClusterdLable</th>\n",
       "    </tr>\n",
       "    <tr>\n",
       "      <th>CustomerID</th>\n",
       "      <th></th>\n",
       "      <th></th>\n",
       "      <th></th>\n",
       "      <th></th>\n",
       "      <th></th>\n",
       "      <th></th>\n",
       "      <th></th>\n",
       "    </tr>\n",
       "  </thead>\n",
       "  <tbody>\n",
       "    <tr>\n",
       "      <th>12346</th>\n",
       "      <td>77183.60</td>\n",
       "      <td>1</td>\n",
       "      <td>326</td>\n",
       "      <td>11.253955</td>\n",
       "      <td>0.693147</td>\n",
       "      <td>5.789960</td>\n",
       "      <td>2</td>\n",
       "    </tr>\n",
       "    <tr>\n",
       "      <th>12347</th>\n",
       "      <td>4310.00</td>\n",
       "      <td>182</td>\n",
       "      <td>3</td>\n",
       "      <td>8.368925</td>\n",
       "      <td>5.209486</td>\n",
       "      <td>1.386294</td>\n",
       "      <td>1</td>\n",
       "    </tr>\n",
       "    <tr>\n",
       "      <th>12348</th>\n",
       "      <td>1797.24</td>\n",
       "      <td>31</td>\n",
       "      <td>76</td>\n",
       "      <td>7.494564</td>\n",
       "      <td>3.465736</td>\n",
       "      <td>4.343805</td>\n",
       "      <td>2</td>\n",
       "    </tr>\n",
       "    <tr>\n",
       "      <th>12349</th>\n",
       "      <td>1757.55</td>\n",
       "      <td>73</td>\n",
       "      <td>19</td>\n",
       "      <td>7.472245</td>\n",
       "      <td>4.304065</td>\n",
       "      <td>2.995732</td>\n",
       "      <td>2</td>\n",
       "    </tr>\n",
       "    <tr>\n",
       "      <th>12350</th>\n",
       "      <td>334.40</td>\n",
       "      <td>17</td>\n",
       "      <td>311</td>\n",
       "      <td>5.815324</td>\n",
       "      <td>2.890372</td>\n",
       "      <td>5.743003</td>\n",
       "      <td>0</td>\n",
       "    </tr>\n",
       "  </tbody>\n",
       "</table></div>"
      ],
      "text/plain": [
       "            SaleAmount  Freq  ElapsedDays  SaleAmount_log  Freq_log  \\\n",
       "CustomerID                                                            \n",
       "12346         77183.60     1          326       11.253955  0.693147   \n",
       "12347          4310.00   182            3        8.368925  5.209486   \n",
       "12348          1797.24    31           76        7.494564  3.465736   \n",
       "12349          1757.55    73           19        7.472245  4.304065   \n",
       "12350           334.40    17          311        5.815324  2.890372   \n",
       "\n",
       "            ElapsedDays_log  ClusterdLable  \n",
       "CustomerID                                  \n",
       "12346              5.789960              2  \n",
       "12347              1.386294              1  \n",
       "12348              4.343805              2  \n",
       "12349              2.995732              2  \n",
       "12350              5.743003              0  "
      ]
     },
     "execution_count": 36,
     "metadata": {},
     "output_type": "execute_result"
    }
   ],
   "source": [
    "# 모델 생성\n",
    "k = 3\n",
    "model = KMeans(n_clusters=k, random_state=0)\n",
    "\n",
    "\n",
    "# 모델 학습 & 결과 예측(-->클러스터 레이블 생성)\n",
    "Y_pred = model.fit_predict(X_features_scaled) \n",
    "\n",
    "# ClusterdLable 컬럼 신규 생성\n",
    "customer_df['ClusterdLable'] = Y_pred \n",
    "customer_df.head()"
   ]
  },
  {
   "cell_type": "markdown",
   "id": "37db1fcf",
   "metadata": {},
   "source": [
    "### 5. 결과 분석 및 시각화"
   ]
  },
  {
   "cell_type": "markdown",
   "id": "c293b542",
   "metadata": {},
   "source": [
    "#### 5-1. 클러스터의 비중가 데이터 분포를 차트로 시각화하기\n",
    "- 최적의 클러스터 수(K)를 찾기 위해 그래프로 확인한다."
   ]
  },
  {
   "cell_type": "code",
   "execution_count": 37,
   "id": "e2f921b4",
   "metadata": {},
   "outputs": [],
   "source": [
    "# 실루엣 계수를 구하고 막대 그래프로 시각화하기\n",
    "from matplotlib import cm\n",
    "\n",
    "def silhouetteViz(n_cluster, X_features):\n",
    "    kmeans = KMeans(n_clusters=n_cluster, random_state=0)\n",
    "    Y_labels = kmeans.fit_predict(X_features) \n",
    "    \n",
    "    silhouette_values = silhouette_samples(X_features, Y_labels, metric='euclidean')\n",
    "    \n",
    "    y_ax_lower, y_ax_upper = 0, 0\n",
    "    y_ticks = []\n",
    "    \n",
    "    for c in range(n_cluster):\n",
    "        c_silhouettes = silhouette_values[Y_labels==c]\n",
    "        c_silhouettes.sort()\n",
    "        y_ax_upper += len(c_silhouettes)\n",
    "        color = cm.jet(float(c) / n_cluster)\n",
    "        plt.barh(range(y_ax_lower, y_ax_upper), c_silhouettes, \n",
    "                height=1.0, edgecolor='none', color=color)\n",
    "        y_ticks.append((y_ax_lower + y_ax_upper) / 2.)\n",
    "        y_ax_lower += len(c_silhouettes)\n",
    "        \n",
    "    silhouette_avg = np.mean(silhouette_values)\n",
    "    plt.axvline(silhouette_avg, color='red', linestyle='--')\n",
    "    plt.title(f'Number of Cluster:{str(n_cluster)}\\nSilhouette_Score:{str(round(silhouette_avg,3))}')\n",
    "    plt.yticks(y_ticks, range(n_cluster))\n",
    "    plt.xticks([0,0.2,0.4,0.6,0.8,1])\n",
    "    plt.ylabel('Cluster')\n",
    "    plt.xlabel('Silhouette Coefficient')\n",
    "    plt.tight_layout()\n",
    "    plt.show()"
   ]
  },
  {
   "cell_type": "code",
   "execution_count": 38,
   "id": "e379a0ad",
   "metadata": {},
   "outputs": [],
   "source": [
    "# 클러스터에 대한 데이터 분포를 산포도로 시각화하기\n",
    "def clusterScatter(n_cluster, X_features):\n",
    "    c_colors = []\n",
    "    \n",
    "    kmeans = KMeans(n_clusters=n_cluster, random_state=0)\n",
    "    Y_labels = kmeans.fit_predict(X_features) \n",
    "    \n",
    "    for i in range(n_cluster):\n",
    "        c_color = cm.jet(float(i) / n_cluster) # 클러스터의 색상 설정(RGB스펙트럼)\n",
    "        c_colors.append(c_color)\n",
    "        \n",
    "        #클러스터의 데이터 분포를 동그라미로 시각화\n",
    "        plt.scatter(X_features[Y_labels==i, 0], X_features[Y_labels==i, 1],\n",
    "                   marker='o', color=c_color, edgecolor='black', s=50, \n",
    "                   label=f'cluster {str(i)}')\n",
    "        \n",
    "    # 각 클러스터의 중심점을 삼각형으로 표시\n",
    "    for i in range(n_cluster):\n",
    "        plt.scatter(kmeans.cluster_centers_[i,0], kmeans.cluster_centers_[i,1],\n",
    "                   marker='^', color=c_colors[i], edgecolor='w', s=200)\n",
    "\n",
    "    plt.xlabel('SalesAmount')\n",
    "    plt.ylabel('Freq')\n",
    "    plt.legend()\n",
    "    plt.grid()\n",
    "    plt.tight_layout()\n",
    "    plt.show()"
   ]
  },
  {
   "cell_type": "code",
   "execution_count": 41,
   "id": "118afa24",
   "metadata": {},
   "outputs": [
    {
     "data": {
      "image/png": "[encoded data removed]",
      "text/plain": [
       "<Figure size 432x288 with 1 Axes>"
      ]
     },
     "metadata": {
      "needs_background": "light"
     },
     "output_type": "display_data"
    }
   ],
   "source": [
    "# silhouetteViz()함수 호출하여 클러스터의 비중과 데이터 분포 시각화 하기\n",
    "# 실루엣 계수가 1에 가까운 것으로 채택한다.\n",
    "silhouetteViz(3, X_features_scaled)"
   ]
  },
  {
   "cell_type": "code",
   "execution_count": 42,
   "id": "cf40c6e2",
   "metadata": {},
   "outputs": [
    {
     "data": {
      "image/png": "[encoded data removed]",
      "text/plain": [
       "<Figure size 432x288 with 1 Axes>"
      ]
     },
     "metadata": {
      "needs_background": "light"
     },
     "output_type": "display_data"
    }
   ],
   "source": [
    "silhouetteViz(4, X_features_scaled)"
   ]
  },
  {
   "cell_type": "code",
   "execution_count": 43,
   "id": "0423f45d",
   "metadata": {},
   "outputs": [
    {
     "data": {
      "image/png": "[encoded data removed]",
      "text/plain": [
       "<Figure size 432x288 with 1 Axes>"
      ]
     },
     "metadata": {
      "needs_background": "light"
     },
     "output_type": "display_data"
    }
   ],
   "source": [
    "silhouetteViz(5, X_features_scaled)"
   ]
  },
  {
   "cell_type": "code",
   "execution_count": 35,
   "id": "b37564c9",
   "metadata": {
    "scrolled": false
   },
   "outputs": [
    {
     "data": {
      "image/png": "[encoded data removed]",
      "text/plain": [
       "<Figure size 432x288 with 1 Axes>"
      ]
     },
     "metadata": {
      "needs_background": "light"
     },
     "output_type": "display_data"
    }
   ],
   "source": [
    "clusterScatter(3, X_features_scaled)"
   ]
  },
  {
   "cell_type": "code",
   "execution_count": 36,
   "id": "5ab0dfa7",
   "metadata": {
    "scrolled": false
   },
   "outputs": [
    {
     "data": {
      "image/png": "[encoded data removed]",
      "text/plain": [
       "<Figure size 432x288 with 1 Axes>"
      ]
     },
     "metadata": {
      "needs_background": "light"
     },
     "output_type": "display_data"
    }
   ],
   "source": [
    "clusterScatter(4, X_features_scaled)"
   ]
  },
  {
   "cell_type": "code",
   "execution_count": 37,
   "id": "cfc7a830",
   "metadata": {
    "scrolled": false
   },
   "outputs": [
    {
     "data": {
      "image/png": "[encoded data removed]",
      "text/plain": [
       "<Figure size 432x288 with 1 Axes>"
      ]
     },
     "metadata": {
      "needs_background": "light"
     },
     "output_type": "display_data"
    }
   ],
   "source": [
    "clusterScatter(5, X_features_scaled)"
   ]
  },
  {
   "cell_type": "markdown",
   "id": "3903b415",
   "metadata": {},
   "source": [
    "#### 5-2. 최종 클러스터 K=4 반영하여 고객군 파일로 저장하기\n",
    "- 최적의 클러스터 수(K=4) 모델에 반영하기"
   ]
  },
  {
   "cell_type": "code",
   "execution_count": 38,
   "id": "c042153a",
   "metadata": {
    "scrolled": false
   },
   "outputs": [
    {
     "data": {
      "text/html": [
       "<div><div id=7291dfbc-bc3a-499d-8aa8-8710af371484 style=\"display:none; background-color:#9D6CFF; color:white; width:200px; height:30px; padding-left:5px; border-radius:4px; flex-direction:row; justify-content:space-around; align-items:center;\" onmouseover=\"this.style.backgroundColor='#BA9BF8'\" onmouseout=\"this.style.backgroundColor='#9D6CFF'\" onclick=\"window.commands?.execute('create-mitosheet-from-dataframe-output');\">See Full Dataframe in Mito</div> <script> if (window.commands?.hasCommand('create-mitosheet-from-dataframe-output')) document.getElementById('7291dfbc-bc3a-499d-8aa8-8710af371484').style.display = 'flex' </script> <table border=\"1\" class=\"dataframe\">\n",
       "  <thead>\n",
       "    <tr style=\"text-align: right;\">\n",
       "      <th></th>\n",
       "      <th>SaleAmount</th>\n",
       "      <th>Freq</th>\n",
       "      <th>ElapsedDays</th>\n",
       "      <th>Freq_log</th>\n",
       "      <th>SaleAmount_log</th>\n",
       "      <th>ElapsedDays_log</th>\n",
       "      <th>ClusterdLable</th>\n",
       "    </tr>\n",
       "    <tr>\n",
       "      <th>CustomerID</th>\n",
       "      <th></th>\n",
       "      <th></th>\n",
       "      <th></th>\n",
       "      <th></th>\n",
       "      <th></th>\n",
       "      <th></th>\n",
       "      <th></th>\n",
       "    </tr>\n",
       "  </thead>\n",
       "  <tbody>\n",
       "    <tr>\n",
       "      <th>12346</th>\n",
       "      <td>77183.60</td>\n",
       "      <td>1</td>\n",
       "      <td>326</td>\n",
       "      <td>0.693147</td>\n",
       "      <td>11.253955</td>\n",
       "      <td>5.789960</td>\n",
       "      <td>1</td>\n",
       "    </tr>\n",
       "    <tr>\n",
       "      <th>12347</th>\n",
       "      <td>4310.00</td>\n",
       "      <td>182</td>\n",
       "      <td>3</td>\n",
       "      <td>5.209486</td>\n",
       "      <td>8.368925</td>\n",
       "      <td>1.386294</td>\n",
       "      <td>3</td>\n",
       "    </tr>\n",
       "    <tr>\n",
       "      <th>12348</th>\n",
       "      <td>1797.24</td>\n",
       "      <td>31</td>\n",
       "      <td>76</td>\n",
       "      <td>3.465736</td>\n",
       "      <td>7.494564</td>\n",
       "      <td>4.343805</td>\n",
       "      <td>1</td>\n",
       "    </tr>\n",
       "    <tr>\n",
       "      <th>12349</th>\n",
       "      <td>1757.55</td>\n",
       "      <td>73</td>\n",
       "      <td>19</td>\n",
       "      <td>4.304065</td>\n",
       "      <td>7.472245</td>\n",
       "      <td>2.995732</td>\n",
       "      <td>1</td>\n",
       "    </tr>\n",
       "    <tr>\n",
       "      <th>12350</th>\n",
       "      <td>334.40</td>\n",
       "      <td>17</td>\n",
       "      <td>311</td>\n",
       "      <td>2.890372</td>\n",
       "      <td>5.815324</td>\n",
       "      <td>5.743003</td>\n",
       "      <td>2</td>\n",
       "    </tr>\n",
       "  </tbody>\n",
       "</table></div>"
      ],
      "text/plain": [
       "            SaleAmount  Freq  ElapsedDays  Freq_log  SaleAmount_log  \\\n",
       "CustomerID                                                            \n",
       "12346         77183.60     1          326  0.693147       11.253955   \n",
       "12347          4310.00   182            3  5.209486        8.368925   \n",
       "12348          1797.24    31           76  3.465736        7.494564   \n",
       "12349          1757.55    73           19  4.304065        7.472245   \n",
       "12350           334.40    17          311  2.890372        5.815324   \n",
       "\n",
       "            ElapsedDays_log  ClusterdLable  \n",
       "CustomerID                                  \n",
       "12346              5.789960              1  \n",
       "12347              1.386294              3  \n",
       "12348              4.343805              1  \n",
       "12349              2.995732              1  \n",
       "12350              5.743003              2  "
      ]
     },
     "execution_count": 38,
     "metadata": {},
     "output_type": "execute_result"
    }
   ],
   "source": [
    "# 모델 생성\n",
    "k = 4\n",
    "kmeans = KMeans(n_clusters=k, random_state=0)\n",
    "# 모델 학습 & 결과 예측(-->클러스터 레이블 생성)\n",
    "Y_labels = kmeans.fit_predict(X_features_scaled) \n",
    "\n",
    "customer_df['ClusterdLable'] = Y_labels \n",
    "customer_df.head()"
   ]
  },
  {
   "cell_type": "markdown",
   "id": "a4459850",
   "metadata": {},
   "source": [
    "- **군집된 결과 파일로 저장하기**"
   ]
  },
  {
   "cell_type": "code",
   "execution_count": 39,
   "id": "2f335d8a",
   "metadata": {},
   "outputs": [],
   "source": [
    "customer_df.to_csv('data/Online_Retail_Clusterd.csv')"
   ]
  },
  {
   "cell_type": "markdown",
   "id": "c5fdd1e1",
   "metadata": {},
   "source": [
    "- **군집된 고객 그룹 통계 확인하기**"
   ]
  },
  {
   "cell_type": "code",
   "execution_count": 40,
   "id": "ce631b43",
   "metadata": {},
   "outputs": [
    {
     "data": {
      "text/plain": [
       "ClusterdLable\n",
       "0     891\n",
       "1    1207\n",
       "2    1368\n",
       "3     872\n",
       "Name: CustomerID, dtype: int64"
      ]
     },
     "execution_count": 40,
     "metadata": {},
     "output_type": "execute_result"
    }
   ],
   "source": [
    "customer_df.reset_index(drop=False, inplace=True)\n",
    "customer_df.groupby('ClusterdLable')['CustomerID'].count()"
   ]
  },
  {
   "cell_type": "markdown",
   "id": "9696a2da",
   "metadata": {},
   "source": [
    "----------------------------"
   ]
  },
  {
   "cell_type": "markdown",
   "id": "1b95a21d",
   "metadata": {},
   "source": [
    "## [미션] 게임 고객 군 분류하기"
   ]
  },
  {
   "cell_type": "code",
   "execution_count": null,
   "id": "f24c41d0",
   "metadata": {},
   "outputs": [],
   "source": [
    "import numpy as np\n",
    "import pandas as pd\n",
    "import matplotlib.pyplot as plt\n",
    "\n",
    "customer_df = pd.read_csv('data/game_usage.csv')\n",
    "customer_df"
   ]
  },
  {
   "cell_type": "code",
   "execution_count": null,
   "id": "098f0a3c",
   "metadata": {
    "scrolled": true
   },
   "outputs": [],
   "source": [
    "customer_df.info()\n",
    "\n",
    "X = customer_df['time spent']\n",
    "Y = customer_df['game level']\n",
    "\n",
    "plt.scatter(X, Y)\n",
    "plt.xlabel('time spent')\n",
    "plt.ylabel('game level')\n",
    "plt.show()"
   ]
  },
  {
   "cell_type": "markdown",
   "id": "5c272cdb",
   "metadata": {},
   "source": [
    "#### 독립변수(X_feature)를 정규 분포로 스케일링하기"
   ]
  },
  {
   "cell_type": "code",
   "execution_count": null,
   "id": "63bbd9d4",
   "metadata": {},
   "outputs": [],
   "source": [
    "# 독립변수(X_feature)를 정규 분포로 스케일링하기\n",
    "from sklearn.cluster import KMeans\n",
    "from sklearn.metrics import silhouette_score, silhouette_samples\n",
    "\n",
    "X_features = customer_df[['time spent','game level']].values\n",
    "\n",
    "# 정규분포로 스케일링한다.\n",
    "from sklearn.preprocessing import StandardScaler\n",
    "X_features_scaled = StandardScaler().fit_transform(X_features)"
   ]
  },
  {
   "cell_type": "markdown",
   "id": "b9351db5",
   "metadata": {},
   "source": [
    "#### k개수 지정하기 이해 왜곡 곡선 확인하기"
   ]
  },
  {
   "cell_type": "code",
   "execution_count": null,
   "id": "ab3e3ab2",
   "metadata": {
    "scrolled": true
   },
   "outputs": [],
   "source": [
    "distortions = []  # 왜곡의 크기 값\n",
    "\n",
    "for i in range(1, 11):\n",
    "    kmeans_i = KMeans(n_clusters=i, random_state=0)  # 모델 생성\n",
    "    kmeans_i.fit(X_features_scaled)                 # 모델 훈련\n",
    "    distortions.append(kmeans_i.inertia_)           # inertia value:군집의 응집도(낮을 수록 응집도 높다)\n",
    "    \n",
    "plt.plot(range(1,11), distortions, marker='o')   \n",
    "plt.xlabel('Number of cluster')\n",
    "plt.ylabel('Distortion')\n",
    "plt.show()"
   ]
  },
  {
   "cell_type": "markdown",
   "id": "f5796e41",
   "metadata": {},
   "source": [
    "#### K-mean 군집 모델 생성하기"
   ]
  },
  {
   "cell_type": "code",
   "execution_count": null,
   "id": "8cb43a7e",
   "metadata": {
    "scrolled": false
   },
   "outputs": [],
   "source": [
    "# 모델 생성\n",
    "k = 5\n",
    "kmeans = KMeans(n_clusters=k, random_state=0)\n",
    "# 모델 학습 & 결과 예측(-->클러스터 레이블 생성)\n",
    "Y_labels = kmeans.fit_predict(X_features_scaled) \n",
    "\n",
    "customer_df['ClusterdLable'] = Y_labels \n",
    "customer_df.head()"
   ]
  },
  {
   "cell_type": "markdown",
   "id": "54225331",
   "metadata": {},
   "source": [
    "- **실루엣 계수와 데이터 분포 그래프로 시각화하기**"
   ]
  },
  {
   "cell_type": "code",
   "execution_count": null,
   "id": "c980b1d7",
   "metadata": {},
   "outputs": [],
   "source": [
    "silhouetteViz(4, X_features_scaled)"
   ]
  },
  {
   "cell_type": "code",
   "execution_count": null,
   "id": "2007b7f0",
   "metadata": {},
   "outputs": [],
   "source": [
    "silhouetteViz(5, X_features_scaled)"
   ]
  },
  {
   "cell_type": "code",
   "execution_count": null,
   "id": "7bd3711a",
   "metadata": {},
   "outputs": [],
   "source": [
    "silhouetteViz(6, X_features_scaled)"
   ]
  },
  {
   "cell_type": "code",
   "execution_count": null,
   "id": "a953fc71",
   "metadata": {},
   "outputs": [],
   "source": [
    "silhouetteViz(7, X_features_scaled)"
   ]
  },
  {
   "cell_type": "code",
   "execution_count": null,
   "id": "847b010d",
   "metadata": {
    "scrolled": true
   },
   "outputs": [],
   "source": [
    "clusterScatter(5, X_features_scaled)"
   ]
  },
  {
   "cell_type": "code",
   "execution_count": null,
   "id": "c35a76c1",
   "metadata": {
    "scrolled": true
   },
   "outputs": [],
   "source": [
    "clusterScatter(6, X_features_scaled)"
   ]
  },
  {
   "cell_type": "markdown",
   "id": "b36bf780",
   "metadata": {},
   "source": [
    "- **최적의 K=6 반영하여 고객 군집하기**"
   ]
  },
  {
   "cell_type": "code",
   "execution_count": null,
   "id": "0cf1ba03",
   "metadata": {
    "scrolled": true
   },
   "outputs": [],
   "source": [
    "# 모델 생성\n",
    "k = 6\n",
    "kmeans = KMeans(n_clusters=k, random_state=0)\n",
    "# 모델 학습 & 결과 예측(-->클러스터 레이블 생성)\n",
    "Y_labels = kmeans.fit_predict(X_features_scaled) \n",
    "\n",
    "customer_df['ClusterdLable'] = Y_labels \n",
    "customer_df"
   ]
  },
  {
   "cell_type": "markdown",
   "id": "5a159e51",
   "metadata": {},
   "source": [
    "- **군집된 고객 파일로 저장히기**"
   ]
  },
  {
   "cell_type": "code",
   "execution_count": null,
   "id": "974f2746",
   "metadata": {},
   "outputs": [],
   "source": [
    "customer_df.to_csv('data/game_usage_Clusterd.csv')"
   ]
  },
  {
   "cell_type": "markdown",
   "id": "8b4c6ef3",
   "metadata": {},
   "source": [
    "- **군집된 고객 그룹 통계 확인하기**"
   ]
  },
  {
   "cell_type": "code",
   "execution_count": null,
   "id": "aa70022e",
   "metadata": {},
   "outputs": [],
   "source": [
    "customer_df.groupby('ClusterdLable').count()"
   ]
  },
  {
   "cell_type": "code",
   "execution_count": null,
   "id": "0c7c5a02",
   "metadata": {},
   "outputs": [],
   "source": []
  }
 ],
 "metadata": {
  "kernelspec": {
   "display_name": "Python 3",
   "language": "python",
   "name": "python3"
  },
  "language_info": {
   "codemirror_mode": {
    "name": "ipython",
    "version": 3
   },
   "file_extension": ".py",
   "mimetype": "text/x-python",
   "name": "python",
   "nbconvert_exporter": "python",
   "pygments_lexer": "ipython3",
   "version": "3.9.10"
  }
 },
 "nbformat": 4,
 "nbformat_minor": 5
}
