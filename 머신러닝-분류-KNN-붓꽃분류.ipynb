{
 "cells": [
  {
   "cell_type": "markdown",
   "id": "7d8e26b4",
   "metadata": {},
   "source": [
    "# K-NN 알고리즘으로  붓꽃 분류하기"
   ]
  },
  {
   "cell_type": "markdown",
   "id": "850f5bb5",
   "metadata": {},
   "source": [
    "### # 라이브러리 설치하기"
   ]
  },
  {
   "cell_type": "code",
   "execution_count": null,
   "id": "b5eefe0a",
   "metadata": {},
   "outputs": [],
   "source": [
    "!pip install scikit-learn "
   ]
  },
  {
   "cell_type": "markdown",
   "id": "20d7a576",
   "metadata": {},
   "source": [
    "### # Scikit-learn 사용하기"
   ]
  },
  {
   "cell_type": "code",
   "execution_count": null,
   "id": "e8d8fbbd",
   "metadata": {},
   "outputs": [],
   "source": [
    "from sklearn.datasets import load_iris\n",
    "from sklearn.neighbors import KNeighborsClassifier\n",
    "from sklearn.model_selection import train_test_split"
   ]
  },
  {
   "cell_type": "markdown",
   "id": "3e196edd",
   "metadata": {},
   "source": [
    "-----------------------"
   ]
  },
  {
   "cell_type": "markdown",
   "id": "a9aac3e9",
   "metadata": {},
   "source": [
    "## 1.K-NN 알고리즘의 원리\n",
    "- 1. 분류하고 싶은 데이터와 분류된 데이터 사이의 거리 계산하기\n",
    "- 2. 분류하고 싶은 데이터와 가까운 순서대로 나열하기\n",
    "- 3. 가장 가까운 K개 데이터 중에서 레이블별 빈도 세기\n",
    "- 4. return 최다 빈도의 붓꽃 레이블값 변환하기"
   ]
  },
  {
   "cell_type": "markdown",
   "id": "b2276f01",
   "metadata": {},
   "source": [
    "### [실습] 두 점사이의 거리 구하기 : 유클리드 거리법"
   ]
  },
  {
   "cell_type": "code",
   "execution_count": null,
   "id": "71a21843",
   "metadata": {},
   "outputs": [],
   "source": [
    "import numpy as np\n",
    "\n",
    "# 두 점 A(1,2)와 B(5,7) 선언\n",
    "A = np.array([1, 2])\n",
    "B = np.array([5, 7])\n",
    "\n",
    "# 두 점 A(1,2)와 B(5,7) 사이의 거리를 계산하여 변수 distance에 저장하기\n",
    "distance = np.sqrt(np.sum(np.power((A-B), 2)))\n",
    "\n",
    "# 변수 distance에 저장된 값을 소수점 셋째 자리에서 반올림하기\n",
    "distance = round(distance, 2)\n",
    "\n",
    "# 계산 결과 출력하기\n",
    "print(f'두 점 A(1,2)와 B(5,7) 사이의 거리는 {distance} 입니다.')"
   ]
  },
  {
   "cell_type": "markdown",
   "id": "bbaf1e19",
   "metadata": {},
   "source": [
    "### [실습] 붓꽃 데이터 그래프로 나타내기"
   ]
  },
  {
   "cell_type": "markdown",
   "id": "489bcf34",
   "metadata": {},
   "source": [
    "* kaggle 사이트에서 데이터 다운로드하기 \n",
    "    - https://www.kaggle.com/uciml/iris?select=Iris.csv\n",
    "    - 또는 UCI 사이트에서 데이터 다운로드 하기\n",
    "    - https://archive.ics.uci.edu/ml/index.php"
   ]
  },
  {
   "cell_type": "markdown",
   "id": "c1b074b2",
   "metadata": {},
   "source": [
    "#### 1. 데이터 가져오기"
   ]
  },
  {
   "cell_type": "code",
   "execution_count": null,
   "id": "6f79c01b",
   "metadata": {},
   "outputs": [],
   "source": [
    "import pandas as pd\n",
    "import matplotlib\n",
    "import matplotlib.pyplot as plt\n",
    "\n",
    "matplotlib.rcParams['font.family'] = 'Malgun Gothic' # 맑은 고딕'으로 설정  \n",
    "plt.rcParams[\"figure.figsize\"] = (10,6)         # 그래프 크기 설정\n",
    "\n",
    "# 데이터 가져오기\n",
    "df = pd.read_csv('data/Iris.csv')    \n",
    "df"
   ]
  },
  {
   "cell_type": "markdown",
   "id": "3c45482c",
   "metadata": {},
   "source": [
    "#### # 각 붓꽃의 종류별 데이터 추출하기"
   ]
  },
  {
   "cell_type": "code",
   "execution_count": null,
   "id": "a2756e6f",
   "metadata": {},
   "outputs": [],
   "source": [
    "# 각 붓꽃의 종류별 데이터 추출하기\n",
    "setosa    = df.query(\" Species == 'Iris-setosa' \") # df[df.Species=='Iris-setosa'] \n",
    "versicolor= df.query(\" Species == 'Iris-versicolor' \")\n",
    "virginica = df.query(\" Species == 'Iris-virginica' \")"
   ]
  },
  {
   "cell_type": "markdown",
   "id": "28d86d41",
   "metadata": {},
   "source": [
    "#### 2. 산포도(scatter) 그래프 그리기\n",
    " - 꽃받침(Sepal)의 길이와 너비에 따른 산포도 그래프"
   ]
  },
  {
   "cell_type": "code",
   "execution_count": null,
   "id": "4285a006",
   "metadata": {
    "scrolled": true
   },
   "outputs": [],
   "source": [
    "# 꽃받침(Sepal)의 길이와 너비에 따른 분산형(scatter) 그래프\n",
    "\n",
    "plt.title('Sepal(꽃받침) Length vs Width', fontsize=16) # 타이틀\n",
    "plt.xlabel('Sepal Length', fontsize=10)         # X축\n",
    "plt.ylabel('Sepal Width', fontsize=12)          # Y축\n",
    "\n",
    "# 붓꽃데이터를 점 그래프로 표현\n",
    "plt.scatter(setosa['SepalLengthCm'], setosa['SepalWidthCm'],color='orange', label='Setosa')  \n",
    "plt.scatter(versicolor['SepalLengthCm'], versicolor['SepalWidthCm'],color='blue', label='versicolor')  \n",
    "plt.scatter(virginica['SepalLengthCm'], virginica['SepalWidthCm'],color='green', label='virginica')  \n",
    "\n",
    "plt.legend()\n",
    "plt.show()"
   ]
  },
  {
   "cell_type": "markdown",
   "id": "6eefc77b",
   "metadata": {},
   "source": [
    "- 꽃잎(Petal)의 길이와 너비에 따른 산포도 그래프 "
   ]
  },
  {
   "cell_type": "code",
   "execution_count": null,
   "id": "7e01177f",
   "metadata": {
    "scrolled": true
   },
   "outputs": [],
   "source": [
    "# 꽃잎(Petal)의 길이와 너비에 따른 분산형(scatter) 그래프\n",
    "plt.rcParams[\"figure.figsize\"] = (10,6)         # 그래프 크기 설정\n",
    "plt.title('Petal(꽃잎) Length vs Width', fontsize=16) # 타이틀\n",
    "plt.xlabel('Petal Length', fontsize=10)         # X축\n",
    "plt.ylabel('Petal Width', fontsize=12)          # Y축\n",
    "\n",
    "# 붓꽃데이터를 점 그래프로 표현\n",
    "plt.scatter(setosa['PetalLengthCm'], setosa['PetalWidthCm'],color='orange', label='Setosa')  \n",
    "plt.scatter(versicolor['PetalLengthCm'], versicolor['PetalWidthCm'],color='blue', label='versicolor')  \n",
    "plt.scatter(virginica['PetalLengthCm'], virginica['PetalWidthCm'],color='green', label='virginica')  \n",
    "\n",
    "plt.legend()\n",
    "plt.show()"
   ]
  },
  {
   "cell_type": "markdown",
   "id": "4a2d56c1",
   "metadata": {},
   "source": [
    "### [실습] K-NN 알고리즘 직접 만들기"
   ]
  },
  {
   "cell_type": "code",
   "execution_count": null,
   "id": "421089de",
   "metadata": {
    "scrolled": true
   },
   "outputs": [],
   "source": [
    "# 데이터 불러오기\n",
    "import pandas as pd  \n",
    "import numpy as np\n",
    "\n",
    "iris = pd.read_csv('data/Iris.csv')        # 붖꽃 데이터 불러오기\n",
    "\n",
    "# 계산의 편의를 위해 데이터셋의 형식을 numpy로 변환\n",
    "xy = np.array(iris)\n",
    "\n",
    "#------------------------------------\n",
    "# Feature와 Target 데이터 분류\n",
    "#------------------------------------\n",
    "# 테이블의 1~4 열벡터를 features(특성)에 저장\n",
    "features = xy[:, 1:-1]\n",
    "\n",
    "# 테이블의 마지막 열벡터를 target_values(어떤종류)에 저장\n",
    "target_value = xy[:, [-1]]\n",
    "\n",
    "\n",
    "# 유클리드 거리법: Distance 함수 만들기\n",
    "def Distance(A, B):\n",
    "    return np.sqrt(np.sum(np.power((A-B),2)))\n",
    "\n",
    "#------------------------------------\n",
    "# 붓꽃 분류기 함수 작성하기\n",
    "#------------------------------------\n",
    "# 마지막 행벡터와 거리가 가까운 K개의 데이터의 라벨 중 빈도가 가장 높은 라벨을 반환하는 함수 정의하기\n",
    "def K_NN(Unknown,features,K):\n",
    "    # ① 데이터 간의 거리 계산\n",
    "    distance_result = np.zeros(150)\n",
    "    for i in range(len(features)):   \n",
    "        distance_result[i]= Distance(Unknown,features[i])    \n",
    "        \n",
    "    # ② 분류하려는 데이터와 가까운 순서대로 나열\n",
    "    index = distance_result.argsort()    \n",
    "    \n",
    "    # ③ K개의 라벨 확인\n",
    "    target_result = []\n",
    "    result=[0,0,0]\n",
    "    for i in range(K):\n",
    "        target_result.append(target_value[index[i]])\n",
    "        if target_result[i]=='Iris-setosa':\n",
    "           result[0]+=1\n",
    "        elif target_result[i]=='Iris-versicolor':\n",
    "             result[1]+=1\n",
    "        else:\n",
    "             result[2]+=1\n",
    "    # ④ 라벨의 빈도가 가장 높은 값 반환\n",
    "    max_label=result.index(max(result))\n",
    "    species = {0:\"setosa\", 1:\"versicolor\", 2:\"virginica\"}\n",
    "    species_result = species[max_label]\n",
    "    return species_result\n",
    "\n",
    "\n",
    "#------------------------------------\n",
    "# 붓꽃 분류 함수를 사용하여 가상의 데이터 분류하기\n",
    "#------------------------------------\n",
    "# 마지막 150번째 데이터(인덱스 번호는 0부터 이므로 149)\n",
    "test_1 = features[2]\n",
    "\n",
    "# 150번째와 유사한 가상의 데이터 \n",
    "# test_2 = np.array([6,2.9,5,2])\n",
    "test_2 = np.array([5.8, 2.7, 5.1, 1.9])\n",
    "\n",
    "# K_NN 분류기 함수를 이용하여 분류하기\n",
    "result_1=K_NN(test_1,features,5)\n",
    "result_2=K_NN(test_2,features,5)\n",
    "\n",
    "#------------------------------------\n",
    "# 결과 출력\n",
    "#------------------------------------\n",
    "print(f\"실제 데이터를 분류한 결과 : {result_1}\")\n",
    "print(f\"가상 데이터를 분류한 결과 : {result_2}\")"
   ]
  },
  {
   "cell_type": "markdown",
   "id": "34670f5a",
   "metadata": {},
   "source": [
    "### [실습] Scikit-learn의 K-NN 사용하여 붓꽃  분류하기"
   ]
  },
  {
   "cell_type": "markdown",
   "id": "ca594c91",
   "metadata": {},
   "source": [
    "#### 1. Scikit-learn으로 붓꽃 데이터 가져오기"
   ]
  },
  {
   "cell_type": "code",
   "execution_count": null,
   "id": "133d215c",
   "metadata": {},
   "outputs": [],
   "source": [
    "from sklearn.datasets import load_iris\n",
    "from sklearn.neighbors import KNeighborsClassifier\n",
    "from sklearn.model_selection import train_test_split  \n",
    "\n",
    "import pandas as pd\n",
    "import numpy as np\n",
    "\n",
    "# 붓꽃 데이터 셋트를 로딩\n",
    "iris = load_iris()    #iris의 품종 : [0:'setosa',1:'versicolor',2:'virginica']\n",
    "print(iris)\n",
    "\n",
    "# X 피쳐만 추출: Features\n",
    "iris_data = iris.data   \n",
    "print(type(iris.data))\n",
    "print(iris.data.shape) # (150, 4)\n",
    "\n",
    "# Y 답(label)만 추출: target_Value\n",
    "iris_label = iris.target\n",
    "\n",
    "# Data Frame 만들기\n",
    "iris_df = pd.DataFrame(data=iris_data,columns=iris.feature_names)\n",
    "iris_df['label'] = iris_label  # # 예측(predict) 수행       \n",
    "iris_df"
   ]
  },
  {
   "cell_type": "markdown",
   "id": "7ae650f3",
   "metadata": {},
   "source": [
    "#### 2.학습데이터 분류하고 K-NN알고리즘 적용하여 학습모델(예측모델) 만들기"
   ]
  },
  {
   "cell_type": "code",
   "execution_count": null,
   "id": "8f3c6914",
   "metadata": {},
   "outputs": [],
   "source": [
    "# train(학습데이터)와 test(검증데이터) 세트로 분리 :  80%:20% 비율, 120개(train), 30개(test)\n",
    "x_train,x_test,y_train,y_test = train_test_split(iris_data,iris_label,test_size=0.2,  # test_size:0.2(20%)\n",
    "                                                  random_state=11) # random seed 고정\n",
    "\n",
    "\n",
    "# K-NN 알고리즘 클래스 사용해서 학습데이터 fit하기 = 학습모델 만들기\n",
    "dt_clf = KNeighborsClassifier(n_neighbors=5)\n",
    "dt_clf.fit(x_train, y_train)\n",
    "           \n",
    "           \n",
    "# 테스트테이터로 예측(predict) 수행하기\n",
    "pred = dt_clf.predict(x_test) \n",
    "print('예측:', pred)\n",
    "print('실제:', y_test)    # 예측된 결과와 테스트데이터 출력해서 비교하기 "
   ]
  },
  {
   "cell_type": "markdown",
   "id": "1d8fdbdc",
   "metadata": {},
   "source": [
    "#### 3. 모델 정확도 측정하기"
   ]
  },
  {
   "cell_type": "code",
   "execution_count": null,
   "id": "4d5534e8",
   "metadata": {},
   "outputs": [],
   "source": [
    "# 정확도 측정 : accuracy\n",
    "from sklearn.metrics import accuracy_score, classification_report \n",
    "\n",
    "# 정확도  : 1회만 예측한 결과의 정확도\n",
    "#print('정확도: {0:.4f}'.format(accuracy_score(y_test, pred)))\n",
    "print(f'정확도: {accuracy_score(y_test, pred):.4f}')"
   ]
  },
  {
   "cell_type": "markdown",
   "id": "e35112c5",
   "metadata": {},
   "source": [
    "#### 4. 교차 검증하기(cross validation)"
   ]
  },
  {
   "cell_type": "code",
   "execution_count": null,
   "id": "6ad6794f",
   "metadata": {},
   "outputs": [],
   "source": [
    "# 테스트 데이터에만 과적합 될 수 있으므로 데이터를 여러개로 나누어 테스트를 여러번 수행하여 평균 정확도를 구함\n",
    "from sklearn.model_selection import cross_val_score\n",
    "\n",
    "cv_score = cross_val_score(dt_clf, iris.data, iris.target,  # Estimator,X,Y값\n",
    "                           scoring='accuracy', cv = 3) # cv = 3, 3개로 쪼개어 검증(predict를 3회 수행)\n",
    "\n",
    "# 내부적으로 Stratified K-Fold 사용됨, 평가지표를 한개만 구할 수 있어서 StatifiedKFold사용 권장\n",
    "print('교차 검증 정확도:',cv_score)  # [0.98 0.92 0.98]\n",
    "print('교차 검증 평균 정확도:',np.round(np.mean(cv_score),4)) # 0.96  : 3회 예측 한 결과의 정확도들의 평균"
   ]
  },
  {
   "cell_type": "markdown",
   "id": "db0a5386",
   "metadata": {},
   "source": [
    "#### 5. 학습모델에 넣어  테스트데이터(고흐의 붓꽃 데이터) 예측하기"
   ]
  },
  {
   "cell_type": "code",
   "execution_count": null,
   "id": "cabe9269",
   "metadata": {},
   "outputs": [],
   "source": [
    "# 그림에서 수집한 데이터 \n",
    "X_test = np.array([[2.7, 2.4, 1.65, 0.67],\n",
    "                   [5.84, 5.48, 3, 2.16],\n",
    "                   [5.8, 2.7, 5.1, 1.9]]) \n",
    "\n",
    "# K-NN을 이용한 예측(predict) 수행\n",
    "pred = dt_clf.predict(X_test)\n",
    "print(pred)\n",
    "\n",
    "# 분류 결과 출력하기\n",
    "print('고흐의 붓꽃데이터 결과:')\n",
    "names = {0:'setosa',1:'versicolor',2:'virginica'}\n",
    "for i in pred:\n",
    "    print(f' {X_test[i]}: {i} -> {names[i]}')"
   ]
  },
  {
   "cell_type": "markdown",
   "id": "4dd56ae0",
   "metadata": {},
   "source": [
    "----------------------"
   ]
  },
  {
   "cell_type": "markdown",
   "id": "dc71becf",
   "metadata": {},
   "source": [
    "THE END"
   ]
  }
 ],
 "metadata": {
  "kernelspec": {
   "display_name": "Python 3",
   "language": "python",
   "name": "python3"
  },
  "language_info": {
   "codemirror_mode": {
    "name": "ipython",
    "version": 3
   },
   "file_extension": ".py",
   "mimetype": "text/x-python",
   "name": "python",
   "nbconvert_exporter": "python",
   "pygments_lexer": "ipython3",
   "version": "3.9.10"
  }
 },
 "nbformat": 4,
 "nbformat_minor": 5
}
